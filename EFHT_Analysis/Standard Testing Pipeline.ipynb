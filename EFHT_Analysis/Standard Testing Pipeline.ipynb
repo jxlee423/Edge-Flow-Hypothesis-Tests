{
 "cells": [
  {
   "cell_type": "code",
   "execution_count": null,
   "id": "c0cb4def",
   "metadata": {},
   "outputs": [
    {
     "ename": "",
     "evalue": "",
     "output_type": "error",
     "traceback": [
      "\u001b[1;31mRunning cells with '.conda (Python 3.11.13)' requires the ipykernel package.\n",
      "\u001b[1;31mInstall 'ipykernel' into the Python environment. \n",
      "\u001b[1;31mCommand: 'conda install -p /Users/jiaxin/Documents/Summer 2024/EFHT/Edge-Flow-Hypothesis-Tests/.conda ipykernel --update-deps --force-reinstall'"
     ]
    }
   ],
   "source": [
    "# please use this command to install all required packages\n",
    "# %pip install -r requirements.txt\n",
    "\n",
    "import os\n",
    "import subprocess"
   ]
  },
  {
   "cell_type": "code",
   "execution_count": null,
   "id": "37159e33",
   "metadata": {},
   "outputs": [],
   "source": [
    "# ==============================================================================================================================\n",
    "#                Configuration area: Please modify the parameters here.\n",
    "# ==============================================================================================================================\n",
    "\n",
    "# 1. Define the four core components of the dataset\n",
    "GRAPH_TYPE      = \"SmallWorld\"\n",
    "GRAPH_PARAMS    = \"Beta0.7_K13\"\n",
    "COV_PARAMS      = \"Rho0.5_D5_W0.5_Neg\"\n",
    "GRAPH_SAMPLE_ID = \"1\"\n",
    "SIZE_PARAM      = \"8kNodes\"\n",
    "\n",
    "# 2. Define the range of sample numbers you want to process (including start and end)\n",
    "SAMPLE_START_INDEX = 1\n",
    "SAMPLE_END_INDEX = 50"
   ]
  },
  {
   "cell_type": "code",
   "execution_count": null,
   "id": "6250639c",
   "metadata": {},
   "outputs": [
    {
     "name": "stdout",
     "output_type": "stream",
     "text": [
      "Current Batch Run ID: SmallWorld-Beta0.7_K13-Rho0.5_D4_W0.5_Pos-G1-8kNodes\n",
      "Data source: data/SmallWorld-Beta0.7_K13-Rho0.5_D4_W0.5_Pos-G1-8kNodes\n",
      "Processing samples from 1 to 50\n",
      "\n",
      "--- Processing: SmallWorld-Beta0.7_K13-Rho0.5_D4_W0.5_Pos-G1-8kNodes_Sample1.csv ---\n",
      "Starting EFHT analysis - Batch ID: SmallWorld-Beta0.7_K13-Rho0.5_D4_W0.5_Pos-G1-8kNodes, Dataset ID: SmallWorld-Beta0.7_K13-Rho0.5_D4_W0.5_Pos-G1-8kNodes_Sample1\n",
      "Results for the current dataset will be saved in: outputs/SmallWorld-Beta0.7_K13-Rho0.5_D4_W0.5_Pos-G1-8kNodes/SmallWorld-Beta0.7_K13-Rho0.5_D4_W0.5_Pos-G1-8kNodes_Sample1\n",
      "The summary report will be saved in: outputs/SmallWorld-Beta0.7_K13-Rho0.5_D4_W0.5_Pos-G1-8kNodes\n",
      "\n",
      "--- 2. Loading and preprocessing data for selected tests ---\n"
     ]
    },
    {
     "name": "stderr",
     "output_type": "stream",
     "text": [
      "Processing Colors: 100%|██████████| 43/43 [01:29<00:00,  2.07s/it]\n",
      "/Users/jiaxin/Documents/Summer 2024/EFHT/Edge-Flow-Hypothesis-Tests/.conda/lib/python3.11/site-packages/joblib/externals/loky/process_executor.py:782: UserWarning: A worker stopped while some jobs were given to the executor. This can be caused by a too short worker timeout or by a memory leak.\n",
      "  warnings.warn(\n"
     ]
    },
    {
     "name": "stdout",
     "output_type": "stream",
     "text": [
      "\n",
      ">>> Starting statistical tests <<<\n",
      "\n",
      "--- 1. Running K-S Test ---\n",
      "\n",
      " ============ Running KS Test ============\n",
      "# of Edges in Class1 : 1342\n",
      "# of Edges in Class2 : 2037\n",
      "\n",
      "KS Test Result:\n",
      "KS_statistic D = 0.0538\n",
      "P value = 1.7652e-02\n",
      "Conclusion: Fail to reject the null hypothesis (p >= 0.016666666666666666), distributions may be the same.\n",
      "\n",
      "--- 2. Running Independence tests ---\n",
      "Performing independence test on the following Top 3 color groups: [0, 1, 2]\n",
      "\n",
      "--- Analyzing color group: 0 ---\n",
      "  - Selecting optimal K value via cross-validation...\n",
      "   - Dynamically generated marginal K candidates: [  8  10  12  15  18  23  28  35  43  52  65  80  98 121 149 184 227 279\n",
      " 344 424]\n",
      "   - Dynamically generated joint K candidates: [ 8  9 10 11 12 14 15 17 19 21 23 25 28 31 35 39 43 48 53 59]\n",
      "  - Optimal K_MARGINAL = 8, Optimal K_JOINT = 8\n",
      "  - Observed KL divergence = 0.1399\n"
     ]
    },
    {
     "name": "stderr",
     "output_type": "stream",
     "text": [
      "Simulating null distribution (Color 0): 100%|██████████| 1000/1000 [00:01<00:00, 622.38it/s]\n"
     ]
    },
    {
     "name": "stdout",
     "output_type": "stream",
     "text": [
      "\n",
      "--- Independence Test Result for Color: 0 ---\n",
      "P value: 0.0120\n",
      "Conclusion: Fail to reject the null hypothesis (p >= 0.005555555555555556).\n",
      "           There is no significant evidence that 'flowX' and 'flowY' are dependent.\n",
      "\n",
      "--- Analyzing color group: 1 ---\n",
      "  - Selecting optimal K value via cross-validation...\n",
      "   - Dynamically generated marginal K candidates: [  8  10  12  15  18  23  28  35  43  52  65  80  98 121 149 184 227 279\n",
      " 344 424]\n",
      "   - Dynamically generated joint K candidates: [ 8  9 10 11 12 14 15 17 19 21 23 25 28 31 35 39 43 48 53 59]\n",
      "  - Optimal K_MARGINAL = 8, Optimal K_JOINT = 8\n",
      "  - Observed KL divergence = 0.1312\n"
     ]
    },
    {
     "name": "stderr",
     "output_type": "stream",
     "text": [
      "Simulating null distribution (Color 1): 100%|██████████| 1000/1000 [00:00<00:00, 1553.23it/s]\n"
     ]
    },
    {
     "name": "stdout",
     "output_type": "stream",
     "text": [
      "\n",
      "--- Independence Test Result for Color: 1 ---\n",
      "P value: 0.0220\n",
      "Conclusion: Fail to reject the null hypothesis (p >= 0.005555555555555556).\n",
      "           There is no significant evidence that 'flowX' and 'flowY' are dependent.\n",
      "\n",
      "--- Analyzing color group: 2 ---\n",
      "  - Selecting optimal K value via cross-validation...\n",
      "   - Dynamically generated marginal K candidates: [  8  10  12  15  18  23  28  35  43  52  65  80  98 121 149 184 227 279\n",
      " 344 424]\n",
      "   - Dynamically generated joint K candidates: [ 8  9 10 11 12 14 15 17 19 21 23 25 28 31 35 39 43 48 53 59]\n",
      "  - Optimal K_MARGINAL = 8, Optimal K_JOINT = 8\n",
      "  - Observed KL divergence = 0.1261\n"
     ]
    },
    {
     "name": "stderr",
     "output_type": "stream",
     "text": [
      "Simulating null distribution (Color 2): 100%|██████████| 1000/1000 [00:00<00:00, 1523.34it/s]\n"
     ]
    },
    {
     "name": "stdout",
     "output_type": "stream",
     "text": [
      "\n",
      "--- Independence Test Result for Color: 2 ---\n",
      "P value: 0.0699\n",
      "Conclusion: Fail to reject the null hypothesis (p >= 0.005555555555555556).\n",
      "           There is no significant evidence that 'flowX' and 'flowY' are dependent.\n",
      "\n",
      "Independence test completed.\n",
      "\n",
      "--- 3. Running Bivariate Equivalence Test ---\n",
      "\n",
      " ============ Running Bivariate Test ============\n",
      "# of Edge Pairs in Class1 : 1042\n",
      "# of Edge Pairs in Class2 : 1358\n",
      "Finding optimal K using cross-validation on combined data...\n",
      "Dynamically generated K candidates: [ 8  9 10 11 12 13 14 15 17 19 21 23 25 27 30 33 36 40 44 48]\n",
      "Optimal K selected via Cross-Validation: 8\n",
      "Observed KL = 0.3238\n"
     ]
    },
    {
     "name": "stderr",
     "output_type": "stream",
     "text": [
      "KL Under Null (Parallel):   3%|▎         | 28/1000 [00:01<00:46, 20.72it/s]/Users/jiaxin/Documents/Summer 2024/EFHT/Edge-Flow-Hypothesis-Tests/.conda/lib/python3.11/site-packages/joblib/externals/loky/process_executor.py:782: UserWarning: A worker stopped while some jobs were given to the executor. This can be caused by a too short worker timeout or by a memory leak.\n",
      "  warnings.warn(\n",
      "KL Under Null (Parallel): 100%|██████████| 1000/1000 [02:00<00:00,  8.31it/s]\n"
     ]
    },
    {
     "name": "stdout",
     "output_type": "stream",
     "text": [
      "\n",
      "Bivariate Test Result:\n",
      "Observed Symmetric KL Divergence: 0.3238\n",
      "P value: 0.4865\n",
      "Conclusion: Fail to reject the null hypothesis (p >= 0.016666666666666666). There is no significant evidence that the distributions are different.\n",
      "Created new report at: outputs/SmallWorld-Beta0.7_K13-Rho0.5_D4_W0.5_Pos-G1-8kNodes/summary_report.csv\n",
      "\n",
      "==================================================\n",
      "Analysis pipeline finished!\n",
      "--- Finished: SmallWorld-Beta0.7_K13-Rho0.5_D4_W0.5_Pos-G1-8kNodes_Sample1.csv ---\n",
      "\n",
      "--- Processing: SmallWorld-Beta0.7_K13-Rho0.5_D4_W0.5_Pos-G1-8kNodes_Sample2.csv ---\n",
      "Starting EFHT analysis - Batch ID: SmallWorld-Beta0.7_K13-Rho0.5_D4_W0.5_Pos-G1-8kNodes, Dataset ID: SmallWorld-Beta0.7_K13-Rho0.5_D4_W0.5_Pos-G1-8kNodes_Sample2\n",
      "Results for the current dataset will be saved in: outputs/SmallWorld-Beta0.7_K13-Rho0.5_D4_W0.5_Pos-G1-8kNodes/SmallWorld-Beta0.7_K13-Rho0.5_D4_W0.5_Pos-G1-8kNodes_Sample2\n",
      "The summary report will be saved in: outputs/SmallWorld-Beta0.7_K13-Rho0.5_D4_W0.5_Pos-G1-8kNodes\n",
      "\n",
      "--- 2. Loading and preprocessing data for selected tests ---\n"
     ]
    },
    {
     "name": "stderr",
     "output_type": "stream",
     "text": [
      "Processing Colors: 100%|██████████| 43/43 [01:30<00:00,  2.11s/it]\n",
      "/Users/jiaxin/Documents/Summer 2024/EFHT/Edge-Flow-Hypothesis-Tests/.conda/lib/python3.11/site-packages/joblib/externals/loky/process_executor.py:782: UserWarning: A worker stopped while some jobs were given to the executor. This can be caused by a too short worker timeout or by a memory leak.\n",
      "  warnings.warn(\n"
     ]
    },
    {
     "name": "stdout",
     "output_type": "stream",
     "text": [
      "\n",
      ">>> Starting statistical tests <<<\n",
      "\n",
      "--- 1. Running K-S Test ---\n",
      "\n",
      " ============ Running KS Test ============\n",
      "# of Edges in Class1 : 1342\n",
      "# of Edges in Class2 : 2037\n",
      "\n",
      "KS Test Result:\n",
      "KS_statistic D = 0.0684\n",
      "P value = 9.7987e-04\n",
      "Conclusion: Reject the null hypothesis (p < 0.016666666666666666), distributions are different.\n",
      "\n",
      "--- 2. Running Independence tests ---\n",
      "Performing independence test on the following Top 3 color groups: [0, 1, 2]\n",
      "\n",
      "--- Analyzing color group: 0 ---\n",
      "  - Selecting optimal K value via cross-validation...\n",
      "   - Dynamically generated marginal K candidates: [  8  10  12  15  18  23  28  35  43  52  65  80  98 121 149 184 227 279\n",
      " 344 424]\n",
      "   - Dynamically generated joint K candidates: [ 8  9 10 11 12 14 15 17 19 21 23 25 28 31 35 39 43 48 53 59]\n",
      "  - Optimal K_MARGINAL = 8, Optimal K_JOINT = 8\n",
      "  - Observed KL divergence = 0.1575\n"
     ]
    },
    {
     "name": "stderr",
     "output_type": "stream",
     "text": [
      "Simulating null distribution (Color 0): 100%|██████████| 1000/1000 [00:01<00:00, 608.13it/s]\n"
     ]
    },
    {
     "name": "stdout",
     "output_type": "stream",
     "text": [
      "\n",
      "--- Independence Test Result for Color: 0 ---\n",
      "P value: 0.0679\n",
      "Conclusion: Fail to reject the null hypothesis (p >= 0.005555555555555556).\n",
      "           There is no significant evidence that 'flowX' and 'flowY' are dependent.\n",
      "\n",
      "--- Analyzing color group: 1 ---\n",
      "  - Selecting optimal K value via cross-validation...\n",
      "   - Dynamically generated marginal K candidates: [  8  10  12  15  18  23  28  35  43  52  65  80  98 121 149 184 227 279\n",
      " 344 424]\n",
      "   - Dynamically generated joint K candidates: [ 8  9 10 11 12 14 15 17 19 21 23 25 28 31 35 39 43 48 53 59]\n",
      "  - Optimal K_MARGINAL = 8, Optimal K_JOINT = 8\n",
      "  - Observed KL divergence = 0.1510\n"
     ]
    },
    {
     "name": "stderr",
     "output_type": "stream",
     "text": [
      "Simulating null distribution (Color 1): 100%|██████████| 1000/1000 [00:00<00:00, 1514.92it/s]\n"
     ]
    },
    {
     "name": "stdout",
     "output_type": "stream",
     "text": [
      "\n",
      "--- Independence Test Result for Color: 1 ---\n",
      "P value: 0.0649\n",
      "Conclusion: Fail to reject the null hypothesis (p >= 0.005555555555555556).\n",
      "           There is no significant evidence that 'flowX' and 'flowY' are dependent.\n",
      "\n",
      "--- Analyzing color group: 2 ---\n",
      "  - Selecting optimal K value via cross-validation...\n",
      "   - Dynamically generated marginal K candidates: [  8  10  12  15  18  23  28  35  43  52  65  80  98 121 149 184 227 279\n",
      " 344 424]\n",
      "   - Dynamically generated joint K candidates: [ 8  9 10 11 12 14 15 17 19 21 23 25 28 31 35 39 43 48 53 59]\n",
      "  - Optimal K_MARGINAL = 8, Optimal K_JOINT = 8\n",
      "  - Observed KL divergence = 0.1116\n"
     ]
    },
    {
     "name": "stderr",
     "output_type": "stream",
     "text": [
      "Simulating null distribution (Color 2): 100%|██████████| 1000/1000 [00:00<00:00, 1520.56it/s]\n"
     ]
    },
    {
     "name": "stdout",
     "output_type": "stream",
     "text": [
      "\n",
      "--- Independence Test Result for Color: 2 ---\n",
      "P value: 0.9441\n",
      "Conclusion: Fail to reject the null hypothesis (p >= 0.005555555555555556).\n",
      "           There is no significant evidence that 'flowX' and 'flowY' are dependent.\n",
      "\n",
      "Independence test completed.\n",
      "\n",
      "--- 3. Running Bivariate Equivalence Test ---\n",
      "\n",
      " ============ Running Bivariate Test ============\n",
      "# of Edge Pairs in Class1 : 1042\n",
      "# of Edge Pairs in Class2 : 1358\n",
      "Finding optimal K using cross-validation on combined data...\n",
      "Dynamically generated K candidates: [ 8  9 10 11 12 13 14 15 17 19 21 23 25 27 30 33 36 40 44 48]\n",
      "Optimal K selected via Cross-Validation: 8\n",
      "Observed KL = 0.3176\n"
     ]
    },
    {
     "name": "stderr",
     "output_type": "stream",
     "text": [
      "KL Under Null (Parallel):   3%|▎         | 28/1000 [00:01<00:50, 19.13it/s]/Users/jiaxin/Documents/Summer 2024/EFHT/Edge-Flow-Hypothesis-Tests/.conda/lib/python3.11/site-packages/joblib/externals/loky/process_executor.py:782: UserWarning: A worker stopped while some jobs were given to the executor. This can be caused by a too short worker timeout or by a memory leak.\n",
      "  warnings.warn(\n",
      "KL Under Null (Parallel): 100%|██████████| 1000/1000 [02:07<00:00,  7.87it/s]\n"
     ]
    },
    {
     "name": "stdout",
     "output_type": "stream",
     "text": [
      "\n",
      "Bivariate Test Result:\n",
      "Observed Symmetric KL Divergence: 0.3176\n",
      "P value: 0.5864\n",
      "Conclusion: Fail to reject the null hypothesis (p >= 0.016666666666666666). There is no significant evidence that the distributions are different.\n",
      "Appended results to: outputs/SmallWorld-Beta0.7_K13-Rho0.5_D4_W0.5_Pos-G1-8kNodes/summary_report.csv\n",
      "\n",
      "==================================================\n",
      "Analysis pipeline finished!\n",
      "--- Finished: SmallWorld-Beta0.7_K13-Rho0.5_D4_W0.5_Pos-G1-8kNodes_Sample2.csv ---\n",
      "\n",
      "--- Processing: SmallWorld-Beta0.7_K13-Rho0.5_D4_W0.5_Pos-G1-8kNodes_Sample3.csv ---\n",
      "Starting EFHT analysis - Batch ID: SmallWorld-Beta0.7_K13-Rho0.5_D4_W0.5_Pos-G1-8kNodes, Dataset ID: SmallWorld-Beta0.7_K13-Rho0.5_D4_W0.5_Pos-G1-8kNodes_Sample3\n",
      "Results for the current dataset will be saved in: outputs/SmallWorld-Beta0.7_K13-Rho0.5_D4_W0.5_Pos-G1-8kNodes/SmallWorld-Beta0.7_K13-Rho0.5_D4_W0.5_Pos-G1-8kNodes_Sample3\n",
      "The summary report will be saved in: outputs/SmallWorld-Beta0.7_K13-Rho0.5_D4_W0.5_Pos-G1-8kNodes\n",
      "\n",
      "--- 2. Loading and preprocessing data for selected tests ---\n"
     ]
    },
    {
     "name": "stderr",
     "output_type": "stream",
     "text": [
      "Processing Colors: 100%|██████████| 43/43 [01:31<00:00,  2.12s/it]\n",
      "/Users/jiaxin/Documents/Summer 2024/EFHT/Edge-Flow-Hypothesis-Tests/.conda/lib/python3.11/site-packages/joblib/externals/loky/process_executor.py:782: UserWarning: A worker stopped while some jobs were given to the executor. This can be caused by a too short worker timeout or by a memory leak.\n",
      "  warnings.warn(\n"
     ]
    },
    {
     "name": "stdout",
     "output_type": "stream",
     "text": [
      "\n",
      ">>> Starting statistical tests <<<\n",
      "\n",
      "--- 1. Running K-S Test ---\n",
      "\n",
      " ============ Running KS Test ============\n",
      "# of Edges in Class1 : 1342\n",
      "# of Edges in Class2 : 2037\n",
      "\n",
      "KS Test Result:\n",
      "KS_statistic D = 0.0194\n",
      "P value = 9.1225e-01\n",
      "Conclusion: Fail to reject the null hypothesis (p >= 0.016666666666666666), distributions may be the same.\n",
      "\n",
      "--- 2. Running Independence tests ---\n",
      "Performing independence test on the following Top 3 color groups: [0, 1, 2]\n",
      "\n",
      "--- Analyzing color group: 0 ---\n",
      "  - Selecting optimal K value via cross-validation...\n",
      "   - Dynamically generated marginal K candidates: [  8  10  12  15  18  23  28  35  43  52  65  80  98 121 149 184 227 279\n",
      " 344 424]\n",
      "   - Dynamically generated joint K candidates: [ 8  9 10 11 12 14 15 17 19 21 23 25 28 31 35 39 43 48 53 59]\n",
      "  - Optimal K_MARGINAL = 8, Optimal K_JOINT = 8\n",
      "  - Observed KL divergence = 0.1144\n"
     ]
    },
    {
     "name": "stderr",
     "output_type": "stream",
     "text": [
      "Simulating null distribution (Color 0): 100%|██████████| 1000/1000 [00:01<00:00, 601.42it/s]\n"
     ]
    },
    {
     "name": "stdout",
     "output_type": "stream",
     "text": [
      "\n",
      "--- Independence Test Result for Color: 0 ---\n",
      "P value: 0.0360\n",
      "Conclusion: Fail to reject the null hypothesis (p >= 0.005555555555555556).\n",
      "           There is no significant evidence that 'flowX' and 'flowY' are dependent.\n",
      "\n",
      "--- Analyzing color group: 1 ---\n",
      "  - Selecting optimal K value via cross-validation...\n",
      "   - Dynamically generated marginal K candidates: [  8  10  12  15  18  23  28  35  43  52  65  80  98 121 149 184 227 279\n",
      " 344 424]\n",
      "   - Dynamically generated joint K candidates: [ 8  9 10 11 12 14 15 17 19 21 23 25 28 31 35 39 43 48 53 59]\n",
      "  - Optimal K_MARGINAL = 8, Optimal K_JOINT = 8\n",
      "  - Observed KL divergence = 0.1531\n"
     ]
    },
    {
     "name": "stderr",
     "output_type": "stream",
     "text": [
      "Simulating null distribution (Color 1): 100%|██████████| 1000/1000 [00:00<00:00, 1492.21it/s]\n"
     ]
    },
    {
     "name": "stdout",
     "output_type": "stream",
     "text": [
      "\n",
      "--- Independence Test Result for Color: 1 ---\n",
      "P value: 0.0010\n",
      "Conclusion: Reject the null hypothesis (p < 0.005555555555555556).\n",
      "           The variables 'flowX' and 'flowY' are likely DEPENDENT for this color group.\n",
      "\n",
      "--- Analyzing color group: 2 ---\n",
      "  - Selecting optimal K value via cross-validation...\n",
      "   - Dynamically generated marginal K candidates: [  8  10  12  15  18  23  28  35  43  52  65  80  98 121 149 184 227 279\n",
      " 344 424]\n",
      "   - Dynamically generated joint K candidates: [ 8  9 10 11 12 14 15 17 19 21 23 25 28 31 35 39 43 48 53 59]\n",
      "  - Optimal K_MARGINAL = 8, Optimal K_JOINT = 8\n",
      "  - Observed KL divergence = 0.1079\n"
     ]
    },
    {
     "name": "stderr",
     "output_type": "stream",
     "text": [
      "Simulating null distribution (Color 2): 100%|██████████| 1000/1000 [00:00<00:00, 1535.58it/s]\n"
     ]
    },
    {
     "name": "stdout",
     "output_type": "stream",
     "text": [
      "\n",
      "--- Independence Test Result for Color: 2 ---\n",
      "P value: 0.0010\n",
      "Conclusion: Reject the null hypothesis (p < 0.005555555555555556).\n",
      "           The variables 'flowX' and 'flowY' are likely DEPENDENT for this color group.\n",
      "\n",
      "Independence test completed.\n",
      "\n",
      "--- 3. Running Bivariate Equivalence Test ---\n",
      "\n",
      " ============ Running Bivariate Test ============\n",
      "# of Edge Pairs in Class1 : 1042\n",
      "# of Edge Pairs in Class2 : 1358\n",
      "Finding optimal K using cross-validation on combined data...\n",
      "Dynamically generated K candidates: [ 8  9 10 11 12 13 14 15 17 19 21 23 25 27 30 33 36 40 44 48]\n",
      "Optimal K selected via Cross-Validation: 8\n",
      "Observed KL = 0.3279\n"
     ]
    },
    {
     "name": "stderr",
     "output_type": "stream",
     "text": [
      "KL Under Null (Parallel):   3%|▎         | 28/1000 [00:01<00:48, 19.99it/s]/Users/jiaxin/Documents/Summer 2024/EFHT/Edge-Flow-Hypothesis-Tests/.conda/lib/python3.11/site-packages/joblib/externals/loky/process_executor.py:782: UserWarning: A worker stopped while some jobs were given to the executor. This can be caused by a too short worker timeout or by a memory leak.\n",
      "  warnings.warn(\n",
      "KL Under Null (Parallel): 100%|██████████| 1000/1000 [01:59<00:00,  8.39it/s]\n"
     ]
    },
    {
     "name": "stdout",
     "output_type": "stream",
     "text": [
      "\n",
      "Bivariate Test Result:\n",
      "Observed Symmetric KL Divergence: 0.3279\n",
      "P value: 0.4925\n",
      "Conclusion: Fail to reject the null hypothesis (p >= 0.016666666666666666). There is no significant evidence that the distributions are different.\n",
      "Appended results to: outputs/SmallWorld-Beta0.7_K13-Rho0.5_D4_W0.5_Pos-G1-8kNodes/summary_report.csv\n",
      "\n",
      "==================================================\n",
      "Analysis pipeline finished!\n",
      "--- Finished: SmallWorld-Beta0.7_K13-Rho0.5_D4_W0.5_Pos-G1-8kNodes_Sample3.csv ---\n",
      "\n",
      "--- Processing: SmallWorld-Beta0.7_K13-Rho0.5_D4_W0.5_Pos-G1-8kNodes_Sample4.csv ---\n",
      "Starting EFHT analysis - Batch ID: SmallWorld-Beta0.7_K13-Rho0.5_D4_W0.5_Pos-G1-8kNodes, Dataset ID: SmallWorld-Beta0.7_K13-Rho0.5_D4_W0.5_Pos-G1-8kNodes_Sample4\n",
      "Results for the current dataset will be saved in: outputs/SmallWorld-Beta0.7_K13-Rho0.5_D4_W0.5_Pos-G1-8kNodes/SmallWorld-Beta0.7_K13-Rho0.5_D4_W0.5_Pos-G1-8kNodes_Sample4\n",
      "The summary report will be saved in: outputs/SmallWorld-Beta0.7_K13-Rho0.5_D4_W0.5_Pos-G1-8kNodes\n",
      "\n",
      "--- 2. Loading and preprocessing data for selected tests ---\n"
     ]
    },
    {
     "name": "stderr",
     "output_type": "stream",
     "text": [
      "Processing Colors: 100%|██████████| 43/43 [01:32<00:00,  2.15s/it]\n",
      "/Users/jiaxin/Documents/Summer 2024/EFHT/Edge-Flow-Hypothesis-Tests/.conda/lib/python3.11/site-packages/joblib/externals/loky/process_executor.py:782: UserWarning: A worker stopped while some jobs were given to the executor. This can be caused by a too short worker timeout or by a memory leak.\n",
      "  warnings.warn(\n"
     ]
    },
    {
     "name": "stdout",
     "output_type": "stream",
     "text": [
      "\n",
      ">>> Starting statistical tests <<<\n",
      "\n",
      "--- 1. Running K-S Test ---\n",
      "\n",
      " ============ Running KS Test ============\n",
      "# of Edges in Class1 : 1342\n",
      "# of Edges in Class2 : 2037\n",
      "\n",
      "KS Test Result:\n",
      "KS_statistic D = 0.0355\n",
      "P value = 2.5153e-01\n",
      "Conclusion: Fail to reject the null hypothesis (p >= 0.016666666666666666), distributions may be the same.\n",
      "\n",
      "--- 2. Running Independence tests ---\n",
      "Performing independence test on the following Top 3 color groups: [0, 1, 2]\n",
      "\n",
      "--- Analyzing color group: 0 ---\n",
      "  - Selecting optimal K value via cross-validation...\n",
      "   - Dynamically generated marginal K candidates: [  8  10  12  15  18  23  28  35  43  52  65  80  98 121 149 184 227 279\n",
      " 344 424]\n",
      "   - Dynamically generated joint K candidates: [ 8  9 10 11 12 14 15 17 19 21 23 25 28 31 35 39 43 48 53 59]\n",
      "  - Optimal K_MARGINAL = 8, Optimal K_JOINT = 8\n",
      "  - Observed KL divergence = 0.1462\n"
     ]
    },
    {
     "name": "stderr",
     "output_type": "stream",
     "text": [
      "Simulating null distribution (Color 0): 100%|██████████| 1000/1000 [00:01<00:00, 621.20it/s]\n"
     ]
    },
    {
     "name": "stdout",
     "output_type": "stream",
     "text": [
      "\n",
      "--- Independence Test Result for Color: 0 ---\n",
      "P value: 0.8741\n",
      "Conclusion: Fail to reject the null hypothesis (p >= 0.005555555555555556).\n",
      "           There is no significant evidence that 'flowX' and 'flowY' are dependent.\n",
      "\n",
      "--- Analyzing color group: 1 ---\n",
      "  - Selecting optimal K value via cross-validation...\n",
      "   - Dynamically generated marginal K candidates: [  8  10  12  15  18  23  28  35  43  52  65  80  98 121 149 184 227 279\n",
      " 344 424]\n",
      "   - Dynamically generated joint K candidates: [ 8  9 10 11 12 14 15 17 19 21 23 25 28 31 35 39 43 48 53 59]\n",
      "  - Optimal K_MARGINAL = 8, Optimal K_JOINT = 8\n",
      "  - Observed KL divergence = 0.1576\n"
     ]
    },
    {
     "name": "stderr",
     "output_type": "stream",
     "text": [
      "Simulating null distribution (Color 1): 100%|██████████| 1000/1000 [00:00<00:00, 1490.81it/s]\n"
     ]
    },
    {
     "name": "stdout",
     "output_type": "stream",
     "text": [
      "\n",
      "--- Independence Test Result for Color: 1 ---\n",
      "P value: 0.6663\n",
      "Conclusion: Fail to reject the null hypothesis (p >= 0.005555555555555556).\n",
      "           There is no significant evidence that 'flowX' and 'flowY' are dependent.\n",
      "\n",
      "--- Analyzing color group: 2 ---\n",
      "  - Selecting optimal K value via cross-validation...\n",
      "   - Dynamically generated marginal K candidates: [  8  10  12  15  18  23  28  35  43  52  65  80  98 121 149 184 227 279\n",
      " 344 424]\n",
      "   - Dynamically generated joint K candidates: [ 8  9 10 11 12 14 15 17 19 21 23 25 28 31 35 39 43 48 53 59]\n",
      "  - Optimal K_MARGINAL = 8, Optimal K_JOINT = 8\n",
      "  - Observed KL divergence = 0.1629\n"
     ]
    },
    {
     "name": "stderr",
     "output_type": "stream",
     "text": [
      "Simulating null distribution (Color 2): 100%|██████████| 1000/1000 [00:00<00:00, 1525.63it/s]\n"
     ]
    },
    {
     "name": "stdout",
     "output_type": "stream",
     "text": [
      "\n",
      "--- Independence Test Result for Color: 2 ---\n",
      "P value: 0.6084\n",
      "Conclusion: Fail to reject the null hypothesis (p >= 0.005555555555555556).\n",
      "           There is no significant evidence that 'flowX' and 'flowY' are dependent.\n",
      "\n",
      "Independence test completed.\n",
      "\n",
      "--- 3. Running Bivariate Equivalence Test ---\n",
      "\n",
      " ============ Running Bivariate Test ============\n",
      "# of Edge Pairs in Class1 : 1042\n",
      "# of Edge Pairs in Class2 : 1358\n",
      "Finding optimal K using cross-validation on combined data...\n",
      "Dynamically generated K candidates: [ 8  9 10 11 12 13 14 15 17 19 21 23 25 27 30 33 36 40 44 48]\n",
      "Optimal K selected via Cross-Validation: 8\n",
      "Observed KL = 0.3345\n"
     ]
    },
    {
     "name": "stderr",
     "output_type": "stream",
     "text": [
      "KL Under Null (Parallel):   3%|▎         | 28/1000 [00:01<00:49, 19.64it/s]/Users/jiaxin/Documents/Summer 2024/EFHT/Edge-Flow-Hypothesis-Tests/.conda/lib/python3.11/site-packages/joblib/externals/loky/process_executor.py:782: UserWarning: A worker stopped while some jobs were given to the executor. This can be caused by a too short worker timeout or by a memory leak.\n",
      "  warnings.warn(\n",
      "KL Under Null (Parallel): 100%|██████████| 1000/1000 [01:58<00:00,  8.47it/s]\n"
     ]
    },
    {
     "name": "stdout",
     "output_type": "stream",
     "text": [
      "\n",
      "Bivariate Test Result:\n",
      "Observed Symmetric KL Divergence: 0.3345\n",
      "P value: 0.2707\n",
      "Conclusion: Fail to reject the null hypothesis (p >= 0.016666666666666666). There is no significant evidence that the distributions are different.\n",
      "Appended results to: outputs/SmallWorld-Beta0.7_K13-Rho0.5_D4_W0.5_Pos-G1-8kNodes/summary_report.csv\n",
      "\n",
      "==================================================\n",
      "Analysis pipeline finished!\n",
      "--- Finished: SmallWorld-Beta0.7_K13-Rho0.5_D4_W0.5_Pos-G1-8kNodes_Sample4.csv ---\n",
      "\n",
      "--- Processing: SmallWorld-Beta0.7_K13-Rho0.5_D4_W0.5_Pos-G1-8kNodes_Sample5.csv ---\n",
      "Starting EFHT analysis - Batch ID: SmallWorld-Beta0.7_K13-Rho0.5_D4_W0.5_Pos-G1-8kNodes, Dataset ID: SmallWorld-Beta0.7_K13-Rho0.5_D4_W0.5_Pos-G1-8kNodes_Sample5\n",
      "Results for the current dataset will be saved in: outputs/SmallWorld-Beta0.7_K13-Rho0.5_D4_W0.5_Pos-G1-8kNodes/SmallWorld-Beta0.7_K13-Rho0.5_D4_W0.5_Pos-G1-8kNodes_Sample5\n",
      "The summary report will be saved in: outputs/SmallWorld-Beta0.7_K13-Rho0.5_D4_W0.5_Pos-G1-8kNodes\n",
      "\n",
      "--- 2. Loading and preprocessing data for selected tests ---\n"
     ]
    },
    {
     "name": "stderr",
     "output_type": "stream",
     "text": [
      "Processing Colors: 100%|██████████| 43/43 [01:31<00:00,  2.13s/it]\n",
      "/Users/jiaxin/Documents/Summer 2024/EFHT/Edge-Flow-Hypothesis-Tests/.conda/lib/python3.11/site-packages/joblib/externals/loky/process_executor.py:782: UserWarning: A worker stopped while some jobs were given to the executor. This can be caused by a too short worker timeout or by a memory leak.\n",
      "  warnings.warn(\n"
     ]
    },
    {
     "name": "stdout",
     "output_type": "stream",
     "text": [
      "\n",
      ">>> Starting statistical tests <<<\n",
      "\n",
      "--- 1. Running K-S Test ---\n",
      "\n",
      " ============ Running KS Test ============\n",
      "# of Edges in Class1 : 1342\n",
      "# of Edges in Class2 : 2037\n",
      "\n",
      "KS Test Result:\n",
      "KS_statistic D = 0.0217\n",
      "P value = 8.3197e-01\n",
      "Conclusion: Fail to reject the null hypothesis (p >= 0.016666666666666666), distributions may be the same.\n",
      "\n",
      "--- 2. Running Independence tests ---\n",
      "Performing independence test on the following Top 3 color groups: [0, 1, 2]\n",
      "\n",
      "--- Analyzing color group: 0 ---\n",
      "  - Selecting optimal K value via cross-validation...\n",
      "   - Dynamically generated marginal K candidates: [  8  10  12  15  18  23  28  35  43  52  65  80  98 121 149 184 227 279\n",
      " 344 424]\n",
      "   - Dynamically generated joint K candidates: [ 8  9 10 11 12 14 15 17 19 21 23 25 28 31 35 39 43 48 53 59]\n",
      "  - Optimal K_MARGINAL = 8, Optimal K_JOINT = 8\n",
      "  - Observed KL divergence = 0.1530\n"
     ]
    },
    {
     "name": "stderr",
     "output_type": "stream",
     "text": [
      "Simulating null distribution (Color 0): 100%|██████████| 1000/1000 [00:01<00:00, 616.84it/s]\n"
     ]
    },
    {
     "name": "stdout",
     "output_type": "stream",
     "text": [
      "\n",
      "--- Independence Test Result for Color: 0 ---\n",
      "P value: 0.2328\n",
      "Conclusion: Fail to reject the null hypothesis (p >= 0.005555555555555556).\n",
      "           There is no significant evidence that 'flowX' and 'flowY' are dependent.\n",
      "\n",
      "--- Analyzing color group: 1 ---\n",
      "  - Selecting optimal K value via cross-validation...\n",
      "   - Dynamically generated marginal K candidates: [  8  10  12  15  18  23  28  35  43  52  65  80  98 121 149 184 227 279\n",
      " 344 424]\n",
      "   - Dynamically generated joint K candidates: [ 8  9 10 11 12 14 15 17 19 21 23 25 28 31 35 39 43 48 53 59]\n",
      "  - Optimal K_MARGINAL = 8, Optimal K_JOINT = 8\n",
      "  - Observed KL divergence = 0.1471\n"
     ]
    },
    {
     "name": "stderr",
     "output_type": "stream",
     "text": [
      "Simulating null distribution (Color 1): 100%|██████████| 1000/1000 [00:00<00:00, 1447.33it/s]\n"
     ]
    },
    {
     "name": "stdout",
     "output_type": "stream",
     "text": [
      "\n",
      "--- Independence Test Result for Color: 1 ---\n",
      "P value: 0.6244\n",
      "Conclusion: Fail to reject the null hypothesis (p >= 0.005555555555555556).\n",
      "           There is no significant evidence that 'flowX' and 'flowY' are dependent.\n",
      "\n",
      "--- Analyzing color group: 2 ---\n",
      "  - Selecting optimal K value via cross-validation...\n",
      "   - Dynamically generated marginal K candidates: [  8  10  12  15  18  23  28  35  43  52  65  80  98 121 149 184 227 279\n",
      " 344 424]\n",
      "   - Dynamically generated joint K candidates: [ 8  9 10 11 12 14 15 17 19 21 23 25 28 31 35 39 43 48 53 59]\n",
      "  - Optimal K_MARGINAL = 8, Optimal K_JOINT = 8\n",
      "  - Observed KL divergence = 0.1449\n"
     ]
    },
    {
     "name": "stderr",
     "output_type": "stream",
     "text": [
      "Simulating null distribution (Color 2): 100%|██████████| 1000/1000 [00:00<00:00, 1497.03it/s]\n"
     ]
    },
    {
     "name": "stdout",
     "output_type": "stream",
     "text": [
      "\n",
      "--- Independence Test Result for Color: 2 ---\n",
      "P value: 0.5694\n",
      "Conclusion: Fail to reject the null hypothesis (p >= 0.005555555555555556).\n",
      "           There is no significant evidence that 'flowX' and 'flowY' are dependent.\n",
      "\n",
      "Independence test completed.\n",
      "\n",
      "--- 3. Running Bivariate Equivalence Test ---\n",
      "\n",
      " ============ Running Bivariate Test ============\n",
      "# of Edge Pairs in Class1 : 1042\n",
      "# of Edge Pairs in Class2 : 1358\n",
      "Finding optimal K using cross-validation on combined data...\n",
      "Dynamically generated K candidates: [ 8  9 10 11 12 13 14 15 17 19 21 23 25 27 30 33 36 40 44 48]\n",
      "Optimal K selected via Cross-Validation: 8\n",
      "Observed KL = 0.3363\n"
     ]
    },
    {
     "name": "stderr",
     "output_type": "stream",
     "text": [
      "KL Under Null (Parallel):   3%|▎         | 28/1000 [00:01<00:50, 19.17it/s]/Users/jiaxin/Documents/Summer 2024/EFHT/Edge-Flow-Hypothesis-Tests/.conda/lib/python3.11/site-packages/joblib/externals/loky/process_executor.py:782: UserWarning: A worker stopped while some jobs were given to the executor. This can be caused by a too short worker timeout or by a memory leak.\n",
      "  warnings.warn(\n",
      "KL Under Null (Parallel): 100%|██████████| 1000/1000 [01:59<00:00,  8.39it/s]\n"
     ]
    },
    {
     "name": "stdout",
     "output_type": "stream",
     "text": [
      "\n",
      "Bivariate Test Result:\n",
      "Observed Symmetric KL Divergence: 0.3363\n",
      "P value: 0.2997\n",
      "Conclusion: Fail to reject the null hypothesis (p >= 0.016666666666666666). There is no significant evidence that the distributions are different.\n",
      "Appended results to: outputs/SmallWorld-Beta0.7_K13-Rho0.5_D4_W0.5_Pos-G1-8kNodes/summary_report.csv\n",
      "\n",
      "==================================================\n",
      "Analysis pipeline finished!\n",
      "--- Finished: SmallWorld-Beta0.7_K13-Rho0.5_D4_W0.5_Pos-G1-8kNodes_Sample5.csv ---\n",
      "\n",
      "--- Processing: SmallWorld-Beta0.7_K13-Rho0.5_D4_W0.5_Pos-G1-8kNodes_Sample6.csv ---\n",
      "Starting EFHT analysis - Batch ID: SmallWorld-Beta0.7_K13-Rho0.5_D4_W0.5_Pos-G1-8kNodes, Dataset ID: SmallWorld-Beta0.7_K13-Rho0.5_D4_W0.5_Pos-G1-8kNodes_Sample6\n",
      "Results for the current dataset will be saved in: outputs/SmallWorld-Beta0.7_K13-Rho0.5_D4_W0.5_Pos-G1-8kNodes/SmallWorld-Beta0.7_K13-Rho0.5_D4_W0.5_Pos-G1-8kNodes_Sample6\n",
      "The summary report will be saved in: outputs/SmallWorld-Beta0.7_K13-Rho0.5_D4_W0.5_Pos-G1-8kNodes\n",
      "\n",
      "--- 2. Loading and preprocessing data for selected tests ---\n"
     ]
    },
    {
     "name": "stderr",
     "output_type": "stream",
     "text": [
      "Processing Colors: 100%|██████████| 43/43 [01:31<00:00,  2.13s/it]\n",
      "/Users/jiaxin/Documents/Summer 2024/EFHT/Edge-Flow-Hypothesis-Tests/.conda/lib/python3.11/site-packages/joblib/externals/loky/process_executor.py:782: UserWarning: A worker stopped while some jobs were given to the executor. This can be caused by a too short worker timeout or by a memory leak.\n",
      "  warnings.warn(\n"
     ]
    },
    {
     "name": "stdout",
     "output_type": "stream",
     "text": [
      "\n",
      ">>> Starting statistical tests <<<\n",
      "\n",
      "--- 1. Running K-S Test ---\n",
      "\n",
      " ============ Running KS Test ============\n",
      "# of Edges in Class1 : 1342\n",
      "# of Edges in Class2 : 2037\n",
      "\n",
      "KS Test Result:\n",
      "KS_statistic D = 0.0275\n",
      "P value = 5.6034e-01\n",
      "Conclusion: Fail to reject the null hypothesis (p >= 0.016666666666666666), distributions may be the same.\n",
      "\n",
      "--- 2. Running Independence tests ---\n",
      "Performing independence test on the following Top 3 color groups: [0, 1, 2]\n",
      "\n",
      "--- Analyzing color group: 0 ---\n",
      "  - Selecting optimal K value via cross-validation...\n",
      "   - Dynamically generated marginal K candidates: [  8  10  12  15  18  23  28  35  43  52  65  80  98 121 149 184 227 279\n",
      " 344 424]\n",
      "   - Dynamically generated joint K candidates: [ 8  9 10 11 12 14 15 17 19 21 23 25 28 31 35 39 43 48 53 59]\n",
      "  - Optimal K_MARGINAL = 8, Optimal K_JOINT = 8\n",
      "  - Observed KL divergence = 0.1099\n"
     ]
    },
    {
     "name": "stderr",
     "output_type": "stream",
     "text": [
      "Simulating null distribution (Color 0): 100%|██████████| 1000/1000 [00:01<00:00, 617.31it/s]\n"
     ]
    },
    {
     "name": "stdout",
     "output_type": "stream",
     "text": [
      "\n",
      "--- Independence Test Result for Color: 0 ---\n",
      "P value: 0.4865\n",
      "Conclusion: Fail to reject the null hypothesis (p >= 0.005555555555555556).\n",
      "           There is no significant evidence that 'flowX' and 'flowY' are dependent.\n",
      "\n",
      "--- Analyzing color group: 1 ---\n",
      "  - Selecting optimal K value via cross-validation...\n",
      "   - Dynamically generated marginal K candidates: [  8  10  12  15  18  23  28  35  43  52  65  80  98 121 149 184 227 279\n",
      " 344 424]\n",
      "   - Dynamically generated joint K candidates: [ 8  9 10 11 12 14 15 17 19 21 23 25 28 31 35 39 43 48 53 59]\n",
      "  - Optimal K_MARGINAL = 8, Optimal K_JOINT = 8\n",
      "  - Observed KL divergence = 0.1167\n"
     ]
    },
    {
     "name": "stderr",
     "output_type": "stream",
     "text": [
      "Simulating null distribution (Color 1): 100%|██████████| 1000/1000 [00:00<00:00, 1463.40it/s]\n"
     ]
    },
    {
     "name": "stdout",
     "output_type": "stream",
     "text": [
      "\n",
      "--- Independence Test Result for Color: 1 ---\n",
      "P value: 0.2248\n",
      "Conclusion: Fail to reject the null hypothesis (p >= 0.005555555555555556).\n",
      "           There is no significant evidence that 'flowX' and 'flowY' are dependent.\n",
      "\n",
      "--- Analyzing color group: 2 ---\n",
      "  - Selecting optimal K value via cross-validation...\n",
      "   - Dynamically generated marginal K candidates: [  8  10  12  15  18  23  28  35  43  52  65  80  98 121 149 184 227 279\n",
      " 344 424]\n",
      "   - Dynamically generated joint K candidates: [ 8  9 10 11 12 14 15 17 19 21 23 25 28 31 35 39 43 48 53 59]\n",
      "  - Optimal K_MARGINAL = 8, Optimal K_JOINT = 8\n",
      "  - Observed KL divergence = 0.1518\n"
     ]
    },
    {
     "name": "stderr",
     "output_type": "stream",
     "text": [
      "Simulating null distribution (Color 2): 100%|██████████| 1000/1000 [00:00<00:00, 1486.31it/s]\n"
     ]
    },
    {
     "name": "stdout",
     "output_type": "stream",
     "text": [
      "\n",
      "--- Independence Test Result for Color: 2 ---\n",
      "P value: 0.0010\n",
      "Conclusion: Reject the null hypothesis (p < 0.005555555555555556).\n",
      "           The variables 'flowX' and 'flowY' are likely DEPENDENT for this color group.\n",
      "\n",
      "Independence test completed.\n",
      "\n",
      "--- 3. Running Bivariate Equivalence Test ---\n",
      "\n",
      " ============ Running Bivariate Test ============\n",
      "# of Edge Pairs in Class1 : 1042\n",
      "# of Edge Pairs in Class2 : 1358\n",
      "Finding optimal K using cross-validation on combined data...\n",
      "Dynamically generated K candidates: [ 8  9 10 11 12 13 14 15 17 19 21 23 25 27 30 33 36 40 44 48]\n",
      "Optimal K selected via Cross-Validation: 8\n",
      "Observed KL = 0.2965\n"
     ]
    },
    {
     "name": "stderr",
     "output_type": "stream",
     "text": [
      "KL Under Null (Parallel):   3%|▎         | 28/1000 [00:01<00:49, 19.45it/s]/Users/jiaxin/Documents/Summer 2024/EFHT/Edge-Flow-Hypothesis-Tests/.conda/lib/python3.11/site-packages/joblib/externals/loky/process_executor.py:782: UserWarning: A worker stopped while some jobs were given to the executor. This can be caused by a too short worker timeout or by a memory leak.\n",
      "  warnings.warn(\n",
      "KL Under Null (Parallel): 100%|██████████| 1000/1000 [02:01<00:00,  8.24it/s]\n"
     ]
    },
    {
     "name": "stdout",
     "output_type": "stream",
     "text": [
      "\n",
      "Bivariate Test Result:\n",
      "Observed Symmetric KL Divergence: 0.2965\n",
      "P value: 0.8901\n",
      "Conclusion: Fail to reject the null hypothesis (p >= 0.016666666666666666). There is no significant evidence that the distributions are different.\n",
      "Appended results to: outputs/SmallWorld-Beta0.7_K13-Rho0.5_D4_W0.5_Pos-G1-8kNodes/summary_report.csv\n",
      "\n",
      "==================================================\n",
      "Analysis pipeline finished!\n",
      "--- Finished: SmallWorld-Beta0.7_K13-Rho0.5_D4_W0.5_Pos-G1-8kNodes_Sample6.csv ---\n",
      "\n",
      "--- Processing: SmallWorld-Beta0.7_K13-Rho0.5_D4_W0.5_Pos-G1-8kNodes_Sample7.csv ---\n",
      "Starting EFHT analysis - Batch ID: SmallWorld-Beta0.7_K13-Rho0.5_D4_W0.5_Pos-G1-8kNodes, Dataset ID: SmallWorld-Beta0.7_K13-Rho0.5_D4_W0.5_Pos-G1-8kNodes_Sample7\n",
      "Results for the current dataset will be saved in: outputs/SmallWorld-Beta0.7_K13-Rho0.5_D4_W0.5_Pos-G1-8kNodes/SmallWorld-Beta0.7_K13-Rho0.5_D4_W0.5_Pos-G1-8kNodes_Sample7\n",
      "The summary report will be saved in: outputs/SmallWorld-Beta0.7_K13-Rho0.5_D4_W0.5_Pos-G1-8kNodes\n",
      "\n",
      "--- 2. Loading and preprocessing data for selected tests ---\n"
     ]
    },
    {
     "name": "stderr",
     "output_type": "stream",
     "text": [
      "Processing Colors: 100%|██████████| 43/43 [01:26<00:00,  2.02s/it]\n",
      "/Users/jiaxin/Documents/Summer 2024/EFHT/Edge-Flow-Hypothesis-Tests/.conda/lib/python3.11/site-packages/joblib/externals/loky/process_executor.py:782: UserWarning: A worker stopped while some jobs were given to the executor. This can be caused by a too short worker timeout or by a memory leak.\n",
      "  warnings.warn(\n"
     ]
    },
    {
     "name": "stdout",
     "output_type": "stream",
     "text": [
      "\n",
      ">>> Starting statistical tests <<<\n",
      "\n",
      "--- 1. Running K-S Test ---\n",
      "\n",
      " ============ Running KS Test ============\n",
      "# of Edges in Class1 : 1342\n",
      "# of Edges in Class2 : 2037\n",
      "\n",
      "KS Test Result:\n",
      "KS_statistic D = 0.0299\n",
      "P value = 4.5226e-01\n",
      "Conclusion: Fail to reject the null hypothesis (p >= 0.016666666666666666), distributions may be the same.\n",
      "\n",
      "--- 2. Running Independence tests ---\n",
      "Performing independence test on the following Top 3 color groups: [0, 1, 2]\n",
      "\n",
      "--- Analyzing color group: 0 ---\n",
      "  - Selecting optimal K value via cross-validation...\n",
      "   - Dynamically generated marginal K candidates: [  8  10  12  15  18  23  28  35  43  52  65  80  98 121 149 184 227 279\n",
      " 344 424]\n",
      "   - Dynamically generated joint K candidates: [ 8  9 10 11 12 14 15 17 19 21 23 25 28 31 35 39 43 48 53 59]\n",
      "  - Optimal K_MARGINAL = 8, Optimal K_JOINT = 8\n",
      "  - Observed KL divergence = 0.1156\n"
     ]
    },
    {
     "name": "stderr",
     "output_type": "stream",
     "text": [
      "Simulating null distribution (Color 0): 100%|██████████| 1000/1000 [00:01<00:00, 605.12it/s]\n"
     ]
    },
    {
     "name": "stdout",
     "output_type": "stream",
     "text": [
      "\n",
      "--- Independence Test Result for Color: 0 ---\n",
      "P value: 0.8501\n",
      "Conclusion: Fail to reject the null hypothesis (p >= 0.005555555555555556).\n",
      "           There is no significant evidence that 'flowX' and 'flowY' are dependent.\n",
      "\n",
      "--- Analyzing color group: 1 ---\n",
      "  - Selecting optimal K value via cross-validation...\n",
      "   - Dynamically generated marginal K candidates: [  8  10  12  15  18  23  28  35  43  52  65  80  98 121 149 184 227 279\n",
      " 344 424]\n",
      "   - Dynamically generated joint K candidates: [ 8  9 10 11 12 14 15 17 19 21 23 25 28 31 35 39 43 48 53 59]\n",
      "  - Optimal K_MARGINAL = 8, Optimal K_JOINT = 8\n",
      "  - Observed KL divergence = 0.1284\n"
     ]
    },
    {
     "name": "stderr",
     "output_type": "stream",
     "text": [
      "Simulating null distribution (Color 1): 100%|██████████| 1000/1000 [00:00<00:00, 1468.21it/s]\n"
     ]
    },
    {
     "name": "stdout",
     "output_type": "stream",
     "text": [
      "\n",
      "--- Independence Test Result for Color: 1 ---\n",
      "P value: 0.8232\n",
      "Conclusion: Fail to reject the null hypothesis (p >= 0.005555555555555556).\n",
      "           There is no significant evidence that 'flowX' and 'flowY' are dependent.\n",
      "\n",
      "--- Analyzing color group: 2 ---\n",
      "  - Selecting optimal K value via cross-validation...\n",
      "   - Dynamically generated marginal K candidates: [  8  10  12  15  18  23  28  35  43  52  65  80  98 121 149 184 227 279\n",
      " 344 424]\n",
      "   - Dynamically generated joint K candidates: [ 8  9 10 11 12 14 15 17 19 21 23 25 28 31 35 39 43 48 53 59]\n",
      "  - Optimal K_MARGINAL = 8, Optimal K_JOINT = 8\n",
      "  - Observed KL divergence = 0.1271\n"
     ]
    },
    {
     "name": "stderr",
     "output_type": "stream",
     "text": [
      "Simulating null distribution (Color 2): 100%|██████████| 1000/1000 [00:00<00:00, 1457.64it/s]\n"
     ]
    },
    {
     "name": "stdout",
     "output_type": "stream",
     "text": [
      "\n",
      "--- Independence Test Result for Color: 2 ---\n",
      "P value: 0.6653\n",
      "Conclusion: Fail to reject the null hypothesis (p >= 0.005555555555555556).\n",
      "           There is no significant evidence that 'flowX' and 'flowY' are dependent.\n",
      "\n",
      "Independence test completed.\n",
      "\n",
      "--- 3. Running Bivariate Equivalence Test ---\n",
      "\n",
      " ============ Running Bivariate Test ============\n",
      "# of Edge Pairs in Class1 : 1042\n",
      "# of Edge Pairs in Class2 : 1358\n",
      "Finding optimal K using cross-validation on combined data...\n",
      "Dynamically generated K candidates: [ 8  9 10 11 12 13 14 15 17 19 21 23 25 27 30 33 36 40 44 48]\n",
      "Optimal K selected via Cross-Validation: 8\n",
      "Observed KL = 0.2897\n"
     ]
    },
    {
     "name": "stderr",
     "output_type": "stream",
     "text": [
      "KL Under Null (Parallel):   3%|▎         | 28/1000 [00:01<00:48, 19.84it/s]/Users/jiaxin/Documents/Summer 2024/EFHT/Edge-Flow-Hypothesis-Tests/.conda/lib/python3.11/site-packages/joblib/externals/loky/process_executor.py:782: UserWarning: A worker stopped while some jobs were given to the executor. This can be caused by a too short worker timeout or by a memory leak.\n",
      "  warnings.warn(\n",
      "KL Under Null (Parallel): 100%|██████████| 1000/1000 [01:56<00:00,  8.56it/s]\n"
     ]
    },
    {
     "name": "stdout",
     "output_type": "stream",
     "text": [
      "\n",
      "Bivariate Test Result:\n",
      "Observed Symmetric KL Divergence: 0.2897\n",
      "P value: 0.9510\n",
      "Conclusion: Fail to reject the null hypothesis (p >= 0.016666666666666666). There is no significant evidence that the distributions are different.\n",
      "Appended results to: outputs/SmallWorld-Beta0.7_K13-Rho0.5_D4_W0.5_Pos-G1-8kNodes/summary_report.csv\n",
      "\n",
      "==================================================\n",
      "Analysis pipeline finished!\n",
      "--- Finished: SmallWorld-Beta0.7_K13-Rho0.5_D4_W0.5_Pos-G1-8kNodes_Sample7.csv ---\n",
      "\n",
      "--- Processing: SmallWorld-Beta0.7_K13-Rho0.5_D4_W0.5_Pos-G1-8kNodes_Sample8.csv ---\n",
      "Starting EFHT analysis - Batch ID: SmallWorld-Beta0.7_K13-Rho0.5_D4_W0.5_Pos-G1-8kNodes, Dataset ID: SmallWorld-Beta0.7_K13-Rho0.5_D4_W0.5_Pos-G1-8kNodes_Sample8\n",
      "Results for the current dataset will be saved in: outputs/SmallWorld-Beta0.7_K13-Rho0.5_D4_W0.5_Pos-G1-8kNodes/SmallWorld-Beta0.7_K13-Rho0.5_D4_W0.5_Pos-G1-8kNodes_Sample8\n",
      "The summary report will be saved in: outputs/SmallWorld-Beta0.7_K13-Rho0.5_D4_W0.5_Pos-G1-8kNodes\n",
      "\n",
      "--- 2. Loading and preprocessing data for selected tests ---\n"
     ]
    },
    {
     "name": "stderr",
     "output_type": "stream",
     "text": [
      "Processing Colors: 100%|██████████| 43/43 [01:25<00:00,  1.98s/it]\n",
      "/Users/jiaxin/Documents/Summer 2024/EFHT/Edge-Flow-Hypothesis-Tests/.conda/lib/python3.11/site-packages/joblib/externals/loky/process_executor.py:782: UserWarning: A worker stopped while some jobs were given to the executor. This can be caused by a too short worker timeout or by a memory leak.\n",
      "  warnings.warn(\n"
     ]
    },
    {
     "name": "stdout",
     "output_type": "stream",
     "text": [
      "\n",
      ">>> Starting statistical tests <<<\n",
      "\n",
      "--- 1. Running K-S Test ---\n",
      "\n",
      " ============ Running KS Test ============\n",
      "# of Edges in Class1 : 1342\n",
      "# of Edges in Class2 : 2037\n",
      "\n",
      "KS Test Result:\n",
      "KS_statistic D = 0.0328\n",
      "P value = 3.4038e-01\n",
      "Conclusion: Fail to reject the null hypothesis (p >= 0.016666666666666666), distributions may be the same.\n",
      "\n",
      "--- 2. Running Independence tests ---\n",
      "Performing independence test on the following Top 3 color groups: [0, 1, 2]\n",
      "\n",
      "--- Analyzing color group: 0 ---\n",
      "  - Selecting optimal K value via cross-validation...\n",
      "   - Dynamically generated marginal K candidates: [  8  10  12  15  18  23  28  35  43  52  65  80  98 121 149 184 227 279\n",
      " 344 424]\n",
      "   - Dynamically generated joint K candidates: [ 8  9 10 11 12 14 15 17 19 21 23 25 28 31 35 39 43 48 53 59]\n",
      "  - Optimal K_MARGINAL = 8, Optimal K_JOINT = 8\n",
      "  - Observed KL divergence = 0.0499\n"
     ]
    },
    {
     "name": "stderr",
     "output_type": "stream",
     "text": [
      "Simulating null distribution (Color 0): 100%|██████████| 1000/1000 [00:01<00:00, 612.65it/s]\n"
     ]
    },
    {
     "name": "stdout",
     "output_type": "stream",
     "text": [
      "\n",
      "--- Independence Test Result for Color: 0 ---\n",
      "P value: 0.7842\n",
      "Conclusion: Fail to reject the null hypothesis (p >= 0.005555555555555556).\n",
      "           There is no significant evidence that 'flowX' and 'flowY' are dependent.\n",
      "\n",
      "--- Analyzing color group: 1 ---\n",
      "  - Selecting optimal K value via cross-validation...\n",
      "   - Dynamically generated marginal K candidates: [  8  10  12  15  18  23  28  35  43  52  65  80  98 121 149 184 227 279\n",
      " 344 424]\n",
      "   - Dynamically generated joint K candidates: [ 8  9 10 11 12 14 15 17 19 21 23 25 28 31 35 39 43 48 53 59]\n",
      "  - Optimal K_MARGINAL = 8, Optimal K_JOINT = 8\n",
      "  - Observed KL divergence = 0.0748\n"
     ]
    },
    {
     "name": "stderr",
     "output_type": "stream",
     "text": [
      "Simulating null distribution (Color 1): 100%|██████████| 1000/1000 [00:00<00:00, 1442.95it/s]\n"
     ]
    },
    {
     "name": "stdout",
     "output_type": "stream",
     "text": [
      "\n",
      "--- Independence Test Result for Color: 1 ---\n",
      "P value: 0.4306\n",
      "Conclusion: Fail to reject the null hypothesis (p >= 0.005555555555555556).\n",
      "           There is no significant evidence that 'flowX' and 'flowY' are dependent.\n",
      "\n",
      "--- Analyzing color group: 2 ---\n",
      "  - Selecting optimal K value via cross-validation...\n",
      "   - Dynamically generated marginal K candidates: [  8  10  12  15  18  23  28  35  43  52  65  80  98 121 149 184 227 279\n",
      " 344 424]\n",
      "   - Dynamically generated joint K candidates: [ 8  9 10 11 12 14 15 17 19 21 23 25 28 31 35 39 43 48 53 59]\n",
      "  - Optimal K_MARGINAL = 8, Optimal K_JOINT = 8\n",
      "  - Observed KL divergence = 0.0821\n"
     ]
    },
    {
     "name": "stderr",
     "output_type": "stream",
     "text": [
      "Simulating null distribution (Color 2): 100%|██████████| 1000/1000 [00:00<00:00, 1503.76it/s]\n"
     ]
    },
    {
     "name": "stdout",
     "output_type": "stream",
     "text": [
      "\n",
      "--- Independence Test Result for Color: 2 ---\n",
      "P value: 0.2957\n",
      "Conclusion: Fail to reject the null hypothesis (p >= 0.005555555555555556).\n",
      "           There is no significant evidence that 'flowX' and 'flowY' are dependent.\n",
      "\n",
      "Independence test completed.\n",
      "\n",
      "--- 3. Running Bivariate Equivalence Test ---\n",
      "\n",
      " ============ Running Bivariate Test ============\n",
      "# of Edge Pairs in Class1 : 1042\n",
      "# of Edge Pairs in Class2 : 1358\n",
      "Finding optimal K using cross-validation on combined data...\n",
      "Dynamically generated K candidates: [ 8  9 10 11 12 13 14 15 17 19 21 23 25 27 30 33 36 40 44 48]\n",
      "Optimal K selected via Cross-Validation: 8\n",
      "Observed KL = 0.3210\n"
     ]
    },
    {
     "name": "stderr",
     "output_type": "stream",
     "text": [
      "KL Under Null (Parallel):   3%|▎         | 28/1000 [00:01<00:47, 20.33it/s]/Users/jiaxin/Documents/Summer 2024/EFHT/Edge-Flow-Hypothesis-Tests/.conda/lib/python3.11/site-packages/joblib/externals/loky/process_executor.py:782: UserWarning: A worker stopped while some jobs were given to the executor. This can be caused by a too short worker timeout or by a memory leak.\n",
      "  warnings.warn(\n",
      "KL Under Null (Parallel): 100%|██████████| 1000/1000 [01:58<00:00,  8.47it/s]\n"
     ]
    },
    {
     "name": "stdout",
     "output_type": "stream",
     "text": [
      "\n",
      "Bivariate Test Result:\n",
      "Observed Symmetric KL Divergence: 0.3210\n",
      "P value: 0.4575\n",
      "Conclusion: Fail to reject the null hypothesis (p >= 0.016666666666666666). There is no significant evidence that the distributions are different.\n",
      "Appended results to: outputs/SmallWorld-Beta0.7_K13-Rho0.5_D4_W0.5_Pos-G1-8kNodes/summary_report.csv\n",
      "\n",
      "==================================================\n",
      "Analysis pipeline finished!\n",
      "--- Finished: SmallWorld-Beta0.7_K13-Rho0.5_D4_W0.5_Pos-G1-8kNodes_Sample8.csv ---\n",
      "\n",
      "--- Processing: SmallWorld-Beta0.7_K13-Rho0.5_D4_W0.5_Pos-G1-8kNodes_Sample9.csv ---\n",
      "Starting EFHT analysis - Batch ID: SmallWorld-Beta0.7_K13-Rho0.5_D4_W0.5_Pos-G1-8kNodes, Dataset ID: SmallWorld-Beta0.7_K13-Rho0.5_D4_W0.5_Pos-G1-8kNodes_Sample9\n",
      "Results for the current dataset will be saved in: outputs/SmallWorld-Beta0.7_K13-Rho0.5_D4_W0.5_Pos-G1-8kNodes/SmallWorld-Beta0.7_K13-Rho0.5_D4_W0.5_Pos-G1-8kNodes_Sample9\n",
      "The summary report will be saved in: outputs/SmallWorld-Beta0.7_K13-Rho0.5_D4_W0.5_Pos-G1-8kNodes\n",
      "\n",
      "--- 2. Loading and preprocessing data for selected tests ---\n"
     ]
    },
    {
     "name": "stderr",
     "output_type": "stream",
     "text": [
      "Processing Colors: 100%|██████████| 43/43 [01:31<00:00,  2.14s/it]\n",
      "/Users/jiaxin/Documents/Summer 2024/EFHT/Edge-Flow-Hypothesis-Tests/.conda/lib/python3.11/site-packages/joblib/externals/loky/process_executor.py:782: UserWarning: A worker stopped while some jobs were given to the executor. This can be caused by a too short worker timeout or by a memory leak.\n",
      "  warnings.warn(\n"
     ]
    },
    {
     "name": "stdout",
     "output_type": "stream",
     "text": [
      "\n",
      ">>> Starting statistical tests <<<\n",
      "\n",
      "--- 1. Running K-S Test ---\n",
      "\n",
      " ============ Running KS Test ============\n",
      "# of Edges in Class1 : 1342\n",
      "# of Edges in Class2 : 2037\n",
      "\n",
      "KS Test Result:\n",
      "KS_statistic D = 0.0296\n",
      "P value = 4.6569e-01\n",
      "Conclusion: Fail to reject the null hypothesis (p >= 0.016666666666666666), distributions may be the same.\n",
      "\n",
      "--- 2. Running Independence tests ---\n",
      "Performing independence test on the following Top 3 color groups: [0, 1, 2]\n",
      "\n",
      "--- Analyzing color group: 0 ---\n",
      "  - Selecting optimal K value via cross-validation...\n",
      "   - Dynamically generated marginal K candidates: [  8  10  12  15  18  23  28  35  43  52  65  80  98 121 149 184 227 279\n",
      " 344 424]\n",
      "   - Dynamically generated joint K candidates: [ 8  9 10 11 12 14 15 17 19 21 23 25 28 31 35 39 43 48 53 59]\n",
      "  - Optimal K_MARGINAL = 8, Optimal K_JOINT = 8\n",
      "  - Observed KL divergence = 0.1481\n"
     ]
    },
    {
     "name": "stderr",
     "output_type": "stream",
     "text": [
      "Simulating null distribution (Color 0):   3%|▎         | 28/1000 [00:00<00:31, 30.94it/s]/Users/jiaxin/Documents/Summer 2024/EFHT/Edge-Flow-Hypothesis-Tests/.conda/lib/python3.11/site-packages/joblib/externals/loky/process_executor.py:782: UserWarning: A worker stopped while some jobs were given to the executor. This can be caused by a too short worker timeout or by a memory leak.\n",
      "  warnings.warn(\n",
      "Simulating null distribution (Color 0): 100%|██████████| 1000/1000 [00:01<00:00, 520.26it/s]\n"
     ]
    },
    {
     "name": "stdout",
     "output_type": "stream",
     "text": [
      "\n",
      "--- Independence Test Result for Color: 0 ---\n",
      "P value: 0.3297\n",
      "Conclusion: Fail to reject the null hypothesis (p >= 0.005555555555555556).\n",
      "           There is no significant evidence that 'flowX' and 'flowY' are dependent.\n",
      "\n",
      "--- Analyzing color group: 1 ---\n",
      "  - Selecting optimal K value via cross-validation...\n",
      "   - Dynamically generated marginal K candidates: [  8  10  12  15  18  23  28  35  43  52  65  80  98 121 149 184 227 279\n",
      " 344 424]\n",
      "   - Dynamically generated joint K candidates: [ 8  9 10 11 12 14 15 17 19 21 23 25 28 31 35 39 43 48 53 59]\n",
      "  - Optimal K_MARGINAL = 8, Optimal K_JOINT = 8\n",
      "  - Observed KL divergence = 0.1261\n"
     ]
    },
    {
     "name": "stderr",
     "output_type": "stream",
     "text": [
      "Simulating null distribution (Color 1): 100%|██████████| 1000/1000 [00:00<00:00, 1612.97it/s]\n"
     ]
    },
    {
     "name": "stdout",
     "output_type": "stream",
     "text": [
      "\n",
      "--- Independence Test Result for Color: 1 ---\n",
      "P value: 0.7163\n",
      "Conclusion: Fail to reject the null hypothesis (p >= 0.005555555555555556).\n",
      "           There is no significant evidence that 'flowX' and 'flowY' are dependent.\n",
      "\n",
      "--- Analyzing color group: 2 ---\n",
      "  - Selecting optimal K value via cross-validation...\n",
      "   - Dynamically generated marginal K candidates: [  8  10  12  15  18  23  28  35  43  52  65  80  98 121 149 184 227 279\n",
      " 344 424]\n",
      "   - Dynamically generated joint K candidates: [ 8  9 10 11 12 14 15 17 19 21 23 25 28 31 35 39 43 48 53 59]\n",
      "  - Optimal K_MARGINAL = 8, Optimal K_JOINT = 8\n",
      "  - Observed KL divergence = 0.1427\n"
     ]
    },
    {
     "name": "stderr",
     "output_type": "stream",
     "text": [
      "Simulating null distribution (Color 2): 100%|██████████| 1000/1000 [00:00<00:00, 1599.11it/s]\n"
     ]
    },
    {
     "name": "stdout",
     "output_type": "stream",
     "text": [
      "\n",
      "--- Independence Test Result for Color: 2 ---\n",
      "P value: 0.1638\n",
      "Conclusion: Fail to reject the null hypothesis (p >= 0.005555555555555556).\n",
      "           There is no significant evidence that 'flowX' and 'flowY' are dependent.\n",
      "\n",
      "Independence test completed.\n",
      "\n",
      "--- 3. Running Bivariate Equivalence Test ---\n",
      "\n",
      " ============ Running Bivariate Test ============\n",
      "# of Edge Pairs in Class1 : 1042\n",
      "# of Edge Pairs in Class2 : 1358\n",
      "Finding optimal K using cross-validation on combined data...\n",
      "Dynamically generated K candidates: [ 8  9 10 11 12 13 14 15 17 19 21 23 25 27 30 33 36 40 44 48]\n",
      "Optimal K selected via Cross-Validation: 8\n",
      "Observed KL = 0.2867\n"
     ]
    },
    {
     "name": "stderr",
     "output_type": "stream",
     "text": [
      "KL Under Null (Parallel):   3%|▎         | 28/1000 [00:01<00:49, 19.56it/s]/Users/jiaxin/Documents/Summer 2024/EFHT/Edge-Flow-Hypothesis-Tests/.conda/lib/python3.11/site-packages/joblib/externals/loky/process_executor.py:782: UserWarning: A worker stopped while some jobs were given to the executor. This can be caused by a too short worker timeout or by a memory leak.\n",
      "  warnings.warn(\n",
      "KL Under Null (Parallel): 100%|██████████| 1000/1000 [02:01<00:00,  8.25it/s]\n"
     ]
    },
    {
     "name": "stdout",
     "output_type": "stream",
     "text": [
      "\n",
      "Bivariate Test Result:\n",
      "Observed Symmetric KL Divergence: 0.2867\n",
      "P value: 0.9441\n",
      "Conclusion: Fail to reject the null hypothesis (p >= 0.016666666666666666). There is no significant evidence that the distributions are different.\n",
      "Appended results to: outputs/SmallWorld-Beta0.7_K13-Rho0.5_D4_W0.5_Pos-G1-8kNodes/summary_report.csv\n",
      "\n",
      "==================================================\n",
      "Analysis pipeline finished!\n",
      "--- Finished: SmallWorld-Beta0.7_K13-Rho0.5_D4_W0.5_Pos-G1-8kNodes_Sample9.csv ---\n",
      "\n",
      "--- Processing: SmallWorld-Beta0.7_K13-Rho0.5_D4_W0.5_Pos-G1-8kNodes_Sample10.csv ---\n",
      "Starting EFHT analysis - Batch ID: SmallWorld-Beta0.7_K13-Rho0.5_D4_W0.5_Pos-G1-8kNodes, Dataset ID: SmallWorld-Beta0.7_K13-Rho0.5_D4_W0.5_Pos-G1-8kNodes_Sample10\n",
      "Results for the current dataset will be saved in: outputs/SmallWorld-Beta0.7_K13-Rho0.5_D4_W0.5_Pos-G1-8kNodes/SmallWorld-Beta0.7_K13-Rho0.5_D4_W0.5_Pos-G1-8kNodes_Sample10\n",
      "The summary report will be saved in: outputs/SmallWorld-Beta0.7_K13-Rho0.5_D4_W0.5_Pos-G1-8kNodes\n",
      "\n",
      "--- 2. Loading and preprocessing data for selected tests ---\n"
     ]
    },
    {
     "name": "stderr",
     "output_type": "stream",
     "text": [
      "Processing Colors: 100%|██████████| 43/43 [01:24<00:00,  1.97s/it]\n",
      "/Users/jiaxin/Documents/Summer 2024/EFHT/Edge-Flow-Hypothesis-Tests/.conda/lib/python3.11/site-packages/joblib/externals/loky/process_executor.py:782: UserWarning: A worker stopped while some jobs were given to the executor. This can be caused by a too short worker timeout or by a memory leak.\n",
      "  warnings.warn(\n"
     ]
    },
    {
     "name": "stdout",
     "output_type": "stream",
     "text": [
      "\n",
      ">>> Starting statistical tests <<<\n",
      "\n",
      "--- 1. Running K-S Test ---\n",
      "\n",
      " ============ Running KS Test ============\n",
      "# of Edges in Class1 : 1342\n",
      "# of Edges in Class2 : 2037\n",
      "\n",
      "KS Test Result:\n",
      "KS_statistic D = 0.0252\n",
      "P value = 6.6904e-01\n",
      "Conclusion: Fail to reject the null hypothesis (p >= 0.016666666666666666), distributions may be the same.\n",
      "\n",
      "--- 2. Running Independence tests ---\n",
      "Performing independence test on the following Top 3 color groups: [0, 1, 2]\n",
      "\n",
      "--- Analyzing color group: 0 ---\n",
      "  - Selecting optimal K value via cross-validation...\n",
      "   - Dynamically generated marginal K candidates: [  8  10  12  15  18  23  28  35  43  52  65  80  98 121 149 184 227 279\n",
      " 344 424]\n",
      "   - Dynamically generated joint K candidates: [ 8  9 10 11 12 14 15 17 19 21 23 25 28 31 35 39 43 48 53 59]\n",
      "  - Optimal K_MARGINAL = 8, Optimal K_JOINT = 8\n",
      "  - Observed KL divergence = 0.1235\n"
     ]
    },
    {
     "name": "stderr",
     "output_type": "stream",
     "text": [
      "Simulating null distribution (Color 0): 100%|██████████| 1000/1000 [00:01<00:00, 607.20it/s]\n"
     ]
    },
    {
     "name": "stdout",
     "output_type": "stream",
     "text": [
      "\n",
      "--- Independence Test Result for Color: 0 ---\n",
      "P value: 0.3177\n",
      "Conclusion: Fail to reject the null hypothesis (p >= 0.005555555555555556).\n",
      "           There is no significant evidence that 'flowX' and 'flowY' are dependent.\n",
      "\n",
      "--- Analyzing color group: 1 ---\n",
      "  - Selecting optimal K value via cross-validation...\n",
      "   - Dynamically generated marginal K candidates: [  8  10  12  15  18  23  28  35  43  52  65  80  98 121 149 184 227 279\n",
      " 344 424]\n",
      "   - Dynamically generated joint K candidates: [ 8  9 10 11 12 14 15 17 19 21 23 25 28 31 35 39 43 48 53 59]\n",
      "  - Optimal K_MARGINAL = 8, Optimal K_JOINT = 8\n",
      "  - Observed KL divergence = 0.1175\n"
     ]
    },
    {
     "name": "stderr",
     "output_type": "stream",
     "text": [
      "Simulating null distribution (Color 1): 100%|██████████| 1000/1000 [00:00<00:00, 1414.51it/s]\n"
     ]
    },
    {
     "name": "stdout",
     "output_type": "stream",
     "text": [
      "\n",
      "--- Independence Test Result for Color: 1 ---\n",
      "P value: 0.5405\n",
      "Conclusion: Fail to reject the null hypothesis (p >= 0.005555555555555556).\n",
      "           There is no significant evidence that 'flowX' and 'flowY' are dependent.\n",
      "\n",
      "--- Analyzing color group: 2 ---\n",
      "  - Selecting optimal K value via cross-validation...\n",
      "   - Dynamically generated marginal K candidates: [  8  10  12  15  18  23  28  35  43  52  65  80  98 121 149 184 227 279\n",
      " 344 424]\n",
      "   - Dynamically generated joint K candidates: [ 8  9 10 11 12 14 15 17 19 21 23 25 28 31 35 39 43 48 53 59]\n",
      "  - Optimal K_MARGINAL = 8, Optimal K_JOINT = 8\n",
      "  - Observed KL divergence = 0.0923\n"
     ]
    },
    {
     "name": "stderr",
     "output_type": "stream",
     "text": [
      "Simulating null distribution (Color 2): 100%|██████████| 1000/1000 [00:00<00:00, 1477.44it/s]\n"
     ]
    },
    {
     "name": "stdout",
     "output_type": "stream",
     "text": [
      "\n",
      "--- Independence Test Result for Color: 2 ---\n",
      "P value: 0.8821\n",
      "Conclusion: Fail to reject the null hypothesis (p >= 0.005555555555555556).\n",
      "           There is no significant evidence that 'flowX' and 'flowY' are dependent.\n",
      "\n",
      "Independence test completed.\n",
      "\n",
      "--- 3. Running Bivariate Equivalence Test ---\n",
      "\n",
      " ============ Running Bivariate Test ============\n",
      "# of Edge Pairs in Class1 : 1042\n",
      "# of Edge Pairs in Class2 : 1358\n",
      "Finding optimal K using cross-validation on combined data...\n",
      "Dynamically generated K candidates: [ 8  9 10 11 12 13 14 15 17 19 21 23 25 27 30 33 36 40 44 48]\n",
      "Optimal K selected via Cross-Validation: 8\n",
      "Observed KL = 0.3392\n"
     ]
    },
    {
     "name": "stderr",
     "output_type": "stream",
     "text": [
      "KL Under Null (Parallel):   3%|▎         | 28/1000 [00:01<00:49, 19.77it/s]/Users/jiaxin/Documents/Summer 2024/EFHT/Edge-Flow-Hypothesis-Tests/.conda/lib/python3.11/site-packages/joblib/externals/loky/process_executor.py:782: UserWarning: A worker stopped while some jobs were given to the executor. This can be caused by a too short worker timeout or by a memory leak.\n",
      "  warnings.warn(\n",
      "KL Under Null (Parallel): 100%|██████████| 1000/1000 [01:57<00:00,  8.48it/s]\n"
     ]
    },
    {
     "name": "stdout",
     "output_type": "stream",
     "text": [
      "\n",
      "Bivariate Test Result:\n",
      "Observed Symmetric KL Divergence: 0.3392\n",
      "P value: 0.2028\n",
      "Conclusion: Fail to reject the null hypothesis (p >= 0.016666666666666666). There is no significant evidence that the distributions are different.\n",
      "Appended results to: outputs/SmallWorld-Beta0.7_K13-Rho0.5_D4_W0.5_Pos-G1-8kNodes/summary_report.csv\n",
      "\n",
      "==================================================\n",
      "Analysis pipeline finished!\n",
      "--- Finished: SmallWorld-Beta0.7_K13-Rho0.5_D4_W0.5_Pos-G1-8kNodes_Sample10.csv ---\n",
      "\n",
      "--- Processing: SmallWorld-Beta0.7_K13-Rho0.5_D4_W0.5_Pos-G1-8kNodes_Sample11.csv ---\n",
      "Starting EFHT analysis - Batch ID: SmallWorld-Beta0.7_K13-Rho0.5_D4_W0.5_Pos-G1-8kNodes, Dataset ID: SmallWorld-Beta0.7_K13-Rho0.5_D4_W0.5_Pos-G1-8kNodes_Sample11\n",
      "Results for the current dataset will be saved in: outputs/SmallWorld-Beta0.7_K13-Rho0.5_D4_W0.5_Pos-G1-8kNodes/SmallWorld-Beta0.7_K13-Rho0.5_D4_W0.5_Pos-G1-8kNodes_Sample11\n",
      "The summary report will be saved in: outputs/SmallWorld-Beta0.7_K13-Rho0.5_D4_W0.5_Pos-G1-8kNodes\n",
      "\n",
      "--- 2. Loading and preprocessing data for selected tests ---\n"
     ]
    },
    {
     "name": "stderr",
     "output_type": "stream",
     "text": [
      "Processing Colors: 100%|██████████| 43/43 [01:31<00:00,  2.12s/it]\n",
      "/Users/jiaxin/Documents/Summer 2024/EFHT/Edge-Flow-Hypothesis-Tests/.conda/lib/python3.11/site-packages/joblib/externals/loky/process_executor.py:782: UserWarning: A worker stopped while some jobs were given to the executor. This can be caused by a too short worker timeout or by a memory leak.\n",
      "  warnings.warn(\n"
     ]
    },
    {
     "name": "stdout",
     "output_type": "stream",
     "text": [
      "\n",
      ">>> Starting statistical tests <<<\n",
      "\n",
      "--- 1. Running K-S Test ---\n",
      "\n",
      " ============ Running KS Test ============\n",
      "# of Edges in Class1 : 1342\n",
      "# of Edges in Class2 : 2037\n",
      "\n",
      "KS Test Result:\n",
      "KS_statistic D = 0.0471\n",
      "P value = 5.2995e-02\n",
      "Conclusion: Fail to reject the null hypothesis (p >= 0.016666666666666666), distributions may be the same.\n",
      "\n",
      "--- 2. Running Independence tests ---\n",
      "Performing independence test on the following Top 3 color groups: [0, 1, 2]\n",
      "\n",
      "--- Analyzing color group: 0 ---\n",
      "  - Selecting optimal K value via cross-validation...\n",
      "   - Dynamically generated marginal K candidates: [  8  10  12  15  18  23  28  35  43  52  65  80  98 121 149 184 227 279\n",
      " 344 424]\n",
      "   - Dynamically generated joint K candidates: [ 8  9 10 11 12 14 15 17 19 21 23 25 28 31 35 39 43 48 53 59]\n",
      "  - Optimal K_MARGINAL = 8, Optimal K_JOINT = 8\n",
      "  - Observed KL divergence = 0.1872\n"
     ]
    },
    {
     "name": "stderr",
     "output_type": "stream",
     "text": [
      "Simulating null distribution (Color 0): 100%|██████████| 1000/1000 [00:01<00:00, 632.32it/s]\n"
     ]
    },
    {
     "name": "stdout",
     "output_type": "stream",
     "text": [
      "\n",
      "--- Independence Test Result for Color: 0 ---\n",
      "P value: 0.1219\n",
      "Conclusion: Fail to reject the null hypothesis (p >= 0.005555555555555556).\n",
      "           There is no significant evidence that 'flowX' and 'flowY' are dependent.\n",
      "\n",
      "--- Analyzing color group: 1 ---\n",
      "  - Selecting optimal K value via cross-validation...\n",
      "   - Dynamically generated marginal K candidates: [  8  10  12  15  18  23  28  35  43  52  65  80  98 121 149 184 227 279\n",
      " 344 424]\n",
      "   - Dynamically generated joint K candidates: [ 8  9 10 11 12 14 15 17 19 21 23 25 28 31 35 39 43 48 53 59]\n",
      "  - Optimal K_MARGINAL = 8, Optimal K_JOINT = 8\n",
      "  - Observed KL divergence = 0.1201\n"
     ]
    },
    {
     "name": "stderr",
     "output_type": "stream",
     "text": [
      "Simulating null distribution (Color 1): 100%|██████████| 1000/1000 [00:00<00:00, 1709.02it/s]\n"
     ]
    },
    {
     "name": "stdout",
     "output_type": "stream",
     "text": [
      "\n",
      "--- Independence Test Result for Color: 1 ---\n",
      "P value: 0.9980\n",
      "Conclusion: Fail to reject the null hypothesis (p >= 0.005555555555555556).\n",
      "           There is no significant evidence that 'flowX' and 'flowY' are dependent.\n",
      "\n",
      "--- Analyzing color group: 2 ---\n",
      "  - Selecting optimal K value via cross-validation...\n",
      "   - Dynamically generated marginal K candidates: [  8  10  12  15  18  23  28  35  43  52  65  80  98 121 149 184 227 279\n",
      " 344 424]\n",
      "   - Dynamically generated joint K candidates: [ 8  9 10 11 12 14 15 17 19 21 23 25 28 31 35 39 43 48 53 59]\n",
      "  - Optimal K_MARGINAL = 8, Optimal K_JOINT = 8\n",
      "  - Observed KL divergence = 0.0777\n"
     ]
    },
    {
     "name": "stderr",
     "output_type": "stream",
     "text": [
      "Simulating null distribution (Color 2): 100%|██████████| 1000/1000 [00:00<00:00, 1758.73it/s]\n"
     ]
    },
    {
     "name": "stdout",
     "output_type": "stream",
     "text": [
      "\n",
      "--- Independence Test Result for Color: 2 ---\n",
      "P value: 0.5574\n",
      "Conclusion: Fail to reject the null hypothesis (p >= 0.005555555555555556).\n",
      "           There is no significant evidence that 'flowX' and 'flowY' are dependent.\n",
      "\n",
      "Independence test completed.\n",
      "\n",
      "--- 3. Running Bivariate Equivalence Test ---\n",
      "\n",
      " ============ Running Bivariate Test ============\n",
      "# of Edge Pairs in Class1 : 1042\n",
      "# of Edge Pairs in Class2 : 1358\n",
      "Finding optimal K using cross-validation on combined data...\n",
      "Dynamically generated K candidates: [ 8  9 10 11 12 13 14 15 17 19 21 23 25 27 30 33 36 40 44 48]\n",
      "Optimal K selected via Cross-Validation: 8\n",
      "Observed KL = 0.3507\n"
     ]
    },
    {
     "name": "stderr",
     "output_type": "stream",
     "text": [
      "KL Under Null (Parallel):   3%|▎         | 28/1000 [00:01<00:49, 19.84it/s]/Users/jiaxin/Documents/Summer 2024/EFHT/Edge-Flow-Hypothesis-Tests/.conda/lib/python3.11/site-packages/joblib/externals/loky/process_executor.py:782: UserWarning: A worker stopped while some jobs were given to the executor. This can be caused by a too short worker timeout or by a memory leak.\n",
      "  warnings.warn(\n",
      "KL Under Null (Parallel): 100%|██████████| 1000/1000 [01:59<00:00,  8.40it/s]\n"
     ]
    },
    {
     "name": "stdout",
     "output_type": "stream",
     "text": [
      "\n",
      "Bivariate Test Result:\n",
      "Observed Symmetric KL Divergence: 0.3507\n",
      "P value: 0.1628\n",
      "Conclusion: Fail to reject the null hypothesis (p >= 0.016666666666666666). There is no significant evidence that the distributions are different.\n",
      "Appended results to: outputs/SmallWorld-Beta0.7_K13-Rho0.5_D4_W0.5_Pos-G1-8kNodes/summary_report.csv\n",
      "\n",
      "==================================================\n",
      "Analysis pipeline finished!\n",
      "--- Finished: SmallWorld-Beta0.7_K13-Rho0.5_D4_W0.5_Pos-G1-8kNodes_Sample11.csv ---\n",
      "\n",
      "--- Processing: SmallWorld-Beta0.7_K13-Rho0.5_D4_W0.5_Pos-G1-8kNodes_Sample12.csv ---\n",
      "Starting EFHT analysis - Batch ID: SmallWorld-Beta0.7_K13-Rho0.5_D4_W0.5_Pos-G1-8kNodes, Dataset ID: SmallWorld-Beta0.7_K13-Rho0.5_D4_W0.5_Pos-G1-8kNodes_Sample12\n",
      "Results for the current dataset will be saved in: outputs/SmallWorld-Beta0.7_K13-Rho0.5_D4_W0.5_Pos-G1-8kNodes/SmallWorld-Beta0.7_K13-Rho0.5_D4_W0.5_Pos-G1-8kNodes_Sample12\n",
      "The summary report will be saved in: outputs/SmallWorld-Beta0.7_K13-Rho0.5_D4_W0.5_Pos-G1-8kNodes\n",
      "\n",
      "--- 2. Loading and preprocessing data for selected tests ---\n"
     ]
    },
    {
     "name": "stderr",
     "output_type": "stream",
     "text": [
      "Processing Colors: 100%|██████████| 43/43 [01:31<00:00,  2.14s/it]\n",
      "/Users/jiaxin/Documents/Summer 2024/EFHT/Edge-Flow-Hypothesis-Tests/.conda/lib/python3.11/site-packages/joblib/externals/loky/process_executor.py:782: UserWarning: A worker stopped while some jobs were given to the executor. This can be caused by a too short worker timeout or by a memory leak.\n",
      "  warnings.warn(\n"
     ]
    },
    {
     "name": "stdout",
     "output_type": "stream",
     "text": [
      "\n",
      ">>> Starting statistical tests <<<\n",
      "\n",
      "--- 1. Running K-S Test ---\n",
      "\n",
      " ============ Running KS Test ============\n",
      "# of Edges in Class1 : 1342\n",
      "# of Edges in Class2 : 2037\n",
      "\n",
      "KS Test Result:\n",
      "KS_statistic D = 0.0302\n",
      "P value = 4.4238e-01\n",
      "Conclusion: Fail to reject the null hypothesis (p >= 0.016666666666666666), distributions may be the same.\n",
      "\n",
      "--- 2. Running Independence tests ---\n",
      "Performing independence test on the following Top 3 color groups: [0, 1, 2]\n",
      "\n",
      "--- Analyzing color group: 0 ---\n",
      "  - Selecting optimal K value via cross-validation...\n",
      "   - Dynamically generated marginal K candidates: [  8  10  12  15  18  23  28  35  43  52  65  80  98 121 149 184 227 279\n",
      " 344 424]\n",
      "   - Dynamically generated joint K candidates: [ 8  9 10 11 12 14 15 17 19 21 23 25 28 31 35 39 43 48 53 59]\n",
      "  - Optimal K_MARGINAL = 8, Optimal K_JOINT = 8\n",
      "  - Observed KL divergence = 0.1268\n"
     ]
    },
    {
     "name": "stderr",
     "output_type": "stream",
     "text": [
      "Simulating null distribution (Color 0): 100%|██████████| 1000/1000 [00:01<00:00, 615.68it/s]\n"
     ]
    },
    {
     "name": "stdout",
     "output_type": "stream",
     "text": [
      "\n",
      "--- Independence Test Result for Color: 0 ---\n",
      "P value: 0.9960\n",
      "Conclusion: Fail to reject the null hypothesis (p >= 0.005555555555555556).\n",
      "           There is no significant evidence that 'flowX' and 'flowY' are dependent.\n",
      "\n",
      "--- Analyzing color group: 1 ---\n",
      "  - Selecting optimal K value via cross-validation...\n",
      "   - Dynamically generated marginal K candidates: [  8  10  12  15  18  23  28  35  43  52  65  80  98 121 149 184 227 279\n",
      " 344 424]\n",
      "   - Dynamically generated joint K candidates: [ 8  9 10 11 12 14 15 17 19 21 23 25 28 31 35 39 43 48 53 59]\n",
      "  - Optimal K_MARGINAL = 8, Optimal K_JOINT = 8\n",
      "  - Observed KL divergence = 0.0699\n"
     ]
    },
    {
     "name": "stderr",
     "output_type": "stream",
     "text": [
      "Simulating null distribution (Color 1): 100%|██████████| 1000/1000 [00:00<00:00, 1519.00it/s]\n"
     ]
    },
    {
     "name": "stdout",
     "output_type": "stream",
     "text": [
      "\n",
      "--- Independence Test Result for Color: 1 ---\n",
      "P value: 0.7083\n",
      "Conclusion: Fail to reject the null hypothesis (p >= 0.005555555555555556).\n",
      "           There is no significant evidence that 'flowX' and 'flowY' are dependent.\n",
      "\n",
      "--- Analyzing color group: 2 ---\n",
      "  - Selecting optimal K value via cross-validation...\n",
      "   - Dynamically generated marginal K candidates: [  8  10  12  15  18  23  28  35  43  52  65  80  98 121 149 184 227 279\n",
      " 344 424]\n",
      "   - Dynamically generated joint K candidates: [ 8  9 10 11 12 14 15 17 19 21 23 25 28 31 35 39 43 48 53 59]\n",
      "  - Optimal K_MARGINAL = 8, Optimal K_JOINT = 8\n",
      "  - Observed KL divergence = 0.1388\n"
     ]
    },
    {
     "name": "stderr",
     "output_type": "stream",
     "text": [
      "Simulating null distribution (Color 2): 100%|██████████| 1000/1000 [00:00<00:00, 1470.53it/s]\n"
     ]
    },
    {
     "name": "stdout",
     "output_type": "stream",
     "text": [
      "\n",
      "--- Independence Test Result for Color: 2 ---\n",
      "P value: 0.9850\n",
      "Conclusion: Fail to reject the null hypothesis (p >= 0.005555555555555556).\n",
      "           There is no significant evidence that 'flowX' and 'flowY' are dependent.\n",
      "\n",
      "Independence test completed.\n",
      "\n",
      "--- 3. Running Bivariate Equivalence Test ---\n",
      "\n",
      " ============ Running Bivariate Test ============\n",
      "# of Edge Pairs in Class1 : 1042\n",
      "# of Edge Pairs in Class2 : 1358\n",
      "Finding optimal K using cross-validation on combined data...\n",
      "Dynamically generated K candidates: [ 8  9 10 11 12 13 14 15 17 19 21 23 25 27 30 33 36 40 44 48]\n",
      "Optimal K selected via Cross-Validation: 8\n",
      "Observed KL = 0.3203\n"
     ]
    },
    {
     "name": "stderr",
     "output_type": "stream",
     "text": [
      "KL Under Null (Parallel):   3%|▎         | 28/1000 [00:01<00:50, 19.42it/s]/Users/jiaxin/Documents/Summer 2024/EFHT/Edge-Flow-Hypothesis-Tests/.conda/lib/python3.11/site-packages/joblib/externals/loky/process_executor.py:782: UserWarning: A worker stopped while some jobs were given to the executor. This can be caused by a too short worker timeout or by a memory leak.\n",
      "  warnings.warn(\n",
      "KL Under Null (Parallel): 100%|██████████| 1000/1000 [02:03<00:00,  8.13it/s]\n"
     ]
    },
    {
     "name": "stdout",
     "output_type": "stream",
     "text": [
      "\n",
      "Bivariate Test Result:\n",
      "Observed Symmetric KL Divergence: 0.3203\n",
      "P value: 0.5335\n",
      "Conclusion: Fail to reject the null hypothesis (p >= 0.016666666666666666). There is no significant evidence that the distributions are different.\n",
      "Appended results to: outputs/SmallWorld-Beta0.7_K13-Rho0.5_D4_W0.5_Pos-G1-8kNodes/summary_report.csv\n",
      "\n",
      "==================================================\n",
      "Analysis pipeline finished!\n",
      "--- Finished: SmallWorld-Beta0.7_K13-Rho0.5_D4_W0.5_Pos-G1-8kNodes_Sample12.csv ---\n",
      "\n",
      "--- Processing: SmallWorld-Beta0.7_K13-Rho0.5_D4_W0.5_Pos-G1-8kNodes_Sample13.csv ---\n",
      "Starting EFHT analysis - Batch ID: SmallWorld-Beta0.7_K13-Rho0.5_D4_W0.5_Pos-G1-8kNodes, Dataset ID: SmallWorld-Beta0.7_K13-Rho0.5_D4_W0.5_Pos-G1-8kNodes_Sample13\n",
      "Results for the current dataset will be saved in: outputs/SmallWorld-Beta0.7_K13-Rho0.5_D4_W0.5_Pos-G1-8kNodes/SmallWorld-Beta0.7_K13-Rho0.5_D4_W0.5_Pos-G1-8kNodes_Sample13\n",
      "The summary report will be saved in: outputs/SmallWorld-Beta0.7_K13-Rho0.5_D4_W0.5_Pos-G1-8kNodes\n",
      "\n",
      "--- 2. Loading and preprocessing data for selected tests ---\n"
     ]
    },
    {
     "name": "stderr",
     "output_type": "stream",
     "text": [
      "Processing Colors: 100%|██████████| 43/43 [01:32<00:00,  2.14s/it]\n",
      "/Users/jiaxin/Documents/Summer 2024/EFHT/Edge-Flow-Hypothesis-Tests/.conda/lib/python3.11/site-packages/joblib/externals/loky/process_executor.py:782: UserWarning: A worker stopped while some jobs were given to the executor. This can be caused by a too short worker timeout or by a memory leak.\n",
      "  warnings.warn(\n"
     ]
    },
    {
     "name": "stdout",
     "output_type": "stream",
     "text": [
      "\n",
      ">>> Starting statistical tests <<<\n",
      "\n",
      "--- 1. Running K-S Test ---\n",
      "\n",
      " ============ Running KS Test ============\n",
      "# of Edges in Class1 : 1342\n",
      "# of Edges in Class2 : 2037\n",
      "\n",
      "KS Test Result:\n",
      "KS_statistic D = 0.0315\n",
      "P value = 3.8691e-01\n",
      "Conclusion: Fail to reject the null hypothesis (p >= 0.016666666666666666), distributions may be the same.\n",
      "\n",
      "--- 2. Running Independence tests ---\n",
      "Performing independence test on the following Top 3 color groups: [0, 1, 2]\n",
      "\n",
      "--- Analyzing color group: 0 ---\n",
      "  - Selecting optimal K value via cross-validation...\n",
      "   - Dynamically generated marginal K candidates: [  8  10  12  15  18  23  28  35  43  52  65  80  98 121 149 184 227 279\n",
      " 344 424]\n",
      "   - Dynamically generated joint K candidates: [ 8  9 10 11 12 14 15 17 19 21 23 25 28 31 35 39 43 48 53 59]\n",
      "  - Optimal K_MARGINAL = 8, Optimal K_JOINT = 8\n",
      "  - Observed KL divergence = 0.1217\n"
     ]
    },
    {
     "name": "stderr",
     "output_type": "stream",
     "text": [
      "Simulating null distribution (Color 0): 100%|██████████| 1000/1000 [00:01<00:00, 605.12it/s]\n"
     ]
    },
    {
     "name": "stdout",
     "output_type": "stream",
     "text": [
      "\n",
      "--- Independence Test Result for Color: 0 ---\n",
      "P value: 0.9900\n",
      "Conclusion: Fail to reject the null hypothesis (p >= 0.005555555555555556).\n",
      "           There is no significant evidence that 'flowX' and 'flowY' are dependent.\n",
      "\n",
      "--- Analyzing color group: 1 ---\n",
      "  - Selecting optimal K value via cross-validation...\n",
      "   - Dynamically generated marginal K candidates: [  8  10  12  15  18  23  28  35  43  52  65  80  98 121 149 184 227 279\n",
      " 344 424]\n",
      "   - Dynamically generated joint K candidates: [ 8  9 10 11 12 14 15 17 19 21 23 25 28 31 35 39 43 48 53 59]\n",
      "  - Optimal K_MARGINAL = 8, Optimal K_JOINT = 8\n",
      "  - Observed KL divergence = 0.1334\n"
     ]
    },
    {
     "name": "stderr",
     "output_type": "stream",
     "text": [
      "Simulating null distribution (Color 1): 100%|██████████| 1000/1000 [00:00<00:00, 1487.75it/s]\n"
     ]
    },
    {
     "name": "stdout",
     "output_type": "stream",
     "text": [
      "\n",
      "--- Independence Test Result for Color: 1 ---\n",
      "P value: 0.9790\n",
      "Conclusion: Fail to reject the null hypothesis (p >= 0.005555555555555556).\n",
      "           There is no significant evidence that 'flowX' and 'flowY' are dependent.\n",
      "\n",
      "--- Analyzing color group: 2 ---\n",
      "  - Selecting optimal K value via cross-validation...\n",
      "   - Dynamically generated marginal K candidates: [  8  10  12  15  18  23  28  35  43  52  65  80  98 121 149 184 227 279\n",
      " 344 424]\n",
      "   - Dynamically generated joint K candidates: [ 8  9 10 11 12 14 15 17 19 21 23 25 28 31 35 39 43 48 53 59]\n",
      "  - Optimal K_MARGINAL = 8, Optimal K_JOINT = 8\n",
      "  - Observed KL divergence = 0.1248\n"
     ]
    },
    {
     "name": "stderr",
     "output_type": "stream",
     "text": [
      "Simulating null distribution (Color 2): 100%|██████████| 1000/1000 [00:00<00:00, 1501.79it/s]\n"
     ]
    },
    {
     "name": "stdout",
     "output_type": "stream",
     "text": [
      "\n",
      "--- Independence Test Result for Color: 2 ---\n",
      "P value: 0.9960\n",
      "Conclusion: Fail to reject the null hypothesis (p >= 0.005555555555555556).\n",
      "           There is no significant evidence that 'flowX' and 'flowY' are dependent.\n",
      "\n",
      "Independence test completed.\n",
      "\n",
      "--- 3. Running Bivariate Equivalence Test ---\n",
      "\n",
      " ============ Running Bivariate Test ============\n",
      "# of Edge Pairs in Class1 : 1042\n",
      "# of Edge Pairs in Class2 : 1358\n",
      "Finding optimal K using cross-validation on combined data...\n",
      "Dynamically generated K candidates: [ 8  9 10 11 12 13 14 15 17 19 21 23 25 27 30 33 36 40 44 48]\n",
      "Optimal K selected via Cross-Validation: 8\n",
      "Observed KL = 0.3577\n"
     ]
    },
    {
     "name": "stderr",
     "output_type": "stream",
     "text": [
      "KL Under Null (Parallel):   3%|▎         | 28/1000 [00:01<00:48, 19.96it/s]/Users/jiaxin/Documents/Summer 2024/EFHT/Edge-Flow-Hypothesis-Tests/.conda/lib/python3.11/site-packages/joblib/externals/loky/process_executor.py:782: UserWarning: A worker stopped while some jobs were given to the executor. This can be caused by a too short worker timeout or by a memory leak.\n",
      "  warnings.warn(\n",
      "KL Under Null (Parallel): 100%|██████████| 1000/1000 [01:57<00:00,  8.54it/s]\n"
     ]
    },
    {
     "name": "stdout",
     "output_type": "stream",
     "text": [
      "\n",
      "Bivariate Test Result:\n",
      "Observed Symmetric KL Divergence: 0.3577\n",
      "P value: 0.1109\n",
      "Conclusion: Fail to reject the null hypothesis (p >= 0.016666666666666666). There is no significant evidence that the distributions are different.\n",
      "Appended results to: outputs/SmallWorld-Beta0.7_K13-Rho0.5_D4_W0.5_Pos-G1-8kNodes/summary_report.csv\n",
      "\n",
      "==================================================\n",
      "Analysis pipeline finished!\n",
      "--- Finished: SmallWorld-Beta0.7_K13-Rho0.5_D4_W0.5_Pos-G1-8kNodes_Sample13.csv ---\n",
      "\n",
      "--- Processing: SmallWorld-Beta0.7_K13-Rho0.5_D4_W0.5_Pos-G1-8kNodes_Sample14.csv ---\n",
      "Starting EFHT analysis - Batch ID: SmallWorld-Beta0.7_K13-Rho0.5_D4_W0.5_Pos-G1-8kNodes, Dataset ID: SmallWorld-Beta0.7_K13-Rho0.5_D4_W0.5_Pos-G1-8kNodes_Sample14\n",
      "Results for the current dataset will be saved in: outputs/SmallWorld-Beta0.7_K13-Rho0.5_D4_W0.5_Pos-G1-8kNodes/SmallWorld-Beta0.7_K13-Rho0.5_D4_W0.5_Pos-G1-8kNodes_Sample14\n",
      "The summary report will be saved in: outputs/SmallWorld-Beta0.7_K13-Rho0.5_D4_W0.5_Pos-G1-8kNodes\n",
      "\n",
      "--- 2. Loading and preprocessing data for selected tests ---\n"
     ]
    },
    {
     "name": "stderr",
     "output_type": "stream",
     "text": [
      "Processing Colors: 100%|██████████| 43/43 [01:32<00:00,  2.14s/it] \n",
      "/Users/jiaxin/Documents/Summer 2024/EFHT/Edge-Flow-Hypothesis-Tests/.conda/lib/python3.11/site-packages/joblib/externals/loky/process_executor.py:782: UserWarning: A worker stopped while some jobs were given to the executor. This can be caused by a too short worker timeout or by a memory leak.\n",
      "  warnings.warn(\n"
     ]
    },
    {
     "name": "stdout",
     "output_type": "stream",
     "text": [
      "\n",
      ">>> Starting statistical tests <<<\n",
      "\n",
      "--- 1. Running K-S Test ---\n",
      "\n",
      " ============ Running KS Test ============\n",
      "# of Edges in Class1 : 1342\n",
      "# of Edges in Class2 : 2037\n",
      "\n",
      "KS Test Result:\n",
      "KS_statistic D = 0.0199\n",
      "P value = 8.9640e-01\n",
      "Conclusion: Fail to reject the null hypothesis (p >= 0.016666666666666666), distributions may be the same.\n",
      "\n",
      "--- 2. Running Independence tests ---\n",
      "Performing independence test on the following Top 3 color groups: [0, 1, 2]\n",
      "\n",
      "--- Analyzing color group: 0 ---\n",
      "  - Selecting optimal K value via cross-validation...\n",
      "   - Dynamically generated marginal K candidates: [  8  10  12  15  18  23  28  35  43  52  65  80  98 121 149 184 227 279\n",
      " 344 424]\n",
      "   - Dynamically generated joint K candidates: [ 8  9 10 11 12 14 15 17 19 21 23 25 28 31 35 39 43 48 53 59]\n",
      "  - Optimal K_MARGINAL = 8, Optimal K_JOINT = 8\n",
      "  - Observed KL divergence = 0.1067\n"
     ]
    },
    {
     "name": "stderr",
     "output_type": "stream",
     "text": [
      "Simulating null distribution (Color 0): 100%|██████████| 1000/1000 [00:01<00:00, 611.63it/s]\n"
     ]
    },
    {
     "name": "stdout",
     "output_type": "stream",
     "text": [
      "\n",
      "--- Independence Test Result for Color: 0 ---\n",
      "P value: 0.6973\n",
      "Conclusion: Fail to reject the null hypothesis (p >= 0.005555555555555556).\n",
      "           There is no significant evidence that 'flowX' and 'flowY' are dependent.\n",
      "\n",
      "--- Analyzing color group: 1 ---\n",
      "  - Selecting optimal K value via cross-validation...\n",
      "   - Dynamically generated marginal K candidates: [  8  10  12  15  18  23  28  35  43  52  65  80  98 121 149 184 227 279\n",
      " 344 424]\n",
      "   - Dynamically generated joint K candidates: [ 8  9 10 11 12 14 15 17 19 21 23 25 28 31 35 39 43 48 53 59]\n",
      "  - Optimal K_MARGINAL = 8, Optimal K_JOINT = 8\n",
      "  - Observed KL divergence = 0.1240\n"
     ]
    },
    {
     "name": "stderr",
     "output_type": "stream",
     "text": [
      "Simulating null distribution (Color 1): 100%|██████████| 1000/1000 [00:00<00:00, 1470.90it/s]\n"
     ]
    },
    {
     "name": "stdout",
     "output_type": "stream",
     "text": [
      "\n",
      "--- Independence Test Result for Color: 1 ---\n",
      "P value: 0.0050\n",
      "Conclusion: Reject the null hypothesis (p < 0.005555555555555556).\n",
      "           The variables 'flowX' and 'flowY' are likely DEPENDENT for this color group.\n",
      "\n",
      "--- Analyzing color group: 2 ---\n",
      "  - Selecting optimal K value via cross-validation...\n",
      "   - Dynamically generated marginal K candidates: [  8  10  12  15  18  23  28  35  43  52  65  80  98 121 149 184 227 279\n",
      " 344 424]\n",
      "   - Dynamically generated joint K candidates: [ 8  9 10 11 12 14 15 17 19 21 23 25 28 31 35 39 43 48 53 59]\n",
      "  - Optimal K_MARGINAL = 8, Optimal K_JOINT = 8\n",
      "  - Observed KL divergence = 0.0937\n"
     ]
    },
    {
     "name": "stderr",
     "output_type": "stream",
     "text": [
      "Simulating null distribution (Color 2): 100%|██████████| 1000/1000 [00:00<00:00, 1436.75it/s]\n"
     ]
    },
    {
     "name": "stdout",
     "output_type": "stream",
     "text": [
      "\n",
      "--- Independence Test Result for Color: 2 ---\n",
      "P value: 0.4456\n",
      "Conclusion: Fail to reject the null hypothesis (p >= 0.005555555555555556).\n",
      "           There is no significant evidence that 'flowX' and 'flowY' are dependent.\n",
      "\n",
      "Independence test completed.\n",
      "\n",
      "--- 3. Running Bivariate Equivalence Test ---\n",
      "\n",
      " ============ Running Bivariate Test ============\n",
      "# of Edge Pairs in Class1 : 1042\n",
      "# of Edge Pairs in Class2 : 1358\n",
      "Finding optimal K using cross-validation on combined data...\n",
      "Dynamically generated K candidates: [ 8  9 10 11 12 13 14 15 17 19 21 23 25 27 30 33 36 40 44 48]\n",
      "Optimal K selected via Cross-Validation: 8\n",
      "Observed KL = 0.2997\n"
     ]
    },
    {
     "name": "stderr",
     "output_type": "stream",
     "text": [
      "KL Under Null (Parallel):   3%|▎         | 28/1000 [00:01<00:50, 19.31it/s]/Users/jiaxin/Documents/Summer 2024/EFHT/Edge-Flow-Hypothesis-Tests/.conda/lib/python3.11/site-packages/joblib/externals/loky/process_executor.py:782: UserWarning: A worker stopped while some jobs were given to the executor. This can be caused by a too short worker timeout or by a memory leak.\n",
      "  warnings.warn(\n",
      "KL Under Null (Parallel): 100%|██████████| 1000/1000 [02:00<00:00,  8.28it/s]\n"
     ]
    },
    {
     "name": "stdout",
     "output_type": "stream",
     "text": [
      "\n",
      "Bivariate Test Result:\n",
      "Observed Symmetric KL Divergence: 0.2997\n",
      "P value: 0.8282\n",
      "Conclusion: Fail to reject the null hypothesis (p >= 0.016666666666666666). There is no significant evidence that the distributions are different.\n",
      "Appended results to: outputs/SmallWorld-Beta0.7_K13-Rho0.5_D4_W0.5_Pos-G1-8kNodes/summary_report.csv\n",
      "\n",
      "==================================================\n",
      "Analysis pipeline finished!\n",
      "--- Finished: SmallWorld-Beta0.7_K13-Rho0.5_D4_W0.5_Pos-G1-8kNodes_Sample14.csv ---\n",
      "\n",
      "--- Processing: SmallWorld-Beta0.7_K13-Rho0.5_D4_W0.5_Pos-G1-8kNodes_Sample15.csv ---\n",
      "Starting EFHT analysis - Batch ID: SmallWorld-Beta0.7_K13-Rho0.5_D4_W0.5_Pos-G1-8kNodes, Dataset ID: SmallWorld-Beta0.7_K13-Rho0.5_D4_W0.5_Pos-G1-8kNodes_Sample15\n",
      "Results for the current dataset will be saved in: outputs/SmallWorld-Beta0.7_K13-Rho0.5_D4_W0.5_Pos-G1-8kNodes/SmallWorld-Beta0.7_K13-Rho0.5_D4_W0.5_Pos-G1-8kNodes_Sample15\n",
      "The summary report will be saved in: outputs/SmallWorld-Beta0.7_K13-Rho0.5_D4_W0.5_Pos-G1-8kNodes\n",
      "\n",
      "--- 2. Loading and preprocessing data for selected tests ---\n"
     ]
    },
    {
     "name": "stderr",
     "output_type": "stream",
     "text": [
      "Processing Colors: 100%|██████████| 43/43 [01:30<00:00,  2.12s/it]\n",
      "/Users/jiaxin/Documents/Summer 2024/EFHT/Edge-Flow-Hypothesis-Tests/.conda/lib/python3.11/site-packages/joblib/externals/loky/process_executor.py:782: UserWarning: A worker stopped while some jobs were given to the executor. This can be caused by a too short worker timeout or by a memory leak.\n",
      "  warnings.warn(\n"
     ]
    },
    {
     "name": "stdout",
     "output_type": "stream",
     "text": [
      "\n",
      ">>> Starting statistical tests <<<\n",
      "\n",
      "--- 1. Running K-S Test ---\n",
      "\n",
      " ============ Running KS Test ============\n",
      "# of Edges in Class1 : 1342\n",
      "# of Edges in Class2 : 2037\n",
      "\n",
      "KS Test Result:\n",
      "KS_statistic D = 0.0459\n",
      "P value = 6.3497e-02\n",
      "Conclusion: Fail to reject the null hypothesis (p >= 0.016666666666666666), distributions may be the same.\n",
      "\n",
      "--- 2. Running Independence tests ---\n",
      "Performing independence test on the following Top 3 color groups: [0, 1, 2]\n",
      "\n",
      "--- Analyzing color group: 0 ---\n",
      "  - Selecting optimal K value via cross-validation...\n",
      "   - Dynamically generated marginal K candidates: [  8  10  12  15  18  23  28  35  43  52  65  80  98 121 149 184 227 279\n",
      " 344 424]\n",
      "   - Dynamically generated joint K candidates: [ 8  9 10 11 12 14 15 17 19 21 23 25 28 31 35 39 43 48 53 59]\n",
      "  - Optimal K_MARGINAL = 8, Optimal K_JOINT = 8\n",
      "  - Observed KL divergence = 0.1542\n"
     ]
    },
    {
     "name": "stderr",
     "output_type": "stream",
     "text": [
      "Simulating null distribution (Color 0): 100%|██████████| 1000/1000 [00:01<00:00, 600.37it/s]\n"
     ]
    },
    {
     "name": "stdout",
     "output_type": "stream",
     "text": [
      "\n",
      "--- Independence Test Result for Color: 0 ---\n",
      "P value: 0.0030\n",
      "Conclusion: Reject the null hypothesis (p < 0.005555555555555556).\n",
      "           The variables 'flowX' and 'flowY' are likely DEPENDENT for this color group.\n",
      "\n",
      "--- Analyzing color group: 1 ---\n",
      "  - Selecting optimal K value via cross-validation...\n",
      "   - Dynamically generated marginal K candidates: [  8  10  12  15  18  23  28  35  43  52  65  80  98 121 149 184 227 279\n",
      " 344 424]\n",
      "   - Dynamically generated joint K candidates: [ 8  9 10 11 12 14 15 17 19 21 23 25 28 31 35 39 43 48 53 59]\n",
      "  - Optimal K_MARGINAL = 8, Optimal K_JOINT = 8\n",
      "  - Observed KL divergence = 0.1072\n"
     ]
    },
    {
     "name": "stderr",
     "output_type": "stream",
     "text": [
      "Simulating null distribution (Color 1): 100%|██████████| 1000/1000 [00:00<00:00, 1464.04it/s]\n"
     ]
    },
    {
     "name": "stdout",
     "output_type": "stream",
     "text": [
      "\n",
      "--- Independence Test Result for Color: 1 ---\n",
      "P value: 0.5734\n",
      "Conclusion: Fail to reject the null hypothesis (p >= 0.005555555555555556).\n",
      "           There is no significant evidence that 'flowX' and 'flowY' are dependent.\n",
      "\n",
      "--- Analyzing color group: 2 ---\n",
      "  - Selecting optimal K value via cross-validation...\n",
      "   - Dynamically generated marginal K candidates: [  8  10  12  15  18  23  28  35  43  52  65  80  98 121 149 184 227 279\n",
      " 344 424]\n",
      "   - Dynamically generated joint K candidates: [ 8  9 10 11 12 14 15 17 19 21 23 25 28 31 35 39 43 48 53 59]\n",
      "  - Optimal K_MARGINAL = 8, Optimal K_JOINT = 8\n",
      "  - Observed KL divergence = 0.1277\n"
     ]
    },
    {
     "name": "stderr",
     "output_type": "stream",
     "text": [
      "Simulating null distribution (Color 2): 100%|██████████| 1000/1000 [00:00<00:00, 1568.80it/s]\n"
     ]
    },
    {
     "name": "stdout",
     "output_type": "stream",
     "text": [
      "\n",
      "--- Independence Test Result for Color: 2 ---\n",
      "P value: 0.2937\n",
      "Conclusion: Fail to reject the null hypothesis (p >= 0.005555555555555556).\n",
      "           There is no significant evidence that 'flowX' and 'flowY' are dependent.\n",
      "\n",
      "Independence test completed.\n",
      "\n",
      "--- 3. Running Bivariate Equivalence Test ---\n",
      "\n",
      " ============ Running Bivariate Test ============\n",
      "# of Edge Pairs in Class1 : 1042\n",
      "# of Edge Pairs in Class2 : 1358\n",
      "Finding optimal K using cross-validation on combined data...\n",
      "Dynamically generated K candidates: [ 8  9 10 11 12 13 14 15 17 19 21 23 25 27 30 33 36 40 44 48]\n",
      "Optimal K selected via Cross-Validation: 8\n",
      "Observed KL = 0.3484\n"
     ]
    },
    {
     "name": "stderr",
     "output_type": "stream",
     "text": [
      "KL Under Null (Parallel):   3%|▎         | 28/1000 [00:01<00:51, 18.94it/s]/Users/jiaxin/Documents/Summer 2024/EFHT/Edge-Flow-Hypothesis-Tests/.conda/lib/python3.11/site-packages/joblib/externals/loky/process_executor.py:782: UserWarning: A worker stopped while some jobs were given to the executor. This can be caused by a too short worker timeout or by a memory leak.\n",
      "  warnings.warn(\n",
      "KL Under Null (Parallel): 100%|██████████| 1000/1000 [01:59<00:00,  8.39it/s]\n"
     ]
    },
    {
     "name": "stdout",
     "output_type": "stream",
     "text": [
      "\n",
      "Bivariate Test Result:\n",
      "Observed Symmetric KL Divergence: 0.3484\n",
      "P value: 0.1588\n",
      "Conclusion: Fail to reject the null hypothesis (p >= 0.016666666666666666). There is no significant evidence that the distributions are different.\n",
      "Appended results to: outputs/SmallWorld-Beta0.7_K13-Rho0.5_D4_W0.5_Pos-G1-8kNodes/summary_report.csv\n",
      "\n",
      "==================================================\n",
      "Analysis pipeline finished!\n",
      "--- Finished: SmallWorld-Beta0.7_K13-Rho0.5_D4_W0.5_Pos-G1-8kNodes_Sample15.csv ---\n",
      "\n",
      "--- Processing: SmallWorld-Beta0.7_K13-Rho0.5_D4_W0.5_Pos-G1-8kNodes_Sample16.csv ---\n",
      "Starting EFHT analysis - Batch ID: SmallWorld-Beta0.7_K13-Rho0.5_D4_W0.5_Pos-G1-8kNodes, Dataset ID: SmallWorld-Beta0.7_K13-Rho0.5_D4_W0.5_Pos-G1-8kNodes_Sample16\n",
      "Results for the current dataset will be saved in: outputs/SmallWorld-Beta0.7_K13-Rho0.5_D4_W0.5_Pos-G1-8kNodes/SmallWorld-Beta0.7_K13-Rho0.5_D4_W0.5_Pos-G1-8kNodes_Sample16\n",
      "The summary report will be saved in: outputs/SmallWorld-Beta0.7_K13-Rho0.5_D4_W0.5_Pos-G1-8kNodes\n",
      "\n",
      "--- 2. Loading and preprocessing data for selected tests ---\n"
     ]
    },
    {
     "name": "stderr",
     "output_type": "stream",
     "text": [
      "Processing Colors: 100%|██████████| 43/43 [01:31<00:00,  2.14s/it]\n",
      "/Users/jiaxin/Documents/Summer 2024/EFHT/Edge-Flow-Hypothesis-Tests/.conda/lib/python3.11/site-packages/joblib/externals/loky/process_executor.py:782: UserWarning: A worker stopped while some jobs were given to the executor. This can be caused by a too short worker timeout or by a memory leak.\n",
      "  warnings.warn(\n"
     ]
    },
    {
     "name": "stdout",
     "output_type": "stream",
     "text": [
      "\n",
      ">>> Starting statistical tests <<<\n",
      "\n",
      "--- 1. Running K-S Test ---\n",
      "\n",
      " ============ Running KS Test ============\n",
      "# of Edges in Class1 : 1342\n",
      "# of Edges in Class2 : 2037\n",
      "\n",
      "KS Test Result:\n",
      "KS_statistic D = 0.0558\n",
      "P value = 1.2285e-02\n",
      "Conclusion: Reject the null hypothesis (p < 0.016666666666666666), distributions are different.\n",
      "\n",
      "--- 2. Running Independence tests ---\n",
      "Performing independence test on the following Top 3 color groups: [0, 1, 2]\n",
      "\n",
      "--- Analyzing color group: 0 ---\n",
      "  - Selecting optimal K value via cross-validation...\n",
      "   - Dynamically generated marginal K candidates: [  8  10  12  15  18  23  28  35  43  52  65  80  98 121 149 184 227 279\n",
      " 344 424]\n",
      "   - Dynamically generated joint K candidates: [ 8  9 10 11 12 14 15 17 19 21 23 25 28 31 35 39 43 48 53 59]\n",
      "  - Optimal K_MARGINAL = 8, Optimal K_JOINT = 8\n",
      "  - Observed KL divergence = 0.1747\n"
     ]
    },
    {
     "name": "stderr",
     "output_type": "stream",
     "text": [
      "Simulating null distribution (Color 0): 100%|██████████| 1000/1000 [00:01<00:00, 608.81it/s]\n"
     ]
    },
    {
     "name": "stdout",
     "output_type": "stream",
     "text": [
      "\n",
      "--- Independence Test Result for Color: 0 ---\n",
      "P value: 0.2198\n",
      "Conclusion: Fail to reject the null hypothesis (p >= 0.005555555555555556).\n",
      "           There is no significant evidence that 'flowX' and 'flowY' are dependent.\n",
      "\n",
      "--- Analyzing color group: 1 ---\n",
      "  - Selecting optimal K value via cross-validation...\n",
      "   - Dynamically generated marginal K candidates: [  8  10  12  15  18  23  28  35  43  52  65  80  98 121 149 184 227 279\n",
      " 344 424]\n",
      "   - Dynamically generated joint K candidates: [ 8  9 10 11 12 14 15 17 19 21 23 25 28 31 35 39 43 48 53 59]\n",
      "  - Optimal K_MARGINAL = 8, Optimal K_JOINT = 8\n",
      "  - Observed KL divergence = 0.1942\n"
     ]
    },
    {
     "name": "stderr",
     "output_type": "stream",
     "text": [
      "Simulating null distribution (Color 1): 100%|██████████| 1000/1000 [00:00<00:00, 1524.72it/s]\n"
     ]
    },
    {
     "name": "stdout",
     "output_type": "stream",
     "text": [
      "\n",
      "--- Independence Test Result for Color: 1 ---\n",
      "P value: 0.0020\n",
      "Conclusion: Reject the null hypothesis (p < 0.005555555555555556).\n",
      "           The variables 'flowX' and 'flowY' are likely DEPENDENT for this color group.\n",
      "\n",
      "--- Analyzing color group: 2 ---\n",
      "  - Selecting optimal K value via cross-validation...\n",
      "   - Dynamically generated marginal K candidates: [  8  10  12  15  18  23  28  35  43  52  65  80  98 121 149 184 227 279\n",
      " 344 424]\n",
      "   - Dynamically generated joint K candidates: [ 8  9 10 11 12 14 15 17 19 21 23 25 28 31 35 39 43 48 53 59]\n",
      "  - Optimal K_MARGINAL = 8, Optimal K_JOINT = 8\n",
      "  - Observed KL divergence = 0.1460\n"
     ]
    },
    {
     "name": "stderr",
     "output_type": "stream",
     "text": [
      "Simulating null distribution (Color 2): 100%|██████████| 1000/1000 [00:00<00:00, 1488.46it/s]\n"
     ]
    },
    {
     "name": "stdout",
     "output_type": "stream",
     "text": [
      "\n",
      "--- Independence Test Result for Color: 2 ---\n",
      "P value: 0.2697\n",
      "Conclusion: Fail to reject the null hypothesis (p >= 0.005555555555555556).\n",
      "           There is no significant evidence that 'flowX' and 'flowY' are dependent.\n",
      "\n",
      "Independence test completed.\n",
      "\n",
      "--- 3. Running Bivariate Equivalence Test ---\n",
      "\n",
      " ============ Running Bivariate Test ============\n",
      "# of Edge Pairs in Class1 : 1042\n",
      "# of Edge Pairs in Class2 : 1358\n",
      "Finding optimal K using cross-validation on combined data...\n",
      "Dynamically generated K candidates: [ 8  9 10 11 12 13 14 15 17 19 21 23 25 27 30 33 36 40 44 48]\n",
      "Optimal K selected via Cross-Validation: 8\n",
      "Observed KL = 0.3208\n"
     ]
    },
    {
     "name": "stderr",
     "output_type": "stream",
     "text": [
      "KL Under Null (Parallel):   3%|▎         | 28/1000 [00:01<00:50, 19.36it/s]/Users/jiaxin/Documents/Summer 2024/EFHT/Edge-Flow-Hypothesis-Tests/.conda/lib/python3.11/site-packages/joblib/externals/loky/process_executor.py:782: UserWarning: A worker stopped while some jobs were given to the executor. This can be caused by a too short worker timeout or by a memory leak.\n",
      "  warnings.warn(\n",
      "KL Under Null (Parallel): 100%|██████████| 1000/1000 [01:58<00:00,  8.47it/s]\n"
     ]
    },
    {
     "name": "stdout",
     "output_type": "stream",
     "text": [
      "\n",
      "Bivariate Test Result:\n",
      "Observed Symmetric KL Divergence: 0.3208\n",
      "P value: 0.5065\n",
      "Conclusion: Fail to reject the null hypothesis (p >= 0.016666666666666666). There is no significant evidence that the distributions are different.\n",
      "Appended results to: outputs/SmallWorld-Beta0.7_K13-Rho0.5_D4_W0.5_Pos-G1-8kNodes/summary_report.csv\n",
      "\n",
      "==================================================\n",
      "Analysis pipeline finished!\n",
      "--- Finished: SmallWorld-Beta0.7_K13-Rho0.5_D4_W0.5_Pos-G1-8kNodes_Sample16.csv ---\n",
      "\n",
      "--- Processing: SmallWorld-Beta0.7_K13-Rho0.5_D4_W0.5_Pos-G1-8kNodes_Sample17.csv ---\n",
      "Starting EFHT analysis - Batch ID: SmallWorld-Beta0.7_K13-Rho0.5_D4_W0.5_Pos-G1-8kNodes, Dataset ID: SmallWorld-Beta0.7_K13-Rho0.5_D4_W0.5_Pos-G1-8kNodes_Sample17\n",
      "Results for the current dataset will be saved in: outputs/SmallWorld-Beta0.7_K13-Rho0.5_D4_W0.5_Pos-G1-8kNodes/SmallWorld-Beta0.7_K13-Rho0.5_D4_W0.5_Pos-G1-8kNodes_Sample17\n",
      "The summary report will be saved in: outputs/SmallWorld-Beta0.7_K13-Rho0.5_D4_W0.5_Pos-G1-8kNodes\n",
      "\n",
      "--- 2. Loading and preprocessing data for selected tests ---\n"
     ]
    },
    {
     "name": "stderr",
     "output_type": "stream",
     "text": [
      "Processing Colors: 100%|██████████| 43/43 [01:31<00:00,  2.14s/it]\n",
      "/Users/jiaxin/Documents/Summer 2024/EFHT/Edge-Flow-Hypothesis-Tests/.conda/lib/python3.11/site-packages/joblib/externals/loky/process_executor.py:782: UserWarning: A worker stopped while some jobs were given to the executor. This can be caused by a too short worker timeout or by a memory leak.\n",
      "  warnings.warn(\n"
     ]
    },
    {
     "name": "stdout",
     "output_type": "stream",
     "text": [
      "\n",
      ">>> Starting statistical tests <<<\n",
      "\n",
      "--- 1. Running K-S Test ---\n",
      "\n",
      " ============ Running KS Test ============\n",
      "# of Edges in Class1 : 1342\n",
      "# of Edges in Class2 : 2037\n",
      "\n",
      "KS Test Result:\n",
      "KS_statistic D = 0.0276\n",
      "P value = 5.5768e-01\n",
      "Conclusion: Fail to reject the null hypothesis (p >= 0.016666666666666666), distributions may be the same.\n",
      "\n",
      "--- 2. Running Independence tests ---\n",
      "Performing independence test on the following Top 3 color groups: [0, 1, 2]\n",
      "\n",
      "--- Analyzing color group: 0 ---\n",
      "  - Selecting optimal K value via cross-validation...\n",
      "   - Dynamically generated marginal K candidates: [  8  10  12  15  18  23  28  35  43  52  65  80  98 121 149 184 227 279\n",
      " 344 424]\n",
      "   - Dynamically generated joint K candidates: [ 8  9 10 11 12 14 15 17 19 21 23 25 28 31 35 39 43 48 53 59]\n",
      "  - Optimal K_MARGINAL = 8, Optimal K_JOINT = 8\n",
      "  - Observed KL divergence = 0.1412\n"
     ]
    },
    {
     "name": "stderr",
     "output_type": "stream",
     "text": [
      "Simulating null distribution (Color 0): 100%|██████████| 1000/1000 [00:01<00:00, 612.78it/s]\n"
     ]
    },
    {
     "name": "stdout",
     "output_type": "stream",
     "text": [
      "\n",
      "--- Independence Test Result for Color: 0 ---\n",
      "P value: 0.0879\n",
      "Conclusion: Fail to reject the null hypothesis (p >= 0.005555555555555556).\n",
      "           There is no significant evidence that 'flowX' and 'flowY' are dependent.\n",
      "\n",
      "--- Analyzing color group: 1 ---\n",
      "  - Selecting optimal K value via cross-validation...\n",
      "   - Dynamically generated marginal K candidates: [  8  10  12  15  18  23  28  35  43  52  65  80  98 121 149 184 227 279\n",
      " 344 424]\n",
      "   - Dynamically generated joint K candidates: [ 8  9 10 11 12 14 15 17 19 21 23 25 28 31 35 39 43 48 53 59]\n",
      "  - Optimal K_MARGINAL = 8, Optimal K_JOINT = 8\n",
      "  - Observed KL divergence = 0.1488\n"
     ]
    },
    {
     "name": "stderr",
     "output_type": "stream",
     "text": [
      "Simulating null distribution (Color 1): 100%|██████████| 1000/1000 [00:00<00:00, 1471.22it/s]\n"
     ]
    },
    {
     "name": "stdout",
     "output_type": "stream",
     "text": [
      "\n",
      "--- Independence Test Result for Color: 1 ---\n",
      "P value: 0.3926\n",
      "Conclusion: Fail to reject the null hypothesis (p >= 0.005555555555555556).\n",
      "           There is no significant evidence that 'flowX' and 'flowY' are dependent.\n",
      "\n",
      "--- Analyzing color group: 2 ---\n",
      "  - Selecting optimal K value via cross-validation...\n",
      "   - Dynamically generated marginal K candidates: [  8  10  12  15  18  23  28  35  43  52  65  80  98 121 149 184 227 279\n",
      " 344 424]\n",
      "   - Dynamically generated joint K candidates: [ 8  9 10 11 12 14 15 17 19 21 23 25 28 31 35 39 43 48 53 59]\n",
      "  - Optimal K_MARGINAL = 8, Optimal K_JOINT = 8\n",
      "  - Observed KL divergence = 0.1050\n"
     ]
    },
    {
     "name": "stderr",
     "output_type": "stream",
     "text": [
      "Simulating null distribution (Color 2): 100%|██████████| 1000/1000 [00:00<00:00, 1459.57it/s]\n"
     ]
    },
    {
     "name": "stdout",
     "output_type": "stream",
     "text": [
      "\n",
      "--- Independence Test Result for Color: 2 ---\n",
      "P value: 0.9590\n",
      "Conclusion: Fail to reject the null hypothesis (p >= 0.005555555555555556).\n",
      "           There is no significant evidence that 'flowX' and 'flowY' are dependent.\n",
      "\n",
      "Independence test completed.\n",
      "\n",
      "--- 3. Running Bivariate Equivalence Test ---\n",
      "\n",
      " ============ Running Bivariate Test ============\n",
      "# of Edge Pairs in Class1 : 1042\n",
      "# of Edge Pairs in Class2 : 1358\n",
      "Finding optimal K using cross-validation on combined data...\n",
      "Dynamically generated K candidates: [ 8  9 10 11 12 13 14 15 17 19 21 23 25 27 30 33 36 40 44 48]\n",
      "Optimal K selected via Cross-Validation: 8\n",
      "Observed KL = 0.3541\n"
     ]
    },
    {
     "name": "stderr",
     "output_type": "stream",
     "text": [
      "KL Under Null (Parallel):   3%|▎         | 28/1000 [00:01<00:49, 19.73it/s]/Users/jiaxin/Documents/Summer 2024/EFHT/Edge-Flow-Hypothesis-Tests/.conda/lib/python3.11/site-packages/joblib/externals/loky/process_executor.py:782: UserWarning: A worker stopped while some jobs were given to the executor. This can be caused by a too short worker timeout or by a memory leak.\n",
      "  warnings.warn(\n",
      "KL Under Null (Parallel): 100%|██████████| 1000/1000 [01:54<00:00,  8.71it/s]\n"
     ]
    },
    {
     "name": "stdout",
     "output_type": "stream",
     "text": [
      "\n",
      "Bivariate Test Result:\n",
      "Observed Symmetric KL Divergence: 0.3541\n",
      "P value: 0.1159\n",
      "Conclusion: Fail to reject the null hypothesis (p >= 0.016666666666666666). There is no significant evidence that the distributions are different.\n",
      "Appended results to: outputs/SmallWorld-Beta0.7_K13-Rho0.5_D4_W0.5_Pos-G1-8kNodes/summary_report.csv\n",
      "\n",
      "==================================================\n",
      "Analysis pipeline finished!\n",
      "--- Finished: SmallWorld-Beta0.7_K13-Rho0.5_D4_W0.5_Pos-G1-8kNodes_Sample17.csv ---\n",
      "\n",
      "--- Processing: SmallWorld-Beta0.7_K13-Rho0.5_D4_W0.5_Pos-G1-8kNodes_Sample18.csv ---\n",
      "Starting EFHT analysis - Batch ID: SmallWorld-Beta0.7_K13-Rho0.5_D4_W0.5_Pos-G1-8kNodes, Dataset ID: SmallWorld-Beta0.7_K13-Rho0.5_D4_W0.5_Pos-G1-8kNodes_Sample18\n",
      "Results for the current dataset will be saved in: outputs/SmallWorld-Beta0.7_K13-Rho0.5_D4_W0.5_Pos-G1-8kNodes/SmallWorld-Beta0.7_K13-Rho0.5_D4_W0.5_Pos-G1-8kNodes_Sample18\n",
      "The summary report will be saved in: outputs/SmallWorld-Beta0.7_K13-Rho0.5_D4_W0.5_Pos-G1-8kNodes\n",
      "\n",
      "--- 2. Loading and preprocessing data for selected tests ---\n"
     ]
    },
    {
     "name": "stderr",
     "output_type": "stream",
     "text": [
      "Processing Colors: 100%|██████████| 43/43 [01:30<00:00,  2.11s/it]\n",
      "/Users/jiaxin/Documents/Summer 2024/EFHT/Edge-Flow-Hypothesis-Tests/.conda/lib/python3.11/site-packages/joblib/externals/loky/process_executor.py:782: UserWarning: A worker stopped while some jobs were given to the executor. This can be caused by a too short worker timeout or by a memory leak.\n",
      "  warnings.warn(\n"
     ]
    },
    {
     "name": "stdout",
     "output_type": "stream",
     "text": [
      "\n",
      ">>> Starting statistical tests <<<\n",
      "\n",
      "--- 1. Running K-S Test ---\n",
      "\n",
      " ============ Running KS Test ============\n",
      "# of Edges in Class1 : 1342\n",
      "# of Edges in Class2 : 2037\n",
      "\n",
      "KS Test Result:\n",
      "KS_statistic D = 0.0310\n",
      "P value = 4.0731e-01\n",
      "Conclusion: Fail to reject the null hypothesis (p >= 0.016666666666666666), distributions may be the same.\n",
      "\n",
      "--- 2. Running Independence tests ---\n",
      "Performing independence test on the following Top 3 color groups: [0, 1, 2]\n",
      "\n",
      "--- Analyzing color group: 0 ---\n",
      "  - Selecting optimal K value via cross-validation...\n",
      "   - Dynamically generated marginal K candidates: [  8  10  12  15  18  23  28  35  43  52  65  80  98 121 149 184 227 279\n",
      " 344 424]\n",
      "   - Dynamically generated joint K candidates: [ 8  9 10 11 12 14 15 17 19 21 23 25 28 31 35 39 43 48 53 59]\n",
      "  - Optimal K_MARGINAL = 8, Optimal K_JOINT = 8\n",
      "  - Observed KL divergence = 0.1475\n"
     ]
    },
    {
     "name": "stderr",
     "output_type": "stream",
     "text": [
      "Simulating null distribution (Color 0): 100%|██████████| 1000/1000 [00:01<00:00, 611.41it/s]\n"
     ]
    },
    {
     "name": "stdout",
     "output_type": "stream",
     "text": [
      "\n",
      "--- Independence Test Result for Color: 0 ---\n",
      "P value: 0.2058\n",
      "Conclusion: Fail to reject the null hypothesis (p >= 0.005555555555555556).\n",
      "           There is no significant evidence that 'flowX' and 'flowY' are dependent.\n",
      "\n",
      "--- Analyzing color group: 1 ---\n",
      "  - Selecting optimal K value via cross-validation...\n",
      "   - Dynamically generated marginal K candidates: [  8  10  12  15  18  23  28  35  43  52  65  80  98 121 149 184 227 279\n",
      " 344 424]\n",
      "   - Dynamically generated joint K candidates: [ 8  9 10 11 12 14 15 17 19 21 23 25 28 31 35 39 43 48 53 59]\n",
      "  - Optimal K_MARGINAL = 8, Optimal K_JOINT = 8\n",
      "  - Observed KL divergence = 0.1311\n"
     ]
    },
    {
     "name": "stderr",
     "output_type": "stream",
     "text": [
      "Simulating null distribution (Color 1): 100%|██████████| 1000/1000 [00:00<00:00, 1553.36it/s]\n"
     ]
    },
    {
     "name": "stdout",
     "output_type": "stream",
     "text": [
      "\n",
      "--- Independence Test Result for Color: 1 ---\n",
      "P value: 0.7163\n",
      "Conclusion: Fail to reject the null hypothesis (p >= 0.005555555555555556).\n",
      "           There is no significant evidence that 'flowX' and 'flowY' are dependent.\n",
      "\n",
      "--- Analyzing color group: 2 ---\n",
      "  - Selecting optimal K value via cross-validation...\n",
      "   - Dynamically generated marginal K candidates: [  8  10  12  15  18  23  28  35  43  52  65  80  98 121 149 184 227 279\n",
      " 344 424]\n",
      "   - Dynamically generated joint K candidates: [ 8  9 10 11 12 14 15 17 19 21 23 25 28 31 35 39 43 48 53 59]\n",
      "  - Optimal K_MARGINAL = 8, Optimal K_JOINT = 8\n",
      "  - Observed KL divergence = 0.1423\n"
     ]
    },
    {
     "name": "stderr",
     "output_type": "stream",
     "text": [
      "Simulating null distribution (Color 2): 100%|██████████| 1000/1000 [00:00<00:00, 1546.13it/s]\n"
     ]
    },
    {
     "name": "stdout",
     "output_type": "stream",
     "text": [
      "\n",
      "--- Independence Test Result for Color: 2 ---\n",
      "P value: 0.3526\n",
      "Conclusion: Fail to reject the null hypothesis (p >= 0.005555555555555556).\n",
      "           There is no significant evidence that 'flowX' and 'flowY' are dependent.\n",
      "\n",
      "Independence test completed.\n",
      "\n",
      "--- 3. Running Bivariate Equivalence Test ---\n",
      "\n",
      " ============ Running Bivariate Test ============\n",
      "# of Edge Pairs in Class1 : 1042\n",
      "# of Edge Pairs in Class2 : 1358\n",
      "Finding optimal K using cross-validation on combined data...\n",
      "Dynamically generated K candidates: [ 8  9 10 11 12 13 14 15 17 19 21 23 25 27 30 33 36 40 44 48]\n",
      "Optimal K selected via Cross-Validation: 8\n",
      "Observed KL = 0.3075\n"
     ]
    },
    {
     "name": "stderr",
     "output_type": "stream",
     "text": [
      "KL Under Null (Parallel):   3%|▎         | 28/1000 [00:01<00:49, 19.74it/s]/Users/jiaxin/Documents/Summer 2024/EFHT/Edge-Flow-Hypothesis-Tests/.conda/lib/python3.11/site-packages/joblib/externals/loky/process_executor.py:782: UserWarning: A worker stopped while some jobs were given to the executor. This can be caused by a too short worker timeout or by a memory leak.\n",
      "  warnings.warn(\n",
      "KL Under Null (Parallel): 100%|██████████| 1000/1000 [01:58<00:00,  8.42it/s]\n"
     ]
    },
    {
     "name": "stdout",
     "output_type": "stream",
     "text": [
      "\n",
      "Bivariate Test Result:\n",
      "Observed Symmetric KL Divergence: 0.3075\n",
      "P value: 0.7223\n",
      "Conclusion: Fail to reject the null hypothesis (p >= 0.016666666666666666). There is no significant evidence that the distributions are different.\n",
      "Appended results to: outputs/SmallWorld-Beta0.7_K13-Rho0.5_D4_W0.5_Pos-G1-8kNodes/summary_report.csv\n",
      "\n",
      "==================================================\n",
      "Analysis pipeline finished!\n",
      "--- Finished: SmallWorld-Beta0.7_K13-Rho0.5_D4_W0.5_Pos-G1-8kNodes_Sample18.csv ---\n",
      "\n",
      "--- Processing: SmallWorld-Beta0.7_K13-Rho0.5_D4_W0.5_Pos-G1-8kNodes_Sample19.csv ---\n",
      "Starting EFHT analysis - Batch ID: SmallWorld-Beta0.7_K13-Rho0.5_D4_W0.5_Pos-G1-8kNodes, Dataset ID: SmallWorld-Beta0.7_K13-Rho0.5_D4_W0.5_Pos-G1-8kNodes_Sample19\n",
      "Results for the current dataset will be saved in: outputs/SmallWorld-Beta0.7_K13-Rho0.5_D4_W0.5_Pos-G1-8kNodes/SmallWorld-Beta0.7_K13-Rho0.5_D4_W0.5_Pos-G1-8kNodes_Sample19\n",
      "The summary report will be saved in: outputs/SmallWorld-Beta0.7_K13-Rho0.5_D4_W0.5_Pos-G1-8kNodes\n",
      "\n",
      "--- 2. Loading and preprocessing data for selected tests ---\n"
     ]
    },
    {
     "name": "stderr",
     "output_type": "stream",
     "text": [
      "Processing Colors: 100%|██████████| 43/43 [01:31<00:00,  2.13s/it]\n",
      "/Users/jiaxin/Documents/Summer 2024/EFHT/Edge-Flow-Hypothesis-Tests/.conda/lib/python3.11/site-packages/joblib/externals/loky/process_executor.py:782: UserWarning: A worker stopped while some jobs were given to the executor. This can be caused by a too short worker timeout or by a memory leak.\n",
      "  warnings.warn(\n"
     ]
    },
    {
     "name": "stdout",
     "output_type": "stream",
     "text": [
      "\n",
      ">>> Starting statistical tests <<<\n",
      "\n",
      "--- 1. Running K-S Test ---\n",
      "\n",
      " ============ Running KS Test ============\n",
      "# of Edges in Class1 : 1342\n",
      "# of Edges in Class2 : 2037\n",
      "\n",
      "KS Test Result:\n",
      "KS_statistic D = 0.0138\n",
      "P value = 9.9724e-01\n",
      "Conclusion: Fail to reject the null hypothesis (p >= 0.016666666666666666), distributions may be the same.\n",
      "\n",
      "--- 2. Running Independence tests ---\n",
      "Performing independence test on the following Top 3 color groups: [0, 1, 2]\n",
      "\n",
      "--- Analyzing color group: 0 ---\n",
      "  - Selecting optimal K value via cross-validation...\n",
      "   - Dynamically generated marginal K candidates: [  8  10  12  15  18  23  28  35  43  52  65  80  98 121 149 184 227 279\n",
      " 344 424]\n",
      "   - Dynamically generated joint K candidates: [ 8  9 10 11 12 14 15 17 19 21 23 25 28 31 35 39 43 48 53 59]\n",
      "  - Optimal K_MARGINAL = 8, Optimal K_JOINT = 8\n",
      "  - Observed KL divergence = 0.0707\n"
     ]
    },
    {
     "name": "stderr",
     "output_type": "stream",
     "text": [
      "Simulating null distribution (Color 0):   3%|▎         | 28/1000 [00:00<00:31, 30.93it/s]/Users/jiaxin/Documents/Summer 2024/EFHT/Edge-Flow-Hypothesis-Tests/.conda/lib/python3.11/site-packages/joblib/externals/loky/process_executor.py:782: UserWarning: A worker stopped while some jobs were given to the executor. This can be caused by a too short worker timeout or by a memory leak.\n",
      "  warnings.warn(\n",
      "Simulating null distribution (Color 0): 100%|██████████| 1000/1000 [00:01<00:00, 573.15it/s]\n"
     ]
    },
    {
     "name": "stdout",
     "output_type": "stream",
     "text": [
      "\n",
      "--- Independence Test Result for Color: 0 ---\n",
      "P value: 0.4106\n",
      "Conclusion: Fail to reject the null hypothesis (p >= 0.005555555555555556).\n",
      "           There is no significant evidence that 'flowX' and 'flowY' are dependent.\n",
      "\n",
      "--- Analyzing color group: 1 ---\n",
      "  - Selecting optimal K value via cross-validation...\n",
      "   - Dynamically generated marginal K candidates: [  8  10  12  15  18  23  28  35  43  52  65  80  98 121 149 184 227 279\n",
      " 344 424]\n",
      "   - Dynamically generated joint K candidates: [ 8  9 10 11 12 14 15 17 19 21 23 25 28 31 35 39 43 48 53 59]\n",
      "  - Optimal K_MARGINAL = 8, Optimal K_JOINT = 8\n",
      "  - Observed KL divergence = 0.1265\n"
     ]
    },
    {
     "name": "stderr",
     "output_type": "stream",
     "text": [
      "Simulating null distribution (Color 1): 100%|██████████| 1000/1000 [00:00<00:00, 1538.14it/s]\n"
     ]
    },
    {
     "name": "stdout",
     "output_type": "stream",
     "text": [
      "\n",
      "--- Independence Test Result for Color: 1 ---\n",
      "P value: 0.0120\n",
      "Conclusion: Fail to reject the null hypothesis (p >= 0.005555555555555556).\n",
      "           There is no significant evidence that 'flowX' and 'flowY' are dependent.\n",
      "\n",
      "--- Analyzing color group: 2 ---\n",
      "  - Selecting optimal K value via cross-validation...\n",
      "   - Dynamically generated marginal K candidates: [  8  10  12  15  18  23  28  35  43  52  65  80  98 121 149 184 227 279\n",
      " 344 424]\n",
      "   - Dynamically generated joint K candidates: [ 8  9 10 11 12 14 15 17 19 21 23 25 28 31 35 39 43 48 53 59]\n",
      "  - Optimal K_MARGINAL = 8, Optimal K_JOINT = 8\n",
      "  - Observed KL divergence = 0.1017\n"
     ]
    },
    {
     "name": "stderr",
     "output_type": "stream",
     "text": [
      "Simulating null distribution (Color 2): 100%|██████████| 1000/1000 [00:00<00:00, 1502.48it/s]\n"
     ]
    },
    {
     "name": "stdout",
     "output_type": "stream",
     "text": [
      "\n",
      "--- Independence Test Result for Color: 2 ---\n",
      "P value: 0.0250\n",
      "Conclusion: Fail to reject the null hypothesis (p >= 0.005555555555555556).\n",
      "           There is no significant evidence that 'flowX' and 'flowY' are dependent.\n",
      "\n",
      "Independence test completed.\n",
      "\n",
      "--- 3. Running Bivariate Equivalence Test ---\n",
      "\n",
      " ============ Running Bivariate Test ============\n",
      "# of Edge Pairs in Class1 : 1042\n",
      "# of Edge Pairs in Class2 : 1358\n",
      "Finding optimal K using cross-validation on combined data...\n",
      "Dynamically generated K candidates: [ 8  9 10 11 12 13 14 15 17 19 21 23 25 27 30 33 36 40 44 48]\n",
      "Optimal K selected via Cross-Validation: 8\n",
      "Observed KL = 0.3396\n"
     ]
    },
    {
     "name": "stderr",
     "output_type": "stream",
     "text": [
      "KL Under Null (Parallel):   3%|▎         | 28/1000 [00:01<00:51, 19.03it/s]/Users/jiaxin/Documents/Summer 2024/EFHT/Edge-Flow-Hypothesis-Tests/.conda/lib/python3.11/site-packages/joblib/externals/loky/process_executor.py:782: UserWarning: A worker stopped while some jobs were given to the executor. This can be caused by a too short worker timeout or by a memory leak.\n",
      "  warnings.warn(\n",
      "KL Under Null (Parallel): 100%|██████████| 1000/1000 [02:01<00:00,  8.25it/s]\n"
     ]
    },
    {
     "name": "stdout",
     "output_type": "stream",
     "text": [
      "\n",
      "Bivariate Test Result:\n",
      "Observed Symmetric KL Divergence: 0.3396\n",
      "P value: 0.3037\n",
      "Conclusion: Fail to reject the null hypothesis (p >= 0.016666666666666666). There is no significant evidence that the distributions are different.\n",
      "Appended results to: outputs/SmallWorld-Beta0.7_K13-Rho0.5_D4_W0.5_Pos-G1-8kNodes/summary_report.csv\n",
      "\n",
      "==================================================\n",
      "Analysis pipeline finished!\n",
      "--- Finished: SmallWorld-Beta0.7_K13-Rho0.5_D4_W0.5_Pos-G1-8kNodes_Sample19.csv ---\n",
      "\n",
      "--- Processing: SmallWorld-Beta0.7_K13-Rho0.5_D4_W0.5_Pos-G1-8kNodes_Sample20.csv ---\n",
      "Starting EFHT analysis - Batch ID: SmallWorld-Beta0.7_K13-Rho0.5_D4_W0.5_Pos-G1-8kNodes, Dataset ID: SmallWorld-Beta0.7_K13-Rho0.5_D4_W0.5_Pos-G1-8kNodes_Sample20\n",
      "Results for the current dataset will be saved in: outputs/SmallWorld-Beta0.7_K13-Rho0.5_D4_W0.5_Pos-G1-8kNodes/SmallWorld-Beta0.7_K13-Rho0.5_D4_W0.5_Pos-G1-8kNodes_Sample20\n",
      "The summary report will be saved in: outputs/SmallWorld-Beta0.7_K13-Rho0.5_D4_W0.5_Pos-G1-8kNodes\n",
      "\n",
      "--- 2. Loading and preprocessing data for selected tests ---\n"
     ]
    },
    {
     "name": "stderr",
     "output_type": "stream",
     "text": [
      "Processing Colors: 100%|██████████| 43/43 [01:25<00:00,  1.98s/it]\n",
      "/Users/jiaxin/Documents/Summer 2024/EFHT/Edge-Flow-Hypothesis-Tests/.conda/lib/python3.11/site-packages/joblib/externals/loky/process_executor.py:782: UserWarning: A worker stopped while some jobs were given to the executor. This can be caused by a too short worker timeout or by a memory leak.\n",
      "  warnings.warn(\n"
     ]
    },
    {
     "name": "stdout",
     "output_type": "stream",
     "text": [
      "\n",
      ">>> Starting statistical tests <<<\n",
      "\n",
      "--- 1. Running K-S Test ---\n",
      "\n",
      " ============ Running KS Test ============\n",
      "# of Edges in Class1 : 1342\n",
      "# of Edges in Class2 : 2037\n",
      "\n",
      "KS Test Result:\n",
      "KS_statistic D = 0.0447\n",
      "P value = 7.6418e-02\n",
      "Conclusion: Fail to reject the null hypothesis (p >= 0.016666666666666666), distributions may be the same.\n",
      "\n",
      "--- 2. Running Independence tests ---\n",
      "Performing independence test on the following Top 3 color groups: [0, 1, 2]\n",
      "\n",
      "--- Analyzing color group: 0 ---\n",
      "  - Selecting optimal K value via cross-validation...\n",
      "   - Dynamically generated marginal K candidates: [  8  10  12  15  18  23  28  35  43  52  65  80  98 121 149 184 227 279\n",
      " 344 424]\n",
      "   - Dynamically generated joint K candidates: [ 8  9 10 11 12 14 15 17 19 21 23 25 28 31 35 39 43 48 53 59]\n",
      "  - Optimal K_MARGINAL = 8, Optimal K_JOINT = 8\n",
      "  - Observed KL divergence = 0.1412\n"
     ]
    },
    {
     "name": "stderr",
     "output_type": "stream",
     "text": [
      "Simulating null distribution (Color 0): 100%|██████████| 1000/1000 [00:01<00:00, 602.48it/s]\n"
     ]
    },
    {
     "name": "stdout",
     "output_type": "stream",
     "text": [
      "\n",
      "--- Independence Test Result for Color: 0 ---\n",
      "P value: 0.7832\n",
      "Conclusion: Fail to reject the null hypothesis (p >= 0.005555555555555556).\n",
      "           There is no significant evidence that 'flowX' and 'flowY' are dependent.\n",
      "\n",
      "--- Analyzing color group: 1 ---\n",
      "  - Selecting optimal K value via cross-validation...\n",
      "   - Dynamically generated marginal K candidates: [  8  10  12  15  18  23  28  35  43  52  65  80  98 121 149 184 227 279\n",
      " 344 424]\n",
      "   - Dynamically generated joint K candidates: [ 8  9 10 11 12 14 15 17 19 21 23 25 28 31 35 39 43 48 53 59]\n",
      "  - Optimal K_MARGINAL = 8, Optimal K_JOINT = 8\n",
      "  - Observed KL divergence = 0.1454\n"
     ]
    },
    {
     "name": "stderr",
     "output_type": "stream",
     "text": [
      "Simulating null distribution (Color 1): 100%|██████████| 1000/1000 [00:00<00:00, 1439.02it/s]\n"
     ]
    },
    {
     "name": "stdout",
     "output_type": "stream",
     "text": [
      "\n",
      "--- Independence Test Result for Color: 1 ---\n",
      "P value: 0.0669\n",
      "Conclusion: Fail to reject the null hypothesis (p >= 0.005555555555555556).\n",
      "           There is no significant evidence that 'flowX' and 'flowY' are dependent.\n",
      "\n",
      "--- Analyzing color group: 2 ---\n",
      "  - Selecting optimal K value via cross-validation...\n",
      "   - Dynamically generated marginal K candidates: [  8  10  12  15  18  23  28  35  43  52  65  80  98 121 149 184 227 279\n",
      " 344 424]\n",
      "   - Dynamically generated joint K candidates: [ 8  9 10 11 12 14 15 17 19 21 23 25 28 31 35 39 43 48 53 59]\n",
      "  - Optimal K_MARGINAL = 8, Optimal K_JOINT = 8\n",
      "  - Observed KL divergence = 0.1027\n"
     ]
    },
    {
     "name": "stderr",
     "output_type": "stream",
     "text": [
      "Simulating null distribution (Color 2): 100%|██████████| 1000/1000 [00:00<00:00, 1481.25it/s]\n"
     ]
    },
    {
     "name": "stdout",
     "output_type": "stream",
     "text": [
      "\n",
      "--- Independence Test Result for Color: 2 ---\n",
      "P value: 0.8402\n",
      "Conclusion: Fail to reject the null hypothesis (p >= 0.005555555555555556).\n",
      "           There is no significant evidence that 'flowX' and 'flowY' are dependent.\n",
      "\n",
      "Independence test completed.\n",
      "\n",
      "--- 3. Running Bivariate Equivalence Test ---\n",
      "\n",
      " ============ Running Bivariate Test ============\n",
      "# of Edge Pairs in Class1 : 1042\n",
      "# of Edge Pairs in Class2 : 1358\n",
      "Finding optimal K using cross-validation on combined data...\n",
      "Dynamically generated K candidates: [ 8  9 10 11 12 13 14 15 17 19 21 23 25 27 30 33 36 40 44 48]\n",
      "Optimal K selected via Cross-Validation: 8\n",
      "Observed KL = 0.3105\n"
     ]
    },
    {
     "name": "stderr",
     "output_type": "stream",
     "text": [
      "KL Under Null (Parallel):   3%|▎         | 28/1000 [00:01<00:48, 19.89it/s]/Users/jiaxin/Documents/Summer 2024/EFHT/Edge-Flow-Hypothesis-Tests/.conda/lib/python3.11/site-packages/joblib/externals/loky/process_executor.py:782: UserWarning: A worker stopped while some jobs were given to the executor. This can be caused by a too short worker timeout or by a memory leak.\n",
      "  warnings.warn(\n",
      "KL Under Null (Parallel): 100%|██████████| 1000/1000 [01:57<00:00,  8.48it/s]\n"
     ]
    },
    {
     "name": "stdout",
     "output_type": "stream",
     "text": [
      "\n",
      "Bivariate Test Result:\n",
      "Observed Symmetric KL Divergence: 0.3105\n",
      "P value: 0.6703\n",
      "Conclusion: Fail to reject the null hypothesis (p >= 0.016666666666666666). There is no significant evidence that the distributions are different.\n",
      "Appended results to: outputs/SmallWorld-Beta0.7_K13-Rho0.5_D4_W0.5_Pos-G1-8kNodes/summary_report.csv\n",
      "\n",
      "==================================================\n",
      "Analysis pipeline finished!\n",
      "--- Finished: SmallWorld-Beta0.7_K13-Rho0.5_D4_W0.5_Pos-G1-8kNodes_Sample20.csv ---\n",
      "\n",
      "--- Processing: SmallWorld-Beta0.7_K13-Rho0.5_D4_W0.5_Pos-G1-8kNodes_Sample21.csv ---\n",
      "Starting EFHT analysis - Batch ID: SmallWorld-Beta0.7_K13-Rho0.5_D4_W0.5_Pos-G1-8kNodes, Dataset ID: SmallWorld-Beta0.7_K13-Rho0.5_D4_W0.5_Pos-G1-8kNodes_Sample21\n",
      "Results for the current dataset will be saved in: outputs/SmallWorld-Beta0.7_K13-Rho0.5_D4_W0.5_Pos-G1-8kNodes/SmallWorld-Beta0.7_K13-Rho0.5_D4_W0.5_Pos-G1-8kNodes_Sample21\n",
      "The summary report will be saved in: outputs/SmallWorld-Beta0.7_K13-Rho0.5_D4_W0.5_Pos-G1-8kNodes\n",
      "\n",
      "--- 2. Loading and preprocessing data for selected tests ---\n"
     ]
    },
    {
     "name": "stderr",
     "output_type": "stream",
     "text": [
      "Processing Colors: 100%|██████████| 43/43 [01:32<00:00,  2.15s/it]\n",
      "/Users/jiaxin/Documents/Summer 2024/EFHT/Edge-Flow-Hypothesis-Tests/.conda/lib/python3.11/site-packages/joblib/externals/loky/process_executor.py:782: UserWarning: A worker stopped while some jobs were given to the executor. This can be caused by a too short worker timeout or by a memory leak.\n",
      "  warnings.warn(\n"
     ]
    },
    {
     "name": "stdout",
     "output_type": "stream",
     "text": [
      "\n",
      ">>> Starting statistical tests <<<\n",
      "\n",
      "--- 1. Running K-S Test ---\n",
      "\n",
      " ============ Running KS Test ============\n",
      "# of Edges in Class1 : 1342\n",
      "# of Edges in Class2 : 2037\n",
      "\n",
      "KS Test Result:\n",
      "KS_statistic D = 0.0441\n",
      "P value = 8.3239e-02\n",
      "Conclusion: Fail to reject the null hypothesis (p >= 0.016666666666666666), distributions may be the same.\n",
      "\n",
      "--- 2. Running Independence tests ---\n",
      "Performing independence test on the following Top 3 color groups: [0, 1, 2]\n",
      "\n",
      "--- Analyzing color group: 0 ---\n",
      "  - Selecting optimal K value via cross-validation...\n",
      "   - Dynamically generated marginal K candidates: [  8  10  12  15  18  23  28  35  43  52  65  80  98 121 149 184 227 279\n",
      " 344 424]\n",
      "   - Dynamically generated joint K candidates: [ 8  9 10 11 12 14 15 17 19 21 23 25 28 31 35 39 43 48 53 59]\n",
      "  - Optimal K_MARGINAL = 8, Optimal K_JOINT = 8\n",
      "  - Observed KL divergence = 0.1618\n"
     ]
    },
    {
     "name": "stderr",
     "output_type": "stream",
     "text": [
      "Simulating null distribution (Color 0): 100%|██████████| 1000/1000 [00:01<00:00, 617.08it/s]\n"
     ]
    },
    {
     "name": "stdout",
     "output_type": "stream",
     "text": [
      "\n",
      "--- Independence Test Result for Color: 0 ---\n",
      "P value: 0.3806\n",
      "Conclusion: Fail to reject the null hypothesis (p >= 0.005555555555555556).\n",
      "           There is no significant evidence that 'flowX' and 'flowY' are dependent.\n",
      "\n",
      "--- Analyzing color group: 1 ---\n",
      "  - Selecting optimal K value via cross-validation...\n",
      "   - Dynamically generated marginal K candidates: [  8  10  12  15  18  23  28  35  43  52  65  80  98 121 149 184 227 279\n",
      " 344 424]\n",
      "   - Dynamically generated joint K candidates: [ 8  9 10 11 12 14 15 17 19 21 23 25 28 31 35 39 43 48 53 59]\n",
      "  - Optimal K_MARGINAL = 8, Optimal K_JOINT = 8\n",
      "  - Observed KL divergence = 0.1359\n"
     ]
    },
    {
     "name": "stderr",
     "output_type": "stream",
     "text": [
      "Simulating null distribution (Color 1): 100%|██████████| 1000/1000 [00:00<00:00, 1494.22it/s]\n"
     ]
    },
    {
     "name": "stdout",
     "output_type": "stream",
     "text": [
      "\n",
      "--- Independence Test Result for Color: 1 ---\n",
      "P value: 0.9820\n",
      "Conclusion: Fail to reject the null hypothesis (p >= 0.005555555555555556).\n",
      "           There is no significant evidence that 'flowX' and 'flowY' are dependent.\n",
      "\n",
      "--- Analyzing color group: 2 ---\n",
      "  - Selecting optimal K value via cross-validation...\n",
      "   - Dynamically generated marginal K candidates: [  8  10  12  15  18  23  28  35  43  52  65  80  98 121 149 184 227 279\n",
      " 344 424]\n",
      "   - Dynamically generated joint K candidates: [ 8  9 10 11 12 14 15 17 19 21 23 25 28 31 35 39 43 48 53 59]\n",
      "  - Optimal K_MARGINAL = 8, Optimal K_JOINT = 8\n",
      "  - Observed KL divergence = 0.0895\n"
     ]
    },
    {
     "name": "stderr",
     "output_type": "stream",
     "text": [
      "Simulating null distribution (Color 2): 100%|██████████| 1000/1000 [00:00<00:00, 1431.72it/s]\n"
     ]
    },
    {
     "name": "stdout",
     "output_type": "stream",
     "text": [
      "\n",
      "--- Independence Test Result for Color: 2 ---\n",
      "P value: 1.0000\n",
      "Conclusion: Fail to reject the null hypothesis (p >= 0.005555555555555556).\n",
      "           There is no significant evidence that 'flowX' and 'flowY' are dependent.\n",
      "\n",
      "Independence test completed.\n",
      "\n",
      "--- 3. Running Bivariate Equivalence Test ---\n",
      "\n",
      " ============ Running Bivariate Test ============\n",
      "# of Edge Pairs in Class1 : 1042\n",
      "# of Edge Pairs in Class2 : 1358\n",
      "Finding optimal K using cross-validation on combined data...\n",
      "Dynamically generated K candidates: [ 8  9 10 11 12 13 14 15 17 19 21 23 25 27 30 33 36 40 44 48]\n",
      "Optimal K selected via Cross-Validation: 8\n",
      "Observed KL = 0.3650\n"
     ]
    },
    {
     "name": "stderr",
     "output_type": "stream",
     "text": [
      "KL Under Null (Parallel):   3%|▎         | 28/1000 [00:01<00:50, 19.43it/s]/Users/jiaxin/Documents/Summer 2024/EFHT/Edge-Flow-Hypothesis-Tests/.conda/lib/python3.11/site-packages/joblib/externals/loky/process_executor.py:782: UserWarning: A worker stopped while some jobs were given to the executor. This can be caused by a too short worker timeout or by a memory leak.\n",
      "  warnings.warn(\n",
      "KL Under Null (Parallel): 100%|██████████| 1000/1000 [01:58<00:00,  8.44it/s]\n"
     ]
    },
    {
     "name": "stdout",
     "output_type": "stream",
     "text": [
      "\n",
      "Bivariate Test Result:\n",
      "Observed Symmetric KL Divergence: 0.3650\n",
      "P value: 0.0509\n",
      "Conclusion: Fail to reject the null hypothesis (p >= 0.016666666666666666). There is no significant evidence that the distributions are different.\n",
      "Appended results to: outputs/SmallWorld-Beta0.7_K13-Rho0.5_D4_W0.5_Pos-G1-8kNodes/summary_report.csv\n",
      "\n",
      "==================================================\n",
      "Analysis pipeline finished!\n",
      "--- Finished: SmallWorld-Beta0.7_K13-Rho0.5_D4_W0.5_Pos-G1-8kNodes_Sample21.csv ---\n",
      "\n",
      "--- Processing: SmallWorld-Beta0.7_K13-Rho0.5_D4_W0.5_Pos-G1-8kNodes_Sample22.csv ---\n",
      "Starting EFHT analysis - Batch ID: SmallWorld-Beta0.7_K13-Rho0.5_D4_W0.5_Pos-G1-8kNodes, Dataset ID: SmallWorld-Beta0.7_K13-Rho0.5_D4_W0.5_Pos-G1-8kNodes_Sample22\n",
      "Results for the current dataset will be saved in: outputs/SmallWorld-Beta0.7_K13-Rho0.5_D4_W0.5_Pos-G1-8kNodes/SmallWorld-Beta0.7_K13-Rho0.5_D4_W0.5_Pos-G1-8kNodes_Sample22\n",
      "The summary report will be saved in: outputs/SmallWorld-Beta0.7_K13-Rho0.5_D4_W0.5_Pos-G1-8kNodes\n",
      "\n",
      "--- 2. Loading and preprocessing data for selected tests ---\n"
     ]
    },
    {
     "name": "stderr",
     "output_type": "stream",
     "text": [
      "Processing Colors: 100%|██████████| 43/43 [01:27<00:00,  2.03s/it]\n",
      "/Users/jiaxin/Documents/Summer 2024/EFHT/Edge-Flow-Hypothesis-Tests/.conda/lib/python3.11/site-packages/joblib/externals/loky/process_executor.py:782: UserWarning: A worker stopped while some jobs were given to the executor. This can be caused by a too short worker timeout or by a memory leak.\n",
      "  warnings.warn(\n"
     ]
    },
    {
     "name": "stdout",
     "output_type": "stream",
     "text": [
      "\n",
      ">>> Starting statistical tests <<<\n",
      "\n",
      "--- 1. Running K-S Test ---\n",
      "\n",
      " ============ Running KS Test ============\n",
      "# of Edges in Class1 : 1342\n",
      "# of Edges in Class2 : 2037\n",
      "\n",
      "KS Test Result:\n",
      "KS_statistic D = 0.0316\n",
      "P value = 3.8221e-01\n",
      "Conclusion: Fail to reject the null hypothesis (p >= 0.016666666666666666), distributions may be the same.\n",
      "\n",
      "--- 2. Running Independence tests ---\n",
      "Performing independence test on the following Top 3 color groups: [0, 1, 2]\n",
      "\n",
      "--- Analyzing color group: 0 ---\n",
      "  - Selecting optimal K value via cross-validation...\n",
      "   - Dynamically generated marginal K candidates: [  8  10  12  15  18  23  28  35  43  52  65  80  98 121 149 184 227 279\n",
      " 344 424]\n",
      "   - Dynamically generated joint K candidates: [ 8  9 10 11 12 14 15 17 19 21 23 25 28 31 35 39 43 48 53 59]\n",
      "  - Optimal K_MARGINAL = 8, Optimal K_JOINT = 8\n",
      "  - Observed KL divergence = 0.1519\n"
     ]
    },
    {
     "name": "stderr",
     "output_type": "stream",
     "text": [
      "Simulating null distribution (Color 0): 100%|██████████| 1000/1000 [00:01<00:00, 609.17it/s]\n"
     ]
    },
    {
     "name": "stdout",
     "output_type": "stream",
     "text": [
      "\n",
      "--- Independence Test Result for Color: 0 ---\n",
      "P value: 0.4196\n",
      "Conclusion: Fail to reject the null hypothesis (p >= 0.005555555555555556).\n",
      "           There is no significant evidence that 'flowX' and 'flowY' are dependent.\n",
      "\n",
      "--- Analyzing color group: 1 ---\n",
      "  - Selecting optimal K value via cross-validation...\n",
      "   - Dynamically generated marginal K candidates: [  8  10  12  15  18  23  28  35  43  52  65  80  98 121 149 184 227 279\n",
      " 344 424]\n",
      "   - Dynamically generated joint K candidates: [ 8  9 10 11 12 14 15 17 19 21 23 25 28 31 35 39 43 48 53 59]\n",
      "  - Optimal K_MARGINAL = 8, Optimal K_JOINT = 8\n",
      "  - Observed KL divergence = 0.1429\n"
     ]
    },
    {
     "name": "stderr",
     "output_type": "stream",
     "text": [
      "Simulating null distribution (Color 1): 100%|██████████| 1000/1000 [00:00<00:00, 1519.61it/s]\n"
     ]
    },
    {
     "name": "stdout",
     "output_type": "stream",
     "text": [
      "\n",
      "--- Independence Test Result for Color: 1 ---\n",
      "P value: 0.7263\n",
      "Conclusion: Fail to reject the null hypothesis (p >= 0.005555555555555556).\n",
      "           There is no significant evidence that 'flowX' and 'flowY' are dependent.\n",
      "\n",
      "--- Analyzing color group: 2 ---\n",
      "  - Selecting optimal K value via cross-validation...\n",
      "   - Dynamically generated marginal K candidates: [  8  10  12  15  18  23  28  35  43  52  65  80  98 121 149 184 227 279\n",
      " 344 424]\n",
      "   - Dynamically generated joint K candidates: [ 8  9 10 11 12 14 15 17 19 21 23 25 28 31 35 39 43 48 53 59]\n",
      "  - Optimal K_MARGINAL = 8, Optimal K_JOINT = 8\n",
      "  - Observed KL divergence = 0.1585\n"
     ]
    },
    {
     "name": "stderr",
     "output_type": "stream",
     "text": [
      "Simulating null distribution (Color 2): 100%|██████████| 1000/1000 [00:00<00:00, 1465.05it/s]\n"
     ]
    },
    {
     "name": "stdout",
     "output_type": "stream",
     "text": [
      "\n",
      "--- Independence Test Result for Color: 2 ---\n",
      "P value: 0.4176\n",
      "Conclusion: Fail to reject the null hypothesis (p >= 0.005555555555555556).\n",
      "           There is no significant evidence that 'flowX' and 'flowY' are dependent.\n",
      "\n",
      "Independence test completed.\n",
      "\n",
      "--- 3. Running Bivariate Equivalence Test ---\n",
      "\n",
      " ============ Running Bivariate Test ============\n",
      "# of Edge Pairs in Class1 : 1042\n",
      "# of Edge Pairs in Class2 : 1358\n",
      "Finding optimal K using cross-validation on combined data...\n",
      "Dynamically generated K candidates: [ 8  9 10 11 12 13 14 15 17 19 21 23 25 27 30 33 36 40 44 48]\n",
      "Optimal K selected via Cross-Validation: 8\n",
      "Observed KL = 0.3295\n"
     ]
    },
    {
     "name": "stderr",
     "output_type": "stream",
     "text": [
      "KL Under Null (Parallel):   3%|▎         | 28/1000 [00:01<00:49, 19.74it/s]/Users/jiaxin/Documents/Summer 2024/EFHT/Edge-Flow-Hypothesis-Tests/.conda/lib/python3.11/site-packages/joblib/externals/loky/process_executor.py:782: UserWarning: A worker stopped while some jobs were given to the executor. This can be caused by a too short worker timeout or by a memory leak.\n",
      "  warnings.warn(\n",
      "KL Under Null (Parallel): 100%|██████████| 1000/1000 [01:58<00:00,  8.45it/s]\n"
     ]
    },
    {
     "name": "stdout",
     "output_type": "stream",
     "text": [
      "\n",
      "Bivariate Test Result:\n",
      "Observed Symmetric KL Divergence: 0.3295\n",
      "P value: 0.4006\n",
      "Conclusion: Fail to reject the null hypothesis (p >= 0.016666666666666666). There is no significant evidence that the distributions are different.\n",
      "Appended results to: outputs/SmallWorld-Beta0.7_K13-Rho0.5_D4_W0.5_Pos-G1-8kNodes/summary_report.csv\n",
      "\n",
      "==================================================\n",
      "Analysis pipeline finished!\n",
      "--- Finished: SmallWorld-Beta0.7_K13-Rho0.5_D4_W0.5_Pos-G1-8kNodes_Sample22.csv ---\n",
      "\n",
      "--- Processing: SmallWorld-Beta0.7_K13-Rho0.5_D4_W0.5_Pos-G1-8kNodes_Sample23.csv ---\n",
      "Starting EFHT analysis - Batch ID: SmallWorld-Beta0.7_K13-Rho0.5_D4_W0.5_Pos-G1-8kNodes, Dataset ID: SmallWorld-Beta0.7_K13-Rho0.5_D4_W0.5_Pos-G1-8kNodes_Sample23\n",
      "Results for the current dataset will be saved in: outputs/SmallWorld-Beta0.7_K13-Rho0.5_D4_W0.5_Pos-G1-8kNodes/SmallWorld-Beta0.7_K13-Rho0.5_D4_W0.5_Pos-G1-8kNodes_Sample23\n",
      "The summary report will be saved in: outputs/SmallWorld-Beta0.7_K13-Rho0.5_D4_W0.5_Pos-G1-8kNodes\n",
      "\n",
      "--- 2. Loading and preprocessing data for selected tests ---\n"
     ]
    },
    {
     "name": "stderr",
     "output_type": "stream",
     "text": [
      "Processing Colors: 100%|██████████| 43/43 [01:31<00:00,  2.14s/it]\n",
      "/Users/jiaxin/Documents/Summer 2024/EFHT/Edge-Flow-Hypothesis-Tests/.conda/lib/python3.11/site-packages/joblib/externals/loky/process_executor.py:782: UserWarning: A worker stopped while some jobs were given to the executor. This can be caused by a too short worker timeout or by a memory leak.\n",
      "  warnings.warn(\n"
     ]
    },
    {
     "name": "stdout",
     "output_type": "stream",
     "text": [
      "\n",
      ">>> Starting statistical tests <<<\n",
      "\n",
      "--- 1. Running K-S Test ---\n",
      "\n",
      " ============ Running KS Test ============\n",
      "# of Edges in Class1 : 1342\n",
      "# of Edges in Class2 : 2037\n",
      "\n",
      "KS Test Result:\n",
      "KS_statistic D = 0.0443\n",
      "P value = 8.0723e-02\n",
      "Conclusion: Fail to reject the null hypothesis (p >= 0.016666666666666666), distributions may be the same.\n",
      "\n",
      "--- 2. Running Independence tests ---\n",
      "Performing independence test on the following Top 3 color groups: [0, 1, 2]\n",
      "\n",
      "--- Analyzing color group: 0 ---\n",
      "  - Selecting optimal K value via cross-validation...\n",
      "   - Dynamically generated marginal K candidates: [  8  10  12  15  18  23  28  35  43  52  65  80  98 121 149 184 227 279\n",
      " 344 424]\n",
      "   - Dynamically generated joint K candidates: [ 8  9 10 11 12 14 15 17 19 21 23 25 28 31 35 39 43 48 53 59]\n",
      "  - Optimal K_MARGINAL = 8, Optimal K_JOINT = 8\n",
      "  - Observed KL divergence = 0.1265\n"
     ]
    },
    {
     "name": "stderr",
     "output_type": "stream",
     "text": [
      "Simulating null distribution (Color 0): 100%|██████████| 1000/1000 [00:01<00:00, 608.95it/s]\n"
     ]
    },
    {
     "name": "stdout",
     "output_type": "stream",
     "text": [
      "\n",
      "--- Independence Test Result for Color: 0 ---\n",
      "P value: 0.7712\n",
      "Conclusion: Fail to reject the null hypothesis (p >= 0.005555555555555556).\n",
      "           There is no significant evidence that 'flowX' and 'flowY' are dependent.\n",
      "\n",
      "--- Analyzing color group: 1 ---\n",
      "  - Selecting optimal K value via cross-validation...\n",
      "   - Dynamically generated marginal K candidates: [  8  10  12  15  18  23  28  35  43  52  65  80  98 121 149 184 227 279\n",
      " 344 424]\n",
      "   - Dynamically generated joint K candidates: [ 8  9 10 11 12 14 15 17 19 21 23 25 28 31 35 39 43 48 53 59]\n",
      "  - Optimal K_MARGINAL = 8, Optimal K_JOINT = 8\n",
      "  - Observed KL divergence = 0.1472\n"
     ]
    },
    {
     "name": "stderr",
     "output_type": "stream",
     "text": [
      "Simulating null distribution (Color 1): 100%|██████████| 1000/1000 [00:00<00:00, 1498.65it/s]\n"
     ]
    },
    {
     "name": "stdout",
     "output_type": "stream",
     "text": [
      "\n",
      "--- Independence Test Result for Color: 1 ---\n",
      "P value: 0.2148\n",
      "Conclusion: Fail to reject the null hypothesis (p >= 0.005555555555555556).\n",
      "           There is no significant evidence that 'flowX' and 'flowY' are dependent.\n",
      "\n",
      "--- Analyzing color group: 2 ---\n",
      "  - Selecting optimal K value via cross-validation...\n",
      "   - Dynamically generated marginal K candidates: [  8  10  12  15  18  23  28  35  43  52  65  80  98 121 149 184 227 279\n",
      " 344 424]\n",
      "   - Dynamically generated joint K candidates: [ 8  9 10 11 12 14 15 17 19 21 23 25 28 31 35 39 43 48 53 59]\n",
      "  - Optimal K_MARGINAL = 8, Optimal K_JOINT = 8\n",
      "  - Observed KL divergence = 0.1235\n"
     ]
    },
    {
     "name": "stderr",
     "output_type": "stream",
     "text": [
      "Simulating null distribution (Color 2): 100%|██████████| 1000/1000 [00:00<00:00, 1500.48it/s]\n"
     ]
    },
    {
     "name": "stdout",
     "output_type": "stream",
     "text": [
      "\n",
      "--- Independence Test Result for Color: 2 ---\n",
      "P value: 0.6773\n",
      "Conclusion: Fail to reject the null hypothesis (p >= 0.005555555555555556).\n",
      "           There is no significant evidence that 'flowX' and 'flowY' are dependent.\n",
      "\n",
      "Independence test completed.\n",
      "\n",
      "--- 3. Running Bivariate Equivalence Test ---\n",
      "\n",
      " ============ Running Bivariate Test ============\n",
      "# of Edge Pairs in Class1 : 1042\n",
      "# of Edge Pairs in Class2 : 1358\n",
      "Finding optimal K using cross-validation on combined data...\n",
      "Dynamically generated K candidates: [ 8  9 10 11 12 13 14 15 17 19 21 23 25 27 30 33 36 40 44 48]\n",
      "Optimal K selected via Cross-Validation: 8\n",
      "Observed KL = 0.3258\n"
     ]
    },
    {
     "name": "stderr",
     "output_type": "stream",
     "text": [
      "KL Under Null (Parallel):   3%|▎         | 28/1000 [00:01<00:49, 19.82it/s]/Users/jiaxin/Documents/Summer 2024/EFHT/Edge-Flow-Hypothesis-Tests/.conda/lib/python3.11/site-packages/joblib/externals/loky/process_executor.py:782: UserWarning: A worker stopped while some jobs were given to the executor. This can be caused by a too short worker timeout or by a memory leak.\n",
      "  warnings.warn(\n",
      "KL Under Null (Parallel): 100%|██████████| 1000/1000 [01:56<00:00,  8.60it/s]\n"
     ]
    },
    {
     "name": "stdout",
     "output_type": "stream",
     "text": [
      "\n",
      "Bivariate Test Result:\n",
      "Observed Symmetric KL Divergence: 0.3258\n",
      "P value: 0.4755\n",
      "Conclusion: Fail to reject the null hypothesis (p >= 0.016666666666666666). There is no significant evidence that the distributions are different.\n",
      "Appended results to: outputs/SmallWorld-Beta0.7_K13-Rho0.5_D4_W0.5_Pos-G1-8kNodes/summary_report.csv\n",
      "\n",
      "==================================================\n",
      "Analysis pipeline finished!\n",
      "--- Finished: SmallWorld-Beta0.7_K13-Rho0.5_D4_W0.5_Pos-G1-8kNodes_Sample23.csv ---\n",
      "\n",
      "--- Processing: SmallWorld-Beta0.7_K13-Rho0.5_D4_W0.5_Pos-G1-8kNodes_Sample24.csv ---\n",
      "Starting EFHT analysis - Batch ID: SmallWorld-Beta0.7_K13-Rho0.5_D4_W0.5_Pos-G1-8kNodes, Dataset ID: SmallWorld-Beta0.7_K13-Rho0.5_D4_W0.5_Pos-G1-8kNodes_Sample24\n",
      "Results for the current dataset will be saved in: outputs/SmallWorld-Beta0.7_K13-Rho0.5_D4_W0.5_Pos-G1-8kNodes/SmallWorld-Beta0.7_K13-Rho0.5_D4_W0.5_Pos-G1-8kNodes_Sample24\n",
      "The summary report will be saved in: outputs/SmallWorld-Beta0.7_K13-Rho0.5_D4_W0.5_Pos-G1-8kNodes\n",
      "\n",
      "--- 2. Loading and preprocessing data for selected tests ---\n"
     ]
    },
    {
     "name": "stderr",
     "output_type": "stream",
     "text": [
      "Processing Colors: 100%|██████████| 43/43 [01:24<00:00,  1.97s/it]\n",
      "/Users/jiaxin/Documents/Summer 2024/EFHT/Edge-Flow-Hypothesis-Tests/.conda/lib/python3.11/site-packages/joblib/externals/loky/process_executor.py:782: UserWarning: A worker stopped while some jobs were given to the executor. This can be caused by a too short worker timeout or by a memory leak.\n",
      "  warnings.warn(\n"
     ]
    },
    {
     "name": "stdout",
     "output_type": "stream",
     "text": [
      "\n",
      ">>> Starting statistical tests <<<\n",
      "\n",
      "--- 1. Running K-S Test ---\n",
      "\n",
      " ============ Running KS Test ============\n",
      "# of Edges in Class1 : 1342\n",
      "# of Edges in Class2 : 2037\n",
      "\n",
      "KS Test Result:\n",
      "KS_statistic D = 0.0266\n",
      "P value = 6.0345e-01\n",
      "Conclusion: Fail to reject the null hypothesis (p >= 0.016666666666666666), distributions may be the same.\n",
      "\n",
      "--- 2. Running Independence tests ---\n",
      "Performing independence test on the following Top 3 color groups: [0, 1, 2]\n",
      "\n",
      "--- Analyzing color group: 0 ---\n",
      "  - Selecting optimal K value via cross-validation...\n",
      "   - Dynamically generated marginal K candidates: [  8  10  12  15  18  23  28  35  43  52  65  80  98 121 149 184 227 279\n",
      " 344 424]\n",
      "   - Dynamically generated joint K candidates: [ 8  9 10 11 12 14 15 17 19 21 23 25 28 31 35 39 43 48 53 59]\n",
      "  - Optimal K_MARGINAL = 8, Optimal K_JOINT = 8\n",
      "  - Observed KL divergence = 0.1033\n"
     ]
    },
    {
     "name": "stderr",
     "output_type": "stream",
     "text": [
      "Simulating null distribution (Color 0): 100%|██████████| 1000/1000 [00:01<00:00, 613.58it/s]\n"
     ]
    },
    {
     "name": "stdout",
     "output_type": "stream",
     "text": [
      "\n",
      "--- Independence Test Result for Color: 0 ---\n",
      "P value: 0.3407\n",
      "Conclusion: Fail to reject the null hypothesis (p >= 0.005555555555555556).\n",
      "           There is no significant evidence that 'flowX' and 'flowY' are dependent.\n",
      "\n",
      "--- Analyzing color group: 1 ---\n",
      "  - Selecting optimal K value via cross-validation...\n",
      "   - Dynamically generated marginal K candidates: [  8  10  12  15  18  23  28  35  43  52  65  80  98 121 149 184 227 279\n",
      " 344 424]\n",
      "   - Dynamically generated joint K candidates: [ 8  9 10 11 12 14 15 17 19 21 23 25 28 31 35 39 43 48 53 59]\n",
      "  - Optimal K_MARGINAL = 8, Optimal K_JOINT = 8\n",
      "  - Observed KL divergence = 0.0722\n"
     ]
    },
    {
     "name": "stderr",
     "output_type": "stream",
     "text": [
      "Simulating null distribution (Color 1): 100%|██████████| 1000/1000 [00:00<00:00, 1482.80it/s]\n"
     ]
    },
    {
     "name": "stdout",
     "output_type": "stream",
     "text": [
      "\n",
      "--- Independence Test Result for Color: 1 ---\n",
      "P value: 0.8981\n",
      "Conclusion: Fail to reject the null hypothesis (p >= 0.005555555555555556).\n",
      "           There is no significant evidence that 'flowX' and 'flowY' are dependent.\n",
      "\n",
      "--- Analyzing color group: 2 ---\n",
      "  - Selecting optimal K value via cross-validation...\n",
      "   - Dynamically generated marginal K candidates: [  8  10  12  15  18  23  28  35  43  52  65  80  98 121 149 184 227 279\n",
      " 344 424]\n",
      "   - Dynamically generated joint K candidates: [ 8  9 10 11 12 14 15 17 19 21 23 25 28 31 35 39 43 48 53 59]\n",
      "  - Optimal K_MARGINAL = 8, Optimal K_JOINT = 8\n",
      "  - Observed KL divergence = 0.1577\n"
     ]
    },
    {
     "name": "stderr",
     "output_type": "stream",
     "text": [
      "Simulating null distribution (Color 2): 100%|██████████| 1000/1000 [00:00<00:00, 1470.01it/s]\n"
     ]
    },
    {
     "name": "stdout",
     "output_type": "stream",
     "text": [
      "\n",
      "--- Independence Test Result for Color: 2 ---\n",
      "P value: 0.0559\n",
      "Conclusion: Fail to reject the null hypothesis (p >= 0.005555555555555556).\n",
      "           There is no significant evidence that 'flowX' and 'flowY' are dependent.\n",
      "\n",
      "Independence test completed.\n",
      "\n",
      "--- 3. Running Bivariate Equivalence Test ---\n",
      "\n",
      " ============ Running Bivariate Test ============\n",
      "# of Edge Pairs in Class1 : 1042\n",
      "# of Edge Pairs in Class2 : 1358\n",
      "Finding optimal K using cross-validation on combined data...\n",
      "Dynamically generated K candidates: [ 8  9 10 11 12 13 14 15 17 19 21 23 25 27 30 33 36 40 44 48]\n",
      "Optimal K selected via Cross-Validation: 8\n",
      "Observed KL = 0.3177\n"
     ]
    },
    {
     "name": "stderr",
     "output_type": "stream",
     "text": [
      "KL Under Null (Parallel):   3%|▎         | 28/1000 [00:01<00:52, 18.66it/s]/Users/jiaxin/Documents/Summer 2024/EFHT/Edge-Flow-Hypothesis-Tests/.conda/lib/python3.11/site-packages/joblib/externals/loky/process_executor.py:782: UserWarning: A worker stopped while some jobs were given to the executor. This can be caused by a too short worker timeout or by a memory leak.\n",
      "  warnings.warn(\n",
      "KL Under Null (Parallel): 100%|██████████| 1000/1000 [01:59<00:00,  8.37it/s]\n"
     ]
    },
    {
     "name": "stdout",
     "output_type": "stream",
     "text": [
      "\n",
      "Bivariate Test Result:\n",
      "Observed Symmetric KL Divergence: 0.3177\n",
      "P value: 0.6054\n",
      "Conclusion: Fail to reject the null hypothesis (p >= 0.016666666666666666). There is no significant evidence that the distributions are different.\n",
      "Appended results to: outputs/SmallWorld-Beta0.7_K13-Rho0.5_D4_W0.5_Pos-G1-8kNodes/summary_report.csv\n",
      "\n",
      "==================================================\n",
      "Analysis pipeline finished!\n",
      "--- Finished: SmallWorld-Beta0.7_K13-Rho0.5_D4_W0.5_Pos-G1-8kNodes_Sample24.csv ---\n",
      "\n",
      "--- Processing: SmallWorld-Beta0.7_K13-Rho0.5_D4_W0.5_Pos-G1-8kNodes_Sample25.csv ---\n",
      "Starting EFHT analysis - Batch ID: SmallWorld-Beta0.7_K13-Rho0.5_D4_W0.5_Pos-G1-8kNodes, Dataset ID: SmallWorld-Beta0.7_K13-Rho0.5_D4_W0.5_Pos-G1-8kNodes_Sample25\n",
      "Results for the current dataset will be saved in: outputs/SmallWorld-Beta0.7_K13-Rho0.5_D4_W0.5_Pos-G1-8kNodes/SmallWorld-Beta0.7_K13-Rho0.5_D4_W0.5_Pos-G1-8kNodes_Sample25\n",
      "The summary report will be saved in: outputs/SmallWorld-Beta0.7_K13-Rho0.5_D4_W0.5_Pos-G1-8kNodes\n",
      "\n",
      "--- 2. Loading and preprocessing data for selected tests ---\n"
     ]
    },
    {
     "name": "stderr",
     "output_type": "stream",
     "text": [
      "Processing Colors: 100%|██████████| 43/43 [01:32<00:00,  2.14s/it]\n",
      "/Users/jiaxin/Documents/Summer 2024/EFHT/Edge-Flow-Hypothesis-Tests/.conda/lib/python3.11/site-packages/joblib/externals/loky/process_executor.py:782: UserWarning: A worker stopped while some jobs were given to the executor. This can be caused by a too short worker timeout or by a memory leak.\n",
      "  warnings.warn(\n"
     ]
    },
    {
     "name": "stdout",
     "output_type": "stream",
     "text": [
      "\n",
      ">>> Starting statistical tests <<<\n",
      "\n",
      "--- 1. Running K-S Test ---\n",
      "\n",
      " ============ Running KS Test ============\n",
      "# of Edges in Class1 : 1342\n",
      "# of Edges in Class2 : 2037\n",
      "\n",
      "KS Test Result:\n",
      "KS_statistic D = 0.0295\n",
      "P value = 4.6928e-01\n",
      "Conclusion: Fail to reject the null hypothesis (p >= 0.016666666666666666), distributions may be the same.\n",
      "\n",
      "--- 2. Running Independence tests ---\n",
      "Performing independence test on the following Top 3 color groups: [0, 1, 2]\n",
      "\n",
      "--- Analyzing color group: 0 ---\n",
      "  - Selecting optimal K value via cross-validation...\n",
      "   - Dynamically generated marginal K candidates: [  8  10  12  15  18  23  28  35  43  52  65  80  98 121 149 184 227 279\n",
      " 344 424]\n",
      "   - Dynamically generated joint K candidates: [ 8  9 10 11 12 14 15 17 19 21 23 25 28 31 35 39 43 48 53 59]\n",
      "  - Optimal K_MARGINAL = 8, Optimal K_JOINT = 8\n",
      "  - Observed KL divergence = 0.1280\n"
     ]
    },
    {
     "name": "stderr",
     "output_type": "stream",
     "text": [
      "Simulating null distribution (Color 0): 100%|██████████| 1000/1000 [00:01<00:00, 607.80it/s]\n"
     ]
    },
    {
     "name": "stdout",
     "output_type": "stream",
     "text": [
      "\n",
      "--- Independence Test Result for Color: 0 ---\n",
      "P value: 0.1249\n",
      "Conclusion: Fail to reject the null hypothesis (p >= 0.005555555555555556).\n",
      "           There is no significant evidence that 'flowX' and 'flowY' are dependent.\n",
      "\n",
      "--- Analyzing color group: 1 ---\n",
      "  - Selecting optimal K value via cross-validation...\n",
      "   - Dynamically generated marginal K candidates: [  8  10  12  15  18  23  28  35  43  52  65  80  98 121 149 184 227 279\n",
      " 344 424]\n",
      "   - Dynamically generated joint K candidates: [ 8  9 10 11 12 14 15 17 19 21 23 25 28 31 35 39 43 48 53 59]\n",
      "  - Optimal K_MARGINAL = 8, Optimal K_JOINT = 8\n",
      "  - Observed KL divergence = 0.1157\n"
     ]
    },
    {
     "name": "stderr",
     "output_type": "stream",
     "text": [
      "Simulating null distribution (Color 1): 100%|██████████| 1000/1000 [00:00<00:00, 1463.55it/s]\n"
     ]
    },
    {
     "name": "stdout",
     "output_type": "stream",
     "text": [
      "\n",
      "--- Independence Test Result for Color: 1 ---\n",
      "P value: 0.5774\n",
      "Conclusion: Fail to reject the null hypothesis (p >= 0.005555555555555556).\n",
      "           There is no significant evidence that 'flowX' and 'flowY' are dependent.\n",
      "\n",
      "--- Analyzing color group: 2 ---\n",
      "  - Selecting optimal K value via cross-validation...\n",
      "   - Dynamically generated marginal K candidates: [  8  10  12  15  18  23  28  35  43  52  65  80  98 121 149 184 227 279\n",
      " 344 424]\n",
      "   - Dynamically generated joint K candidates: [ 8  9 10 11 12 14 15 17 19 21 23 25 28 31 35 39 43 48 53 59]\n",
      "  - Optimal K_MARGINAL = 8, Optimal K_JOINT = 8\n",
      "  - Observed KL divergence = 0.1397\n"
     ]
    },
    {
     "name": "stderr",
     "output_type": "stream",
     "text": [
      "Simulating null distribution (Color 2): 100%|██████████| 1000/1000 [00:00<00:00, 1470.18it/s]\n"
     ]
    },
    {
     "name": "stdout",
     "output_type": "stream",
     "text": [
      "\n",
      "--- Independence Test Result for Color: 2 ---\n",
      "P value: 0.0889\n",
      "Conclusion: Fail to reject the null hypothesis (p >= 0.005555555555555556).\n",
      "           There is no significant evidence that 'flowX' and 'flowY' are dependent.\n",
      "\n",
      "Independence test completed.\n",
      "\n",
      "--- 3. Running Bivariate Equivalence Test ---\n",
      "\n",
      " ============ Running Bivariate Test ============\n",
      "# of Edge Pairs in Class1 : 1042\n",
      "# of Edge Pairs in Class2 : 1358\n",
      "Finding optimal K using cross-validation on combined data...\n",
      "Dynamically generated K candidates: [ 8  9 10 11 12 13 14 15 17 19 21 23 25 27 30 33 36 40 44 48]\n",
      "Optimal K selected via Cross-Validation: 8\n",
      "Observed KL = 0.3415\n"
     ]
    },
    {
     "name": "stderr",
     "output_type": "stream",
     "text": [
      "KL Under Null (Parallel):   3%|▎         | 28/1000 [00:01<00:48, 20.23it/s]/Users/jiaxin/Documents/Summer 2024/EFHT/Edge-Flow-Hypothesis-Tests/.conda/lib/python3.11/site-packages/joblib/externals/loky/process_executor.py:782: UserWarning: A worker stopped while some jobs were given to the executor. This can be caused by a too short worker timeout or by a memory leak.\n",
      "  warnings.warn(\n",
      "KL Under Null (Parallel): 100%|██████████| 1000/1000 [01:58<00:00,  8.46it/s]\n"
     ]
    },
    {
     "name": "stdout",
     "output_type": "stream",
     "text": [
      "\n",
      "Bivariate Test Result:\n",
      "Observed Symmetric KL Divergence: 0.3415\n",
      "P value: 0.2168\n",
      "Conclusion: Fail to reject the null hypothesis (p >= 0.016666666666666666). There is no significant evidence that the distributions are different.\n",
      "Appended results to: outputs/SmallWorld-Beta0.7_K13-Rho0.5_D4_W0.5_Pos-G1-8kNodes/summary_report.csv\n",
      "\n",
      "==================================================\n",
      "Analysis pipeline finished!\n",
      "--- Finished: SmallWorld-Beta0.7_K13-Rho0.5_D4_W0.5_Pos-G1-8kNodes_Sample25.csv ---\n",
      "\n",
      "--- Processing: SmallWorld-Beta0.7_K13-Rho0.5_D4_W0.5_Pos-G1-8kNodes_Sample26.csv ---\n",
      "Starting EFHT analysis - Batch ID: SmallWorld-Beta0.7_K13-Rho0.5_D4_W0.5_Pos-G1-8kNodes, Dataset ID: SmallWorld-Beta0.7_K13-Rho0.5_D4_W0.5_Pos-G1-8kNodes_Sample26\n",
      "Results for the current dataset will be saved in: outputs/SmallWorld-Beta0.7_K13-Rho0.5_D4_W0.5_Pos-G1-8kNodes/SmallWorld-Beta0.7_K13-Rho0.5_D4_W0.5_Pos-G1-8kNodes_Sample26\n",
      "The summary report will be saved in: outputs/SmallWorld-Beta0.7_K13-Rho0.5_D4_W0.5_Pos-G1-8kNodes\n",
      "\n",
      "--- 2. Loading and preprocessing data for selected tests ---\n"
     ]
    },
    {
     "name": "stderr",
     "output_type": "stream",
     "text": [
      "Processing Colors: 100%|██████████| 43/43 [01:27<00:00,  2.04s/it]\n",
      "/Users/jiaxin/Documents/Summer 2024/EFHT/Edge-Flow-Hypothesis-Tests/.conda/lib/python3.11/site-packages/joblib/externals/loky/process_executor.py:782: UserWarning: A worker stopped while some jobs were given to the executor. This can be caused by a too short worker timeout or by a memory leak.\n",
      "  warnings.warn(\n"
     ]
    },
    {
     "name": "stdout",
     "output_type": "stream",
     "text": [
      "\n",
      ">>> Starting statistical tests <<<\n",
      "\n",
      "--- 1. Running K-S Test ---\n",
      "\n",
      " ============ Running KS Test ============\n",
      "# of Edges in Class1 : 1342\n",
      "# of Edges in Class2 : 2037\n",
      "\n",
      "KS Test Result:\n",
      "KS_statistic D = 0.0395\n",
      "P value = 1.5436e-01\n",
      "Conclusion: Fail to reject the null hypothesis (p >= 0.016666666666666666), distributions may be the same.\n",
      "\n",
      "--- 2. Running Independence tests ---\n",
      "Performing independence test on the following Top 3 color groups: [0, 1, 2]\n",
      "\n",
      "--- Analyzing color group: 0 ---\n",
      "  - Selecting optimal K value via cross-validation...\n",
      "   - Dynamically generated marginal K candidates: [  8  10  12  15  18  23  28  35  43  52  65  80  98 121 149 184 227 279\n",
      " 344 424]\n",
      "   - Dynamically generated joint K candidates: [ 8  9 10 11 12 14 15 17 19 21 23 25 28 31 35 39 43 48 53 59]\n",
      "  - Optimal K_MARGINAL = 8, Optimal K_JOINT = 8\n",
      "  - Observed KL divergence = 0.1388\n"
     ]
    },
    {
     "name": "stderr",
     "output_type": "stream",
     "text": [
      "Simulating null distribution (Color 0): 100%|██████████| 1000/1000 [00:01<00:00, 611.42it/s]\n"
     ]
    },
    {
     "name": "stdout",
     "output_type": "stream",
     "text": [
      "\n",
      "--- Independence Test Result for Color: 0 ---\n",
      "P value: 0.9540\n",
      "Conclusion: Fail to reject the null hypothesis (p >= 0.005555555555555556).\n",
      "           There is no significant evidence that 'flowX' and 'flowY' are dependent.\n",
      "\n",
      "--- Analyzing color group: 1 ---\n",
      "  - Selecting optimal K value via cross-validation...\n",
      "   - Dynamically generated marginal K candidates: [  8  10  12  15  18  23  28  35  43  52  65  80  98 121 149 184 227 279\n",
      " 344 424]\n",
      "   - Dynamically generated joint K candidates: [ 8  9 10 11 12 14 15 17 19 21 23 25 28 31 35 39 43 48 53 59]\n",
      "  - Optimal K_MARGINAL = 8, Optimal K_JOINT = 8\n",
      "  - Observed KL divergence = 0.1437\n"
     ]
    },
    {
     "name": "stderr",
     "output_type": "stream",
     "text": [
      "Simulating null distribution (Color 1): 100%|██████████| 1000/1000 [00:00<00:00, 1472.65it/s]\n"
     ]
    },
    {
     "name": "stdout",
     "output_type": "stream",
     "text": [
      "\n",
      "--- Independence Test Result for Color: 1 ---\n",
      "P value: 0.7403\n",
      "Conclusion: Fail to reject the null hypothesis (p >= 0.005555555555555556).\n",
      "           There is no significant evidence that 'flowX' and 'flowY' are dependent.\n",
      "\n",
      "--- Analyzing color group: 2 ---\n",
      "  - Selecting optimal K value via cross-validation...\n",
      "   - Dynamically generated marginal K candidates: [  8  10  12  15  18  23  28  35  43  52  65  80  98 121 149 184 227 279\n",
      " 344 424]\n",
      "   - Dynamically generated joint K candidates: [ 8  9 10 11 12 14 15 17 19 21 23 25 28 31 35 39 43 48 53 59]\n",
      "  - Optimal K_MARGINAL = 8, Optimal K_JOINT = 8\n",
      "  - Observed KL divergence = 0.1894\n"
     ]
    },
    {
     "name": "stderr",
     "output_type": "stream",
     "text": [
      "Simulating null distribution (Color 2): 100%|██████████| 1000/1000 [00:00<00:00, 1525.81it/s]\n"
     ]
    },
    {
     "name": "stdout",
     "output_type": "stream",
     "text": [
      "\n",
      "--- Independence Test Result for Color: 2 ---\n",
      "P value: 0.1079\n",
      "Conclusion: Fail to reject the null hypothesis (p >= 0.005555555555555556).\n",
      "           There is no significant evidence that 'flowX' and 'flowY' are dependent.\n",
      "\n",
      "Independence test completed.\n",
      "\n",
      "--- 3. Running Bivariate Equivalence Test ---\n",
      "\n",
      " ============ Running Bivariate Test ============\n",
      "# of Edge Pairs in Class1 : 1042\n",
      "# of Edge Pairs in Class2 : 1358\n",
      "Finding optimal K using cross-validation on combined data...\n",
      "Dynamically generated K candidates: [ 8  9 10 11 12 13 14 15 17 19 21 23 25 27 30 33 36 40 44 48]\n",
      "Optimal K selected via Cross-Validation: 8\n",
      "Observed KL = 0.3108\n"
     ]
    },
    {
     "name": "stderr",
     "output_type": "stream",
     "text": [
      "KL Under Null (Parallel):   3%|▎         | 28/1000 [00:01<00:49, 19.80it/s]/Users/jiaxin/Documents/Summer 2024/EFHT/Edge-Flow-Hypothesis-Tests/.conda/lib/python3.11/site-packages/joblib/externals/loky/process_executor.py:782: UserWarning: A worker stopped while some jobs were given to the executor. This can be caused by a too short worker timeout or by a memory leak.\n",
      "  warnings.warn(\n",
      "KL Under Null (Parallel): 100%|██████████| 1000/1000 [01:59<00:00,  8.40it/s]\n"
     ]
    },
    {
     "name": "stdout",
     "output_type": "stream",
     "text": [
      "\n",
      "Bivariate Test Result:\n",
      "Observed Symmetric KL Divergence: 0.3108\n",
      "P value: 0.6763\n",
      "Conclusion: Fail to reject the null hypothesis (p >= 0.016666666666666666). There is no significant evidence that the distributions are different.\n",
      "Appended results to: outputs/SmallWorld-Beta0.7_K13-Rho0.5_D4_W0.5_Pos-G1-8kNodes/summary_report.csv\n",
      "\n",
      "==================================================\n",
      "Analysis pipeline finished!\n",
      "--- Finished: SmallWorld-Beta0.7_K13-Rho0.5_D4_W0.5_Pos-G1-8kNodes_Sample26.csv ---\n",
      "\n",
      "--- Processing: SmallWorld-Beta0.7_K13-Rho0.5_D4_W0.5_Pos-G1-8kNodes_Sample27.csv ---\n",
      "Starting EFHT analysis - Batch ID: SmallWorld-Beta0.7_K13-Rho0.5_D4_W0.5_Pos-G1-8kNodes, Dataset ID: SmallWorld-Beta0.7_K13-Rho0.5_D4_W0.5_Pos-G1-8kNodes_Sample27\n",
      "Results for the current dataset will be saved in: outputs/SmallWorld-Beta0.7_K13-Rho0.5_D4_W0.5_Pos-G1-8kNodes/SmallWorld-Beta0.7_K13-Rho0.5_D4_W0.5_Pos-G1-8kNodes_Sample27\n",
      "The summary report will be saved in: outputs/SmallWorld-Beta0.7_K13-Rho0.5_D4_W0.5_Pos-G1-8kNodes\n",
      "\n",
      "--- 2. Loading and preprocessing data for selected tests ---\n"
     ]
    },
    {
     "name": "stderr",
     "output_type": "stream",
     "text": [
      "Processing Colors: 100%|██████████| 43/43 [01:32<00:00,  2.16s/it]\n",
      "/Users/jiaxin/Documents/Summer 2024/EFHT/Edge-Flow-Hypothesis-Tests/.conda/lib/python3.11/site-packages/joblib/externals/loky/process_executor.py:782: UserWarning: A worker stopped while some jobs were given to the executor. This can be caused by a too short worker timeout or by a memory leak.\n",
      "  warnings.warn(\n"
     ]
    },
    {
     "name": "stdout",
     "output_type": "stream",
     "text": [
      "\n",
      ">>> Starting statistical tests <<<\n",
      "\n",
      "--- 1. Running K-S Test ---\n",
      "\n",
      " ============ Running KS Test ============\n",
      "# of Edges in Class1 : 1342\n",
      "# of Edges in Class2 : 2037\n",
      "\n",
      "KS Test Result:\n",
      "KS_statistic D = 0.0249\n",
      "P value = 6.8721e-01\n",
      "Conclusion: Fail to reject the null hypothesis (p >= 0.016666666666666666), distributions may be the same.\n",
      "\n",
      "--- 2. Running Independence tests ---\n",
      "Performing independence test on the following Top 3 color groups: [0, 1, 2]\n",
      "\n",
      "--- Analyzing color group: 0 ---\n",
      "  - Selecting optimal K value via cross-validation...\n",
      "   - Dynamically generated marginal K candidates: [  8  10  12  15  18  23  28  35  43  52  65  80  98 121 149 184 227 279\n",
      " 344 424]\n",
      "   - Dynamically generated joint K candidates: [ 8  9 10 11 12 14 15 17 19 21 23 25 28 31 35 39 43 48 53 59]\n",
      "  - Optimal K_MARGINAL = 8, Optimal K_JOINT = 8\n",
      "  - Observed KL divergence = 0.1400\n"
     ]
    },
    {
     "name": "stderr",
     "output_type": "stream",
     "text": [
      "Simulating null distribution (Color 0): 100%|██████████| 1000/1000 [00:01<00:00, 595.65it/s]\n"
     ]
    },
    {
     "name": "stdout",
     "output_type": "stream",
     "text": [
      "\n",
      "--- Independence Test Result for Color: 0 ---\n",
      "P value: 0.9301\n",
      "Conclusion: Fail to reject the null hypothesis (p >= 0.005555555555555556).\n",
      "           There is no significant evidence that 'flowX' and 'flowY' are dependent.\n",
      "\n",
      "--- Analyzing color group: 1 ---\n",
      "  - Selecting optimal K value via cross-validation...\n",
      "   - Dynamically generated marginal K candidates: [  8  10  12  15  18  23  28  35  43  52  65  80  98 121 149 184 227 279\n",
      " 344 424]\n",
      "   - Dynamically generated joint K candidates: [ 8  9 10 11 12 14 15 17 19 21 23 25 28 31 35 39 43 48 53 59]\n",
      "  - Optimal K_MARGINAL = 8, Optimal K_JOINT = 8\n",
      "  - Observed KL divergence = 0.1340\n"
     ]
    },
    {
     "name": "stderr",
     "output_type": "stream",
     "text": [
      "Simulating null distribution (Color 1): 100%|██████████| 1000/1000 [00:00<00:00, 1438.16it/s]\n"
     ]
    },
    {
     "name": "stdout",
     "output_type": "stream",
     "text": [
      "\n",
      "--- Independence Test Result for Color: 1 ---\n",
      "P value: 0.9281\n",
      "Conclusion: Fail to reject the null hypothesis (p >= 0.005555555555555556).\n",
      "           There is no significant evidence that 'flowX' and 'flowY' are dependent.\n",
      "\n",
      "--- Analyzing color group: 2 ---\n",
      "  - Selecting optimal K value via cross-validation...\n",
      "   - Dynamically generated marginal K candidates: [  8  10  12  15  18  23  28  35  43  52  65  80  98 121 149 184 227 279\n",
      " 344 424]\n",
      "   - Dynamically generated joint K candidates: [ 8  9 10 11 12 14 15 17 19 21 23 25 28 31 35 39 43 48 53 59]\n",
      "  - Optimal K_MARGINAL = 8, Optimal K_JOINT = 8\n",
      "  - Observed KL divergence = 0.1306\n"
     ]
    },
    {
     "name": "stderr",
     "output_type": "stream",
     "text": [
      "Simulating null distribution (Color 2): 100%|██████████| 1000/1000 [00:00<00:00, 1455.61it/s]\n"
     ]
    },
    {
     "name": "stdout",
     "output_type": "stream",
     "text": [
      "\n",
      "--- Independence Test Result for Color: 2 ---\n",
      "P value: 0.9870\n",
      "Conclusion: Fail to reject the null hypothesis (p >= 0.005555555555555556).\n",
      "           There is no significant evidence that 'flowX' and 'flowY' are dependent.\n",
      "\n",
      "Independence test completed.\n",
      "\n",
      "--- 3. Running Bivariate Equivalence Test ---\n",
      "\n",
      " ============ Running Bivariate Test ============\n",
      "# of Edge Pairs in Class1 : 1042\n",
      "# of Edge Pairs in Class2 : 1358\n",
      "Finding optimal K using cross-validation on combined data...\n",
      "Dynamically generated K candidates: [ 8  9 10 11 12 13 14 15 17 19 21 23 25 27 30 33 36 40 44 48]\n",
      "Optimal K selected via Cross-Validation: 8\n",
      "Observed KL = 0.3425\n"
     ]
    },
    {
     "name": "stderr",
     "output_type": "stream",
     "text": [
      "KL Under Null (Parallel):   3%|▎         | 28/1000 [00:01<00:49, 19.78it/s]/Users/jiaxin/Documents/Summer 2024/EFHT/Edge-Flow-Hypothesis-Tests/.conda/lib/python3.11/site-packages/joblib/externals/loky/process_executor.py:782: UserWarning: A worker stopped while some jobs were given to the executor. This can be caused by a too short worker timeout or by a memory leak.\n",
      "  warnings.warn(\n",
      "KL Under Null (Parallel): 100%|██████████| 1000/1000 [01:57<00:00,  8.53it/s]\n"
     ]
    },
    {
     "name": "stdout",
     "output_type": "stream",
     "text": [
      "\n",
      "Bivariate Test Result:\n",
      "Observed Symmetric KL Divergence: 0.3425\n",
      "P value: 0.1908\n",
      "Conclusion: Fail to reject the null hypothesis (p >= 0.016666666666666666). There is no significant evidence that the distributions are different.\n",
      "Appended results to: outputs/SmallWorld-Beta0.7_K13-Rho0.5_D4_W0.5_Pos-G1-8kNodes/summary_report.csv\n",
      "\n",
      "==================================================\n",
      "Analysis pipeline finished!\n",
      "--- Finished: SmallWorld-Beta0.7_K13-Rho0.5_D4_W0.5_Pos-G1-8kNodes_Sample27.csv ---\n",
      "\n",
      "--- Processing: SmallWorld-Beta0.7_K13-Rho0.5_D4_W0.5_Pos-G1-8kNodes_Sample28.csv ---\n",
      "Starting EFHT analysis - Batch ID: SmallWorld-Beta0.7_K13-Rho0.5_D4_W0.5_Pos-G1-8kNodes, Dataset ID: SmallWorld-Beta0.7_K13-Rho0.5_D4_W0.5_Pos-G1-8kNodes_Sample28\n",
      "Results for the current dataset will be saved in: outputs/SmallWorld-Beta0.7_K13-Rho0.5_D4_W0.5_Pos-G1-8kNodes/SmallWorld-Beta0.7_K13-Rho0.5_D4_W0.5_Pos-G1-8kNodes_Sample28\n",
      "The summary report will be saved in: outputs/SmallWorld-Beta0.7_K13-Rho0.5_D4_W0.5_Pos-G1-8kNodes\n",
      "\n",
      "--- 2. Loading and preprocessing data for selected tests ---\n"
     ]
    },
    {
     "name": "stderr",
     "output_type": "stream",
     "text": [
      "Processing Colors: 100%|██████████| 43/43 [01:31<00:00,  2.14s/it]\n",
      "/Users/jiaxin/Documents/Summer 2024/EFHT/Edge-Flow-Hypothesis-Tests/.conda/lib/python3.11/site-packages/joblib/externals/loky/process_executor.py:782: UserWarning: A worker stopped while some jobs were given to the executor. This can be caused by a too short worker timeout or by a memory leak.\n",
      "  warnings.warn(\n"
     ]
    },
    {
     "name": "stdout",
     "output_type": "stream",
     "text": [
      "\n",
      ">>> Starting statistical tests <<<\n",
      "\n",
      "--- 1. Running K-S Test ---\n",
      "\n",
      " ============ Running KS Test ============\n",
      "# of Edges in Class1 : 1342\n",
      "# of Edges in Class2 : 2037\n",
      "\n",
      "KS Test Result:\n",
      "KS_statistic D = 0.0160\n",
      "P value = 9.8286e-01\n",
      "Conclusion: Fail to reject the null hypothesis (p >= 0.016666666666666666), distributions may be the same.\n",
      "\n",
      "--- 2. Running Independence tests ---\n",
      "Performing independence test on the following Top 3 color groups: [0, 1, 2]\n",
      "\n",
      "--- Analyzing color group: 0 ---\n",
      "  - Selecting optimal K value via cross-validation...\n",
      "   - Dynamically generated marginal K candidates: [  8  10  12  15  18  23  28  35  43  52  65  80  98 121 149 184 227 279\n",
      " 344 424]\n",
      "   - Dynamically generated joint K candidates: [ 8  9 10 11 12 14 15 17 19 21 23 25 28 31 35 39 43 48 53 59]\n",
      "  - Optimal K_MARGINAL = 8, Optimal K_JOINT = 8\n",
      "  - Observed KL divergence = 0.1311\n"
     ]
    },
    {
     "name": "stderr",
     "output_type": "stream",
     "text": [
      "Simulating null distribution (Color 0): 100%|██████████| 1000/1000 [00:01<00:00, 616.59it/s]\n"
     ]
    },
    {
     "name": "stdout",
     "output_type": "stream",
     "text": [
      "\n",
      "--- Independence Test Result for Color: 0 ---\n",
      "P value: 0.0260\n",
      "Conclusion: Fail to reject the null hypothesis (p >= 0.005555555555555556).\n",
      "           There is no significant evidence that 'flowX' and 'flowY' are dependent.\n",
      "\n",
      "--- Analyzing color group: 1 ---\n",
      "  - Selecting optimal K value via cross-validation...\n",
      "   - Dynamically generated marginal K candidates: [  8  10  12  15  18  23  28  35  43  52  65  80  98 121 149 184 227 279\n",
      " 344 424]\n",
      "   - Dynamically generated joint K candidates: [ 8  9 10 11 12 14 15 17 19 21 23 25 28 31 35 39 43 48 53 59]\n",
      "  - Optimal K_MARGINAL = 8, Optimal K_JOINT = 8\n",
      "  - Observed KL divergence = 0.1277\n"
     ]
    },
    {
     "name": "stderr",
     "output_type": "stream",
     "text": [
      "Simulating null distribution (Color 1): 100%|██████████| 1000/1000 [00:00<00:00, 1543.86it/s]\n"
     ]
    },
    {
     "name": "stdout",
     "output_type": "stream",
     "text": [
      "\n",
      "--- Independence Test Result for Color: 1 ---\n",
      "P value: 0.6993\n",
      "Conclusion: Fail to reject the null hypothesis (p >= 0.005555555555555556).\n",
      "           There is no significant evidence that 'flowX' and 'flowY' are dependent.\n",
      "\n",
      "--- Analyzing color group: 2 ---\n",
      "  - Selecting optimal K value via cross-validation...\n",
      "   - Dynamically generated marginal K candidates: [  8  10  12  15  18  23  28  35  43  52  65  80  98 121 149 184 227 279\n",
      " 344 424]\n",
      "   - Dynamically generated joint K candidates: [ 8  9 10 11 12 14 15 17 19 21 23 25 28 31 35 39 43 48 53 59]\n",
      "  - Optimal K_MARGINAL = 8, Optimal K_JOINT = 8\n",
      "  - Observed KL divergence = 0.0892\n"
     ]
    },
    {
     "name": "stderr",
     "output_type": "stream",
     "text": [
      "Simulating null distribution (Color 2): 100%|██████████| 1000/1000 [00:00<00:00, 1542.02it/s]\n"
     ]
    },
    {
     "name": "stdout",
     "output_type": "stream",
     "text": [
      "\n",
      "--- Independence Test Result for Color: 2 ---\n",
      "P value: 0.6314\n",
      "Conclusion: Fail to reject the null hypothesis (p >= 0.005555555555555556).\n",
      "           There is no significant evidence that 'flowX' and 'flowY' are dependent.\n",
      "\n",
      "Independence test completed.\n",
      "\n",
      "--- 3. Running Bivariate Equivalence Test ---\n",
      "\n",
      " ============ Running Bivariate Test ============\n",
      "# of Edge Pairs in Class1 : 1042\n",
      "# of Edge Pairs in Class2 : 1358\n",
      "Finding optimal K using cross-validation on combined data...\n",
      "Dynamically generated K candidates: [ 8  9 10 11 12 13 14 15 17 19 21 23 25 27 30 33 36 40 44 48]\n",
      "Optimal K selected via Cross-Validation: 8\n",
      "Observed KL = 0.3462\n"
     ]
    },
    {
     "name": "stderr",
     "output_type": "stream",
     "text": [
      "KL Under Null (Parallel):   3%|▎         | 28/1000 [00:01<00:48, 20.07it/s]/Users/jiaxin/Documents/Summer 2024/EFHT/Edge-Flow-Hypothesis-Tests/.conda/lib/python3.11/site-packages/joblib/externals/loky/process_executor.py:782: UserWarning: A worker stopped while some jobs were given to the executor. This can be caused by a too short worker timeout or by a memory leak.\n",
      "  warnings.warn(\n",
      "KL Under Null (Parallel): 100%|██████████| 1000/1000 [01:58<00:00,  8.42it/s]\n"
     ]
    },
    {
     "name": "stdout",
     "output_type": "stream",
     "text": [
      "\n",
      "Bivariate Test Result:\n",
      "Observed Symmetric KL Divergence: 0.3462\n",
      "P value: 0.1598\n",
      "Conclusion: Fail to reject the null hypothesis (p >= 0.016666666666666666). There is no significant evidence that the distributions are different.\n",
      "Appended results to: outputs/SmallWorld-Beta0.7_K13-Rho0.5_D4_W0.5_Pos-G1-8kNodes/summary_report.csv\n",
      "\n",
      "==================================================\n",
      "Analysis pipeline finished!\n",
      "--- Finished: SmallWorld-Beta0.7_K13-Rho0.5_D4_W0.5_Pos-G1-8kNodes_Sample28.csv ---\n",
      "\n",
      "--- Processing: SmallWorld-Beta0.7_K13-Rho0.5_D4_W0.5_Pos-G1-8kNodes_Sample29.csv ---\n",
      "Starting EFHT analysis - Batch ID: SmallWorld-Beta0.7_K13-Rho0.5_D4_W0.5_Pos-G1-8kNodes, Dataset ID: SmallWorld-Beta0.7_K13-Rho0.5_D4_W0.5_Pos-G1-8kNodes_Sample29\n",
      "Results for the current dataset will be saved in: outputs/SmallWorld-Beta0.7_K13-Rho0.5_D4_W0.5_Pos-G1-8kNodes/SmallWorld-Beta0.7_K13-Rho0.5_D4_W0.5_Pos-G1-8kNodes_Sample29\n",
      "The summary report will be saved in: outputs/SmallWorld-Beta0.7_K13-Rho0.5_D4_W0.5_Pos-G1-8kNodes\n",
      "\n",
      "--- 2. Loading and preprocessing data for selected tests ---\n"
     ]
    },
    {
     "name": "stderr",
     "output_type": "stream",
     "text": [
      "Processing Colors: 100%|██████████| 43/43 [01:32<00:00,  2.15s/it]\n",
      "/Users/jiaxin/Documents/Summer 2024/EFHT/Edge-Flow-Hypothesis-Tests/.conda/lib/python3.11/site-packages/joblib/externals/loky/process_executor.py:782: UserWarning: A worker stopped while some jobs were given to the executor. This can be caused by a too short worker timeout or by a memory leak.\n",
      "  warnings.warn(\n"
     ]
    },
    {
     "name": "stdout",
     "output_type": "stream",
     "text": [
      "\n",
      ">>> Starting statistical tests <<<\n",
      "\n",
      "--- 1. Running K-S Test ---\n",
      "\n",
      " ============ Running KS Test ============\n",
      "# of Edges in Class1 : 1342\n",
      "# of Edges in Class2 : 2037\n",
      "\n",
      "KS Test Result:\n",
      "KS_statistic D = 0.0395\n",
      "P value = 1.5388e-01\n",
      "Conclusion: Fail to reject the null hypothesis (p >= 0.016666666666666666), distributions may be the same.\n",
      "\n",
      "--- 2. Running Independence tests ---\n",
      "Performing independence test on the following Top 3 color groups: [0, 1, 2]\n",
      "\n",
      "--- Analyzing color group: 0 ---\n",
      "  - Selecting optimal K value via cross-validation...\n",
      "   - Dynamically generated marginal K candidates: [  8  10  12  15  18  23  28  35  43  52  65  80  98 121 149 184 227 279\n",
      " 344 424]\n",
      "   - Dynamically generated joint K candidates: [ 8  9 10 11 12 14 15 17 19 21 23 25 28 31 35 39 43 48 53 59]\n",
      "  - Optimal K_MARGINAL = 8, Optimal K_JOINT = 8\n",
      "  - Observed KL divergence = 0.1504\n"
     ]
    },
    {
     "name": "stderr",
     "output_type": "stream",
     "text": [
      "Simulating null distribution (Color 0): 100%|██████████| 1000/1000 [00:01<00:00, 602.61it/s]\n"
     ]
    },
    {
     "name": "stdout",
     "output_type": "stream",
     "text": [
      "\n",
      "--- Independence Test Result for Color: 0 ---\n",
      "P value: 0.2527\n",
      "Conclusion: Fail to reject the null hypothesis (p >= 0.005555555555555556).\n",
      "           There is no significant evidence that 'flowX' and 'flowY' are dependent.\n",
      "\n",
      "--- Analyzing color group: 1 ---\n",
      "  - Selecting optimal K value via cross-validation...\n",
      "   - Dynamically generated marginal K candidates: [  8  10  12  15  18  23  28  35  43  52  65  80  98 121 149 184 227 279\n",
      " 344 424]\n",
      "   - Dynamically generated joint K candidates: [ 8  9 10 11 12 14 15 17 19 21 23 25 28 31 35 39 43 48 53 59]\n",
      "  - Optimal K_MARGINAL = 8, Optimal K_JOINT = 8\n",
      "  - Observed KL divergence = 0.1299\n"
     ]
    },
    {
     "name": "stderr",
     "output_type": "stream",
     "text": [
      "Simulating null distribution (Color 1): 100%|██████████| 1000/1000 [00:00<00:00, 1479.09it/s]\n"
     ]
    },
    {
     "name": "stdout",
     "output_type": "stream",
     "text": [
      "\n",
      "--- Independence Test Result for Color: 1 ---\n",
      "P value: 0.5125\n",
      "Conclusion: Fail to reject the null hypothesis (p >= 0.005555555555555556).\n",
      "           There is no significant evidence that 'flowX' and 'flowY' are dependent.\n",
      "\n",
      "--- Analyzing color group: 2 ---\n",
      "  - Selecting optimal K value via cross-validation...\n",
      "   - Dynamically generated marginal K candidates: [  8  10  12  15  18  23  28  35  43  52  65  80  98 121 149 184 227 279\n",
      " 344 424]\n",
      "   - Dynamically generated joint K candidates: [ 8  9 10 11 12 14 15 17 19 21 23 25 28 31 35 39 43 48 53 59]\n",
      "  - Optimal K_MARGINAL = 8, Optimal K_JOINT = 8\n",
      "  - Observed KL divergence = 0.1126\n"
     ]
    },
    {
     "name": "stderr",
     "output_type": "stream",
     "text": [
      "Simulating null distribution (Color 2): 100%|██████████| 1000/1000 [00:00<00:00, 1434.06it/s]\n"
     ]
    },
    {
     "name": "stdout",
     "output_type": "stream",
     "text": [
      "\n",
      "--- Independence Test Result for Color: 2 ---\n",
      "P value: 0.9540\n",
      "Conclusion: Fail to reject the null hypothesis (p >= 0.005555555555555556).\n",
      "           There is no significant evidence that 'flowX' and 'flowY' are dependent.\n",
      "\n",
      "Independence test completed.\n",
      "\n",
      "--- 3. Running Bivariate Equivalence Test ---\n",
      "\n",
      " ============ Running Bivariate Test ============\n",
      "# of Edge Pairs in Class1 : 1042\n",
      "# of Edge Pairs in Class2 : 1358\n",
      "Finding optimal K using cross-validation on combined data...\n",
      "Dynamically generated K candidates: [ 8  9 10 11 12 13 14 15 17 19 21 23 25 27 30 33 36 40 44 48]\n",
      "Optimal K selected via Cross-Validation: 8\n",
      "Observed KL = 0.2876\n"
     ]
    },
    {
     "name": "stderr",
     "output_type": "stream",
     "text": [
      "KL Under Null (Parallel):   3%|▎         | 28/1000 [00:01<00:50, 19.38it/s]/Users/jiaxin/Documents/Summer 2024/EFHT/Edge-Flow-Hypothesis-Tests/.conda/lib/python3.11/site-packages/joblib/externals/loky/process_executor.py:782: UserWarning: A worker stopped while some jobs were given to the executor. This can be caused by a too short worker timeout or by a memory leak.\n",
      "  warnings.warn(\n",
      "KL Under Null (Parallel): 100%|██████████| 1000/1000 [01:58<00:00,  8.45it/s]\n"
     ]
    },
    {
     "name": "stdout",
     "output_type": "stream",
     "text": [
      "\n",
      "Bivariate Test Result:\n",
      "Observed Symmetric KL Divergence: 0.2876\n",
      "P value: 0.9151\n",
      "Conclusion: Fail to reject the null hypothesis (p >= 0.016666666666666666). There is no significant evidence that the distributions are different.\n",
      "Appended results to: outputs/SmallWorld-Beta0.7_K13-Rho0.5_D4_W0.5_Pos-G1-8kNodes/summary_report.csv\n",
      "\n",
      "==================================================\n",
      "Analysis pipeline finished!\n",
      "--- Finished: SmallWorld-Beta0.7_K13-Rho0.5_D4_W0.5_Pos-G1-8kNodes_Sample29.csv ---\n",
      "\n",
      "--- Processing: SmallWorld-Beta0.7_K13-Rho0.5_D4_W0.5_Pos-G1-8kNodes_Sample30.csv ---\n",
      "Starting EFHT analysis - Batch ID: SmallWorld-Beta0.7_K13-Rho0.5_D4_W0.5_Pos-G1-8kNodes, Dataset ID: SmallWorld-Beta0.7_K13-Rho0.5_D4_W0.5_Pos-G1-8kNodes_Sample30\n",
      "Results for the current dataset will be saved in: outputs/SmallWorld-Beta0.7_K13-Rho0.5_D4_W0.5_Pos-G1-8kNodes/SmallWorld-Beta0.7_K13-Rho0.5_D4_W0.5_Pos-G1-8kNodes_Sample30\n",
      "The summary report will be saved in: outputs/SmallWorld-Beta0.7_K13-Rho0.5_D4_W0.5_Pos-G1-8kNodes\n",
      "\n",
      "--- 2. Loading and preprocessing data for selected tests ---\n"
     ]
    },
    {
     "name": "stderr",
     "output_type": "stream",
     "text": [
      "Processing Colors: 100%|██████████| 43/43 [01:30<00:00,  2.11s/it]\n",
      "/Users/jiaxin/Documents/Summer 2024/EFHT/Edge-Flow-Hypothesis-Tests/.conda/lib/python3.11/site-packages/joblib/externals/loky/process_executor.py:782: UserWarning: A worker stopped while some jobs were given to the executor. This can be caused by a too short worker timeout or by a memory leak.\n",
      "  warnings.warn(\n"
     ]
    },
    {
     "name": "stdout",
     "output_type": "stream",
     "text": [
      "\n",
      ">>> Starting statistical tests <<<\n",
      "\n",
      "--- 1. Running K-S Test ---\n",
      "\n",
      " ============ Running KS Test ============\n",
      "# of Edges in Class1 : 1342\n",
      "# of Edges in Class2 : 2037\n",
      "\n",
      "KS Test Result:\n",
      "KS_statistic D = 0.0347\n",
      "P value = 2.7733e-01\n",
      "Conclusion: Fail to reject the null hypothesis (p >= 0.016666666666666666), distributions may be the same.\n",
      "\n",
      "--- 2. Running Independence tests ---\n",
      "Performing independence test on the following Top 3 color groups: [0, 1, 2]\n",
      "\n",
      "--- Analyzing color group: 0 ---\n",
      "  - Selecting optimal K value via cross-validation...\n",
      "   - Dynamically generated marginal K candidates: [  8  10  12  15  18  23  28  35  43  52  65  80  98 121 149 184 227 279\n",
      " 344 424]\n",
      "   - Dynamically generated joint K candidates: [ 8  9 10 11 12 14 15 17 19 21 23 25 28 31 35 39 43 48 53 59]\n",
      "  - Optimal K_MARGINAL = 8, Optimal K_JOINT = 8\n",
      "  - Observed KL divergence = 0.1307\n"
     ]
    },
    {
     "name": "stderr",
     "output_type": "stream",
     "text": [
      "Simulating null distribution (Color 0): 100%|██████████| 1000/1000 [00:01<00:00, 602.17it/s]\n"
     ]
    },
    {
     "name": "stdout",
     "output_type": "stream",
     "text": [
      "\n",
      "--- Independence Test Result for Color: 0 ---\n",
      "P value: 0.2877\n",
      "Conclusion: Fail to reject the null hypothesis (p >= 0.005555555555555556).\n",
      "           There is no significant evidence that 'flowX' and 'flowY' are dependent.\n",
      "\n",
      "--- Analyzing color group: 1 ---\n",
      "  - Selecting optimal K value via cross-validation...\n",
      "   - Dynamically generated marginal K candidates: [  8  10  12  15  18  23  28  35  43  52  65  80  98 121 149 184 227 279\n",
      " 344 424]\n",
      "   - Dynamically generated joint K candidates: [ 8  9 10 11 12 14 15 17 19 21 23 25 28 31 35 39 43 48 53 59]\n",
      "  - Optimal K_MARGINAL = 8, Optimal K_JOINT = 8\n",
      "  - Observed KL divergence = 0.1703\n"
     ]
    },
    {
     "name": "stderr",
     "output_type": "stream",
     "text": [
      "Simulating null distribution (Color 1): 100%|██████████| 1000/1000 [00:00<00:00, 1477.08it/s]\n"
     ]
    },
    {
     "name": "stdout",
     "output_type": "stream",
     "text": [
      "\n",
      "--- Independence Test Result for Color: 1 ---\n",
      "P value: 0.0010\n",
      "Conclusion: Reject the null hypothesis (p < 0.005555555555555556).\n",
      "           The variables 'flowX' and 'flowY' are likely DEPENDENT for this color group.\n",
      "\n",
      "--- Analyzing color group: 2 ---\n",
      "  - Selecting optimal K value via cross-validation...\n",
      "   - Dynamically generated marginal K candidates: [  8  10  12  15  18  23  28  35  43  52  65  80  98 121 149 184 227 279\n",
      " 344 424]\n",
      "   - Dynamically generated joint K candidates: [ 8  9 10 11 12 14 15 17 19 21 23 25 28 31 35 39 43 48 53 59]\n",
      "  - Optimal K_MARGINAL = 8, Optimal K_JOINT = 8\n",
      "  - Observed KL divergence = 0.0873\n"
     ]
    },
    {
     "name": "stderr",
     "output_type": "stream",
     "text": [
      "Simulating null distribution (Color 2): 100%|██████████| 1000/1000 [00:00<00:00, 1468.89it/s]\n"
     ]
    },
    {
     "name": "stdout",
     "output_type": "stream",
     "text": [
      "\n",
      "--- Independence Test Result for Color: 2 ---\n",
      "P value: 0.9810\n",
      "Conclusion: Fail to reject the null hypothesis (p >= 0.005555555555555556).\n",
      "           There is no significant evidence that 'flowX' and 'flowY' are dependent.\n",
      "\n",
      "Independence test completed.\n",
      "\n",
      "--- 3. Running Bivariate Equivalence Test ---\n",
      "\n",
      " ============ Running Bivariate Test ============\n",
      "# of Edge Pairs in Class1 : 1042\n",
      "# of Edge Pairs in Class2 : 1358\n",
      "Finding optimal K using cross-validation on combined data...\n",
      "Dynamically generated K candidates: [ 8  9 10 11 12 13 14 15 17 19 21 23 25 27 30 33 36 40 44 48]\n",
      "Optimal K selected via Cross-Validation: 8\n",
      "Observed KL = 0.3372\n"
     ]
    },
    {
     "name": "stderr",
     "output_type": "stream",
     "text": [
      "KL Under Null (Parallel):   3%|▎         | 28/1000 [00:01<00:49, 19.54it/s]/Users/jiaxin/Documents/Summer 2024/EFHT/Edge-Flow-Hypothesis-Tests/.conda/lib/python3.11/site-packages/joblib/externals/loky/process_executor.py:782: UserWarning: A worker stopped while some jobs were given to the executor. This can be caused by a too short worker timeout or by a memory leak.\n",
      "  warnings.warn(\n",
      "KL Under Null (Parallel): 100%|██████████| 1000/1000 [01:56<00:00,  8.56it/s]\n"
     ]
    },
    {
     "name": "stdout",
     "output_type": "stream",
     "text": [
      "\n",
      "Bivariate Test Result:\n",
      "Observed Symmetric KL Divergence: 0.3372\n",
      "P value: 0.3387\n",
      "Conclusion: Fail to reject the null hypothesis (p >= 0.016666666666666666). There is no significant evidence that the distributions are different.\n",
      "Appended results to: outputs/SmallWorld-Beta0.7_K13-Rho0.5_D4_W0.5_Pos-G1-8kNodes/summary_report.csv\n",
      "\n",
      "==================================================\n",
      "Analysis pipeline finished!\n",
      "--- Finished: SmallWorld-Beta0.7_K13-Rho0.5_D4_W0.5_Pos-G1-8kNodes_Sample30.csv ---\n",
      "\n",
      "--- Processing: SmallWorld-Beta0.7_K13-Rho0.5_D4_W0.5_Pos-G1-8kNodes_Sample31.csv ---\n",
      "Starting EFHT analysis - Batch ID: SmallWorld-Beta0.7_K13-Rho0.5_D4_W0.5_Pos-G1-8kNodes, Dataset ID: SmallWorld-Beta0.7_K13-Rho0.5_D4_W0.5_Pos-G1-8kNodes_Sample31\n",
      "Results for the current dataset will be saved in: outputs/SmallWorld-Beta0.7_K13-Rho0.5_D4_W0.5_Pos-G1-8kNodes/SmallWorld-Beta0.7_K13-Rho0.5_D4_W0.5_Pos-G1-8kNodes_Sample31\n",
      "The summary report will be saved in: outputs/SmallWorld-Beta0.7_K13-Rho0.5_D4_W0.5_Pos-G1-8kNodes\n",
      "\n",
      "--- 2. Loading and preprocessing data for selected tests ---\n"
     ]
    },
    {
     "name": "stderr",
     "output_type": "stream",
     "text": [
      "Processing Colors: 100%|██████████| 43/43 [01:31<00:00,  2.14s/it]\n",
      "/Users/jiaxin/Documents/Summer 2024/EFHT/Edge-Flow-Hypothesis-Tests/.conda/lib/python3.11/site-packages/joblib/externals/loky/process_executor.py:782: UserWarning: A worker stopped while some jobs were given to the executor. This can be caused by a too short worker timeout or by a memory leak.\n",
      "  warnings.warn(\n"
     ]
    },
    {
     "name": "stdout",
     "output_type": "stream",
     "text": [
      "\n",
      ">>> Starting statistical tests <<<\n",
      "\n",
      "--- 1. Running K-S Test ---\n",
      "\n",
      " ============ Running KS Test ============\n",
      "# of Edges in Class1 : 1342\n",
      "# of Edges in Class2 : 2037\n",
      "\n",
      "KS Test Result:\n",
      "KS_statistic D = 0.0303\n",
      "P value = 4.3452e-01\n",
      "Conclusion: Fail to reject the null hypothesis (p >= 0.016666666666666666), distributions may be the same.\n",
      "\n",
      "--- 2. Running Independence tests ---\n",
      "Performing independence test on the following Top 3 color groups: [0, 1, 2]\n",
      "\n",
      "--- Analyzing color group: 0 ---\n",
      "  - Selecting optimal K value via cross-validation...\n",
      "   - Dynamically generated marginal K candidates: [  8  10  12  15  18  23  28  35  43  52  65  80  98 121 149 184 227 279\n",
      " 344 424]\n",
      "   - Dynamically generated joint K candidates: [ 8  9 10 11 12 14 15 17 19 21 23 25 28 31 35 39 43 48 53 59]\n",
      "  - Optimal K_MARGINAL = 8, Optimal K_JOINT = 8\n",
      "  - Observed KL divergence = 0.1218\n"
     ]
    },
    {
     "name": "stderr",
     "output_type": "stream",
     "text": [
      "Simulating null distribution (Color 0): 100%|██████████| 1000/1000 [00:01<00:00, 611.78it/s]\n"
     ]
    },
    {
     "name": "stdout",
     "output_type": "stream",
     "text": [
      "\n",
      "--- Independence Test Result for Color: 0 ---\n",
      "P value: 0.6194\n",
      "Conclusion: Fail to reject the null hypothesis (p >= 0.005555555555555556).\n",
      "           There is no significant evidence that 'flowX' and 'flowY' are dependent.\n",
      "\n",
      "--- Analyzing color group: 1 ---\n",
      "  - Selecting optimal K value via cross-validation...\n",
      "   - Dynamically generated marginal K candidates: [  8  10  12  15  18  23  28  35  43  52  65  80  98 121 149 184 227 279\n",
      " 344 424]\n",
      "   - Dynamically generated joint K candidates: [ 8  9 10 11 12 14 15 17 19 21 23 25 28 31 35 39 43 48 53 59]\n",
      "  - Optimal K_MARGINAL = 8, Optimal K_JOINT = 8\n",
      "  - Observed KL divergence = 0.1225\n"
     ]
    },
    {
     "name": "stderr",
     "output_type": "stream",
     "text": [
      "Simulating null distribution (Color 1): 100%|██████████| 1000/1000 [00:00<00:00, 1473.58it/s]\n"
     ]
    },
    {
     "name": "stdout",
     "output_type": "stream",
     "text": [
      "\n",
      "--- Independence Test Result for Color: 1 ---\n",
      "P value: 0.9211\n",
      "Conclusion: Fail to reject the null hypothesis (p >= 0.005555555555555556).\n",
      "           There is no significant evidence that 'flowX' and 'flowY' are dependent.\n",
      "\n",
      "--- Analyzing color group: 2 ---\n",
      "  - Selecting optimal K value via cross-validation...\n",
      "   - Dynamically generated marginal K candidates: [  8  10  12  15  18  23  28  35  43  52  65  80  98 121 149 184 227 279\n",
      " 344 424]\n",
      "   - Dynamically generated joint K candidates: [ 8  9 10 11 12 14 15 17 19 21 23 25 28 31 35 39 43 48 53 59]\n",
      "  - Optimal K_MARGINAL = 8, Optimal K_JOINT = 8\n",
      "  - Observed KL divergence = 0.1497\n"
     ]
    },
    {
     "name": "stderr",
     "output_type": "stream",
     "text": [
      "Simulating null distribution (Color 2): 100%|██████████| 1000/1000 [00:00<00:00, 1513.88it/s]\n"
     ]
    },
    {
     "name": "stdout",
     "output_type": "stream",
     "text": [
      "\n",
      "--- Independence Test Result for Color: 2 ---\n",
      "P value: 0.0450\n",
      "Conclusion: Fail to reject the null hypothesis (p >= 0.005555555555555556).\n",
      "           There is no significant evidence that 'flowX' and 'flowY' are dependent.\n",
      "\n",
      "Independence test completed.\n",
      "\n",
      "--- 3. Running Bivariate Equivalence Test ---\n",
      "\n",
      " ============ Running Bivariate Test ============\n",
      "# of Edge Pairs in Class1 : 1042\n",
      "# of Edge Pairs in Class2 : 1358\n",
      "Finding optimal K using cross-validation on combined data...\n",
      "Dynamically generated K candidates: [ 8  9 10 11 12 13 14 15 17 19 21 23 25 27 30 33 36 40 44 48]\n",
      "Optimal K selected via Cross-Validation: 8\n",
      "Observed KL = 0.3034\n"
     ]
    },
    {
     "name": "stderr",
     "output_type": "stream",
     "text": [
      "KL Under Null (Parallel):   3%|▎         | 28/1000 [00:01<00:49, 19.64it/s]/Users/jiaxin/Documents/Summer 2024/EFHT/Edge-Flow-Hypothesis-Tests/.conda/lib/python3.11/site-packages/joblib/externals/loky/process_executor.py:782: UserWarning: A worker stopped while some jobs were given to the executor. This can be caused by a too short worker timeout or by a memory leak.\n",
      "  warnings.warn(\n",
      "KL Under Null (Parallel): 100%|██████████| 1000/1000 [01:59<00:00,  8.39it/s]\n"
     ]
    },
    {
     "name": "stdout",
     "output_type": "stream",
     "text": [
      "\n",
      "Bivariate Test Result:\n",
      "Observed Symmetric KL Divergence: 0.3034\n",
      "P value: 0.7922\n",
      "Conclusion: Fail to reject the null hypothesis (p >= 0.016666666666666666). There is no significant evidence that the distributions are different.\n",
      "Appended results to: outputs/SmallWorld-Beta0.7_K13-Rho0.5_D4_W0.5_Pos-G1-8kNodes/summary_report.csv\n",
      "\n",
      "==================================================\n",
      "Analysis pipeline finished!\n",
      "--- Finished: SmallWorld-Beta0.7_K13-Rho0.5_D4_W0.5_Pos-G1-8kNodes_Sample31.csv ---\n",
      "\n",
      "--- Processing: SmallWorld-Beta0.7_K13-Rho0.5_D4_W0.5_Pos-G1-8kNodes_Sample32.csv ---\n",
      "Starting EFHT analysis - Batch ID: SmallWorld-Beta0.7_K13-Rho0.5_D4_W0.5_Pos-G1-8kNodes, Dataset ID: SmallWorld-Beta0.7_K13-Rho0.5_D4_W0.5_Pos-G1-8kNodes_Sample32\n",
      "Results for the current dataset will be saved in: outputs/SmallWorld-Beta0.7_K13-Rho0.5_D4_W0.5_Pos-G1-8kNodes/SmallWorld-Beta0.7_K13-Rho0.5_D4_W0.5_Pos-G1-8kNodes_Sample32\n",
      "The summary report will be saved in: outputs/SmallWorld-Beta0.7_K13-Rho0.5_D4_W0.5_Pos-G1-8kNodes\n",
      "\n",
      "--- 2. Loading and preprocessing data for selected tests ---\n"
     ]
    },
    {
     "name": "stderr",
     "output_type": "stream",
     "text": [
      "Processing Colors: 100%|██████████| 43/43 [01:32<00:00,  2.15s/it]\n",
      "/Users/jiaxin/Documents/Summer 2024/EFHT/Edge-Flow-Hypothesis-Tests/.conda/lib/python3.11/site-packages/joblib/externals/loky/process_executor.py:782: UserWarning: A worker stopped while some jobs were given to the executor. This can be caused by a too short worker timeout or by a memory leak.\n",
      "  warnings.warn(\n"
     ]
    },
    {
     "name": "stdout",
     "output_type": "stream",
     "text": [
      "\n",
      ">>> Starting statistical tests <<<\n",
      "\n",
      "--- 1. Running K-S Test ---\n",
      "\n",
      " ============ Running KS Test ============\n",
      "# of Edges in Class1 : 1342\n",
      "# of Edges in Class2 : 2037\n",
      "\n",
      "KS Test Result:\n",
      "KS_statistic D = 0.0521\n",
      "P value = 2.3706e-02\n",
      "Conclusion: Fail to reject the null hypothesis (p >= 0.016666666666666666), distributions may be the same.\n",
      "\n",
      "--- 2. Running Independence tests ---\n",
      "Performing independence test on the following Top 3 color groups: [0, 1, 2]\n",
      "\n",
      "--- Analyzing color group: 0 ---\n",
      "  - Selecting optimal K value via cross-validation...\n",
      "   - Dynamically generated marginal K candidates: [  8  10  12  15  18  23  28  35  43  52  65  80  98 121 149 184 227 279\n",
      " 344 424]\n",
      "   - Dynamically generated joint K candidates: [ 8  9 10 11 12 14 15 17 19 21 23 25 28 31 35 39 43 48 53 59]\n",
      "  - Optimal K_MARGINAL = 8, Optimal K_JOINT = 8\n",
      "  - Observed KL divergence = 0.1393\n"
     ]
    },
    {
     "name": "stderr",
     "output_type": "stream",
     "text": [
      "Simulating null distribution (Color 0): 100%|██████████| 1000/1000 [00:01<00:00, 608.33it/s]\n"
     ]
    },
    {
     "name": "stdout",
     "output_type": "stream",
     "text": [
      "\n",
      "--- Independence Test Result for Color: 0 ---\n",
      "P value: 0.7313\n",
      "Conclusion: Fail to reject the null hypothesis (p >= 0.005555555555555556).\n",
      "           There is no significant evidence that 'flowX' and 'flowY' are dependent.\n",
      "\n",
      "--- Analyzing color group: 1 ---\n",
      "  - Selecting optimal K value via cross-validation...\n",
      "   - Dynamically generated marginal K candidates: [  8  10  12  15  18  23  28  35  43  52  65  80  98 121 149 184 227 279\n",
      " 344 424]\n",
      "   - Dynamically generated joint K candidates: [ 8  9 10 11 12 14 15 17 19 21 23 25 28 31 35 39 43 48 53 59]\n",
      "  - Optimal K_MARGINAL = 8, Optimal K_JOINT = 8\n",
      "  - Observed KL divergence = 0.1354\n"
     ]
    },
    {
     "name": "stderr",
     "output_type": "stream",
     "text": [
      "Simulating null distribution (Color 1): 100%|██████████| 1000/1000 [00:00<00:00, 1511.92it/s]\n"
     ]
    },
    {
     "name": "stdout",
     "output_type": "stream",
     "text": [
      "\n",
      "--- Independence Test Result for Color: 1 ---\n",
      "P value: 0.9161\n",
      "Conclusion: Fail to reject the null hypothesis (p >= 0.005555555555555556).\n",
      "           There is no significant evidence that 'flowX' and 'flowY' are dependent.\n",
      "\n",
      "--- Analyzing color group: 2 ---\n",
      "  - Selecting optimal K value via cross-validation...\n",
      "   - Dynamically generated marginal K candidates: [  8  10  12  15  18  23  28  35  43  52  65  80  98 121 149 184 227 279\n",
      " 344 424]\n",
      "   - Dynamically generated joint K candidates: [ 8  9 10 11 12 14 15 17 19 21 23 25 28 31 35 39 43 48 53 59]\n",
      "  - Optimal K_MARGINAL = 8, Optimal K_JOINT = 8\n",
      "  - Observed KL divergence = 0.1349\n"
     ]
    },
    {
     "name": "stderr",
     "output_type": "stream",
     "text": [
      "Simulating null distribution (Color 2): 100%|██████████| 1000/1000 [00:00<00:00, 1514.49it/s]\n"
     ]
    },
    {
     "name": "stdout",
     "output_type": "stream",
     "text": [
      "\n",
      "--- Independence Test Result for Color: 2 ---\n",
      "P value: 0.9510\n",
      "Conclusion: Fail to reject the null hypothesis (p >= 0.005555555555555556).\n",
      "           There is no significant evidence that 'flowX' and 'flowY' are dependent.\n",
      "\n",
      "Independence test completed.\n",
      "\n",
      "--- 3. Running Bivariate Equivalence Test ---\n",
      "\n",
      " ============ Running Bivariate Test ============\n",
      "# of Edge Pairs in Class1 : 1042\n",
      "# of Edge Pairs in Class2 : 1358\n",
      "Finding optimal K using cross-validation on combined data...\n",
      "Dynamically generated K candidates: [ 8  9 10 11 12 13 14 15 17 19 21 23 25 27 30 33 36 40 44 48]\n",
      "Optimal K selected via Cross-Validation: 8\n",
      "Observed KL = 0.2820\n"
     ]
    },
    {
     "name": "stderr",
     "output_type": "stream",
     "text": [
      "KL Under Null (Parallel):   3%|▎         | 28/1000 [00:01<00:50, 19.40it/s]/Users/jiaxin/Documents/Summer 2024/EFHT/Edge-Flow-Hypothesis-Tests/.conda/lib/python3.11/site-packages/joblib/externals/loky/process_executor.py:782: UserWarning: A worker stopped while some jobs were given to the executor. This can be caused by a too short worker timeout or by a memory leak.\n",
      "  warnings.warn(\n",
      "KL Under Null (Parallel): 100%|██████████| 1000/1000 [01:57<00:00,  8.54it/s]\n"
     ]
    },
    {
     "name": "stdout",
     "output_type": "stream",
     "text": [
      "\n",
      "Bivariate Test Result:\n",
      "Observed Symmetric KL Divergence: 0.2820\n",
      "P value: 0.9630\n",
      "Conclusion: Fail to reject the null hypothesis (p >= 0.016666666666666666). There is no significant evidence that the distributions are different.\n",
      "Appended results to: outputs/SmallWorld-Beta0.7_K13-Rho0.5_D4_W0.5_Pos-G1-8kNodes/summary_report.csv\n",
      "\n",
      "==================================================\n",
      "Analysis pipeline finished!\n",
      "--- Finished: SmallWorld-Beta0.7_K13-Rho0.5_D4_W0.5_Pos-G1-8kNodes_Sample32.csv ---\n",
      "\n",
      "--- Processing: SmallWorld-Beta0.7_K13-Rho0.5_D4_W0.5_Pos-G1-8kNodes_Sample33.csv ---\n",
      "Starting EFHT analysis - Batch ID: SmallWorld-Beta0.7_K13-Rho0.5_D4_W0.5_Pos-G1-8kNodes, Dataset ID: SmallWorld-Beta0.7_K13-Rho0.5_D4_W0.5_Pos-G1-8kNodes_Sample33\n",
      "Results for the current dataset will be saved in: outputs/SmallWorld-Beta0.7_K13-Rho0.5_D4_W0.5_Pos-G1-8kNodes/SmallWorld-Beta0.7_K13-Rho0.5_D4_W0.5_Pos-G1-8kNodes_Sample33\n",
      "The summary report will be saved in: outputs/SmallWorld-Beta0.7_K13-Rho0.5_D4_W0.5_Pos-G1-8kNodes\n",
      "\n",
      "--- 2. Loading and preprocessing data for selected tests ---\n"
     ]
    },
    {
     "name": "stderr",
     "output_type": "stream",
     "text": [
      "Processing Colors: 100%|██████████| 43/43 [01:32<00:00,  2.16s/it]\n",
      "/Users/jiaxin/Documents/Summer 2024/EFHT/Edge-Flow-Hypothesis-Tests/.conda/lib/python3.11/site-packages/joblib/externals/loky/process_executor.py:782: UserWarning: A worker stopped while some jobs were given to the executor. This can be caused by a too short worker timeout or by a memory leak.\n",
      "  warnings.warn(\n"
     ]
    },
    {
     "name": "stdout",
     "output_type": "stream",
     "text": [
      "\n",
      ">>> Starting statistical tests <<<\n",
      "\n",
      "--- 1. Running K-S Test ---\n",
      "\n",
      " ============ Running KS Test ============\n",
      "# of Edges in Class1 : 1342\n",
      "# of Edges in Class2 : 2037\n",
      "\n",
      "KS Test Result:\n",
      "KS_statistic D = 0.0361\n",
      "P value = 2.3565e-01\n",
      "Conclusion: Fail to reject the null hypothesis (p >= 0.016666666666666666), distributions may be the same.\n",
      "\n",
      "--- 2. Running Independence tests ---\n",
      "Performing independence test on the following Top 3 color groups: [0, 1, 2]\n",
      "\n",
      "--- Analyzing color group: 0 ---\n",
      "  - Selecting optimal K value via cross-validation...\n",
      "   - Dynamically generated marginal K candidates: [  8  10  12  15  18  23  28  35  43  52  65  80  98 121 149 184 227 279\n",
      " 344 424]\n",
      "   - Dynamically generated joint K candidates: [ 8  9 10 11 12 14 15 17 19 21 23 25 28 31 35 39 43 48 53 59]\n",
      "  - Optimal K_MARGINAL = 8, Optimal K_JOINT = 8\n",
      "  - Observed KL divergence = 0.1481\n"
     ]
    },
    {
     "name": "stderr",
     "output_type": "stream",
     "text": [
      "Simulating null distribution (Color 0):   3%|▎         | 28/1000 [00:00<00:31, 30.97it/s]/Users/jiaxin/Documents/Summer 2024/EFHT/Edge-Flow-Hypothesis-Tests/.conda/lib/python3.11/site-packages/joblib/externals/loky/process_executor.py:782: UserWarning: A worker stopped while some jobs were given to the executor. This can be caused by a too short worker timeout or by a memory leak.\n",
      "  warnings.warn(\n",
      "Simulating null distribution (Color 0): 100%|██████████| 1000/1000 [00:01<00:00, 568.80it/s]\n"
     ]
    },
    {
     "name": "stdout",
     "output_type": "stream",
     "text": [
      "\n",
      "--- Independence Test Result for Color: 0 ---\n",
      "P value: 0.2517\n",
      "Conclusion: Fail to reject the null hypothesis (p >= 0.005555555555555556).\n",
      "           There is no significant evidence that 'flowX' and 'flowY' are dependent.\n",
      "\n",
      "--- Analyzing color group: 1 ---\n",
      "  - Selecting optimal K value via cross-validation...\n",
      "   - Dynamically generated marginal K candidates: [  8  10  12  15  18  23  28  35  43  52  65  80  98 121 149 184 227 279\n",
      " 344 424]\n",
      "   - Dynamically generated joint K candidates: [ 8  9 10 11 12 14 15 17 19 21 23 25 28 31 35 39 43 48 53 59]\n",
      "  - Optimal K_MARGINAL = 8, Optimal K_JOINT = 8\n",
      "  - Observed KL divergence = 0.1288\n"
     ]
    },
    {
     "name": "stderr",
     "output_type": "stream",
     "text": [
      "Simulating null distribution (Color 1): 100%|██████████| 1000/1000 [00:00<00:00, 1444.13it/s]\n"
     ]
    },
    {
     "name": "stdout",
     "output_type": "stream",
     "text": [
      "\n",
      "--- Independence Test Result for Color: 1 ---\n",
      "P value: 0.2028\n",
      "Conclusion: Fail to reject the null hypothesis (p >= 0.005555555555555556).\n",
      "           There is no significant evidence that 'flowX' and 'flowY' are dependent.\n",
      "\n",
      "--- Analyzing color group: 2 ---\n",
      "  - Selecting optimal K value via cross-validation...\n",
      "   - Dynamically generated marginal K candidates: [  8  10  12  15  18  23  28  35  43  52  65  80  98 121 149 184 227 279\n",
      " 344 424]\n",
      "   - Dynamically generated joint K candidates: [ 8  9 10 11 12 14 15 17 19 21 23 25 28 31 35 39 43 48 53 59]\n",
      "  - Optimal K_MARGINAL = 8, Optimal K_JOINT = 8\n",
      "  - Observed KL divergence = 0.1105\n"
     ]
    },
    {
     "name": "stderr",
     "output_type": "stream",
     "text": [
      "Simulating null distribution (Color 2): 100%|██████████| 1000/1000 [00:00<00:00, 1567.16it/s]\n"
     ]
    },
    {
     "name": "stdout",
     "output_type": "stream",
     "text": [
      "\n",
      "--- Independence Test Result for Color: 2 ---\n",
      "P value: 0.7962\n",
      "Conclusion: Fail to reject the null hypothesis (p >= 0.005555555555555556).\n",
      "           There is no significant evidence that 'flowX' and 'flowY' are dependent.\n",
      "\n",
      "Independence test completed.\n",
      "\n",
      "--- 3. Running Bivariate Equivalence Test ---\n",
      "\n",
      " ============ Running Bivariate Test ============\n",
      "# of Edge Pairs in Class1 : 1042\n",
      "# of Edge Pairs in Class2 : 1358\n",
      "Finding optimal K using cross-validation on combined data...\n",
      "Dynamically generated K candidates: [ 8  9 10 11 12 13 14 15 17 19 21 23 25 27 30 33 36 40 44 48]\n",
      "Optimal K selected via Cross-Validation: 48\n",
      "Observed KL = 0.0576\n"
     ]
    },
    {
     "name": "stderr",
     "output_type": "stream",
     "text": [
      "KL Under Null (Parallel):   3%|▎         | 28/1000 [00:05<03:01,  5.35it/s]/Users/jiaxin/Documents/Summer 2024/EFHT/Edge-Flow-Hypothesis-Tests/.conda/lib/python3.11/site-packages/joblib/externals/loky/process_executor.py:782: UserWarning: A worker stopped while some jobs were given to the executor. This can be caused by a too short worker timeout or by a memory leak.\n",
      "  warnings.warn(\n",
      "KL Under Null (Parallel): 100%|██████████| 1000/1000 [06:32<00:00,  2.54it/s]\n"
     ]
    },
    {
     "name": "stdout",
     "output_type": "stream",
     "text": [
      "\n",
      "Bivariate Test Result:\n",
      "Observed Symmetric KL Divergence: 0.0576\n",
      "P value: 0.1229\n",
      "Conclusion: Fail to reject the null hypothesis (p >= 0.016666666666666666). There is no significant evidence that the distributions are different.\n",
      "Appended results to: outputs/SmallWorld-Beta0.7_K13-Rho0.5_D4_W0.5_Pos-G1-8kNodes/summary_report.csv\n",
      "\n",
      "==================================================\n",
      "Analysis pipeline finished!\n",
      "--- Finished: SmallWorld-Beta0.7_K13-Rho0.5_D4_W0.5_Pos-G1-8kNodes_Sample33.csv ---\n",
      "\n",
      "--- Processing: SmallWorld-Beta0.7_K13-Rho0.5_D4_W0.5_Pos-G1-8kNodes_Sample34.csv ---\n",
      "Starting EFHT analysis - Batch ID: SmallWorld-Beta0.7_K13-Rho0.5_D4_W0.5_Pos-G1-8kNodes, Dataset ID: SmallWorld-Beta0.7_K13-Rho0.5_D4_W0.5_Pos-G1-8kNodes_Sample34\n",
      "Results for the current dataset will be saved in: outputs/SmallWorld-Beta0.7_K13-Rho0.5_D4_W0.5_Pos-G1-8kNodes/SmallWorld-Beta0.7_K13-Rho0.5_D4_W0.5_Pos-G1-8kNodes_Sample34\n",
      "The summary report will be saved in: outputs/SmallWorld-Beta0.7_K13-Rho0.5_D4_W0.5_Pos-G1-8kNodes\n",
      "\n",
      "--- 2. Loading and preprocessing data for selected tests ---\n"
     ]
    },
    {
     "name": "stderr",
     "output_type": "stream",
     "text": [
      "Processing Colors: 100%|██████████| 43/43 [01:32<00:00,  2.15s/it]\n",
      "/Users/jiaxin/Documents/Summer 2024/EFHT/Edge-Flow-Hypothesis-Tests/.conda/lib/python3.11/site-packages/joblib/externals/loky/process_executor.py:782: UserWarning: A worker stopped while some jobs were given to the executor. This can be caused by a too short worker timeout or by a memory leak.\n",
      "  warnings.warn(\n"
     ]
    },
    {
     "name": "stdout",
     "output_type": "stream",
     "text": [
      "\n",
      ">>> Starting statistical tests <<<\n",
      "\n",
      "--- 1. Running K-S Test ---\n",
      "\n",
      " ============ Running KS Test ============\n",
      "# of Edges in Class1 : 1342\n",
      "# of Edges in Class2 : 2037\n",
      "\n",
      "KS Test Result:\n",
      "KS_statistic D = 0.0590\n",
      "P value = 6.7573e-03\n",
      "Conclusion: Reject the null hypothesis (p < 0.016666666666666666), distributions are different.\n",
      "\n",
      "--- 2. Running Independence tests ---\n",
      "Performing independence test on the following Top 3 color groups: [0, 1, 2]\n",
      "\n",
      "--- Analyzing color group: 0 ---\n",
      "  - Selecting optimal K value via cross-validation...\n",
      "   - Dynamically generated marginal K candidates: [  8  10  12  15  18  23  28  35  43  52  65  80  98 121 149 184 227 279\n",
      " 344 424]\n",
      "   - Dynamically generated joint K candidates: [ 8  9 10 11 12 14 15 17 19 21 23 25 28 31 35 39 43 48 53 59]\n",
      "  - Optimal K_MARGINAL = 8, Optimal K_JOINT = 8\n",
      "  - Observed KL divergence = 0.1250\n"
     ]
    },
    {
     "name": "stderr",
     "output_type": "stream",
     "text": [
      "Simulating null distribution (Color 0): 100%|██████████| 1000/1000 [00:01<00:00, 624.14it/s]\n"
     ]
    },
    {
     "name": "stdout",
     "output_type": "stream",
     "text": [
      "\n",
      "--- Independence Test Result for Color: 0 ---\n",
      "P value: 0.9630\n",
      "Conclusion: Fail to reject the null hypothesis (p >= 0.005555555555555556).\n",
      "           There is no significant evidence that 'flowX' and 'flowY' are dependent.\n",
      "\n",
      "--- Analyzing color group: 1 ---\n",
      "  - Selecting optimal K value via cross-validation...\n",
      "   - Dynamically generated marginal K candidates: [  8  10  12  15  18  23  28  35  43  52  65  80  98 121 149 184 227 279\n",
      " 344 424]\n",
      "   - Dynamically generated joint K candidates: [ 8  9 10 11 12 14 15 17 19 21 23 25 28 31 35 39 43 48 53 59]\n",
      "  - Optimal K_MARGINAL = 8, Optimal K_JOINT = 8\n",
      "  - Observed KL divergence = 0.1368\n"
     ]
    },
    {
     "name": "stderr",
     "output_type": "stream",
     "text": [
      "Simulating null distribution (Color 1): 100%|██████████| 1000/1000 [00:00<00:00, 1540.03it/s]\n"
     ]
    },
    {
     "name": "stdout",
     "output_type": "stream",
     "text": [
      "\n",
      "--- Independence Test Result for Color: 1 ---\n",
      "P value: 0.8891\n",
      "Conclusion: Fail to reject the null hypothesis (p >= 0.005555555555555556).\n",
      "           There is no significant evidence that 'flowX' and 'flowY' are dependent.\n",
      "\n",
      "--- Analyzing color group: 2 ---\n",
      "  - Selecting optimal K value via cross-validation...\n",
      "   - Dynamically generated marginal K candidates: [  8  10  12  15  18  23  28  35  43  52  65  80  98 121 149 184 227 279\n",
      " 344 424]\n",
      "   - Dynamically generated joint K candidates: [ 8  9 10 11 12 14 15 17 19 21 23 25 28 31 35 39 43 48 53 59]\n",
      "  - Optimal K_MARGINAL = 8, Optimal K_JOINT = 8\n",
      "  - Observed KL divergence = 0.1199\n"
     ]
    },
    {
     "name": "stderr",
     "output_type": "stream",
     "text": [
      "Simulating null distribution (Color 2): 100%|██████████| 1000/1000 [00:00<00:00, 1623.75it/s]\n"
     ]
    },
    {
     "name": "stdout",
     "output_type": "stream",
     "text": [
      "\n",
      "--- Independence Test Result for Color: 2 ---\n",
      "P value: 0.9900\n",
      "Conclusion: Fail to reject the null hypothesis (p >= 0.005555555555555556).\n",
      "           There is no significant evidence that 'flowX' and 'flowY' are dependent.\n",
      "\n",
      "Independence test completed.\n",
      "\n",
      "--- 3. Running Bivariate Equivalence Test ---\n",
      "\n",
      " ============ Running Bivariate Test ============\n",
      "# of Edge Pairs in Class1 : 1042\n",
      "# of Edge Pairs in Class2 : 1358\n",
      "Finding optimal K using cross-validation on combined data...\n",
      "Dynamically generated K candidates: [ 8  9 10 11 12 13 14 15 17 19 21 23 25 27 30 33 36 40 44 48]\n",
      "Optimal K selected via Cross-Validation: 8\n",
      "Observed KL = 0.3508\n"
     ]
    },
    {
     "name": "stderr",
     "output_type": "stream",
     "text": [
      "KL Under Null (Parallel):   3%|▎         | 28/1000 [00:01<00:50, 19.40it/s]/Users/jiaxin/Documents/Summer 2024/EFHT/Edge-Flow-Hypothesis-Tests/.conda/lib/python3.11/site-packages/joblib/externals/loky/process_executor.py:782: UserWarning: A worker stopped while some jobs were given to the executor. This can be caused by a too short worker timeout or by a memory leak.\n",
      "  warnings.warn(\n",
      "KL Under Null (Parallel): 100%|██████████| 1000/1000 [01:58<00:00,  8.47it/s]\n"
     ]
    },
    {
     "name": "stdout",
     "output_type": "stream",
     "text": [
      "\n",
      "Bivariate Test Result:\n",
      "Observed Symmetric KL Divergence: 0.3508\n",
      "P value: 0.1788\n",
      "Conclusion: Fail to reject the null hypothesis (p >= 0.016666666666666666). There is no significant evidence that the distributions are different.\n",
      "Appended results to: outputs/SmallWorld-Beta0.7_K13-Rho0.5_D4_W0.5_Pos-G1-8kNodes/summary_report.csv\n",
      "\n",
      "==================================================\n",
      "Analysis pipeline finished!\n",
      "--- Finished: SmallWorld-Beta0.7_K13-Rho0.5_D4_W0.5_Pos-G1-8kNodes_Sample34.csv ---\n",
      "\n",
      "--- Processing: SmallWorld-Beta0.7_K13-Rho0.5_D4_W0.5_Pos-G1-8kNodes_Sample35.csv ---\n",
      "Starting EFHT analysis - Batch ID: SmallWorld-Beta0.7_K13-Rho0.5_D4_W0.5_Pos-G1-8kNodes, Dataset ID: SmallWorld-Beta0.7_K13-Rho0.5_D4_W0.5_Pos-G1-8kNodes_Sample35\n",
      "Results for the current dataset will be saved in: outputs/SmallWorld-Beta0.7_K13-Rho0.5_D4_W0.5_Pos-G1-8kNodes/SmallWorld-Beta0.7_K13-Rho0.5_D4_W0.5_Pos-G1-8kNodes_Sample35\n",
      "The summary report will be saved in: outputs/SmallWorld-Beta0.7_K13-Rho0.5_D4_W0.5_Pos-G1-8kNodes\n",
      "\n",
      "--- 2. Loading and preprocessing data for selected tests ---\n"
     ]
    },
    {
     "name": "stderr",
     "output_type": "stream",
     "text": [
      "Processing Colors: 100%|██████████| 43/43 [01:32<00:00,  2.14s/it]\n",
      "/Users/jiaxin/Documents/Summer 2024/EFHT/Edge-Flow-Hypothesis-Tests/.conda/lib/python3.11/site-packages/joblib/externals/loky/process_executor.py:782: UserWarning: A worker stopped while some jobs were given to the executor. This can be caused by a too short worker timeout or by a memory leak.\n",
      "  warnings.warn(\n"
     ]
    },
    {
     "name": "stdout",
     "output_type": "stream",
     "text": [
      "\n",
      ">>> Starting statistical tests <<<\n",
      "\n",
      "--- 1. Running K-S Test ---\n",
      "\n",
      " ============ Running KS Test ============\n",
      "# of Edges in Class1 : 1342\n",
      "# of Edges in Class2 : 2037\n",
      "\n",
      "KS Test Result:\n",
      "KS_statistic D = 0.0164\n",
      "P value = 9.7832e-01\n",
      "Conclusion: Fail to reject the null hypothesis (p >= 0.016666666666666666), distributions may be the same.\n",
      "\n",
      "--- 2. Running Independence tests ---\n",
      "Performing independence test on the following Top 3 color groups: [0, 1, 2]\n",
      "\n",
      "--- Analyzing color group: 0 ---\n",
      "  - Selecting optimal K value via cross-validation...\n",
      "   - Dynamically generated marginal K candidates: [  8  10  12  15  18  23  28  35  43  52  65  80  98 121 149 184 227 279\n",
      " 344 424]\n",
      "   - Dynamically generated joint K candidates: [ 8  9 10 11 12 14 15 17 19 21 23 25 28 31 35 39 43 48 53 59]\n",
      "  - Optimal K_MARGINAL = 8, Optimal K_JOINT = 8\n",
      "  - Observed KL divergence = 0.1038\n"
     ]
    },
    {
     "name": "stderr",
     "output_type": "stream",
     "text": [
      "Simulating null distribution (Color 0): 100%|██████████| 1000/1000 [00:01<00:00, 600.20it/s]\n"
     ]
    },
    {
     "name": "stdout",
     "output_type": "stream",
     "text": [
      "\n",
      "--- Independence Test Result for Color: 0 ---\n",
      "P value: 0.9461\n",
      "Conclusion: Fail to reject the null hypothesis (p >= 0.005555555555555556).\n",
      "           There is no significant evidence that 'flowX' and 'flowY' are dependent.\n",
      "\n",
      "--- Analyzing color group: 1 ---\n",
      "  - Selecting optimal K value via cross-validation...\n",
      "   - Dynamically generated marginal K candidates: [  8  10  12  15  18  23  28  35  43  52  65  80  98 121 149 184 227 279\n",
      " 344 424]\n",
      "   - Dynamically generated joint K candidates: [ 8  9 10 11 12 14 15 17 19 21 23 25 28 31 35 39 43 48 53 59]\n",
      "  - Optimal K_MARGINAL = 8, Optimal K_JOINT = 8\n",
      "  - Observed KL divergence = 0.1523\n"
     ]
    },
    {
     "name": "stderr",
     "output_type": "stream",
     "text": [
      "Simulating null distribution (Color 1): 100%|██████████| 1000/1000 [00:00<00:00, 1403.88it/s]\n"
     ]
    },
    {
     "name": "stdout",
     "output_type": "stream",
     "text": [
      "\n",
      "--- Independence Test Result for Color: 1 ---\n",
      "P value: 0.1728\n",
      "Conclusion: Fail to reject the null hypothesis (p >= 0.005555555555555556).\n",
      "           There is no significant evidence that 'flowX' and 'flowY' are dependent.\n",
      "\n",
      "--- Analyzing color group: 2 ---\n",
      "  - Selecting optimal K value via cross-validation...\n",
      "   - Dynamically generated marginal K candidates: [  8  10  12  15  18  23  28  35  43  52  65  80  98 121 149 184 227 279\n",
      " 344 424]\n",
      "   - Dynamically generated joint K candidates: [ 8  9 10 11 12 14 15 17 19 21 23 25 28 31 35 39 43 48 53 59]\n",
      "  - Optimal K_MARGINAL = 8, Optimal K_JOINT = 8\n",
      "  - Observed KL divergence = 0.0775\n"
     ]
    },
    {
     "name": "stderr",
     "output_type": "stream",
     "text": [
      "Simulating null distribution (Color 2): 100%|██████████| 1000/1000 [00:00<00:00, 1497.34it/s]\n"
     ]
    },
    {
     "name": "stdout",
     "output_type": "stream",
     "text": [
      "\n",
      "--- Independence Test Result for Color: 2 ---\n",
      "P value: 0.9990\n",
      "Conclusion: Fail to reject the null hypothesis (p >= 0.005555555555555556).\n",
      "           There is no significant evidence that 'flowX' and 'flowY' are dependent.\n",
      "\n",
      "Independence test completed.\n",
      "\n",
      "--- 3. Running Bivariate Equivalence Test ---\n",
      "\n",
      " ============ Running Bivariate Test ============\n",
      "# of Edge Pairs in Class1 : 1042\n",
      "# of Edge Pairs in Class2 : 1358\n",
      "Finding optimal K using cross-validation on combined data...\n",
      "Dynamically generated K candidates: [ 8  9 10 11 12 13 14 15 17 19 21 23 25 27 30 33 36 40 44 48]\n",
      "Optimal K selected via Cross-Validation: 8\n",
      "Observed KL = 0.3275\n"
     ]
    },
    {
     "name": "stderr",
     "output_type": "stream",
     "text": [
      "KL Under Null (Parallel):   3%|▎         | 28/1000 [00:01<00:47, 20.65it/s]/Users/jiaxin/Documents/Summer 2024/EFHT/Edge-Flow-Hypothesis-Tests/.conda/lib/python3.11/site-packages/joblib/externals/loky/process_executor.py:782: UserWarning: A worker stopped while some jobs were given to the executor. This can be caused by a too short worker timeout or by a memory leak.\n",
      "  warnings.warn(\n",
      "KL Under Null (Parallel): 100%|██████████| 1000/1000 [01:56<00:00,  8.60it/s]\n"
     ]
    },
    {
     "name": "stdout",
     "output_type": "stream",
     "text": [
      "\n",
      "Bivariate Test Result:\n",
      "Observed Symmetric KL Divergence: 0.3275\n",
      "P value: 0.4156\n",
      "Conclusion: Fail to reject the null hypothesis (p >= 0.016666666666666666). There is no significant evidence that the distributions are different.\n",
      "Appended results to: outputs/SmallWorld-Beta0.7_K13-Rho0.5_D4_W0.5_Pos-G1-8kNodes/summary_report.csv\n",
      "\n",
      "==================================================\n",
      "Analysis pipeline finished!\n",
      "--- Finished: SmallWorld-Beta0.7_K13-Rho0.5_D4_W0.5_Pos-G1-8kNodes_Sample35.csv ---\n",
      "\n",
      "--- Processing: SmallWorld-Beta0.7_K13-Rho0.5_D4_W0.5_Pos-G1-8kNodes_Sample36.csv ---\n",
      "Starting EFHT analysis - Batch ID: SmallWorld-Beta0.7_K13-Rho0.5_D4_W0.5_Pos-G1-8kNodes, Dataset ID: SmallWorld-Beta0.7_K13-Rho0.5_D4_W0.5_Pos-G1-8kNodes_Sample36\n",
      "Results for the current dataset will be saved in: outputs/SmallWorld-Beta0.7_K13-Rho0.5_D4_W0.5_Pos-G1-8kNodes/SmallWorld-Beta0.7_K13-Rho0.5_D4_W0.5_Pos-G1-8kNodes_Sample36\n",
      "The summary report will be saved in: outputs/SmallWorld-Beta0.7_K13-Rho0.5_D4_W0.5_Pos-G1-8kNodes\n",
      "\n",
      "--- 2. Loading and preprocessing data for selected tests ---\n"
     ]
    },
    {
     "name": "stderr",
     "output_type": "stream",
     "text": [
      "Processing Colors: 100%|██████████| 43/43 [01:28<00:00,  2.06s/it]\n",
      "/Users/jiaxin/Documents/Summer 2024/EFHT/Edge-Flow-Hypothesis-Tests/.conda/lib/python3.11/site-packages/joblib/externals/loky/process_executor.py:782: UserWarning: A worker stopped while some jobs were given to the executor. This can be caused by a too short worker timeout or by a memory leak.\n",
      "  warnings.warn(\n"
     ]
    },
    {
     "name": "stdout",
     "output_type": "stream",
     "text": [
      "\n",
      ">>> Starting statistical tests <<<\n",
      "\n",
      "--- 1. Running K-S Test ---\n",
      "\n",
      " ============ Running KS Test ============\n",
      "# of Edges in Class1 : 1342\n",
      "# of Edges in Class2 : 2037\n",
      "\n",
      "KS Test Result:\n",
      "KS_statistic D = 0.0309\n",
      "P value = 4.1107e-01\n",
      "Conclusion: Fail to reject the null hypothesis (p >= 0.016666666666666666), distributions may be the same.\n",
      "\n",
      "--- 2. Running Independence tests ---\n",
      "Performing independence test on the following Top 3 color groups: [0, 1, 2]\n",
      "\n",
      "--- Analyzing color group: 0 ---\n",
      "  - Selecting optimal K value via cross-validation...\n",
      "   - Dynamically generated marginal K candidates: [  8  10  12  15  18  23  28  35  43  52  65  80  98 121 149 184 227 279\n",
      " 344 424]\n",
      "   - Dynamically generated joint K candidates: [ 8  9 10 11 12 14 15 17 19 21 23 25 28 31 35 39 43 48 53 59]\n",
      "  - Optimal K_MARGINAL = 8, Optimal K_JOINT = 8\n",
      "  - Observed KL divergence = 0.1274\n"
     ]
    },
    {
     "name": "stderr",
     "output_type": "stream",
     "text": [
      "Simulating null distribution (Color 0): 100%|██████████| 1000/1000 [00:01<00:00, 607.00it/s]\n"
     ]
    },
    {
     "name": "stdout",
     "output_type": "stream",
     "text": [
      "\n",
      "--- Independence Test Result for Color: 0 ---\n",
      "P value: 0.9990\n",
      "Conclusion: Fail to reject the null hypothesis (p >= 0.005555555555555556).\n",
      "           There is no significant evidence that 'flowX' and 'flowY' are dependent.\n",
      "\n",
      "--- Analyzing color group: 1 ---\n",
      "  - Selecting optimal K value via cross-validation...\n",
      "   - Dynamically generated marginal K candidates: [  8  10  12  15  18  23  28  35  43  52  65  80  98 121 149 184 227 279\n",
      " 344 424]\n",
      "   - Dynamically generated joint K candidates: [ 8  9 10 11 12 14 15 17 19 21 23 25 28 31 35 39 43 48 53 59]\n",
      "  - Optimal K_MARGINAL = 8, Optimal K_JOINT = 8\n",
      "  - Observed KL divergence = 0.1635\n"
     ]
    },
    {
     "name": "stderr",
     "output_type": "stream",
     "text": [
      "Simulating null distribution (Color 1): 100%|██████████| 1000/1000 [00:00<00:00, 1460.92it/s]\n"
     ]
    },
    {
     "name": "stdout",
     "output_type": "stream",
     "text": [
      "\n",
      "--- Independence Test Result for Color: 1 ---\n",
      "P value: 0.1349\n",
      "Conclusion: Fail to reject the null hypothesis (p >= 0.005555555555555556).\n",
      "           There is no significant evidence that 'flowX' and 'flowY' are dependent.\n",
      "\n",
      "--- Analyzing color group: 2 ---\n",
      "  - Selecting optimal K value via cross-validation...\n",
      "   - Dynamically generated marginal K candidates: [  8  10  12  15  18  23  28  35  43  52  65  80  98 121 149 184 227 279\n",
      " 344 424]\n",
      "   - Dynamically generated joint K candidates: [ 8  9 10 11 12 14 15 17 19 21 23 25 28 31 35 39 43 48 53 59]\n",
      "  - Optimal K_MARGINAL = 8, Optimal K_JOINT = 8\n",
      "  - Observed KL divergence = 0.1331\n"
     ]
    },
    {
     "name": "stderr",
     "output_type": "stream",
     "text": [
      "Simulating null distribution (Color 2): 100%|██████████| 1000/1000 [00:00<00:00, 1477.85it/s]\n"
     ]
    },
    {
     "name": "stdout",
     "output_type": "stream",
     "text": [
      "\n",
      "--- Independence Test Result for Color: 2 ---\n",
      "P value: 1.0000\n",
      "Conclusion: Fail to reject the null hypothesis (p >= 0.005555555555555556).\n",
      "           There is no significant evidence that 'flowX' and 'flowY' are dependent.\n",
      "\n",
      "Independence test completed.\n",
      "\n",
      "--- 3. Running Bivariate Equivalence Test ---\n",
      "\n",
      " ============ Running Bivariate Test ============\n",
      "# of Edge Pairs in Class1 : 1042\n",
      "# of Edge Pairs in Class2 : 1358\n",
      "Finding optimal K using cross-validation on combined data...\n",
      "Dynamically generated K candidates: [ 8  9 10 11 12 13 14 15 17 19 21 23 25 27 30 33 36 40 44 48]\n",
      "Optimal K selected via Cross-Validation: 8\n",
      "Observed KL = 0.3644\n"
     ]
    },
    {
     "name": "stderr",
     "output_type": "stream",
     "text": [
      "KL Under Null (Parallel):   3%|▎         | 28/1000 [00:01<00:47, 20.49it/s]/Users/jiaxin/Documents/Summer 2024/EFHT/Edge-Flow-Hypothesis-Tests/.conda/lib/python3.11/site-packages/joblib/externals/loky/process_executor.py:782: UserWarning: A worker stopped while some jobs were given to the executor. This can be caused by a too short worker timeout or by a memory leak.\n",
      "  warnings.warn(\n",
      "KL Under Null (Parallel): 100%|██████████| 1000/1000 [01:56<00:00,  8.58it/s]\n"
     ]
    },
    {
     "name": "stdout",
     "output_type": "stream",
     "text": [
      "\n",
      "Bivariate Test Result:\n",
      "Observed Symmetric KL Divergence: 0.3644\n",
      "P value: 0.0559\n",
      "Conclusion: Fail to reject the null hypothesis (p >= 0.016666666666666666). There is no significant evidence that the distributions are different.\n",
      "Appended results to: outputs/SmallWorld-Beta0.7_K13-Rho0.5_D4_W0.5_Pos-G1-8kNodes/summary_report.csv\n",
      "\n",
      "==================================================\n",
      "Analysis pipeline finished!\n",
      "--- Finished: SmallWorld-Beta0.7_K13-Rho0.5_D4_W0.5_Pos-G1-8kNodes_Sample36.csv ---\n",
      "\n",
      "--- Processing: SmallWorld-Beta0.7_K13-Rho0.5_D4_W0.5_Pos-G1-8kNodes_Sample37.csv ---\n",
      "Starting EFHT analysis - Batch ID: SmallWorld-Beta0.7_K13-Rho0.5_D4_W0.5_Pos-G1-8kNodes, Dataset ID: SmallWorld-Beta0.7_K13-Rho0.5_D4_W0.5_Pos-G1-8kNodes_Sample37\n",
      "Results for the current dataset will be saved in: outputs/SmallWorld-Beta0.7_K13-Rho0.5_D4_W0.5_Pos-G1-8kNodes/SmallWorld-Beta0.7_K13-Rho0.5_D4_W0.5_Pos-G1-8kNodes_Sample37\n",
      "The summary report will be saved in: outputs/SmallWorld-Beta0.7_K13-Rho0.5_D4_W0.5_Pos-G1-8kNodes\n",
      "\n",
      "--- 2. Loading and preprocessing data for selected tests ---\n"
     ]
    },
    {
     "name": "stderr",
     "output_type": "stream",
     "text": [
      "Processing Colors: 100%|██████████| 43/43 [01:29<00:00,  2.07s/it]\n",
      "/Users/jiaxin/Documents/Summer 2024/EFHT/Edge-Flow-Hypothesis-Tests/.conda/lib/python3.11/site-packages/joblib/externals/loky/process_executor.py:782: UserWarning: A worker stopped while some jobs were given to the executor. This can be caused by a too short worker timeout or by a memory leak.\n",
      "  warnings.warn(\n"
     ]
    },
    {
     "name": "stdout",
     "output_type": "stream",
     "text": [
      "\n",
      ">>> Starting statistical tests <<<\n",
      "\n",
      "--- 1. Running K-S Test ---\n",
      "\n",
      " ============ Running KS Test ============\n",
      "# of Edges in Class1 : 1342\n",
      "# of Edges in Class2 : 2037\n",
      "\n",
      "KS Test Result:\n",
      "KS_statistic D = 0.0352\n",
      "P value = 2.6131e-01\n",
      "Conclusion: Fail to reject the null hypothesis (p >= 0.016666666666666666), distributions may be the same.\n",
      "\n",
      "--- 2. Running Independence tests ---\n",
      "Performing independence test on the following Top 3 color groups: [0, 1, 2]\n",
      "\n",
      "--- Analyzing color group: 0 ---\n",
      "  - Selecting optimal K value via cross-validation...\n",
      "   - Dynamically generated marginal K candidates: [  8  10  12  15  18  23  28  35  43  52  65  80  98 121 149 184 227 279\n",
      " 344 424]\n",
      "   - Dynamically generated joint K candidates: [ 8  9 10 11 12 14 15 17 19 21 23 25 28 31 35 39 43 48 53 59]\n",
      "  - Optimal K_MARGINAL = 8, Optimal K_JOINT = 8\n",
      "  - Observed KL divergence = 0.0912\n"
     ]
    },
    {
     "name": "stderr",
     "output_type": "stream",
     "text": [
      "Simulating null distribution (Color 0): 100%|██████████| 1000/1000 [00:01<00:00, 619.18it/s]\n"
     ]
    },
    {
     "name": "stdout",
     "output_type": "stream",
     "text": [
      "\n",
      "--- Independence Test Result for Color: 0 ---\n",
      "P value: 0.9980\n",
      "Conclusion: Fail to reject the null hypothesis (p >= 0.005555555555555556).\n",
      "           There is no significant evidence that 'flowX' and 'flowY' are dependent.\n",
      "\n",
      "--- Analyzing color group: 1 ---\n",
      "  - Selecting optimal K value via cross-validation...\n",
      "   - Dynamically generated marginal K candidates: [  8  10  12  15  18  23  28  35  43  52  65  80  98 121 149 184 227 279\n",
      " 344 424]\n",
      "   - Dynamically generated joint K candidates: [ 8  9 10 11 12 14 15 17 19 21 23 25 28 31 35 39 43 48 53 59]\n",
      "  - Optimal K_MARGINAL = 8, Optimal K_JOINT = 8\n",
      "  - Observed KL divergence = 0.1450\n"
     ]
    },
    {
     "name": "stderr",
     "output_type": "stream",
     "text": [
      "Simulating null distribution (Color 1): 100%|██████████| 1000/1000 [00:00<00:00, 1466.23it/s]\n"
     ]
    },
    {
     "name": "stdout",
     "output_type": "stream",
     "text": [
      "\n",
      "--- Independence Test Result for Color: 1 ---\n",
      "P value: 0.8791\n",
      "Conclusion: Fail to reject the null hypothesis (p >= 0.005555555555555556).\n",
      "           There is no significant evidence that 'flowX' and 'flowY' are dependent.\n",
      "\n",
      "--- Analyzing color group: 2 ---\n",
      "  - Selecting optimal K value via cross-validation...\n",
      "   - Dynamically generated marginal K candidates: [  8  10  12  15  18  23  28  35  43  52  65  80  98 121 149 184 227 279\n",
      " 344 424]\n",
      "   - Dynamically generated joint K candidates: [ 8  9 10 11 12 14 15 17 19 21 23 25 28 31 35 39 43 48 53 59]\n",
      "  - Optimal K_MARGINAL = 8, Optimal K_JOINT = 8\n",
      "  - Observed KL divergence = 0.1319\n"
     ]
    },
    {
     "name": "stderr",
     "output_type": "stream",
     "text": [
      "Simulating null distribution (Color 2): 100%|██████████| 1000/1000 [00:00<00:00, 1478.73it/s]\n"
     ]
    },
    {
     "name": "stdout",
     "output_type": "stream",
     "text": [
      "\n",
      "--- Independence Test Result for Color: 2 ---\n",
      "P value: 0.8981\n",
      "Conclusion: Fail to reject the null hypothesis (p >= 0.005555555555555556).\n",
      "           There is no significant evidence that 'flowX' and 'flowY' are dependent.\n",
      "\n",
      "Independence test completed.\n",
      "\n",
      "--- 3. Running Bivariate Equivalence Test ---\n",
      "\n",
      " ============ Running Bivariate Test ============\n",
      "# of Edge Pairs in Class1 : 1042\n",
      "# of Edge Pairs in Class2 : 1358\n",
      "Finding optimal K using cross-validation on combined data...\n",
      "Dynamically generated K candidates: [ 8  9 10 11 12 13 14 15 17 19 21 23 25 27 30 33 36 40 44 48]\n",
      "Optimal K selected via Cross-Validation: 8\n",
      "Observed KL = 0.2960\n"
     ]
    },
    {
     "name": "stderr",
     "output_type": "stream",
     "text": [
      "KL Under Null (Parallel):   3%|▎         | 28/1000 [00:01<00:49, 19.48it/s]/Users/jiaxin/Documents/Summer 2024/EFHT/Edge-Flow-Hypothesis-Tests/.conda/lib/python3.11/site-packages/joblib/externals/loky/process_executor.py:782: UserWarning: A worker stopped while some jobs were given to the executor. This can be caused by a too short worker timeout or by a memory leak.\n",
      "  warnings.warn(\n",
      "KL Under Null (Parallel): 100%|██████████| 1000/1000 [01:59<00:00,  8.36it/s]\n"
     ]
    },
    {
     "name": "stdout",
     "output_type": "stream",
     "text": [
      "\n",
      "Bivariate Test Result:\n",
      "Observed Symmetric KL Divergence: 0.2960\n",
      "P value: 0.8681\n",
      "Conclusion: Fail to reject the null hypothesis (p >= 0.016666666666666666). There is no significant evidence that the distributions are different.\n",
      "Appended results to: outputs/SmallWorld-Beta0.7_K13-Rho0.5_D4_W0.5_Pos-G1-8kNodes/summary_report.csv\n",
      "\n",
      "==================================================\n",
      "Analysis pipeline finished!\n",
      "--- Finished: SmallWorld-Beta0.7_K13-Rho0.5_D4_W0.5_Pos-G1-8kNodes_Sample37.csv ---\n",
      "\n",
      "--- Processing: SmallWorld-Beta0.7_K13-Rho0.5_D4_W0.5_Pos-G1-8kNodes_Sample38.csv ---\n",
      "Starting EFHT analysis - Batch ID: SmallWorld-Beta0.7_K13-Rho0.5_D4_W0.5_Pos-G1-8kNodes, Dataset ID: SmallWorld-Beta0.7_K13-Rho0.5_D4_W0.5_Pos-G1-8kNodes_Sample38\n",
      "Results for the current dataset will be saved in: outputs/SmallWorld-Beta0.7_K13-Rho0.5_D4_W0.5_Pos-G1-8kNodes/SmallWorld-Beta0.7_K13-Rho0.5_D4_W0.5_Pos-G1-8kNodes_Sample38\n",
      "The summary report will be saved in: outputs/SmallWorld-Beta0.7_K13-Rho0.5_D4_W0.5_Pos-G1-8kNodes\n",
      "\n",
      "--- 2. Loading and preprocessing data for selected tests ---\n"
     ]
    },
    {
     "name": "stderr",
     "output_type": "stream",
     "text": [
      "Processing Colors: 100%|██████████| 43/43 [01:31<00:00,  2.14s/it]\n",
      "/Users/jiaxin/Documents/Summer 2024/EFHT/Edge-Flow-Hypothesis-Tests/.conda/lib/python3.11/site-packages/joblib/externals/loky/process_executor.py:782: UserWarning: A worker stopped while some jobs were given to the executor. This can be caused by a too short worker timeout or by a memory leak.\n",
      "  warnings.warn(\n"
     ]
    },
    {
     "name": "stdout",
     "output_type": "stream",
     "text": [
      "\n",
      ">>> Starting statistical tests <<<\n",
      "\n",
      "--- 1. Running K-S Test ---\n",
      "\n",
      " ============ Running KS Test ============\n",
      "# of Edges in Class1 : 1342\n",
      "# of Edges in Class2 : 2037\n",
      "\n",
      "KS Test Result:\n",
      "KS_statistic D = 0.0699\n",
      "P value = 6.9541e-04\n",
      "Conclusion: Reject the null hypothesis (p < 0.016666666666666666), distributions are different.\n",
      "\n",
      "--- 2. Running Independence tests ---\n",
      "Performing independence test on the following Top 3 color groups: [0, 1, 2]\n",
      "\n",
      "--- Analyzing color group: 0 ---\n",
      "  - Selecting optimal K value via cross-validation...\n",
      "   - Dynamically generated marginal K candidates: [  8  10  12  15  18  23  28  35  43  52  65  80  98 121 149 184 227 279\n",
      " 344 424]\n",
      "   - Dynamically generated joint K candidates: [ 8  9 10 11 12 14 15 17 19 21 23 25 28 31 35 39 43 48 53 59]\n",
      "  - Optimal K_MARGINAL = 8, Optimal K_JOINT = 8\n",
      "  - Observed KL divergence = 0.1549\n"
     ]
    },
    {
     "name": "stderr",
     "output_type": "stream",
     "text": [
      "Simulating null distribution (Color 0): 100%|██████████| 1000/1000 [00:01<00:00, 609.77it/s]\n"
     ]
    },
    {
     "name": "stdout",
     "output_type": "stream",
     "text": [
      "\n",
      "--- Independence Test Result for Color: 0 ---\n",
      "P value: 0.5504\n",
      "Conclusion: Fail to reject the null hypothesis (p >= 0.005555555555555556).\n",
      "           There is no significant evidence that 'flowX' and 'flowY' are dependent.\n",
      "\n",
      "--- Analyzing color group: 1 ---\n",
      "  - Selecting optimal K value via cross-validation...\n",
      "   - Dynamically generated marginal K candidates: [  8  10  12  15  18  23  28  35  43  52  65  80  98 121 149 184 227 279\n",
      " 344 424]\n",
      "   - Dynamically generated joint K candidates: [ 8  9 10 11 12 14 15 17 19 21 23 25 28 31 35 39 43 48 53 59]\n",
      "  - Optimal K_MARGINAL = 8, Optimal K_JOINT = 8\n",
      "  - Observed KL divergence = 0.1304\n"
     ]
    },
    {
     "name": "stderr",
     "output_type": "stream",
     "text": [
      "Simulating null distribution (Color 1): 100%|██████████| 1000/1000 [00:00<00:00, 1449.33it/s]\n"
     ]
    },
    {
     "name": "stdout",
     "output_type": "stream",
     "text": [
      "\n",
      "--- Independence Test Result for Color: 1 ---\n",
      "P value: 0.0010\n",
      "Conclusion: Reject the null hypothesis (p < 0.005555555555555556).\n",
      "           The variables 'flowX' and 'flowY' are likely DEPENDENT for this color group.\n",
      "\n",
      "--- Analyzing color group: 2 ---\n",
      "  - Selecting optimal K value via cross-validation...\n",
      "   - Dynamically generated marginal K candidates: [  8  10  12  15  18  23  28  35  43  52  65  80  98 121 149 184 227 279\n",
      " 344 424]\n",
      "   - Dynamically generated joint K candidates: [ 8  9 10 11 12 14 15 17 19 21 23 25 28 31 35 39 43 48 53 59]\n",
      "  - Optimal K_MARGINAL = 8, Optimal K_JOINT = 8\n",
      "  - Observed KL divergence = 0.1033\n"
     ]
    },
    {
     "name": "stderr",
     "output_type": "stream",
     "text": [
      "Simulating null distribution (Color 2): 100%|██████████| 1000/1000 [00:00<00:00, 1459.90it/s]\n"
     ]
    },
    {
     "name": "stdout",
     "output_type": "stream",
     "text": [
      "\n",
      "--- Independence Test Result for Color: 2 ---\n",
      "P value: 0.0020\n",
      "Conclusion: Reject the null hypothesis (p < 0.005555555555555556).\n",
      "           The variables 'flowX' and 'flowY' are likely DEPENDENT for this color group.\n",
      "\n",
      "Independence test completed.\n",
      "\n",
      "--- 3. Running Bivariate Equivalence Test ---\n",
      "\n",
      " ============ Running Bivariate Test ============\n",
      "# of Edge Pairs in Class1 : 1042\n",
      "# of Edge Pairs in Class2 : 1358\n",
      "Finding optimal K using cross-validation on combined data...\n",
      "Dynamically generated K candidates: [ 8  9 10 11 12 13 14 15 17 19 21 23 25 27 30 33 36 40 44 48]\n",
      "Optimal K selected via Cross-Validation: 8\n",
      "Observed KL = 0.3073\n"
     ]
    },
    {
     "name": "stderr",
     "output_type": "stream",
     "text": [
      "KL Under Null (Parallel):   3%|▎         | 28/1000 [00:01<00:49, 19.77it/s]/Users/jiaxin/Documents/Summer 2024/EFHT/Edge-Flow-Hypothesis-Tests/.conda/lib/python3.11/site-packages/joblib/externals/loky/process_executor.py:782: UserWarning: A worker stopped while some jobs were given to the executor. This can be caused by a too short worker timeout or by a memory leak.\n",
      "  warnings.warn(\n",
      "KL Under Null (Parallel): 100%|██████████| 1000/1000 [01:58<00:00,  8.44it/s]\n"
     ]
    },
    {
     "name": "stdout",
     "output_type": "stream",
     "text": [
      "\n",
      "Bivariate Test Result:\n",
      "Observed Symmetric KL Divergence: 0.3073\n",
      "P value: 0.7363\n",
      "Conclusion: Fail to reject the null hypothesis (p >= 0.016666666666666666). There is no significant evidence that the distributions are different.\n",
      "Appended results to: outputs/SmallWorld-Beta0.7_K13-Rho0.5_D4_W0.5_Pos-G1-8kNodes/summary_report.csv\n",
      "\n",
      "==================================================\n",
      "Analysis pipeline finished!\n",
      "--- Finished: SmallWorld-Beta0.7_K13-Rho0.5_D4_W0.5_Pos-G1-8kNodes_Sample38.csv ---\n",
      "\n",
      "--- Processing: SmallWorld-Beta0.7_K13-Rho0.5_D4_W0.5_Pos-G1-8kNodes_Sample39.csv ---\n",
      "Starting EFHT analysis - Batch ID: SmallWorld-Beta0.7_K13-Rho0.5_D4_W0.5_Pos-G1-8kNodes, Dataset ID: SmallWorld-Beta0.7_K13-Rho0.5_D4_W0.5_Pos-G1-8kNodes_Sample39\n",
      "Results for the current dataset will be saved in: outputs/SmallWorld-Beta0.7_K13-Rho0.5_D4_W0.5_Pos-G1-8kNodes/SmallWorld-Beta0.7_K13-Rho0.5_D4_W0.5_Pos-G1-8kNodes_Sample39\n",
      "The summary report will be saved in: outputs/SmallWorld-Beta0.7_K13-Rho0.5_D4_W0.5_Pos-G1-8kNodes\n",
      "\n",
      "--- 2. Loading and preprocessing data for selected tests ---\n"
     ]
    },
    {
     "name": "stderr",
     "output_type": "stream",
     "text": [
      "Processing Colors: 100%|██████████| 43/43 [01:32<00:00,  2.14s/it]\n",
      "/Users/jiaxin/Documents/Summer 2024/EFHT/Edge-Flow-Hypothesis-Tests/.conda/lib/python3.11/site-packages/joblib/externals/loky/process_executor.py:782: UserWarning: A worker stopped while some jobs were given to the executor. This can be caused by a too short worker timeout or by a memory leak.\n",
      "  warnings.warn(\n"
     ]
    },
    {
     "name": "stdout",
     "output_type": "stream",
     "text": [
      "\n",
      ">>> Starting statistical tests <<<\n",
      "\n",
      "--- 1. Running K-S Test ---\n",
      "\n",
      " ============ Running KS Test ============\n",
      "# of Edges in Class1 : 1342\n",
      "# of Edges in Class2 : 2037\n",
      "\n",
      "KS Test Result:\n",
      "KS_statistic D = 0.0309\n",
      "P value = 4.1090e-01\n",
      "Conclusion: Fail to reject the null hypothesis (p >= 0.016666666666666666), distributions may be the same.\n",
      "\n",
      "--- 2. Running Independence tests ---\n",
      "Performing independence test on the following Top 3 color groups: [0, 1, 2]\n",
      "\n",
      "--- Analyzing color group: 0 ---\n",
      "  - Selecting optimal K value via cross-validation...\n",
      "   - Dynamically generated marginal K candidates: [  8  10  12  15  18  23  28  35  43  52  65  80  98 121 149 184 227 279\n",
      " 344 424]\n",
      "   - Dynamically generated joint K candidates: [ 8  9 10 11 12 14 15 17 19 21 23 25 28 31 35 39 43 48 53 59]\n",
      "  - Optimal K_MARGINAL = 8, Optimal K_JOINT = 8\n",
      "  - Observed KL divergence = 0.1342\n"
     ]
    },
    {
     "name": "stderr",
     "output_type": "stream",
     "text": [
      "Simulating null distribution (Color 0): 100%|██████████| 1000/1000 [00:01<00:00, 589.69it/s]\n"
     ]
    },
    {
     "name": "stdout",
     "output_type": "stream",
     "text": [
      "\n",
      "--- Independence Test Result for Color: 0 ---\n",
      "P value: 0.6114\n",
      "Conclusion: Fail to reject the null hypothesis (p >= 0.005555555555555556).\n",
      "           There is no significant evidence that 'flowX' and 'flowY' are dependent.\n",
      "\n",
      "--- Analyzing color group: 1 ---\n",
      "  - Selecting optimal K value via cross-validation...\n",
      "   - Dynamically generated marginal K candidates: [  8  10  12  15  18  23  28  35  43  52  65  80  98 121 149 184 227 279\n",
      " 344 424]\n",
      "   - Dynamically generated joint K candidates: [ 8  9 10 11 12 14 15 17 19 21 23 25 28 31 35 39 43 48 53 59]\n",
      "  - Optimal K_MARGINAL = 8, Optimal K_JOINT = 8\n",
      "  - Observed KL divergence = 0.1806\n"
     ]
    },
    {
     "name": "stderr",
     "output_type": "stream",
     "text": [
      "Simulating null distribution (Color 1): 100%|██████████| 1000/1000 [00:00<00:00, 1491.22it/s]\n"
     ]
    },
    {
     "name": "stdout",
     "output_type": "stream",
     "text": [
      "\n",
      "--- Independence Test Result for Color: 1 ---\n",
      "P value: 0.0030\n",
      "Conclusion: Reject the null hypothesis (p < 0.005555555555555556).\n",
      "           The variables 'flowX' and 'flowY' are likely DEPENDENT for this color group.\n",
      "\n",
      "--- Analyzing color group: 2 ---\n",
      "  - Selecting optimal K value via cross-validation...\n",
      "   - Dynamically generated marginal K candidates: [  8  10  12  15  18  23  28  35  43  52  65  80  98 121 149 184 227 279\n",
      " 344 424]\n",
      "   - Dynamically generated joint K candidates: [ 8  9 10 11 12 14 15 17 19 21 23 25 28 31 35 39 43 48 53 59]\n",
      "  - Optimal K_MARGINAL = 8, Optimal K_JOINT = 8\n",
      "  - Observed KL divergence = 0.1132\n"
     ]
    },
    {
     "name": "stderr",
     "output_type": "stream",
     "text": [
      "Simulating null distribution (Color 2): 100%|██████████| 1000/1000 [00:00<00:00, 1527.20it/s]\n"
     ]
    },
    {
     "name": "stdout",
     "output_type": "stream",
     "text": [
      "\n",
      "--- Independence Test Result for Color: 2 ---\n",
      "P value: 0.7313\n",
      "Conclusion: Fail to reject the null hypothesis (p >= 0.005555555555555556).\n",
      "           There is no significant evidence that 'flowX' and 'flowY' are dependent.\n",
      "\n",
      "Independence test completed.\n",
      "\n",
      "--- 3. Running Bivariate Equivalence Test ---\n",
      "\n",
      " ============ Running Bivariate Test ============\n",
      "# of Edge Pairs in Class1 : 1042\n",
      "# of Edge Pairs in Class2 : 1358\n",
      "Finding optimal K using cross-validation on combined data...\n",
      "Dynamically generated K candidates: [ 8  9 10 11 12 13 14 15 17 19 21 23 25 27 30 33 36 40 44 48]\n",
      "Optimal K selected via Cross-Validation: 8\n",
      "Observed KL = 0.4066\n"
     ]
    },
    {
     "name": "stderr",
     "output_type": "stream",
     "text": [
      "KL Under Null (Parallel):   3%|▎         | 28/1000 [00:01<00:50, 19.17it/s]/Users/jiaxin/Documents/Summer 2024/EFHT/Edge-Flow-Hypothesis-Tests/.conda/lib/python3.11/site-packages/joblib/externals/loky/process_executor.py:782: UserWarning: A worker stopped while some jobs were given to the executor. This can be caused by a too short worker timeout or by a memory leak.\n",
      "  warnings.warn(\n",
      "KL Under Null (Parallel): 100%|██████████| 1000/1000 [01:57<00:00,  8.54it/s]\n"
     ]
    },
    {
     "name": "stdout",
     "output_type": "stream",
     "text": [
      "\n",
      "Bivariate Test Result:\n",
      "Observed Symmetric KL Divergence: 0.4066\n",
      "P value: 0.0040\n",
      "Conclusion: Reject the null hypothesis (p < 0.016666666666666666). The distributions are significantly different.\n",
      "Appended results to: outputs/SmallWorld-Beta0.7_K13-Rho0.5_D4_W0.5_Pos-G1-8kNodes/summary_report.csv\n",
      "\n",
      "==================================================\n",
      "Analysis pipeline finished!\n",
      "--- Finished: SmallWorld-Beta0.7_K13-Rho0.5_D4_W0.5_Pos-G1-8kNodes_Sample39.csv ---\n",
      "\n",
      "--- Processing: SmallWorld-Beta0.7_K13-Rho0.5_D4_W0.5_Pos-G1-8kNodes_Sample40.csv ---\n",
      "Starting EFHT analysis - Batch ID: SmallWorld-Beta0.7_K13-Rho0.5_D4_W0.5_Pos-G1-8kNodes, Dataset ID: SmallWorld-Beta0.7_K13-Rho0.5_D4_W0.5_Pos-G1-8kNodes_Sample40\n",
      "Results for the current dataset will be saved in: outputs/SmallWorld-Beta0.7_K13-Rho0.5_D4_W0.5_Pos-G1-8kNodes/SmallWorld-Beta0.7_K13-Rho0.5_D4_W0.5_Pos-G1-8kNodes_Sample40\n",
      "The summary report will be saved in: outputs/SmallWorld-Beta0.7_K13-Rho0.5_D4_W0.5_Pos-G1-8kNodes\n",
      "\n",
      "--- 2. Loading and preprocessing data for selected tests ---\n"
     ]
    },
    {
     "name": "stderr",
     "output_type": "stream",
     "text": [
      "Processing Colors: 100%|██████████| 43/43 [01:26<00:00,  2.02s/it]\n",
      "/Users/jiaxin/Documents/Summer 2024/EFHT/Edge-Flow-Hypothesis-Tests/.conda/lib/python3.11/site-packages/joblib/externals/loky/process_executor.py:782: UserWarning: A worker stopped while some jobs were given to the executor. This can be caused by a too short worker timeout or by a memory leak.\n",
      "  warnings.warn(\n"
     ]
    },
    {
     "name": "stdout",
     "output_type": "stream",
     "text": [
      "\n",
      ">>> Starting statistical tests <<<\n",
      "\n",
      "--- 1. Running K-S Test ---\n",
      "\n",
      " ============ Running KS Test ============\n",
      "# of Edges in Class1 : 1342\n",
      "# of Edges in Class2 : 2037\n",
      "\n",
      "KS Test Result:\n",
      "KS_statistic D = 0.0395\n",
      "P value = 1.5442e-01\n",
      "Conclusion: Fail to reject the null hypothesis (p >= 0.016666666666666666), distributions may be the same.\n",
      "\n",
      "--- 2. Running Independence tests ---\n",
      "Performing independence test on the following Top 3 color groups: [0, 1, 2]\n",
      "\n",
      "--- Analyzing color group: 0 ---\n",
      "  - Selecting optimal K value via cross-validation...\n",
      "   - Dynamically generated marginal K candidates: [  8  10  12  15  18  23  28  35  43  52  65  80  98 121 149 184 227 279\n",
      " 344 424]\n",
      "   - Dynamically generated joint K candidates: [ 8  9 10 11 12 14 15 17 19 21 23 25 28 31 35 39 43 48 53 59]\n",
      "  - Optimal K_MARGINAL = 8, Optimal K_JOINT = 8\n",
      "  - Observed KL divergence = 0.1579\n"
     ]
    },
    {
     "name": "stderr",
     "output_type": "stream",
     "text": [
      "Simulating null distribution (Color 0): 100%|██████████| 1000/1000 [00:01<00:00, 596.83it/s]\n"
     ]
    },
    {
     "name": "stdout",
     "output_type": "stream",
     "text": [
      "\n",
      "--- Independence Test Result for Color: 0 ---\n",
      "P value: 0.1588\n",
      "Conclusion: Fail to reject the null hypothesis (p >= 0.005555555555555556).\n",
      "           There is no significant evidence that 'flowX' and 'flowY' are dependent.\n",
      "\n",
      "--- Analyzing color group: 1 ---\n",
      "  - Selecting optimal K value via cross-validation...\n",
      "   - Dynamically generated marginal K candidates: [  8  10  12  15  18  23  28  35  43  52  65  80  98 121 149 184 227 279\n",
      " 344 424]\n",
      "   - Dynamically generated joint K candidates: [ 8  9 10 11 12 14 15 17 19 21 23 25 28 31 35 39 43 48 53 59]\n",
      "  - Optimal K_MARGINAL = 8, Optimal K_JOINT = 8\n",
      "  - Observed KL divergence = 0.1533\n"
     ]
    },
    {
     "name": "stderr",
     "output_type": "stream",
     "text": [
      "Simulating null distribution (Color 1): 100%|██████████| 1000/1000 [00:00<00:00, 1440.10it/s]\n"
     ]
    },
    {
     "name": "stdout",
     "output_type": "stream",
     "text": [
      "\n",
      "--- Independence Test Result for Color: 1 ---\n",
      "P value: 0.0869\n",
      "Conclusion: Fail to reject the null hypothesis (p >= 0.005555555555555556).\n",
      "           There is no significant evidence that 'flowX' and 'flowY' are dependent.\n",
      "\n",
      "--- Analyzing color group: 2 ---\n",
      "  - Selecting optimal K value via cross-validation...\n",
      "   - Dynamically generated marginal K candidates: [  8  10  12  15  18  23  28  35  43  52  65  80  98 121 149 184 227 279\n",
      " 344 424]\n",
      "   - Dynamically generated joint K candidates: [ 8  9 10 11 12 14 15 17 19 21 23 25 28 31 35 39 43 48 53 59]\n",
      "  - Optimal K_MARGINAL = 8, Optimal K_JOINT = 8\n",
      "  - Observed KL divergence = 0.1207\n"
     ]
    },
    {
     "name": "stderr",
     "output_type": "stream",
     "text": [
      "Simulating null distribution (Color 2): 100%|██████████| 1000/1000 [00:00<00:00, 1468.40it/s]\n"
     ]
    },
    {
     "name": "stdout",
     "output_type": "stream",
     "text": [
      "\n",
      "--- Independence Test Result for Color: 2 ---\n",
      "P value: 0.6873\n",
      "Conclusion: Fail to reject the null hypothesis (p >= 0.005555555555555556).\n",
      "           There is no significant evidence that 'flowX' and 'flowY' are dependent.\n",
      "\n",
      "Independence test completed.\n",
      "\n",
      "--- 3. Running Bivariate Equivalence Test ---\n",
      "\n",
      " ============ Running Bivariate Test ============\n",
      "# of Edge Pairs in Class1 : 1042\n",
      "# of Edge Pairs in Class2 : 1358\n",
      "Finding optimal K using cross-validation on combined data...\n",
      "Dynamically generated K candidates: [ 8  9 10 11 12 13 14 15 17 19 21 23 25 27 30 33 36 40 44 48]\n",
      "Optimal K selected via Cross-Validation: 8\n",
      "Observed KL = 0.3283\n"
     ]
    },
    {
     "name": "stderr",
     "output_type": "stream",
     "text": [
      "KL Under Null (Parallel):   3%|▎         | 28/1000 [00:01<00:49, 19.62it/s]/Users/jiaxin/Documents/Summer 2024/EFHT/Edge-Flow-Hypothesis-Tests/.conda/lib/python3.11/site-packages/joblib/externals/loky/process_executor.py:782: UserWarning: A worker stopped while some jobs were given to the executor. This can be caused by a too short worker timeout or by a memory leak.\n",
      "  warnings.warn(\n",
      "KL Under Null (Parallel): 100%|██████████| 1000/1000 [01:59<00:00,  8.34it/s]\n"
     ]
    },
    {
     "name": "stdout",
     "output_type": "stream",
     "text": [
      "\n",
      "Bivariate Test Result:\n",
      "Observed Symmetric KL Divergence: 0.3283\n",
      "P value: 0.4605\n",
      "Conclusion: Fail to reject the null hypothesis (p >= 0.016666666666666666). There is no significant evidence that the distributions are different.\n",
      "Appended results to: outputs/SmallWorld-Beta0.7_K13-Rho0.5_D4_W0.5_Pos-G1-8kNodes/summary_report.csv\n",
      "\n",
      "==================================================\n",
      "Analysis pipeline finished!\n",
      "--- Finished: SmallWorld-Beta0.7_K13-Rho0.5_D4_W0.5_Pos-G1-8kNodes_Sample40.csv ---\n",
      "\n",
      "--- Processing: SmallWorld-Beta0.7_K13-Rho0.5_D4_W0.5_Pos-G1-8kNodes_Sample41.csv ---\n",
      "Starting EFHT analysis - Batch ID: SmallWorld-Beta0.7_K13-Rho0.5_D4_W0.5_Pos-G1-8kNodes, Dataset ID: SmallWorld-Beta0.7_K13-Rho0.5_D4_W0.5_Pos-G1-8kNodes_Sample41\n",
      "Results for the current dataset will be saved in: outputs/SmallWorld-Beta0.7_K13-Rho0.5_D4_W0.5_Pos-G1-8kNodes/SmallWorld-Beta0.7_K13-Rho0.5_D4_W0.5_Pos-G1-8kNodes_Sample41\n",
      "The summary report will be saved in: outputs/SmallWorld-Beta0.7_K13-Rho0.5_D4_W0.5_Pos-G1-8kNodes\n",
      "\n",
      "--- 2. Loading and preprocessing data for selected tests ---\n"
     ]
    },
    {
     "name": "stderr",
     "output_type": "stream",
     "text": [
      "Processing Colors: 100%|██████████| 43/43 [01:31<00:00,  2.12s/it]\n",
      "/Users/jiaxin/Documents/Summer 2024/EFHT/Edge-Flow-Hypothesis-Tests/.conda/lib/python3.11/site-packages/joblib/externals/loky/process_executor.py:782: UserWarning: A worker stopped while some jobs were given to the executor. This can be caused by a too short worker timeout or by a memory leak.\n",
      "  warnings.warn(\n"
     ]
    },
    {
     "name": "stdout",
     "output_type": "stream",
     "text": [
      "\n",
      ">>> Starting statistical tests <<<\n",
      "\n",
      "--- 1. Running K-S Test ---\n",
      "\n",
      " ============ Running KS Test ============\n",
      "# of Edges in Class1 : 1342\n",
      "# of Edges in Class2 : 2037\n",
      "\n",
      "KS Test Result:\n",
      "KS_statistic D = 0.0322\n",
      "P value = 3.6178e-01\n",
      "Conclusion: Fail to reject the null hypothesis (p >= 0.016666666666666666), distributions may be the same.\n",
      "\n",
      "--- 2. Running Independence tests ---\n",
      "Performing independence test on the following Top 3 color groups: [0, 1, 2]\n",
      "\n",
      "--- Analyzing color group: 0 ---\n",
      "  - Selecting optimal K value via cross-validation...\n",
      "   - Dynamically generated marginal K candidates: [  8  10  12  15  18  23  28  35  43  52  65  80  98 121 149 184 227 279\n",
      " 344 424]\n",
      "   - Dynamically generated joint K candidates: [ 8  9 10 11 12 14 15 17 19 21 23 25 28 31 35 39 43 48 53 59]\n",
      "  - Optimal K_MARGINAL = 8, Optimal K_JOINT = 8\n",
      "  - Observed KL divergence = 0.1627\n"
     ]
    },
    {
     "name": "stderr",
     "output_type": "stream",
     "text": [
      "Simulating null distribution (Color 0): 100%|██████████| 1000/1000 [00:01<00:00, 611.16it/s]\n"
     ]
    },
    {
     "name": "stdout",
     "output_type": "stream",
     "text": [
      "\n",
      "--- Independence Test Result for Color: 0 ---\n",
      "P value: 0.3287\n",
      "Conclusion: Fail to reject the null hypothesis (p >= 0.005555555555555556).\n",
      "           There is no significant evidence that 'flowX' and 'flowY' are dependent.\n",
      "\n",
      "--- Analyzing color group: 1 ---\n",
      "  - Selecting optimal K value via cross-validation...\n",
      "   - Dynamically generated marginal K candidates: [  8  10  12  15  18  23  28  35  43  52  65  80  98 121 149 184 227 279\n",
      " 344 424]\n",
      "   - Dynamically generated joint K candidates: [ 8  9 10 11 12 14 15 17 19 21 23 25 28 31 35 39 43 48 53 59]\n",
      "  - Optimal K_MARGINAL = 8, Optimal K_JOINT = 8\n",
      "  - Observed KL divergence = 0.1450\n"
     ]
    },
    {
     "name": "stderr",
     "output_type": "stream",
     "text": [
      "Simulating null distribution (Color 1): 100%|██████████| 1000/1000 [00:00<00:00, 1483.29it/s]\n"
     ]
    },
    {
     "name": "stdout",
     "output_type": "stream",
     "text": [
      "\n",
      "--- Independence Test Result for Color: 1 ---\n",
      "P value: 0.8462\n",
      "Conclusion: Fail to reject the null hypothesis (p >= 0.005555555555555556).\n",
      "           There is no significant evidence that 'flowX' and 'flowY' are dependent.\n",
      "\n",
      "--- Analyzing color group: 2 ---\n",
      "  - Selecting optimal K value via cross-validation...\n",
      "   - Dynamically generated marginal K candidates: [  8  10  12  15  18  23  28  35  43  52  65  80  98 121 149 184 227 279\n",
      " 344 424]\n",
      "   - Dynamically generated joint K candidates: [ 8  9 10 11 12 14 15 17 19 21 23 25 28 31 35 39 43 48 53 59]\n",
      "  - Optimal K_MARGINAL = 8, Optimal K_JOINT = 8\n",
      "  - Observed KL divergence = 0.1133\n"
     ]
    },
    {
     "name": "stderr",
     "output_type": "stream",
     "text": [
      "Simulating null distribution (Color 2): 100%|██████████| 1000/1000 [00:00<00:00, 1456.25it/s]\n"
     ]
    },
    {
     "name": "stdout",
     "output_type": "stream",
     "text": [
      "\n",
      "--- Independence Test Result for Color: 2 ---\n",
      "P value: 0.9970\n",
      "Conclusion: Fail to reject the null hypothesis (p >= 0.005555555555555556).\n",
      "           There is no significant evidence that 'flowX' and 'flowY' are dependent.\n",
      "\n",
      "Independence test completed.\n",
      "\n",
      "--- 3. Running Bivariate Equivalence Test ---\n",
      "\n",
      " ============ Running Bivariate Test ============\n",
      "# of Edge Pairs in Class1 : 1042\n",
      "# of Edge Pairs in Class2 : 1358\n",
      "Finding optimal K using cross-validation on combined data...\n",
      "Dynamically generated K candidates: [ 8  9 10 11 12 13 14 15 17 19 21 23 25 27 30 33 36 40 44 48]\n",
      "Optimal K selected via Cross-Validation: 8\n",
      "Observed KL = 0.3411\n"
     ]
    },
    {
     "name": "stderr",
     "output_type": "stream",
     "text": [
      "KL Under Null (Parallel):   3%|▎         | 28/1000 [00:01<00:49, 19.66it/s]/Users/jiaxin/Documents/Summer 2024/EFHT/Edge-Flow-Hypothesis-Tests/.conda/lib/python3.11/site-packages/joblib/externals/loky/process_executor.py:782: UserWarning: A worker stopped while some jobs were given to the executor. This can be caused by a too short worker timeout or by a memory leak.\n",
      "  warnings.warn(\n",
      "KL Under Null (Parallel): 100%|██████████| 1000/1000 [01:57<00:00,  8.51it/s]\n"
     ]
    },
    {
     "name": "stdout",
     "output_type": "stream",
     "text": [
      "\n",
      "Bivariate Test Result:\n",
      "Observed Symmetric KL Divergence: 0.3411\n",
      "P value: 0.2807\n",
      "Conclusion: Fail to reject the null hypothesis (p >= 0.016666666666666666). There is no significant evidence that the distributions are different.\n",
      "Appended results to: outputs/SmallWorld-Beta0.7_K13-Rho0.5_D4_W0.5_Pos-G1-8kNodes/summary_report.csv\n",
      "\n",
      "==================================================\n",
      "Analysis pipeline finished!\n",
      "--- Finished: SmallWorld-Beta0.7_K13-Rho0.5_D4_W0.5_Pos-G1-8kNodes_Sample41.csv ---\n",
      "\n",
      "--- Processing: SmallWorld-Beta0.7_K13-Rho0.5_D4_W0.5_Pos-G1-8kNodes_Sample42.csv ---\n",
      "Starting EFHT analysis - Batch ID: SmallWorld-Beta0.7_K13-Rho0.5_D4_W0.5_Pos-G1-8kNodes, Dataset ID: SmallWorld-Beta0.7_K13-Rho0.5_D4_W0.5_Pos-G1-8kNodes_Sample42\n",
      "Results for the current dataset will be saved in: outputs/SmallWorld-Beta0.7_K13-Rho0.5_D4_W0.5_Pos-G1-8kNodes/SmallWorld-Beta0.7_K13-Rho0.5_D4_W0.5_Pos-G1-8kNodes_Sample42\n",
      "The summary report will be saved in: outputs/SmallWorld-Beta0.7_K13-Rho0.5_D4_W0.5_Pos-G1-8kNodes\n",
      "\n",
      "--- 2. Loading and preprocessing data for selected tests ---\n"
     ]
    },
    {
     "name": "stderr",
     "output_type": "stream",
     "text": [
      "Processing Colors: 100%|██████████| 43/43 [01:25<00:00,  1.98s/it]\n",
      "/Users/jiaxin/Documents/Summer 2024/EFHT/Edge-Flow-Hypothesis-Tests/.conda/lib/python3.11/site-packages/joblib/externals/loky/process_executor.py:782: UserWarning: A worker stopped while some jobs were given to the executor. This can be caused by a too short worker timeout or by a memory leak.\n",
      "  warnings.warn(\n"
     ]
    },
    {
     "name": "stdout",
     "output_type": "stream",
     "text": [
      "\n",
      ">>> Starting statistical tests <<<\n",
      "\n",
      "--- 1. Running K-S Test ---\n",
      "\n",
      " ============ Running KS Test ============\n",
      "# of Edges in Class1 : 1342\n",
      "# of Edges in Class2 : 2037\n",
      "\n",
      "KS Test Result:\n",
      "KS_statistic D = 0.0288\n",
      "P value = 4.9950e-01\n",
      "Conclusion: Fail to reject the null hypothesis (p >= 0.016666666666666666), distributions may be the same.\n",
      "\n",
      "--- 2. Running Independence tests ---\n",
      "Performing independence test on the following Top 3 color groups: [0, 1, 2]\n",
      "\n",
      "--- Analyzing color group: 0 ---\n",
      "  - Selecting optimal K value via cross-validation...\n",
      "   - Dynamically generated marginal K candidates: [  8  10  12  15  18  23  28  35  43  52  65  80  98 121 149 184 227 279\n",
      " 344 424]\n",
      "   - Dynamically generated joint K candidates: [ 8  9 10 11 12 14 15 17 19 21 23 25 28 31 35 39 43 48 53 59]\n",
      "  - Optimal K_MARGINAL = 8, Optimal K_JOINT = 8\n",
      "  - Observed KL divergence = 0.1227\n"
     ]
    },
    {
     "name": "stderr",
     "output_type": "stream",
     "text": [
      "Simulating null distribution (Color 0): 100%|██████████| 1000/1000 [00:01<00:00, 604.36it/s]\n"
     ]
    },
    {
     "name": "stdout",
     "output_type": "stream",
     "text": [
      "\n",
      "--- Independence Test Result for Color: 0 ---\n",
      "P value: 0.6004\n",
      "Conclusion: Fail to reject the null hypothesis (p >= 0.005555555555555556).\n",
      "           There is no significant evidence that 'flowX' and 'flowY' are dependent.\n",
      "\n",
      "--- Analyzing color group: 1 ---\n",
      "  - Selecting optimal K value via cross-validation...\n",
      "   - Dynamically generated marginal K candidates: [  8  10  12  15  18  23  28  35  43  52  65  80  98 121 149 184 227 279\n",
      " 344 424]\n",
      "   - Dynamically generated joint K candidates: [ 8  9 10 11 12 14 15 17 19 21 23 25 28 31 35 39 43 48 53 59]\n",
      "  - Optimal K_MARGINAL = 8, Optimal K_JOINT = 8\n",
      "  - Observed KL divergence = 0.1519\n"
     ]
    },
    {
     "name": "stderr",
     "output_type": "stream",
     "text": [
      "Simulating null distribution (Color 1): 100%|██████████| 1000/1000 [00:00<00:00, 1479.62it/s]\n"
     ]
    },
    {
     "name": "stdout",
     "output_type": "stream",
     "text": [
      "\n",
      "--- Independence Test Result for Color: 1 ---\n",
      "P value: 0.0559\n",
      "Conclusion: Fail to reject the null hypothesis (p >= 0.005555555555555556).\n",
      "           There is no significant evidence that 'flowX' and 'flowY' are dependent.\n",
      "\n",
      "--- Analyzing color group: 2 ---\n",
      "  - Selecting optimal K value via cross-validation...\n",
      "   - Dynamically generated marginal K candidates: [  8  10  12  15  18  23  28  35  43  52  65  80  98 121 149 184 227 279\n",
      " 344 424]\n",
      "   - Dynamically generated joint K candidates: [ 8  9 10 11 12 14 15 17 19 21 23 25 28 31 35 39 43 48 53 59]\n",
      "  - Optimal K_MARGINAL = 8, Optimal K_JOINT = 8\n",
      "  - Observed KL divergence = 0.1500\n"
     ]
    },
    {
     "name": "stderr",
     "output_type": "stream",
     "text": [
      "Simulating null distribution (Color 2): 100%|██████████| 1000/1000 [00:00<00:00, 1463.20it/s]\n"
     ]
    },
    {
     "name": "stdout",
     "output_type": "stream",
     "text": [
      "\n",
      "--- Independence Test Result for Color: 2 ---\n",
      "P value: 0.0470\n",
      "Conclusion: Fail to reject the null hypothesis (p >= 0.005555555555555556).\n",
      "           There is no significant evidence that 'flowX' and 'flowY' are dependent.\n",
      "\n",
      "Independence test completed.\n",
      "\n",
      "--- 3. Running Bivariate Equivalence Test ---\n",
      "\n",
      " ============ Running Bivariate Test ============\n",
      "# of Edge Pairs in Class1 : 1042\n",
      "# of Edge Pairs in Class2 : 1358\n",
      "Finding optimal K using cross-validation on combined data...\n",
      "Dynamically generated K candidates: [ 8  9 10 11 12 13 14 15 17 19 21 23 25 27 30 33 36 40 44 48]\n",
      "Optimal K selected via Cross-Validation: 8\n",
      "Observed KL = 0.3079\n"
     ]
    },
    {
     "name": "stderr",
     "output_type": "stream",
     "text": [
      "KL Under Null (Parallel):   3%|▎         | 28/1000 [00:01<00:49, 19.47it/s]/Users/jiaxin/Documents/Summer 2024/EFHT/Edge-Flow-Hypothesis-Tests/.conda/lib/python3.11/site-packages/joblib/externals/loky/process_executor.py:782: UserWarning: A worker stopped while some jobs were given to the executor. This can be caused by a too short worker timeout or by a memory leak.\n",
      "  warnings.warn(\n",
      "KL Under Null (Parallel): 100%|██████████| 1000/1000 [01:58<00:00,  8.44it/s]\n"
     ]
    },
    {
     "name": "stdout",
     "output_type": "stream",
     "text": [
      "\n",
      "Bivariate Test Result:\n",
      "Observed Symmetric KL Divergence: 0.3079\n",
      "P value: 0.7443\n",
      "Conclusion: Fail to reject the null hypothesis (p >= 0.016666666666666666). There is no significant evidence that the distributions are different.\n",
      "Appended results to: outputs/SmallWorld-Beta0.7_K13-Rho0.5_D4_W0.5_Pos-G1-8kNodes/summary_report.csv\n",
      "\n",
      "==================================================\n",
      "Analysis pipeline finished!\n",
      "--- Finished: SmallWorld-Beta0.7_K13-Rho0.5_D4_W0.5_Pos-G1-8kNodes_Sample42.csv ---\n",
      "\n",
      "--- Processing: SmallWorld-Beta0.7_K13-Rho0.5_D4_W0.5_Pos-G1-8kNodes_Sample43.csv ---\n",
      "Starting EFHT analysis - Batch ID: SmallWorld-Beta0.7_K13-Rho0.5_D4_W0.5_Pos-G1-8kNodes, Dataset ID: SmallWorld-Beta0.7_K13-Rho0.5_D4_W0.5_Pos-G1-8kNodes_Sample43\n",
      "Results for the current dataset will be saved in: outputs/SmallWorld-Beta0.7_K13-Rho0.5_D4_W0.5_Pos-G1-8kNodes/SmallWorld-Beta0.7_K13-Rho0.5_D4_W0.5_Pos-G1-8kNodes_Sample43\n",
      "The summary report will be saved in: outputs/SmallWorld-Beta0.7_K13-Rho0.5_D4_W0.5_Pos-G1-8kNodes\n",
      "\n",
      "--- 2. Loading and preprocessing data for selected tests ---\n"
     ]
    },
    {
     "name": "stderr",
     "output_type": "stream",
     "text": [
      "Processing Colors: 100%|██████████| 43/43 [01:32<00:00,  2.14s/it]\n",
      "/Users/jiaxin/Documents/Summer 2024/EFHT/Edge-Flow-Hypothesis-Tests/.conda/lib/python3.11/site-packages/joblib/externals/loky/process_executor.py:782: UserWarning: A worker stopped while some jobs were given to the executor. This can be caused by a too short worker timeout or by a memory leak.\n",
      "  warnings.warn(\n"
     ]
    },
    {
     "name": "stdout",
     "output_type": "stream",
     "text": [
      "\n",
      ">>> Starting statistical tests <<<\n",
      "\n",
      "--- 1. Running K-S Test ---\n",
      "\n",
      " ============ Running KS Test ============\n",
      "# of Edges in Class1 : 1342\n",
      "# of Edges in Class2 : 2037\n",
      "\n",
      "KS Test Result:\n",
      "KS_statistic D = 0.0311\n",
      "P value = 4.0404e-01\n",
      "Conclusion: Fail to reject the null hypothesis (p >= 0.016666666666666666), distributions may be the same.\n",
      "\n",
      "--- 2. Running Independence tests ---\n",
      "Performing independence test on the following Top 3 color groups: [0, 1, 2]\n",
      "\n",
      "--- Analyzing color group: 0 ---\n",
      "  - Selecting optimal K value via cross-validation...\n",
      "   - Dynamically generated marginal K candidates: [  8  10  12  15  18  23  28  35  43  52  65  80  98 121 149 184 227 279\n",
      " 344 424]\n",
      "   - Dynamically generated joint K candidates: [ 8  9 10 11 12 14 15 17 19 21 23 25 28 31 35 39 43 48 53 59]\n",
      "  - Optimal K_MARGINAL = 8, Optimal K_JOINT = 8\n",
      "  - Observed KL divergence = 0.1408\n"
     ]
    },
    {
     "name": "stderr",
     "output_type": "stream",
     "text": [
      "Simulating null distribution (Color 0): 100%|██████████| 1000/1000 [00:01<00:00, 605.07it/s]\n"
     ]
    },
    {
     "name": "stdout",
     "output_type": "stream",
     "text": [
      "\n",
      "--- Independence Test Result for Color: 0 ---\n",
      "P value: 0.4505\n",
      "Conclusion: Fail to reject the null hypothesis (p >= 0.005555555555555556).\n",
      "           There is no significant evidence that 'flowX' and 'flowY' are dependent.\n",
      "\n",
      "--- Analyzing color group: 1 ---\n",
      "  - Selecting optimal K value via cross-validation...\n",
      "   - Dynamically generated marginal K candidates: [  8  10  12  15  18  23  28  35  43  52  65  80  98 121 149 184 227 279\n",
      " 344 424]\n",
      "   - Dynamically generated joint K candidates: [ 8  9 10 11 12 14 15 17 19 21 23 25 28 31 35 39 43 48 53 59]\n",
      "  - Optimal K_MARGINAL = 8, Optimal K_JOINT = 8\n",
      "  - Observed KL divergence = 0.1197\n"
     ]
    },
    {
     "name": "stderr",
     "output_type": "stream",
     "text": [
      "Simulating null distribution (Color 1): 100%|██████████| 1000/1000 [00:00<00:00, 1484.23it/s]\n"
     ]
    },
    {
     "name": "stdout",
     "output_type": "stream",
     "text": [
      "\n",
      "--- Independence Test Result for Color: 1 ---\n",
      "P value: 0.8891\n",
      "Conclusion: Fail to reject the null hypothesis (p >= 0.005555555555555556).\n",
      "           There is no significant evidence that 'flowX' and 'flowY' are dependent.\n",
      "\n",
      "--- Analyzing color group: 2 ---\n",
      "  - Selecting optimal K value via cross-validation...\n",
      "   - Dynamically generated marginal K candidates: [  8  10  12  15  18  23  28  35  43  52  65  80  98 121 149 184 227 279\n",
      " 344 424]\n",
      "   - Dynamically generated joint K candidates: [ 8  9 10 11 12 14 15 17 19 21 23 25 28 31 35 39 43 48 53 59]\n",
      "  - Optimal K_MARGINAL = 8, Optimal K_JOINT = 8\n",
      "  - Observed KL divergence = 0.1520\n"
     ]
    },
    {
     "name": "stderr",
     "output_type": "stream",
     "text": [
      "Simulating null distribution (Color 2): 100%|██████████| 1000/1000 [00:00<00:00, 1484.09it/s]\n"
     ]
    },
    {
     "name": "stdout",
     "output_type": "stream",
     "text": [
      "\n",
      "--- Independence Test Result for Color: 2 ---\n",
      "P value: 0.2787\n",
      "Conclusion: Fail to reject the null hypothesis (p >= 0.005555555555555556).\n",
      "           There is no significant evidence that 'flowX' and 'flowY' are dependent.\n",
      "\n",
      "Independence test completed.\n",
      "\n",
      "--- 3. Running Bivariate Equivalence Test ---\n",
      "\n",
      " ============ Running Bivariate Test ============\n",
      "# of Edge Pairs in Class1 : 1042\n",
      "# of Edge Pairs in Class2 : 1358\n",
      "Finding optimal K using cross-validation on combined data...\n",
      "Dynamically generated K candidates: [ 8  9 10 11 12 13 14 15 17 19 21 23 25 27 30 33 36 40 44 48]\n",
      "Optimal K selected via Cross-Validation: 8\n",
      "Observed KL = 0.2865\n"
     ]
    },
    {
     "name": "stderr",
     "output_type": "stream",
     "text": [
      "KL Under Null (Parallel):   3%|▎         | 28/1000 [00:01<00:50, 19.21it/s]/Users/jiaxin/Documents/Summer 2024/EFHT/Edge-Flow-Hypothesis-Tests/.conda/lib/python3.11/site-packages/joblib/externals/loky/process_executor.py:782: UserWarning: A worker stopped while some jobs were given to the executor. This can be caused by a too short worker timeout or by a memory leak.\n",
      "  warnings.warn(\n",
      "KL Under Null (Parallel): 100%|██████████| 1000/1000 [02:01<00:00,  8.25it/s]\n"
     ]
    },
    {
     "name": "stdout",
     "output_type": "stream",
     "text": [
      "\n",
      "Bivariate Test Result:\n",
      "Observed Symmetric KL Divergence: 0.2865\n",
      "P value: 0.9281\n",
      "Conclusion: Fail to reject the null hypothesis (p >= 0.016666666666666666). There is no significant evidence that the distributions are different.\n",
      "Appended results to: outputs/SmallWorld-Beta0.7_K13-Rho0.5_D4_W0.5_Pos-G1-8kNodes/summary_report.csv\n",
      "\n",
      "==================================================\n",
      "Analysis pipeline finished!\n",
      "--- Finished: SmallWorld-Beta0.7_K13-Rho0.5_D4_W0.5_Pos-G1-8kNodes_Sample43.csv ---\n",
      "\n",
      "--- Processing: SmallWorld-Beta0.7_K13-Rho0.5_D4_W0.5_Pos-G1-8kNodes_Sample44.csv ---\n",
      "Starting EFHT analysis - Batch ID: SmallWorld-Beta0.7_K13-Rho0.5_D4_W0.5_Pos-G1-8kNodes, Dataset ID: SmallWorld-Beta0.7_K13-Rho0.5_D4_W0.5_Pos-G1-8kNodes_Sample44\n",
      "Results for the current dataset will be saved in: outputs/SmallWorld-Beta0.7_K13-Rho0.5_D4_W0.5_Pos-G1-8kNodes/SmallWorld-Beta0.7_K13-Rho0.5_D4_W0.5_Pos-G1-8kNodes_Sample44\n",
      "The summary report will be saved in: outputs/SmallWorld-Beta0.7_K13-Rho0.5_D4_W0.5_Pos-G1-8kNodes\n",
      "\n",
      "--- 2. Loading and preprocessing data for selected tests ---\n"
     ]
    },
    {
     "name": "stderr",
     "output_type": "stream",
     "text": [
      "Processing Colors: 100%|██████████| 43/43 [01:31<00:00,  2.13s/it]\n",
      "/Users/jiaxin/Documents/Summer 2024/EFHT/Edge-Flow-Hypothesis-Tests/.conda/lib/python3.11/site-packages/joblib/externals/loky/process_executor.py:782: UserWarning: A worker stopped while some jobs were given to the executor. This can be caused by a too short worker timeout or by a memory leak.\n",
      "  warnings.warn(\n"
     ]
    },
    {
     "name": "stdout",
     "output_type": "stream",
     "text": [
      "\n",
      ">>> Starting statistical tests <<<\n",
      "\n",
      "--- 1. Running K-S Test ---\n",
      "\n",
      " ============ Running KS Test ============\n",
      "# of Edges in Class1 : 1342\n",
      "# of Edges in Class2 : 2037\n",
      "\n",
      "KS Test Result:\n",
      "KS_statistic D = 0.0489\n",
      "P value = 4.0209e-02\n",
      "Conclusion: Fail to reject the null hypothesis (p >= 0.016666666666666666), distributions may be the same.\n",
      "\n",
      "--- 2. Running Independence tests ---\n",
      "Performing independence test on the following Top 3 color groups: [0, 1, 2]\n",
      "\n",
      "--- Analyzing color group: 0 ---\n",
      "  - Selecting optimal K value via cross-validation...\n",
      "   - Dynamically generated marginal K candidates: [  8  10  12  15  18  23  28  35  43  52  65  80  98 121 149 184 227 279\n",
      " 344 424]\n",
      "   - Dynamically generated joint K candidates: [ 8  9 10 11 12 14 15 17 19 21 23 25 28 31 35 39 43 48 53 59]\n",
      "  - Optimal K_MARGINAL = 8, Optimal K_JOINT = 8\n",
      "  - Observed KL divergence = 0.1253\n"
     ]
    },
    {
     "name": "stderr",
     "output_type": "stream",
     "text": [
      "Simulating null distribution (Color 0): 100%|██████████| 1000/1000 [00:01<00:00, 607.32it/s]\n"
     ]
    },
    {
     "name": "stdout",
     "output_type": "stream",
     "text": [
      "\n",
      "--- Independence Test Result for Color: 0 ---\n",
      "P value: 0.9481\n",
      "Conclusion: Fail to reject the null hypothesis (p >= 0.005555555555555556).\n",
      "           There is no significant evidence that 'flowX' and 'flowY' are dependent.\n",
      "\n",
      "--- Analyzing color group: 1 ---\n",
      "  - Selecting optimal K value via cross-validation...\n",
      "   - Dynamically generated marginal K candidates: [  8  10  12  15  18  23  28  35  43  52  65  80  98 121 149 184 227 279\n",
      " 344 424]\n",
      "   - Dynamically generated joint K candidates: [ 8  9 10 11 12 14 15 17 19 21 23 25 28 31 35 39 43 48 53 59]\n",
      "  - Optimal K_MARGINAL = 8, Optimal K_JOINT = 8\n",
      "  - Observed KL divergence = 0.1300\n"
     ]
    },
    {
     "name": "stderr",
     "output_type": "stream",
     "text": [
      "Simulating null distribution (Color 1): 100%|██████████| 1000/1000 [00:00<00:00, 1517.75it/s]\n"
     ]
    },
    {
     "name": "stdout",
     "output_type": "stream",
     "text": [
      "\n",
      "--- Independence Test Result for Color: 1 ---\n",
      "P value: 0.2707\n",
      "Conclusion: Fail to reject the null hypothesis (p >= 0.005555555555555556).\n",
      "           There is no significant evidence that 'flowX' and 'flowY' are dependent.\n",
      "\n",
      "--- Analyzing color group: 2 ---\n",
      "  - Selecting optimal K value via cross-validation...\n",
      "   - Dynamically generated marginal K candidates: [  8  10  12  15  18  23  28  35  43  52  65  80  98 121 149 184 227 279\n",
      " 344 424]\n",
      "   - Dynamically generated joint K candidates: [ 8  9 10 11 12 14 15 17 19 21 23 25 28 31 35 39 43 48 53 59]\n",
      "  - Optimal K_MARGINAL = 8, Optimal K_JOINT = 8\n",
      "  - Observed KL divergence = 0.1527\n"
     ]
    },
    {
     "name": "stderr",
     "output_type": "stream",
     "text": [
      "Simulating null distribution (Color 2): 100%|██████████| 1000/1000 [00:00<00:00, 1480.47it/s]\n"
     ]
    },
    {
     "name": "stdout",
     "output_type": "stream",
     "text": [
      "\n",
      "--- Independence Test Result for Color: 2 ---\n",
      "P value: 0.0839\n",
      "Conclusion: Fail to reject the null hypothesis (p >= 0.005555555555555556).\n",
      "           There is no significant evidence that 'flowX' and 'flowY' are dependent.\n",
      "\n",
      "Independence test completed.\n",
      "\n",
      "--- 3. Running Bivariate Equivalence Test ---\n",
      "\n",
      " ============ Running Bivariate Test ============\n",
      "# of Edge Pairs in Class1 : 1042\n",
      "# of Edge Pairs in Class2 : 1358\n",
      "Finding optimal K using cross-validation on combined data...\n",
      "Dynamically generated K candidates: [ 8  9 10 11 12 13 14 15 17 19 21 23 25 27 30 33 36 40 44 48]\n",
      "Optimal K selected via Cross-Validation: 8\n",
      "Observed KL = 0.3224\n"
     ]
    },
    {
     "name": "stderr",
     "output_type": "stream",
     "text": [
      "KL Under Null (Parallel):   3%|▎         | 28/1000 [00:01<00:50, 19.07it/s]/Users/jiaxin/Documents/Summer 2024/EFHT/Edge-Flow-Hypothesis-Tests/.conda/lib/python3.11/site-packages/joblib/externals/loky/process_executor.py:782: UserWarning: A worker stopped while some jobs were given to the executor. This can be caused by a too short worker timeout or by a memory leak.\n",
      "  warnings.warn(\n",
      "KL Under Null (Parallel): 100%|██████████| 1000/1000 [01:59<00:00,  8.36it/s]\n"
     ]
    },
    {
     "name": "stdout",
     "output_type": "stream",
     "text": [
      "\n",
      "Bivariate Test Result:\n",
      "Observed Symmetric KL Divergence: 0.3224\n",
      "P value: 0.5764\n",
      "Conclusion: Fail to reject the null hypothesis (p >= 0.016666666666666666). There is no significant evidence that the distributions are different.\n",
      "Appended results to: outputs/SmallWorld-Beta0.7_K13-Rho0.5_D4_W0.5_Pos-G1-8kNodes/summary_report.csv\n",
      "\n",
      "==================================================\n",
      "Analysis pipeline finished!\n",
      "--- Finished: SmallWorld-Beta0.7_K13-Rho0.5_D4_W0.5_Pos-G1-8kNodes_Sample44.csv ---\n",
      "\n",
      "--- Processing: SmallWorld-Beta0.7_K13-Rho0.5_D4_W0.5_Pos-G1-8kNodes_Sample45.csv ---\n",
      "Starting EFHT analysis - Batch ID: SmallWorld-Beta0.7_K13-Rho0.5_D4_W0.5_Pos-G1-8kNodes, Dataset ID: SmallWorld-Beta0.7_K13-Rho0.5_D4_W0.5_Pos-G1-8kNodes_Sample45\n",
      "Results for the current dataset will be saved in: outputs/SmallWorld-Beta0.7_K13-Rho0.5_D4_W0.5_Pos-G1-8kNodes/SmallWorld-Beta0.7_K13-Rho0.5_D4_W0.5_Pos-G1-8kNodes_Sample45\n",
      "The summary report will be saved in: outputs/SmallWorld-Beta0.7_K13-Rho0.5_D4_W0.5_Pos-G1-8kNodes\n",
      "\n",
      "--- 2. Loading and preprocessing data for selected tests ---\n"
     ]
    },
    {
     "name": "stderr",
     "output_type": "stream",
     "text": [
      "Processing Colors: 100%|██████████| 43/43 [01:31<00:00,  2.13s/it]\n",
      "/Users/jiaxin/Documents/Summer 2024/EFHT/Edge-Flow-Hypothesis-Tests/.conda/lib/python3.11/site-packages/joblib/externals/loky/process_executor.py:782: UserWarning: A worker stopped while some jobs were given to the executor. This can be caused by a too short worker timeout or by a memory leak.\n",
      "  warnings.warn(\n"
     ]
    },
    {
     "name": "stdout",
     "output_type": "stream",
     "text": [
      "\n",
      ">>> Starting statistical tests <<<\n",
      "\n",
      "--- 1. Running K-S Test ---\n",
      "\n",
      " ============ Running KS Test ============\n",
      "# of Edges in Class1 : 1342\n",
      "# of Edges in Class2 : 2037\n",
      "\n",
      "KS Test Result:\n",
      "KS_statistic D = 0.0419\n",
      "P value = 1.1268e-01\n",
      "Conclusion: Fail to reject the null hypothesis (p >= 0.016666666666666666), distributions may be the same.\n",
      "\n",
      "--- 2. Running Independence tests ---\n",
      "Performing independence test on the following Top 3 color groups: [0, 1, 2]\n",
      "\n",
      "--- Analyzing color group: 0 ---\n",
      "  - Selecting optimal K value via cross-validation...\n",
      "   - Dynamically generated marginal K candidates: [  8  10  12  15  18  23  28  35  43  52  65  80  98 121 149 184 227 279\n",
      " 344 424]\n",
      "   - Dynamically generated joint K candidates: [ 8  9 10 11 12 14 15 17 19 21 23 25 28 31 35 39 43 48 53 59]\n",
      "  - Optimal K_MARGINAL = 8, Optimal K_JOINT = 8\n",
      "  - Observed KL divergence = 0.0941\n"
     ]
    },
    {
     "name": "stderr",
     "output_type": "stream",
     "text": [
      "Simulating null distribution (Color 0): 100%|██████████| 1000/1000 [00:01<00:00, 599.34it/s]\n"
     ]
    },
    {
     "name": "stdout",
     "output_type": "stream",
     "text": [
      "\n",
      "--- Independence Test Result for Color: 0 ---\n",
      "P value: 0.9980\n",
      "Conclusion: Fail to reject the null hypothesis (p >= 0.005555555555555556).\n",
      "           There is no significant evidence that 'flowX' and 'flowY' are dependent.\n",
      "\n",
      "--- Analyzing color group: 1 ---\n",
      "  - Selecting optimal K value via cross-validation...\n",
      "   - Dynamically generated marginal K candidates: [  8  10  12  15  18  23  28  35  43  52  65  80  98 121 149 184 227 279\n",
      " 344 424]\n",
      "   - Dynamically generated joint K candidates: [ 8  9 10 11 12 14 15 17 19 21 23 25 28 31 35 39 43 48 53 59]\n",
      "  - Optimal K_MARGINAL = 8, Optimal K_JOINT = 8\n",
      "  - Observed KL divergence = 0.1388\n"
     ]
    },
    {
     "name": "stderr",
     "output_type": "stream",
     "text": [
      "Simulating null distribution (Color 1): 100%|██████████| 1000/1000 [00:00<00:00, 1462.54it/s]\n"
     ]
    },
    {
     "name": "stdout",
     "output_type": "stream",
     "text": [
      "\n",
      "--- Independence Test Result for Color: 1 ---\n",
      "P value: 0.9331\n",
      "Conclusion: Fail to reject the null hypothesis (p >= 0.005555555555555556).\n",
      "           There is no significant evidence that 'flowX' and 'flowY' are dependent.\n",
      "\n",
      "--- Analyzing color group: 2 ---\n",
      "  - Selecting optimal K value via cross-validation...\n",
      "   - Dynamically generated marginal K candidates: [  8  10  12  15  18  23  28  35  43  52  65  80  98 121 149 184 227 279\n",
      " 344 424]\n",
      "   - Dynamically generated joint K candidates: [ 8  9 10 11 12 14 15 17 19 21 23 25 28 31 35 39 43 48 53 59]\n",
      "  - Optimal K_MARGINAL = 8, Optimal K_JOINT = 8\n",
      "  - Observed KL divergence = 0.1357\n"
     ]
    },
    {
     "name": "stderr",
     "output_type": "stream",
     "text": [
      "Simulating null distribution (Color 2): 100%|██████████| 1000/1000 [00:00<00:00, 1452.89it/s]\n"
     ]
    },
    {
     "name": "stdout",
     "output_type": "stream",
     "text": [
      "\n",
      "--- Independence Test Result for Color: 2 ---\n",
      "P value: 0.4625\n",
      "Conclusion: Fail to reject the null hypothesis (p >= 0.005555555555555556).\n",
      "           There is no significant evidence that 'flowX' and 'flowY' are dependent.\n",
      "\n",
      "Independence test completed.\n",
      "\n",
      "--- 3. Running Bivariate Equivalence Test ---\n",
      "\n",
      " ============ Running Bivariate Test ============\n",
      "# of Edge Pairs in Class1 : 1042\n",
      "# of Edge Pairs in Class2 : 1358\n",
      "Finding optimal K using cross-validation on combined data...\n",
      "Dynamically generated K candidates: [ 8  9 10 11 12 13 14 15 17 19 21 23 25 27 30 33 36 40 44 48]\n",
      "Optimal K selected via Cross-Validation: 8\n",
      "Observed KL = 0.3267\n"
     ]
    },
    {
     "name": "stderr",
     "output_type": "stream",
     "text": [
      "KL Under Null (Parallel):   3%|▎         | 28/1000 [00:01<00:49, 19.76it/s]/Users/jiaxin/Documents/Summer 2024/EFHT/Edge-Flow-Hypothesis-Tests/.conda/lib/python3.11/site-packages/joblib/externals/loky/process_executor.py:782: UserWarning: A worker stopped while some jobs were given to the executor. This can be caused by a too short worker timeout or by a memory leak.\n",
      "  warnings.warn(\n",
      "KL Under Null (Parallel): 100%|██████████| 1000/1000 [01:59<00:00,  8.37it/s]\n"
     ]
    },
    {
     "name": "stdout",
     "output_type": "stream",
     "text": [
      "\n",
      "Bivariate Test Result:\n",
      "Observed Symmetric KL Divergence: 0.3267\n",
      "P value: 0.3686\n",
      "Conclusion: Fail to reject the null hypothesis (p >= 0.016666666666666666). There is no significant evidence that the distributions are different.\n",
      "Appended results to: outputs/SmallWorld-Beta0.7_K13-Rho0.5_D4_W0.5_Pos-G1-8kNodes/summary_report.csv\n",
      "\n",
      "==================================================\n",
      "Analysis pipeline finished!\n",
      "--- Finished: SmallWorld-Beta0.7_K13-Rho0.5_D4_W0.5_Pos-G1-8kNodes_Sample45.csv ---\n",
      "\n",
      "--- Processing: SmallWorld-Beta0.7_K13-Rho0.5_D4_W0.5_Pos-G1-8kNodes_Sample46.csv ---\n",
      "Starting EFHT analysis - Batch ID: SmallWorld-Beta0.7_K13-Rho0.5_D4_W0.5_Pos-G1-8kNodes, Dataset ID: SmallWorld-Beta0.7_K13-Rho0.5_D4_W0.5_Pos-G1-8kNodes_Sample46\n",
      "Results for the current dataset will be saved in: outputs/SmallWorld-Beta0.7_K13-Rho0.5_D4_W0.5_Pos-G1-8kNodes/SmallWorld-Beta0.7_K13-Rho0.5_D4_W0.5_Pos-G1-8kNodes_Sample46\n",
      "The summary report will be saved in: outputs/SmallWorld-Beta0.7_K13-Rho0.5_D4_W0.5_Pos-G1-8kNodes\n",
      "\n",
      "--- 2. Loading and preprocessing data for selected tests ---\n"
     ]
    },
    {
     "name": "stderr",
     "output_type": "stream",
     "text": [
      "Processing Colors: 100%|██████████| 43/43 [01:29<00:00,  2.08s/it]\n",
      "/Users/jiaxin/Documents/Summer 2024/EFHT/Edge-Flow-Hypothesis-Tests/.conda/lib/python3.11/site-packages/joblib/externals/loky/process_executor.py:782: UserWarning: A worker stopped while some jobs were given to the executor. This can be caused by a too short worker timeout or by a memory leak.\n",
      "  warnings.warn(\n"
     ]
    },
    {
     "name": "stdout",
     "output_type": "stream",
     "text": [
      "\n",
      ">>> Starting statistical tests <<<\n",
      "\n",
      "--- 1. Running K-S Test ---\n",
      "\n",
      " ============ Running KS Test ============\n",
      "# of Edges in Class1 : 1342\n",
      "# of Edges in Class2 : 2037\n",
      "\n",
      "KS Test Result:\n",
      "KS_statistic D = 0.0395\n",
      "P value = 1.5480e-01\n",
      "Conclusion: Fail to reject the null hypothesis (p >= 0.016666666666666666), distributions may be the same.\n",
      "\n",
      "--- 2. Running Independence tests ---\n",
      "Performing independence test on the following Top 3 color groups: [0, 1, 2]\n",
      "\n",
      "--- Analyzing color group: 0 ---\n",
      "  - Selecting optimal K value via cross-validation...\n",
      "   - Dynamically generated marginal K candidates: [  8  10  12  15  18  23  28  35  43  52  65  80  98 121 149 184 227 279\n",
      " 344 424]\n",
      "   - Dynamically generated joint K candidates: [ 8  9 10 11 12 14 15 17 19 21 23 25 28 31 35 39 43 48 53 59]\n",
      "  - Optimal K_MARGINAL = 8, Optimal K_JOINT = 8\n",
      "  - Observed KL divergence = 0.1027\n"
     ]
    },
    {
     "name": "stderr",
     "output_type": "stream",
     "text": [
      "Simulating null distribution (Color 0):   3%|▎         | 28/1000 [00:00<00:30, 31.38it/s]/Users/jiaxin/Documents/Summer 2024/EFHT/Edge-Flow-Hypothesis-Tests/.conda/lib/python3.11/site-packages/joblib/externals/loky/process_executor.py:782: UserWarning: A worker stopped while some jobs were given to the executor. This can be caused by a too short worker timeout or by a memory leak.\n",
      "  warnings.warn(\n",
      "Simulating null distribution (Color 0): 100%|██████████| 1000/1000 [00:01<00:00, 573.82it/s]\n"
     ]
    },
    {
     "name": "stdout",
     "output_type": "stream",
     "text": [
      "\n",
      "--- Independence Test Result for Color: 0 ---\n",
      "P value: 0.9970\n",
      "Conclusion: Fail to reject the null hypothesis (p >= 0.005555555555555556).\n",
      "           There is no significant evidence that 'flowX' and 'flowY' are dependent.\n",
      "\n",
      "--- Analyzing color group: 1 ---\n",
      "  - Selecting optimal K value via cross-validation...\n",
      "   - Dynamically generated marginal K candidates: [  8  10  12  15  18  23  28  35  43  52  65  80  98 121 149 184 227 279\n",
      " 344 424]\n",
      "   - Dynamically generated joint K candidates: [ 8  9 10 11 12 14 15 17 19 21 23 25 28 31 35 39 43 48 53 59]\n",
      "  - Optimal K_MARGINAL = 8, Optimal K_JOINT = 8\n",
      "  - Observed KL divergence = 0.1101\n"
     ]
    },
    {
     "name": "stderr",
     "output_type": "stream",
     "text": [
      "Simulating null distribution (Color 1): 100%|██████████| 1000/1000 [00:00<00:00, 1431.06it/s]\n"
     ]
    },
    {
     "name": "stdout",
     "output_type": "stream",
     "text": [
      "\n",
      "--- Independence Test Result for Color: 1 ---\n",
      "P value: 0.9980\n",
      "Conclusion: Fail to reject the null hypothesis (p >= 0.005555555555555556).\n",
      "           There is no significant evidence that 'flowX' and 'flowY' are dependent.\n",
      "\n",
      "--- Analyzing color group: 2 ---\n",
      "  - Selecting optimal K value via cross-validation...\n",
      "   - Dynamically generated marginal K candidates: [  8  10  12  15  18  23  28  35  43  52  65  80  98 121 149 184 227 279\n",
      " 344 424]\n",
      "   - Dynamically generated joint K candidates: [ 8  9 10 11 12 14 15 17 19 21 23 25 28 31 35 39 43 48 53 59]\n",
      "  - Optimal K_MARGINAL = 8, Optimal K_JOINT = 8\n",
      "  - Observed KL divergence = 0.0939\n"
     ]
    },
    {
     "name": "stderr",
     "output_type": "stream",
     "text": [
      "Simulating null distribution (Color 2): 100%|██████████| 1000/1000 [00:00<00:00, 1433.20it/s]\n"
     ]
    },
    {
     "name": "stdout",
     "output_type": "stream",
     "text": [
      "\n",
      "--- Independence Test Result for Color: 2 ---\n",
      "P value: 0.9990\n",
      "Conclusion: Fail to reject the null hypothesis (p >= 0.005555555555555556).\n",
      "           There is no significant evidence that 'flowX' and 'flowY' are dependent.\n",
      "\n",
      "Independence test completed.\n",
      "\n",
      "--- 3. Running Bivariate Equivalence Test ---\n",
      "\n",
      " ============ Running Bivariate Test ============\n",
      "# of Edge Pairs in Class1 : 1042\n",
      "# of Edge Pairs in Class2 : 1358\n",
      "Finding optimal K using cross-validation on combined data...\n",
      "Dynamically generated K candidates: [ 8  9 10 11 12 13 14 15 17 19 21 23 25 27 30 33 36 40 44 48]\n",
      "Optimal K selected via Cross-Validation: 8\n",
      "Observed KL = 0.3312\n"
     ]
    },
    {
     "name": "stderr",
     "output_type": "stream",
     "text": [
      "KL Under Null (Parallel):   3%|▎         | 28/1000 [00:01<00:51, 18.98it/s]/Users/jiaxin/Documents/Summer 2024/EFHT/Edge-Flow-Hypothesis-Tests/.conda/lib/python3.11/site-packages/joblib/externals/loky/process_executor.py:782: UserWarning: A worker stopped while some jobs were given to the executor. This can be caused by a too short worker timeout or by a memory leak.\n",
      "  warnings.warn(\n",
      "KL Under Null (Parallel): 100%|██████████| 1000/1000 [02:01<00:00,  8.23it/s]\n"
     ]
    },
    {
     "name": "stdout",
     "output_type": "stream",
     "text": [
      "\n",
      "Bivariate Test Result:\n",
      "Observed Symmetric KL Divergence: 0.3312\n",
      "P value: 0.3227\n",
      "Conclusion: Fail to reject the null hypothesis (p >= 0.016666666666666666). There is no significant evidence that the distributions are different.\n",
      "Appended results to: outputs/SmallWorld-Beta0.7_K13-Rho0.5_D4_W0.5_Pos-G1-8kNodes/summary_report.csv\n",
      "\n",
      "==================================================\n",
      "Analysis pipeline finished!\n",
      "--- Finished: SmallWorld-Beta0.7_K13-Rho0.5_D4_W0.5_Pos-G1-8kNodes_Sample46.csv ---\n",
      "\n",
      "--- Processing: SmallWorld-Beta0.7_K13-Rho0.5_D4_W0.5_Pos-G1-8kNodes_Sample47.csv ---\n",
      "Starting EFHT analysis - Batch ID: SmallWorld-Beta0.7_K13-Rho0.5_D4_W0.5_Pos-G1-8kNodes, Dataset ID: SmallWorld-Beta0.7_K13-Rho0.5_D4_W0.5_Pos-G1-8kNodes_Sample47\n",
      "Results for the current dataset will be saved in: outputs/SmallWorld-Beta0.7_K13-Rho0.5_D4_W0.5_Pos-G1-8kNodes/SmallWorld-Beta0.7_K13-Rho0.5_D4_W0.5_Pos-G1-8kNodes_Sample47\n",
      "The summary report will be saved in: outputs/SmallWorld-Beta0.7_K13-Rho0.5_D4_W0.5_Pos-G1-8kNodes\n",
      "\n",
      "--- 2. Loading and preprocessing data for selected tests ---\n"
     ]
    },
    {
     "name": "stderr",
     "output_type": "stream",
     "text": [
      "Processing Colors: 100%|██████████| 43/43 [01:23<00:00,  1.95s/it]\n",
      "/Users/jiaxin/Documents/Summer 2024/EFHT/Edge-Flow-Hypothesis-Tests/.conda/lib/python3.11/site-packages/joblib/externals/loky/process_executor.py:782: UserWarning: A worker stopped while some jobs were given to the executor. This can be caused by a too short worker timeout or by a memory leak.\n",
      "  warnings.warn(\n"
     ]
    },
    {
     "name": "stdout",
     "output_type": "stream",
     "text": [
      "\n",
      ">>> Starting statistical tests <<<\n",
      "\n",
      "--- 1. Running K-S Test ---\n",
      "\n",
      " ============ Running KS Test ============\n",
      "# of Edges in Class1 : 1342\n",
      "# of Edges in Class2 : 2037\n",
      "\n",
      "KS Test Result:\n",
      "KS_statistic D = 0.0296\n",
      "P value = 4.6809e-01\n",
      "Conclusion: Fail to reject the null hypothesis (p >= 0.016666666666666666), distributions may be the same.\n",
      "\n",
      "--- 2. Running Independence tests ---\n",
      "Performing independence test on the following Top 3 color groups: [0, 1, 2]\n",
      "\n",
      "--- Analyzing color group: 0 ---\n",
      "  - Selecting optimal K value via cross-validation...\n",
      "   - Dynamically generated marginal K candidates: [  8  10  12  15  18  23  28  35  43  52  65  80  98 121 149 184 227 279\n",
      " 344 424]\n",
      "   - Dynamically generated joint K candidates: [ 8  9 10 11 12 14 15 17 19 21 23 25 28 31 35 39 43 48 53 59]\n",
      "  - Optimal K_MARGINAL = 8, Optimal K_JOINT = 8\n",
      "  - Observed KL divergence = 0.1591\n"
     ]
    },
    {
     "name": "stderr",
     "output_type": "stream",
     "text": [
      "Simulating null distribution (Color 0): 100%|██████████| 1000/1000 [00:01<00:00, 595.62it/s]\n"
     ]
    },
    {
     "name": "stdout",
     "output_type": "stream",
     "text": [
      "\n",
      "--- Independence Test Result for Color: 0 ---\n",
      "P value: 0.2398\n",
      "Conclusion: Fail to reject the null hypothesis (p >= 0.005555555555555556).\n",
      "           There is no significant evidence that 'flowX' and 'flowY' are dependent.\n",
      "\n",
      "--- Analyzing color group: 1 ---\n",
      "  - Selecting optimal K value via cross-validation...\n",
      "   - Dynamically generated marginal K candidates: [  8  10  12  15  18  23  28  35  43  52  65  80  98 121 149 184 227 279\n",
      " 344 424]\n",
      "   - Dynamically generated joint K candidates: [ 8  9 10 11 12 14 15 17 19 21 23 25 28 31 35 39 43 48 53 59]\n",
      "  - Optimal K_MARGINAL = 8, Optimal K_JOINT = 8\n",
      "  - Observed KL divergence = 0.1304\n"
     ]
    },
    {
     "name": "stderr",
     "output_type": "stream",
     "text": [
      "Simulating null distribution (Color 1): 100%|██████████| 1000/1000 [00:00<00:00, 1543.57it/s]\n"
     ]
    },
    {
     "name": "stdout",
     "output_type": "stream",
     "text": [
      "\n",
      "--- Independence Test Result for Color: 1 ---\n",
      "P value: 0.9151\n",
      "Conclusion: Fail to reject the null hypothesis (p >= 0.005555555555555556).\n",
      "           There is no significant evidence that 'flowX' and 'flowY' are dependent.\n",
      "\n",
      "--- Analyzing color group: 2 ---\n",
      "  - Selecting optimal K value via cross-validation...\n",
      "   - Dynamically generated marginal K candidates: [  8  10  12  15  18  23  28  35  43  52  65  80  98 121 149 184 227 279\n",
      " 344 424]\n",
      "   - Dynamically generated joint K candidates: [ 8  9 10 11 12 14 15 17 19 21 23 25 28 31 35 39 43 48 53 59]\n",
      "  - Optimal K_MARGINAL = 8, Optimal K_JOINT = 8\n",
      "  - Observed KL divergence = 0.1067\n"
     ]
    },
    {
     "name": "stderr",
     "output_type": "stream",
     "text": [
      "Simulating null distribution (Color 2): 100%|██████████| 1000/1000 [00:00<00:00, 1466.89it/s]\n"
     ]
    },
    {
     "name": "stdout",
     "output_type": "stream",
     "text": [
      "\n",
      "--- Independence Test Result for Color: 2 ---\n",
      "P value: 0.9990\n",
      "Conclusion: Fail to reject the null hypothesis (p >= 0.005555555555555556).\n",
      "           There is no significant evidence that 'flowX' and 'flowY' are dependent.\n",
      "\n",
      "Independence test completed.\n",
      "\n",
      "--- 3. Running Bivariate Equivalence Test ---\n",
      "\n",
      " ============ Running Bivariate Test ============\n",
      "# of Edge Pairs in Class1 : 1042\n",
      "# of Edge Pairs in Class2 : 1358\n",
      "Finding optimal K using cross-validation on combined data...\n",
      "Dynamically generated K candidates: [ 8  9 10 11 12 13 14 15 17 19 21 23 25 27 30 33 36 40 44 48]\n",
      "Optimal K selected via Cross-Validation: 8\n",
      "Observed KL = 0.3625\n"
     ]
    },
    {
     "name": "stderr",
     "output_type": "stream",
     "text": [
      "KL Under Null (Parallel):   3%|▎         | 28/1000 [00:01<00:52, 18.67it/s]/Users/jiaxin/Documents/Summer 2024/EFHT/Edge-Flow-Hypothesis-Tests/.conda/lib/python3.11/site-packages/joblib/externals/loky/process_executor.py:782: UserWarning: A worker stopped while some jobs were given to the executor. This can be caused by a too short worker timeout or by a memory leak.\n",
      "  warnings.warn(\n",
      "KL Under Null (Parallel): 100%|██████████| 1000/1000 [02:01<00:00,  8.22it/s]\n"
     ]
    },
    {
     "name": "stdout",
     "output_type": "stream",
     "text": [
      "\n",
      "Bivariate Test Result:\n",
      "Observed Symmetric KL Divergence: 0.3625\n",
      "P value: 0.0450\n",
      "Conclusion: Fail to reject the null hypothesis (p >= 0.016666666666666666). There is no significant evidence that the distributions are different.\n",
      "Appended results to: outputs/SmallWorld-Beta0.7_K13-Rho0.5_D4_W0.5_Pos-G1-8kNodes/summary_report.csv\n",
      "\n",
      "==================================================\n",
      "Analysis pipeline finished!\n",
      "--- Finished: SmallWorld-Beta0.7_K13-Rho0.5_D4_W0.5_Pos-G1-8kNodes_Sample47.csv ---\n",
      "\n",
      "--- Processing: SmallWorld-Beta0.7_K13-Rho0.5_D4_W0.5_Pos-G1-8kNodes_Sample48.csv ---\n",
      "Starting EFHT analysis - Batch ID: SmallWorld-Beta0.7_K13-Rho0.5_D4_W0.5_Pos-G1-8kNodes, Dataset ID: SmallWorld-Beta0.7_K13-Rho0.5_D4_W0.5_Pos-G1-8kNodes_Sample48\n",
      "Results for the current dataset will be saved in: outputs/SmallWorld-Beta0.7_K13-Rho0.5_D4_W0.5_Pos-G1-8kNodes/SmallWorld-Beta0.7_K13-Rho0.5_D4_W0.5_Pos-G1-8kNodes_Sample48\n",
      "The summary report will be saved in: outputs/SmallWorld-Beta0.7_K13-Rho0.5_D4_W0.5_Pos-G1-8kNodes\n",
      "\n",
      "--- 2. Loading and preprocessing data for selected tests ---\n"
     ]
    },
    {
     "name": "stderr",
     "output_type": "stream",
     "text": [
      "Processing Colors: 100%|██████████| 43/43 [01:23<00:00,  1.94s/it]\n",
      "/Users/jiaxin/Documents/Summer 2024/EFHT/Edge-Flow-Hypothesis-Tests/.conda/lib/python3.11/site-packages/joblib/externals/loky/process_executor.py:782: UserWarning: A worker stopped while some jobs were given to the executor. This can be caused by a too short worker timeout or by a memory leak.\n",
      "  warnings.warn(\n"
     ]
    },
    {
     "name": "stdout",
     "output_type": "stream",
     "text": [
      "\n",
      ">>> Starting statistical tests <<<\n",
      "\n",
      "--- 1. Running K-S Test ---\n",
      "\n",
      " ============ Running KS Test ============\n",
      "# of Edges in Class1 : 1342\n",
      "# of Edges in Class2 : 2037\n",
      "\n",
      "KS Test Result:\n",
      "KS_statistic D = 0.0348\n",
      "P value = 2.7205e-01\n",
      "Conclusion: Fail to reject the null hypothesis (p >= 0.016666666666666666), distributions may be the same.\n",
      "\n",
      "--- 2. Running Independence tests ---\n",
      "Performing independence test on the following Top 3 color groups: [0, 1, 2]\n",
      "\n",
      "--- Analyzing color group: 0 ---\n",
      "  - Selecting optimal K value via cross-validation...\n",
      "   - Dynamically generated marginal K candidates: [  8  10  12  15  18  23  28  35  43  52  65  80  98 121 149 184 227 279\n",
      " 344 424]\n",
      "   - Dynamically generated joint K candidates: [ 8  9 10 11 12 14 15 17 19 21 23 25 28 31 35 39 43 48 53 59]\n",
      "  - Optimal K_MARGINAL = 8, Optimal K_JOINT = 8\n",
      "  - Observed KL divergence = 0.0597\n"
     ]
    },
    {
     "name": "stderr",
     "output_type": "stream",
     "text": [
      "Simulating null distribution (Color 0):   3%|▎         | 28/1000 [00:00<00:31, 31.15it/s]/Users/jiaxin/Documents/Summer 2024/EFHT/Edge-Flow-Hypothesis-Tests/.conda/lib/python3.11/site-packages/joblib/externals/loky/process_executor.py:782: UserWarning: A worker stopped while some jobs were given to the executor. This can be caused by a too short worker timeout or by a memory leak.\n",
      "  warnings.warn(\n",
      "Simulating null distribution (Color 0): 100%|██████████| 1000/1000 [00:01<00:00, 571.48it/s]\n"
     ]
    },
    {
     "name": "stdout",
     "output_type": "stream",
     "text": [
      "\n",
      "--- Independence Test Result for Color: 0 ---\n",
      "P value: 0.0849\n",
      "Conclusion: Fail to reject the null hypothesis (p >= 0.005555555555555556).\n",
      "           There is no significant evidence that 'flowX' and 'flowY' are dependent.\n",
      "\n",
      "--- Analyzing color group: 1 ---\n",
      "  - Selecting optimal K value via cross-validation...\n",
      "   - Dynamically generated marginal K candidates: [  8  10  12  15  18  23  28  35  43  52  65  80  98 121 149 184 227 279\n",
      " 344 424]\n",
      "   - Dynamically generated joint K candidates: [ 8  9 10 11 12 14 15 17 19 21 23 25 28 31 35 39 43 48 53 59]\n",
      "  - Optimal K_MARGINAL = 8, Optimal K_JOINT = 8\n",
      "  - Observed KL divergence = 0.0192\n"
     ]
    },
    {
     "name": "stderr",
     "output_type": "stream",
     "text": [
      "Simulating null distribution (Color 1): 100%|██████████| 1000/1000 [00:00<00:00, 1475.03it/s]\n"
     ]
    },
    {
     "name": "stdout",
     "output_type": "stream",
     "text": [
      "\n",
      "--- Independence Test Result for Color: 1 ---\n",
      "P value: 0.7842\n",
      "Conclusion: Fail to reject the null hypothesis (p >= 0.005555555555555556).\n",
      "           There is no significant evidence that 'flowX' and 'flowY' are dependent.\n",
      "\n",
      "--- Analyzing color group: 2 ---\n",
      "  - Selecting optimal K value via cross-validation...\n",
      "   - Dynamically generated marginal K candidates: [  8  10  12  15  18  23  28  35  43  52  65  80  98 121 149 184 227 279\n",
      " 344 424]\n",
      "   - Dynamically generated joint K candidates: [ 8  9 10 11 12 14 15 17 19 21 23 25 28 31 35 39 43 48 53 59]\n",
      "  - Optimal K_MARGINAL = 8, Optimal K_JOINT = 8\n",
      "  - Observed KL divergence = 0.0335\n"
     ]
    },
    {
     "name": "stderr",
     "output_type": "stream",
     "text": [
      "Simulating null distribution (Color 2): 100%|██████████| 1000/1000 [00:00<00:00, 1527.88it/s]\n"
     ]
    },
    {
     "name": "stdout",
     "output_type": "stream",
     "text": [
      "\n",
      "--- Independence Test Result for Color: 2 ---\n",
      "P value: 0.7483\n",
      "Conclusion: Fail to reject the null hypothesis (p >= 0.005555555555555556).\n",
      "           There is no significant evidence that 'flowX' and 'flowY' are dependent.\n",
      "\n",
      "Independence test completed.\n",
      "\n",
      "--- 3. Running Bivariate Equivalence Test ---\n",
      "\n",
      " ============ Running Bivariate Test ============\n",
      "# of Edge Pairs in Class1 : 1042\n",
      "# of Edge Pairs in Class2 : 1358\n",
      "Finding optimal K using cross-validation on combined data...\n",
      "Dynamically generated K candidates: [ 8  9 10 11 12 13 14 15 17 19 21 23 25 27 30 33 36 40 44 48]\n",
      "Optimal K selected via Cross-Validation: 8\n",
      "Observed KL = 0.3538\n"
     ]
    },
    {
     "name": "stderr",
     "output_type": "stream",
     "text": [
      "KL Under Null (Parallel):   3%|▎         | 28/1000 [00:01<00:49, 19.71it/s]/Users/jiaxin/Documents/Summer 2024/EFHT/Edge-Flow-Hypothesis-Tests/.conda/lib/python3.11/site-packages/joblib/externals/loky/process_executor.py:782: UserWarning: A worker stopped while some jobs were given to the executor. This can be caused by a too short worker timeout or by a memory leak.\n",
      "  warnings.warn(\n",
      "KL Under Null (Parallel): 100%|██████████| 1000/1000 [01:57<00:00,  8.53it/s]\n"
     ]
    },
    {
     "name": "stdout",
     "output_type": "stream",
     "text": [
      "\n",
      "Bivariate Test Result:\n",
      "Observed Symmetric KL Divergence: 0.3538\n",
      "P value: 0.0769\n",
      "Conclusion: Fail to reject the null hypothesis (p >= 0.016666666666666666). There is no significant evidence that the distributions are different.\n",
      "Appended results to: outputs/SmallWorld-Beta0.7_K13-Rho0.5_D4_W0.5_Pos-G1-8kNodes/summary_report.csv\n",
      "\n",
      "==================================================\n",
      "Analysis pipeline finished!\n",
      "--- Finished: SmallWorld-Beta0.7_K13-Rho0.5_D4_W0.5_Pos-G1-8kNodes_Sample48.csv ---\n",
      "\n",
      "--- Processing: SmallWorld-Beta0.7_K13-Rho0.5_D4_W0.5_Pos-G1-8kNodes_Sample49.csv ---\n",
      "Starting EFHT analysis - Batch ID: SmallWorld-Beta0.7_K13-Rho0.5_D4_W0.5_Pos-G1-8kNodes, Dataset ID: SmallWorld-Beta0.7_K13-Rho0.5_D4_W0.5_Pos-G1-8kNodes_Sample49\n",
      "Results for the current dataset will be saved in: outputs/SmallWorld-Beta0.7_K13-Rho0.5_D4_W0.5_Pos-G1-8kNodes/SmallWorld-Beta0.7_K13-Rho0.5_D4_W0.5_Pos-G1-8kNodes_Sample49\n",
      "The summary report will be saved in: outputs/SmallWorld-Beta0.7_K13-Rho0.5_D4_W0.5_Pos-G1-8kNodes\n",
      "\n",
      "--- 2. Loading and preprocessing data for selected tests ---\n"
     ]
    },
    {
     "name": "stderr",
     "output_type": "stream",
     "text": [
      "Processing Colors: 100%|██████████| 43/43 [01:30<00:00,  2.11s/it]\n",
      "/Users/jiaxin/Documents/Summer 2024/EFHT/Edge-Flow-Hypothesis-Tests/.conda/lib/python3.11/site-packages/joblib/externals/loky/process_executor.py:782: UserWarning: A worker stopped while some jobs were given to the executor. This can be caused by a too short worker timeout or by a memory leak.\n",
      "  warnings.warn(\n"
     ]
    },
    {
     "name": "stdout",
     "output_type": "stream",
     "text": [
      "\n",
      ">>> Starting statistical tests <<<\n",
      "\n",
      "--- 1. Running K-S Test ---\n",
      "\n",
      " ============ Running KS Test ============\n",
      "# of Edges in Class1 : 1342\n",
      "# of Edges in Class2 : 2037\n",
      "\n",
      "KS Test Result:\n",
      "KS_statistic D = 0.0262\n",
      "P value = 6.2464e-01\n",
      "Conclusion: Fail to reject the null hypothesis (p >= 0.016666666666666666), distributions may be the same.\n",
      "\n",
      "--- 2. Running Independence tests ---\n",
      "Performing independence test on the following Top 3 color groups: [0, 1, 2]\n",
      "\n",
      "--- Analyzing color group: 0 ---\n",
      "  - Selecting optimal K value via cross-validation...\n",
      "   - Dynamically generated marginal K candidates: [  8  10  12  15  18  23  28  35  43  52  65  80  98 121 149 184 227 279\n",
      " 344 424]\n",
      "   - Dynamically generated joint K candidates: [ 8  9 10 11 12 14 15 17 19 21 23 25 28 31 35 39 43 48 53 59]\n",
      "  - Optimal K_MARGINAL = 8, Optimal K_JOINT = 8\n",
      "  - Observed KL divergence = 0.1319\n"
     ]
    },
    {
     "name": "stderr",
     "output_type": "stream",
     "text": [
      "Simulating null distribution (Color 0): 100%|██████████| 1000/1000 [00:01<00:00, 605.48it/s]\n"
     ]
    },
    {
     "name": "stdout",
     "output_type": "stream",
     "text": [
      "\n",
      "--- Independence Test Result for Color: 0 ---\n",
      "P value: 0.1489\n",
      "Conclusion: Fail to reject the null hypothesis (p >= 0.005555555555555556).\n",
      "           There is no significant evidence that 'flowX' and 'flowY' are dependent.\n",
      "\n",
      "--- Analyzing color group: 1 ---\n",
      "  - Selecting optimal K value via cross-validation...\n",
      "   - Dynamically generated marginal K candidates: [  8  10  12  15  18  23  28  35  43  52  65  80  98 121 149 184 227 279\n",
      " 344 424]\n",
      "   - Dynamically generated joint K candidates: [ 8  9 10 11 12 14 15 17 19 21 23 25 28 31 35 39 43 48 53 59]\n",
      "  - Optimal K_MARGINAL = 8, Optimal K_JOINT = 8\n",
      "  - Observed KL divergence = 0.1210\n"
     ]
    },
    {
     "name": "stderr",
     "output_type": "stream",
     "text": [
      "Simulating null distribution (Color 1): 100%|██████████| 1000/1000 [00:00<00:00, 1453.24it/s]\n"
     ]
    },
    {
     "name": "stdout",
     "output_type": "stream",
     "text": [
      "\n",
      "--- Independence Test Result for Color: 1 ---\n",
      "P value: 0.4675\n",
      "Conclusion: Fail to reject the null hypothesis (p >= 0.005555555555555556).\n",
      "           There is no significant evidence that 'flowX' and 'flowY' are dependent.\n",
      "\n",
      "--- Analyzing color group: 2 ---\n",
      "  - Selecting optimal K value via cross-validation...\n",
      "   - Dynamically generated marginal K candidates: [  8  10  12  15  18  23  28  35  43  52  65  80  98 121 149 184 227 279\n",
      " 344 424]\n",
      "   - Dynamically generated joint K candidates: [ 8  9 10 11 12 14 15 17 19 21 23 25 28 31 35 39 43 48 53 59]\n",
      "  - Optimal K_MARGINAL = 8, Optimal K_JOINT = 8\n",
      "  - Observed KL divergence = 0.1446\n"
     ]
    },
    {
     "name": "stderr",
     "output_type": "stream",
     "text": [
      "Simulating null distribution (Color 2): 100%|██████████| 1000/1000 [00:00<00:00, 1437.86it/s]\n"
     ]
    },
    {
     "name": "stdout",
     "output_type": "stream",
     "text": [
      "\n",
      "--- Independence Test Result for Color: 2 ---\n",
      "P value: 0.0410\n",
      "Conclusion: Fail to reject the null hypothesis (p >= 0.005555555555555556).\n",
      "           There is no significant evidence that 'flowX' and 'flowY' are dependent.\n",
      "\n",
      "Independence test completed.\n",
      "\n",
      "--- 3. Running Bivariate Equivalence Test ---\n",
      "\n",
      " ============ Running Bivariate Test ============\n",
      "# of Edge Pairs in Class1 : 1042\n",
      "# of Edge Pairs in Class2 : 1358\n",
      "Finding optimal K using cross-validation on combined data...\n",
      "Dynamically generated K candidates: [ 8  9 10 11 12 13 14 15 17 19 21 23 25 27 30 33 36 40 44 48]\n",
      "Optimal K selected via Cross-Validation: 8\n",
      "Observed KL = 0.3204\n"
     ]
    },
    {
     "name": "stderr",
     "output_type": "stream",
     "text": [
      "KL Under Null (Parallel):   3%|▎         | 28/1000 [00:01<00:51, 18.94it/s]/Users/jiaxin/Documents/Summer 2024/EFHT/Edge-Flow-Hypothesis-Tests/.conda/lib/python3.11/site-packages/joblib/externals/loky/process_executor.py:782: UserWarning: A worker stopped while some jobs were given to the executor. This can be caused by a too short worker timeout or by a memory leak.\n",
      "  warnings.warn(\n",
      "KL Under Null (Parallel): 100%|██████████| 1000/1000 [02:02<00:00,  8.19it/s]\n"
     ]
    },
    {
     "name": "stdout",
     "output_type": "stream",
     "text": [
      "\n",
      "Bivariate Test Result:\n",
      "Observed Symmetric KL Divergence: 0.3204\n",
      "P value: 0.5644\n",
      "Conclusion: Fail to reject the null hypothesis (p >= 0.016666666666666666). There is no significant evidence that the distributions are different.\n",
      "Appended results to: outputs/SmallWorld-Beta0.7_K13-Rho0.5_D4_W0.5_Pos-G1-8kNodes/summary_report.csv\n",
      "\n",
      "==================================================\n",
      "Analysis pipeline finished!\n",
      "--- Finished: SmallWorld-Beta0.7_K13-Rho0.5_D4_W0.5_Pos-G1-8kNodes_Sample49.csv ---\n",
      "\n",
      "--- Processing: SmallWorld-Beta0.7_K13-Rho0.5_D4_W0.5_Pos-G1-8kNodes_Sample50.csv ---\n",
      "Starting EFHT analysis - Batch ID: SmallWorld-Beta0.7_K13-Rho0.5_D4_W0.5_Pos-G1-8kNodes, Dataset ID: SmallWorld-Beta0.7_K13-Rho0.5_D4_W0.5_Pos-G1-8kNodes_Sample50\n",
      "Results for the current dataset will be saved in: outputs/SmallWorld-Beta0.7_K13-Rho0.5_D4_W0.5_Pos-G1-8kNodes/SmallWorld-Beta0.7_K13-Rho0.5_D4_W0.5_Pos-G1-8kNodes_Sample50\n",
      "The summary report will be saved in: outputs/SmallWorld-Beta0.7_K13-Rho0.5_D4_W0.5_Pos-G1-8kNodes\n",
      "\n",
      "--- 2. Loading and preprocessing data for selected tests ---\n"
     ]
    },
    {
     "name": "stderr",
     "output_type": "stream",
     "text": [
      "Processing Colors: 100%|██████████| 43/43 [01:32<00:00,  2.14s/it]\n",
      "/Users/jiaxin/Documents/Summer 2024/EFHT/Edge-Flow-Hypothesis-Tests/.conda/lib/python3.11/site-packages/joblib/externals/loky/process_executor.py:782: UserWarning: A worker stopped while some jobs were given to the executor. This can be caused by a too short worker timeout or by a memory leak.\n",
      "  warnings.warn(\n"
     ]
    },
    {
     "name": "stdout",
     "output_type": "stream",
     "text": [
      "\n",
      ">>> Starting statistical tests <<<\n",
      "\n",
      "--- 1. Running K-S Test ---\n",
      "\n",
      " ============ Running KS Test ============\n",
      "# of Edges in Class1 : 1342\n",
      "# of Edges in Class2 : 2037\n",
      "\n",
      "KS Test Result:\n",
      "KS_statistic D = 0.0209\n",
      "P value = 8.6204e-01\n",
      "Conclusion: Fail to reject the null hypothesis (p >= 0.016666666666666666), distributions may be the same.\n",
      "\n",
      "--- 2. Running Independence tests ---\n",
      "Performing independence test on the following Top 3 color groups: [0, 1, 2]\n",
      "\n",
      "--- Analyzing color group: 0 ---\n",
      "  - Selecting optimal K value via cross-validation...\n",
      "   - Dynamically generated marginal K candidates: [  8  10  12  15  18  23  28  35  43  52  65  80  98 121 149 184 227 279\n",
      " 344 424]\n",
      "   - Dynamically generated joint K candidates: [ 8  9 10 11 12 14 15 17 19 21 23 25 28 31 35 39 43 48 53 59]\n",
      "  - Optimal K_MARGINAL = 8, Optimal K_JOINT = 8\n",
      "  - Observed KL divergence = 0.1130\n"
     ]
    },
    {
     "name": "stderr",
     "output_type": "stream",
     "text": [
      "Simulating null distribution (Color 0): 100%|██████████| 1000/1000 [00:01<00:00, 614.77it/s]\n"
     ]
    },
    {
     "name": "stdout",
     "output_type": "stream",
     "text": [
      "\n",
      "--- Independence Test Result for Color: 0 ---\n",
      "P value: 0.9031\n",
      "Conclusion: Fail to reject the null hypothesis (p >= 0.005555555555555556).\n",
      "           There is no significant evidence that 'flowX' and 'flowY' are dependent.\n",
      "\n",
      "--- Analyzing color group: 1 ---\n",
      "  - Selecting optimal K value via cross-validation...\n",
      "   - Dynamically generated marginal K candidates: [  8  10  12  15  18  23  28  35  43  52  65  80  98 121 149 184 227 279\n",
      " 344 424]\n",
      "   - Dynamically generated joint K candidates: [ 8  9 10 11 12 14 15 17 19 21 23 25 28 31 35 39 43 48 53 59]\n",
      "  - Optimal K_MARGINAL = 8, Optimal K_JOINT = 8\n",
      "  - Observed KL divergence = 0.1135\n"
     ]
    },
    {
     "name": "stderr",
     "output_type": "stream",
     "text": [
      "Simulating null distribution (Color 1): 100%|██████████| 1000/1000 [00:00<00:00, 1451.49it/s]\n"
     ]
    },
    {
     "name": "stdout",
     "output_type": "stream",
     "text": [
      "\n",
      "--- Independence Test Result for Color: 1 ---\n",
      "P value: 0.9860\n",
      "Conclusion: Fail to reject the null hypothesis (p >= 0.005555555555555556).\n",
      "           There is no significant evidence that 'flowX' and 'flowY' are dependent.\n",
      "\n",
      "--- Analyzing color group: 2 ---\n",
      "  - Selecting optimal K value via cross-validation...\n",
      "   - Dynamically generated marginal K candidates: [  8  10  12  15  18  23  28  35  43  52  65  80  98 121 149 184 227 279\n",
      " 344 424]\n",
      "   - Dynamically generated joint K candidates: [ 8  9 10 11 12 14 15 17 19 21 23 25 28 31 35 39 43 48 53 59]\n",
      "  - Optimal K_MARGINAL = 8, Optimal K_JOINT = 8\n",
      "  - Observed KL divergence = 0.1427\n"
     ]
    },
    {
     "name": "stderr",
     "output_type": "stream",
     "text": [
      "Simulating null distribution (Color 2): 100%|██████████| 1000/1000 [00:00<00:00, 1443.82it/s]\n"
     ]
    },
    {
     "name": "stdout",
     "output_type": "stream",
     "text": [
      "\n",
      "--- Independence Test Result for Color: 2 ---\n",
      "P value: 0.5904\n",
      "Conclusion: Fail to reject the null hypothesis (p >= 0.005555555555555556).\n",
      "           There is no significant evidence that 'flowX' and 'flowY' are dependent.\n",
      "\n",
      "Independence test completed.\n",
      "\n",
      "--- 3. Running Bivariate Equivalence Test ---\n",
      "\n",
      " ============ Running Bivariate Test ============\n",
      "# of Edge Pairs in Class1 : 1042\n",
      "# of Edge Pairs in Class2 : 1358\n",
      "Finding optimal K using cross-validation on combined data...\n",
      "Dynamically generated K candidates: [ 8  9 10 11 12 13 14 15 17 19 21 23 25 27 30 33 36 40 44 48]\n",
      "Optimal K selected via Cross-Validation: 8\n",
      "Observed KL = 0.3306\n"
     ]
    },
    {
     "name": "stderr",
     "output_type": "stream",
     "text": [
      "KL Under Null (Parallel):   3%|▎         | 28/1000 [00:01<00:49, 19.57it/s]/Users/jiaxin/Documents/Summer 2024/EFHT/Edge-Flow-Hypothesis-Tests/.conda/lib/python3.11/site-packages/joblib/externals/loky/process_executor.py:782: UserWarning: A worker stopped while some jobs were given to the executor. This can be caused by a too short worker timeout or by a memory leak.\n",
      "  warnings.warn(\n",
      "KL Under Null (Parallel): 100%|██████████| 1000/1000 [01:54<00:00,  8.77it/s]\n"
     ]
    },
    {
     "name": "stdout",
     "output_type": "stream",
     "text": [
      "\n",
      "Bivariate Test Result:\n",
      "Observed Symmetric KL Divergence: 0.3306\n",
      "P value: 0.4535\n",
      "Conclusion: Fail to reject the null hypothesis (p >= 0.016666666666666666). There is no significant evidence that the distributions are different.\n",
      "Appended results to: outputs/SmallWorld-Beta0.7_K13-Rho0.5_D4_W0.5_Pos-G1-8kNodes/summary_report.csv\n",
      "\n",
      "==================================================\n",
      "Analysis pipeline finished!\n",
      "--- Finished: SmallWorld-Beta0.7_K13-Rho0.5_D4_W0.5_Pos-G1-8kNodes_Sample50.csv ---\n",
      "\n",
      "All specified datasets processed!\n"
     ]
    }
   ],
   "source": [
    "# ==============================================================================================================================\n",
    "#                  Execution area: The following code is not required to be modified.\n",
    "# ==============================================================================================================================\n",
    "\n",
    "# --- 1. Setting of routes and batch IDs ---\n",
    "# Using relative paths\n",
    "DATA_DIR = \"data\"\n",
    "dataset_name = f\"{GRAPH_TYPE}-{GRAPH_PARAMS}-{COV_PARAMS}-G{GRAPH_SAMPLE_ID}-{SIZE_PARAM}\"\n",
    "dataset_folder = os.path.join(DATA_DIR, dataset_name)\n",
    "batch_id = dataset_name\n",
    "\n",
    "print(f\"Current Batch Run ID: {batch_id}\")\n",
    "print(f\"Data source: {dataset_folder}\")\n",
    "print(f\"Processing samples from {SAMPLE_START_INDEX} to {SAMPLE_END_INDEX}\")\n",
    "\n",
    "\n",
    "# --- 2. Generate a list of files based on the configuration ---\n",
    "dataset_files = [\n",
    "    os.path.join(dataset_folder, f\"{dataset_name}_Sample{i}.csv\") \n",
    "    for i in range(SAMPLE_START_INDEX, SAMPLE_END_INDEX + 1)\n",
    "]\n",
    "\n",
    "\n",
    "# --- 3. Loop through the main analysis script ---\n",
    "\n",
    "for dataset_path in dataset_files:\n",
    "    if not os.path.exists(dataset_path):\n",
    "        print(f\"Warning: File not found, skipping: {dataset_path}\")\n",
    "        continue\n",
    "    \n",
    "    base_name = os.path.basename(dataset_path)\n",
    "    dataset_id = os.path.splitext(base_name)[0]\n",
    "    \n",
    "    print(f\"\\n--- Processing: {base_name} ---\")\n",
    "    \n",
    "    command = f'python main.py --input \"{dataset_path}\" --id \"{dataset_id}\" --batch-id \"{batch_id}\"'\n",
    "    \n",
    "    subprocess.run(command, shell=True, check=True)\n",
    "    \n",
    "    print(f\"--- Finished: {base_name} ---\")\n",
    "\n",
    "print(\"\\nAll specified datasets processed!\")"
   ]
  }
 ],
 "metadata": {
  "kernelspec": {
   "display_name": ".conda",
   "language": "python",
   "name": "python3"
  },
  "language_info": {
   "codemirror_mode": {
    "name": "ipython",
    "version": 3
   },
   "file_extension": ".py",
   "mimetype": "text/x-python",
   "name": "python",
   "nbconvert_exporter": "python",
   "pygments_lexer": "ipython3",
   "version": "3.11.13"
  }
 },
 "nbformat": 4,
 "nbformat_minor": 5
}
