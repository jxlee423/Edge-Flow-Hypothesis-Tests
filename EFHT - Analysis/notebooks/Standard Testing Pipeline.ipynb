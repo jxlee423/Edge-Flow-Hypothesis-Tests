{
 "cells": [
  {
   "cell_type": "code",
   "execution_count": null,
   "id": "c0cb4def",
   "metadata": {},
   "outputs": [],
   "source": [
    "# please use this command to install all required packages\n",
    "# pip install -r requirements.txt"
   ]
  },
  {
   "cell_type": "code",
   "execution_count": null,
   "id": "0f1cec31",
   "metadata": {},
   "outputs": [],
   "source": [
    "import os\n",
    "import subprocess\n",
    "\n",
    "# 1. Outside the loop, create a unique ID for this batch run.\n",
    "dataset_folder = \"F:/Summer 2024/EFHT/allDataset/CODE/EFHT - Analysis/data/SmallWorld_1kNs_K13_beta05_Rho05_d3_w05_signNeg\"  # !!!! Change to your dataset path\n",
    "batch_id = os.path.basename(os.path.normpath(dataset_folder))\n",
    "print(f\"Current Batch Run ID: {batch_id}\")\n",
    "print(f\"All results will be saved in the 'F:/Summer 2024/EFHT/allDataset/CODE/EFHT - Analysis/outputs/{batch_id}' directory\")\n",
    "\n",
    "# 2. Define the dataset paths\n",
    "dataset_files = [os.path.join(dataset_folder, f\"SmallWorld_1kNs_Sample{i}.csv\") for i in range(1, 51)]  # !!!!! CHANGE IT\n",
    "\n",
    "# 3. Iterate through each dataset file\n",
    "for dataset_path in dataset_files:\n",
    "    if not os.path.exists(dataset_path):\n",
    "        print(f\"Warning: File not found, skipping: {dataset_path}\")\n",
    "        continue\n",
    "    \n",
    "    base_name = os.path.basename(dataset_path)\n",
    "    dataset_id = os.path.splitext(base_name)[0]\n",
    "    \n",
    "    print(f\"\\n--- Processing: {base_name} ---\")\n",
    "    \n",
    "    # 4. Add the --batch-id parameter to the command\n",
    "    command = f'python ../main.py --input \"{dataset_path}\" --id \"{dataset_id}\" --batch-id \"{batch_id}\"'\n",
    "    \n",
    "    # Execute the command\n",
    "    subprocess.run(command, shell=True, check=True)\n",
    "    \n",
    "    print(f\"--- Finished: {base_name} ---\")\n",
    "\n",
    "print(\"\\nAll datasets processed!\")"
   ]
  }
 ],
 "metadata": {
  "kernelspec": {
   "display_name": "base",
   "language": "python",
   "name": "python3"
  },
  "language_info": {
   "codemirror_mode": {
    "name": "ipython",
    "version": 3
   },
   "file_extension": ".py",
   "mimetype": "text/x-python",
   "name": "python",
   "nbconvert_exporter": "python",
   "pygments_lexer": "ipython3",
   "version": "3.11.5"
  }
 },
 "nbformat": 4,
 "nbformat_minor": 5
}
