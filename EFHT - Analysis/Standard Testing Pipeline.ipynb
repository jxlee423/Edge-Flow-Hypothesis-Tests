{
 "cells": [
  {
   "cell_type": "code",
   "execution_count": null,
   "id": "c0cb4def",
   "metadata": {},
   "outputs": [],
   "source": [
    "# please use this command to install all required packages\n",
    "# pip install -r requirements.txt\n",
    "\n",
    "import os\n",
    "import subprocess"
   ]
  },
  {
   "cell_type": "code",
   "execution_count": null,
   "id": "37159e33",
   "metadata": {},
   "outputs": [],
   "source": [
    "# ==============================================================================================================================\n",
    "#                Configuration area: Please modify the parameters here.\n",
    "# ==============================================================================================================================\n",
    "\n",
    "# 1. Define the four core components of the dataset\n",
    "GRAPH_TYPE     = \"SmallWorld\"\n",
    "GRAPH_PARAMS   = \"Beta0.7_K13\"\n",
    "COV_PARAMS     = \"Rho0.5_D3_W0.5_Neg\"\n",
    "SIZE_PARAM     = \"1kNodes\"\n",
    "\n",
    "# 2. Define the range of sample numbers you want to process (including start and end)\n",
    "SAMPLE_START_INDEX = 1\n",
    "SAMPLE_END_INDEX = 50"
   ]
  },
  {
   "cell_type": "code",
   "execution_count": null,
   "id": "6250639c",
   "metadata": {},
   "outputs": [],
   "source": [
    "# ==============================================================================================================================\n",
    "#                  Execution area: The following code is not required to be modified.\n",
    "# ==============================================================================================================================\n",
    "\n",
    "# --- 1. Setting of routes and batch IDs ---\n",
    "# Using relative paths\n",
    "DATA_DIR = \"data\"\n",
    "dataset_name = f\"{GRAPH_TYPE}-{GRAPH_PARAMS}-{COV_PARAMS}-{SIZE_PARAM}\"\n",
    "dataset_folder = os.path.join(DATA_DIR, dataset_name)\n",
    "batch_id = dataset_name\n",
    "\n",
    "print(f\"Current Batch Run ID: {batch_id}\")\n",
    "print(f\"Data source: {dataset_folder}\")\n",
    "print(f\"Processing samples from {SAMPLE_START_INDEX} to {SAMPLE_END_INDEX}\")\n",
    "\n",
    "\n",
    "# --- 2. Generate a list of files based on the configuration ---\n",
    "dataset_files = [\n",
    "    os.path.join(dataset_folder, f\"{dataset_name}_Sample{i}.csv\") \n",
    "    for i in range(SAMPLE_START_INDEX, SAMPLE_END_INDEX + 1)\n",
    "]\n",
    "\n",
    "\n",
    "# --- 3. Loop through the main analysis script ---\n",
    "\n",
    "for dataset_path in dataset_files:\n",
    "    if not os.path.exists(dataset_path):\n",
    "        print(f\"Warning: File not found, skipping: {dataset_path}\")\n",
    "        continue\n",
    "    \n",
    "    base_name = os.path.basename(dataset_path)\n",
    "    dataset_id = os.path.splitext(base_name)[0]\n",
    "    \n",
    "    print(f\"\\n--- Processing: {base_name} ---\")\n",
    "    \n",
    "    command = f'python main.py --input \"{dataset_path}\" --id \"{dataset_id}\" --batch-id \"{batch_id}\"'\n",
    "    \n",
    "    subprocess.run(command, shell=True, check=True)\n",
    "    \n",
    "    print(f\"--- Finished: {base_name} ---\")\n",
    "\n",
    "print(\"\\nAll specified datasets processed!\")"
   ]
  }
 ],
 "metadata": {
  "kernelspec": {
   "display_name": "base",
   "language": "python",
   "name": "python3"
  },
  "language_info": {
   "codemirror_mode": {
    "name": "ipython",
    "version": 3
   },
   "file_extension": ".py",
   "mimetype": "text/x-python",
   "name": "python",
   "nbconvert_exporter": "python",
   "pygments_lexer": "ipython3",
   "version": "3.11.5"
  }
 },
 "nbformat": 4,
 "nbformat_minor": 5
}
